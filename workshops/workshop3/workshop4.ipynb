{
 "cells": [
  {
   "cell_type": "markdown",
   "id": "6092704e-7a42-4fc1-bbf5-dc769de6e2b1",
   "metadata": {
    "editable": true,
    "slideshow": {
     "slide_type": "slide"
    },
    "tags": []
   },
   "source": [
    "## Please go to your LIFE4168 folder\n",
    "\n",
    "From inside that folder type:\n",
    "\n",
    "\n",
    "git pull\n",
    "\n",
    "THEN\n",
    "\n",
    "conda env update -f lectures.yml\n",
    "\n",
    "## ALSO ON ADA!!!\n",
    "\n",
    "```console\n",
    "git clone https://www.github.com/looselab/LIFE4138\n",
    "cd LIFE4138\n",
    "conda env create -f lectures.yml\n",
    "conda activate lectures\n",
    "```\n"
   ]
  },
  {
   "cell_type": "markdown",
   "id": "31d5b933-fc3f-4c87-9081-a8c0065c035d",
   "metadata": {
    "editable": true,
    "slideshow": {
     "slide_type": "slide"
    },
    "tags": []
   },
   "source": [
    "# Introduction to Unix\n",
    "\n",
    "## Professor Matthew Loose\n",
    "\n",
    "### Week 2 Workshop 3\n",
    "\n",
    "\n",
    "\n",
    "matt.loose@nottingham.ac.uk\n"
   ]
  },
  {
   "cell_type": "markdown",
   "id": "3e13236e-cdf9-4ee9-9e23-708270810878",
   "metadata": {
    "editable": true,
    "slideshow": {
     "slide_type": "slide"
    },
    "tags": []
   },
   "source": [
    "## Introduction to FASTQ Files\n",
    "\n",
    "FASTQ is a file format used to store biological sequence data.\n",
    "\n",
    "It contains both the nucleotide sequences and their corresponding quality scores.\n",
    "\n",
    "Widely used as input for many bioinformatics tools, including Minimap2."
   ]
  },
  {
   "cell_type": "markdown",
   "id": "fc824e4a-de88-4c9f-b07d-4645ea803053",
   "metadata": {
    "editable": true,
    "slideshow": {
     "slide_type": "slide"
    },
    "tags": []
   },
   "source": [
    "## Structure of a FASTQ File\n",
    "\n",
    "A FASTQ file consists of four lines per sequence:\n",
    "\n",
    "1. Sequence Identifier: Begins with @ and contains the sequence name.\n",
    "\n",
    "2. Nucleotide Sequence: The actual DNA/RNA sequence.\n",
    "\n",
    "3. Plus Line: Begins with + and can optionally contain additional information.\n",
    "\n",
    "4. Quality Scores: Encodes the quality of each nucleotide in the sequence.\n",
    "\n",
    "Example:\n",
    "```console\n",
    "@SEQ_ID\n",
    "GATTTGGGGTTCAAAGCAGTATCGATCAAATAGT\n",
    "+\n",
    "!''*((((***+))%%++)(%%%%).1***-+*'\n",
    "```"
   ]
  },
  {
   "cell_type": "markdown",
   "id": "29bd95ee-7d93-4dfb-aa33-69ca0e63bab4",
   "metadata": {
    "editable": true,
    "slideshow": {
     "slide_type": "slide"
    },
    "tags": []
   },
   "source": [
    "## Quality Scores in FASTQ Files\n",
    "\n",
    "Quality Scores represent the confidence of each nucleotide call.\n",
    "\n",
    "Scores are encoded using ASCII characters, where each character represents a numerical quality value.\n",
    "\n",
    "Higher scores indicate better confidence in the accuracy of the nucleotide.\n",
    "\n",
    "Quality scores are essential for evaluating the reliability of sequencing data."
   ]
  },
  {
   "cell_type": "markdown",
   "id": "f8fa4e56-65d5-4475-9dd3-22c33476d552",
   "metadata": {
    "editable": true,
    "slideshow": {
     "slide_type": "slide"
    },
    "tags": []
   },
   "source": [
    "## Summary of FASTQ Files\n",
    "\n",
    "FASTQ files are fundamental to storing sequencing data, containing both sequence and quality information.\n",
    "\n",
    "Minimap2 uses FASTQ files as input for aligning reads to a reference genome.\n",
    "\n",
    "Understanding the structure of FASTQ files is crucial for effectively using tools like Minimap2.\n",
    "\n"
   ]
  },
  {
   "cell_type": "markdown",
   "id": "4d48a6ac-0c5e-4434-8b41-e8538d1ac4e6",
   "metadata": {
    "editable": true,
    "slideshow": {
     "slide_type": "slide"
    },
    "tags": []
   },
   "source": [
    "## Introduction to Reference Genomes\n",
    "\n",
    "A reference genome is a digital sequence of nucleotides representing a typical example of a species' genome.\n",
    "\n",
    "It serves as a standard for comparison, allowing researchers to align new sequences and identify differences.\n",
    "\n",
    "Reference genomes are crucial for various bioinformatics tasks, including read alignment and variant calling."
   ]
  },
  {
   "cell_type": "markdown",
   "id": "4eceb6f2-c8fb-4624-bc1b-f569cdaec699",
   "metadata": {
    "editable": true,
    "slideshow": {
     "slide_type": "slide"
    },
    "tags": []
   },
   "source": [
    "## Importance of Reference Genomes\n",
    "\n",
    "Alignment: Reads from sequencing experiments are aligned to the reference genome to determine their origin.\n",
    "\n",
    "Variant Detection: By comparing individual sequences to the reference, mutations and genetic variations can be identified.\n",
    "\n",
    "Annotation: Reference genomes are annotated to mark the locations of genes, regulatory elements, and other important features."
   ]
  },
  {
   "cell_type": "markdown",
   "id": "841267cd-ef4d-4c66-b548-7672b66fcf90",
   "metadata": {
    "editable": true,
    "slideshow": {
     "slide_type": "slide"
    },
    "tags": []
   },
   "source": [
    "## Reference Genome Formats\n",
    "\n",
    "Reference genomes are typically stored in FASTA format.\n",
    "\n",
    "The FASTA format contains nucleotide sequences, with each sequence preceded by a header line starting with >.\n",
    "\n",
    "Example:\n",
    "```console\n",
    ">chr1\n",
    "GATTACAAGGTT...\n",
    "```\n",
    "These files are often used as input for alignment tools like Minimap2.\n",
    "\n"
   ]
  },
  {
   "cell_type": "markdown",
   "id": "122cfc06-ec77-4093-82fe-4a5c66b3e9a9",
   "metadata": {
    "editable": true,
    "slideshow": {
     "slide_type": "slide"
    },
    "tags": []
   },
   "source": [
    "## Summary of Reference Genomes\n",
    "\n",
    "Reference genomes are essential for aligning sequencing reads and identifying genetic variations.\n",
    "\n",
    "They provide a standard framework for comparison in bioinformatics analyses.\n",
    "\n",
    "Aligners use reference genomes to align reads and produce meaningful biological insights. Here we will use Minimap2!\n",
    "\n"
   ]
  },
  {
   "cell_type": "markdown",
   "id": "341d44c4-e33b-44e5-8c1e-aa70cae2b453",
   "metadata": {
    "editable": true,
    "slideshow": {
     "slide_type": "slide"
    },
    "tags": []
   },
   "source": [
    "## Introduction to Minimap2\n",
    "\n",
    "Minimap2 is a versatile sequence alignment program.\n",
    "\n",
    "It is commonly used for aligning DNA or RNA sequences to a reference.\n",
    "\n",
    "Minimap2 is optimized for both short and long reads, making it suitable for modern sequencing technologies.\n",
    "\n",
    "Key feature: High speed and accuracy for aligning long sequencing reads, such as those from PacBio or Oxford Nanopore."
   ]
  },
  {
   "cell_type": "markdown",
   "id": "110fdcab-4c76-4c3c-aad4-bd2bc71edd0b",
   "metadata": {
    "editable": true,
    "slideshow": {
     "slide_type": "slide"
    },
    "tags": []
   },
   "source": [
    "## Applications of Minimap2\n",
    "\n",
    "Genome Alignment: Align reads to a reference genome.\n",
    "\n",
    "RNA-Seq Analysis: Align transcript reads for studying gene expression.\n",
    "\n",
    "Assembly Alignment: Compare genome assemblies.\n",
    "\n",
    "Versatility: Works well with various input types (reads, contigs, etc.) and different sequencing lengths.\n",
    "\n"
   ]
  },
  {
   "cell_type": "markdown",
   "id": "9fafffa3-063a-4e00-b0ce-f04d874c5535",
   "metadata": {
    "editable": true,
    "slideshow": {
     "slide_type": "slide"
    },
    "tags": []
   },
   "source": [
    "## Key Features of Minimap2\n",
    "\n",
    "Speed: Minimap2 is faster than many traditional aligners.\n",
    "\n",
    "Long-Read Support: Capable of aligning reads from long-read technologies.\n",
    "\n",
    "Flexible Output: Supports SAM, PAF, and other alignment formats.\n",
    "\n",
    "Multiple Modes: Minimap2 can work in different modes, including genome-to-genome and read-to-genome alignment."
   ]
  },
  {
   "cell_type": "markdown",
   "id": "85beb073-69ba-48eb-bff1-e41f54461a6e",
   "metadata": {
    "editable": true,
    "slideshow": {
     "slide_type": "slide"
    },
    "tags": []
   },
   "source": [
    "## Using Minimap2 in Practice\n",
    "\n",
    "Minimap2 is often used with SLURM for high-performance computing.\n",
    "\n",
    "Command example:\n",
    "\n",
    "```console\n",
    "minimap2 -t 4 -ax map-ont reference.fasta reads.fastq > aligned_reads.sam\n",
    "```\n",
    "\n",
    "Options explained:\n",
    "\n",
    "-t 4: Use 4 CPU threads.\n",
    "\n",
    "-a: Output in SAM format, suitable for downstream analysis.\n",
    "\n",
    "-x: mapping preset - this is specific to the read data type"
   ]
  },
  {
   "cell_type": "code",
   "execution_count": null,
   "id": "1b7e05d5-6184-4b39-8d08-992bcdc920dd",
   "metadata": {
    "editable": true,
    "slideshow": {
     "slide_type": "slide"
    },
    "tags": []
   },
   "outputs": [],
   "source": [
    "%%bash\n",
    "\n",
    "minimap2 -t 4 -a reference/HVol_Complete.fasta barcode09/*.fastq.gz > aligned_reads.sam\n"
   ]
  },
  {
   "cell_type": "code",
   "execution_count": null,
   "id": "41bdd7c3-bde9-449a-aab8-90efbae6df9d",
   "metadata": {
    "editable": true,
    "slideshow": {
     "slide_type": ""
    },
    "tags": []
   },
   "outputs": [],
   "source": []
  },
  {
   "cell_type": "markdown",
   "id": "f6471037-f682-47d8-b63b-65b1cdb75f6e",
   "metadata": {
    "editable": true,
    "slideshow": {
     "slide_type": "slide"
    },
    "tags": []
   },
   "source": [
    "## Integration with SLURM\n",
    "\n",
    "Minimap2 is typically run on clusters using a job scheduler like SLURM.\n",
    "\n",
    "Example SLURM script directives:\n",
    "```console\n",
    "Job name: #SBATCH --job-name=align_reads\n",
    "\n",
    "Output log: #SBATCH --output=align_reads.out\n",
    "\n",
    "Resource allocation: #SBATCH --cpus-per-task=4, #SBATCH --mem=16G\n",
    "```\n",
    "Submit the script using sbatch for efficient resource utilization.\n",
    "\n"
   ]
  },
  {
   "cell_type": "markdown",
   "id": "322f1cf7-2206-4dd2-af8a-0bbaf8a0391a",
   "metadata": {
    "editable": true,
    "slideshow": {
     "slide_type": "slide"
    },
    "tags": []
   },
   "source": [
    "## Introduction to Samtools\n",
    "\n",
    "Samtools is a suite of programs for interacting with high-throughput sequencing data.\n",
    "\n",
    "It is commonly used to process and manipulate SAM/BAM files, which are outputs of alignment tools like Minimap2.\n",
    "\n",
    "Samtools provides utilities for sorting, indexing, and performing various operations on alignment files.\n",
    "\n"
   ]
  },
  {
   "cell_type": "markdown",
   "id": "47988157-661f-4d95-8930-cdcf3473c82b",
   "metadata": {
    "editable": true,
    "slideshow": {
     "slide_type": "slide"
    },
    "tags": []
   },
   "source": [
    "## Using Samtools for Coverage Calculation\n",
    "\n",
    "Samtools can be used to calculate the coverage of reads over a reference genome, which helps in understanding sequencing depth.\n",
    "\n",
    "Coverage refers to the number of reads that align to a particular region of the reference genome.\n",
    "\n",
    "Command example:\n",
    "```console\n",
    "samtools depth aligned_reads.bam > coverage.txt\n",
    "```\n",
    "\n",
    "Steps:\n",
    "\n",
    "Convert the SAM file to a BAM file:\n",
    "```console\n",
    "samtools view -S -b aligned_reads.sam > aligned_reads.bam\n",
    "```\n",
    "Sort the BAM file:\n",
    "```console\n",
    "samtools sort aligned_reads.bam -o aligned_reads_sorted.bam\n",
    "```\n",
    "Index the BAM file:\n",
    "```console\n",
    "samtools index aligned_reads_sorted.bam\n",
    "```\n",
    "Calculate coverage:\n",
    "```console\n",
    "samtools depth aligned_reads_sorted.bam > coverage.txt\n",
    "```"
   ]
  },
  {
   "cell_type": "code",
   "execution_count": null,
   "id": "05445091-9bf0-4857-bf32-3f273fab73da",
   "metadata": {
    "editable": true,
    "slideshow": {
     "slide_type": "slide"
    },
    "tags": []
   },
   "outputs": [],
   "source": [
    "%%bash\n",
    "\n",
    "samtools view -S -b aligned_reads.sam > aligned_reads.bam\n",
    "\n",
    "\n"
   ]
  },
  {
   "cell_type": "code",
   "execution_count": null,
   "id": "b25f4eba-bd07-4738-9303-6d1c0d45706e",
   "metadata": {
    "editable": true,
    "slideshow": {
     "slide_type": "slide"
    },
    "tags": []
   },
   "outputs": [],
   "source": [
    "%%bash\n",
    "\n",
    "samtools sort aligned_reads.bam -o aligned_reads_sorted.bam\n",
    "\n"
   ]
  },
  {
   "cell_type": "code",
   "execution_count": null,
   "id": "9a2fdf6c-f978-4a5a-8240-8bc38f7bf780",
   "metadata": {
    "editable": true,
    "slideshow": {
     "slide_type": "slide"
    },
    "tags": []
   },
   "outputs": [],
   "source": [
    "%%bash\n",
    "\n",
    "samtools index aligned_reads_sorted.bam\n",
    "\n"
   ]
  },
  {
   "cell_type": "code",
   "execution_count": null,
   "id": "2f353c4e-b107-4317-970c-e43710614074",
   "metadata": {
    "editable": true,
    "slideshow": {
     "slide_type": "slide"
    },
    "tags": []
   },
   "outputs": [],
   "source": [
    "%%bash\n",
    "\n",
    "samtools depth aligned_reads_sorted.bam > coverage.txt\n",
    "\n"
   ]
  },
  {
   "cell_type": "code",
   "execution_count": null,
   "id": "81a2b6fe-b98a-45fa-b81b-5692eb8f69c4",
   "metadata": {
    "editable": true,
    "slideshow": {
     "slide_type": "slide"
    },
    "tags": []
   },
   "outputs": [],
   "source": [
    "%%bash\n",
    "\n",
    "more coverage.txt | head -20\n",
    "\n"
   ]
  },
  {
   "cell_type": "markdown",
   "id": "4e0562d5-ed32-46de-b8c1-9295a4c3a38a",
   "metadata": {
    "editable": true,
    "slideshow": {
     "slide_type": "slide"
    },
    "tags": []
   },
   "source": [
    "## Summary of Samtools\n",
    "\n",
    "Samtools is an essential toolkit for working with alignment files.\n",
    "\n",
    "It allows for conversion between file formats, sorting, indexing, and coverage calculation.\n",
    "\n",
    "Calculating coverage is crucial for assessing the quality and completeness of sequencing data.\n",
    "\n"
   ]
  },
  {
   "cell_type": "markdown",
   "id": "4b8100ec-ab18-4a9b-81e7-ef72712bd7a2",
   "metadata": {
    "editable": true,
    "slideshow": {
     "slide_type": "slide"
    },
    "tags": []
   },
   "source": [
    "## Further Reading\n",
    "\n",
    "Minimap2 Documentation: https://github.com/lh3/minimap2\n",
    "\n",
    "Samtools Documentation: http://www.htslib.org/doc/samtools.html\n",
    "\n",
    "Research paper: Li, H. (2018) Minimap2: pairwise alignment for nucleotide sequences. Bioinformatics.\n",
    "\n"
   ]
  },
  {
   "cell_type": "markdown",
   "id": "22d9fcbd-13fa-4c40-93b7-b984d4fd66b8",
   "metadata": {
    "editable": true,
    "slideshow": {
     "slide_type": "slide"
    },
    "tags": []
   },
   "source": [
    "## Self-Guided Activity: Writing a SLURM Script\n",
    "\n",
    "Write a SLURM script to submit a job for aligning reads to a reference genome using Minimap2.\n",
    "\n",
    "Scenario:\n",
    "\n",
    "The reads are stored in a folder called barcode09.\n",
    "\n",
    "The reference genome is located at reference/HVol_Complete.fasta.\n",
    "\n",
    "Requirements:\n",
    "\n",
    "Experiment with different values for the --cpus-per-task directive to see how changing the number of threads affects the mapping speed.\n",
    "\n",
    "Use an appropriate amount of memory and set a suitable runtime limit for the job.\n",
    "\n",
    "Save the script as align_barcode09.slurm and use the sbatch command to submit it.\n",
    "\n",
    "Steps:\n",
    "\n",
    "Write the SLURM Script: Include job name, output/error logs, resource allocation, and the Minimap2 command.\n",
    "\n",
    "Align the Reads: Use the following command within your SLURM script to align the reads:\n",
    "```console\n",
    "minimap2 -t 4 -a reference/HVol_Complete.fasta barcode09/*.fastq > aligned_barcode09.sam\n",
    "```\n",
    "Experiment with Thread Counts: Modify the -t value to test the impact on mapping speed.\n",
    "\n",
    "Determine Coverage: After alignment, use Samtools to calculate the coverage:\n",
    "\n",
    "Convert the SAM file to a BAM file:\n",
    "```console\n",
    "samtools view -S -b aligned_barcode09.sam > aligned_barcode09.bam\n",
    "```\n",
    "Sort the BAM file:\n",
    "```console\n",
    "samtools sort aligned_barcode09.bam -o aligned_barcode09_sorted.bam\n",
    "```\n",
    "Index the BAM file:\n",
    "```console\n",
    "samtools index aligned_barcode09_sorted.bam\n",
    "```\n",
    "Calculate coverage:\n",
    "```console\n",
    "samtools depth aligned_barcode09_sorted.bam > coverage_barcode09.txt\n",
    "```\n",
    "Hints:\n",
    "\n",
    "Remember to include the necessary SLURM directives for job name, output, error logs, and resource allocation.\n",
    "\n",
    "Test different thread counts and observe the changes in runtime."
   ]
  },
  {
   "cell_type": "markdown",
   "id": "4abc0146-487c-4146-951e-efe1a39d3316",
   "metadata": {
    "editable": true,
    "slideshow": {
     "slide_type": "slide"
    },
    "tags": []
   },
   "source": [
    "## "
   ]
  }
 ],
 "metadata": {
  "kernelspec": {
   "display_name": "Python 3 (ipykernel)",
   "language": "python",
   "name": "python3"
  },
  "language_info": {
   "codemirror_mode": {
    "name": "ipython",
    "version": 3
   },
   "file_extension": ".py",
   "mimetype": "text/x-python",
   "name": "python",
   "nbconvert_exporter": "python",
   "pygments_lexer": "ipython3",
   "version": "3.12.5"
  }
 },
 "nbformat": 4,
 "nbformat_minor": 5
}
