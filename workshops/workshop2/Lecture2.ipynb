{
 "cells": [
  {
   "cell_type": "markdown",
   "id": "6d5ff50d-656d-48e9-a709-0f8f7e843a40",
   "metadata": {
    "editable": true,
    "slideshow": {
     "slide_type": ""
    },
    "tags": []
   },
   "source": [
    "# Introduction to Unix\n",
    "\n",
    "## Professor Matthew Loose\n",
    "\n",
    "### Week 1 Workshop 2\n",
    "\n",
    "Unix Workshop - Week 1\n",
    "\n",
    "matt.loose@nottingham.ac.uk\n"
   ]
  },
  {
   "cell_type": "markdown",
   "id": "28ce5b17-b0ee-4882-b4b5-8c8970b399c2",
   "metadata": {
    "editable": true,
    "slideshow": {
     "slide_type": "subslide"
    },
    "tags": []
   },
   "source": [
    "## Learning Objectives:\n",
    "\n",
    "Understand Unix Streams and Pipes\n",
    "\n",
    "UNIX text processing tools\n",
    "\n",
    "Bash Scripting\n",
    "\n",
    "Using variables in bash\n",
    "\n",
    "For Loops in bash\n"
   ]
  },
  {
   "cell_type": "markdown",
   "id": "a4751336-16bc-47e7-855b-811004509a62",
   "metadata": {
    "editable": true,
    "slideshow": {
     "slide_type": "slide"
    },
    "tags": []
   },
   "source": [
    "\n",
    "# Introduction to UNIX Streams and Pipes\n",
    "\n",
    "![ghostbusters](https://i.giphy.com/media/v1.Y2lkPTc5MGI3NjExejhtamY1OHdoaXg3M253MGQxOXZ2and1aW05a3ZtaHRuc3hlYjR6NSZlcD12MV9pbnRlcm5hbF9naWZfYnlfaWQmY3Q9Zw/3o72FiKtrMAjIb0Rhu/giphy.gif)\n",
    "\n"
   ]
  },
  {
   "cell_type": "markdown",
   "id": "cb2d8d2f-77f2-49b6-aff3-addb86b1e993",
   "metadata": {
    "editable": true,
    "slideshow": {
     "slide_type": "slide"
    },
    "tags": []
   },
   "source": [
    "\n",
    "---\n",
    "\n",
    "## What Are UNIX Streams?\n",
    "\n",
    "- **Streams** are a series of bytes of data that flow from one place to another.\n",
    "- There are three standard streams:\n",
    "  1. **Standard Input (stdin)**: Data coming into a program.\n",
    "  2. **Standard Output (stdout)**: Data the program outputs.\n",
    "  3. **Standard Error (stderr)**: Error messages from the program.\n",
    "\n",
    "---\n",
    "\n"
   ]
  },
  {
   "cell_type": "markdown",
   "id": "05a5c0d8-c4a0-4f33-b4ea-dc393a34a9dd",
   "metadata": {
    "editable": true,
    "slideshow": {
     "slide_type": "slide"
    },
    "tags": []
   },
   "source": [
    "\n",
    "---\n",
    "\n",
    "## Standard Streams Breakdown\n",
    "\n",
    "- **stdin**: Usually from the keyboard but can be from files or other programs.\n",
    "- **stdout**: Default is your terminal window, but it can be redirected elsewhere.\n",
    "- **stderr**: Like stdout but meant for error messages, so it can be handled separately.\n",
    "\n",
    "---\n",
    "\n"
   ]
  },
  {
   "cell_type": "markdown",
   "id": "ec3354a6-5e36-4429-b0c4-12a76979b16b",
   "metadata": {
    "editable": true,
    "slideshow": {
     "slide_type": "subslide"
    },
    "tags": []
   },
   "source": [
    "### 1. **Basic Example of UNIX Streams**\n",
    "\n",
    "Here’s a simple example of using `fortune` to generate output, which is written to stdout:\n",
    "\n",
    "```bash\n",
    "fortune \n",
    "```\n",
    "\n",
    "- **Explanation**: \n",
    "  - `fortune` outputs a random quote. It is commonly installed on linux systems and may be on osx...\n",
    "\n"
   ]
  },
  {
   "cell_type": "code",
   "execution_count": 2,
   "id": "7bd87eac-9a22-4258-99a1-1d58e81e0fa9",
   "metadata": {
    "editable": true,
    "slideshow": {
     "slide_type": "fragment"
    },
    "tags": []
   },
   "outputs": [
    {
     "name": "stdout",
     "output_type": "stream",
     "text": [
      "John the Baptist after poisoning a thief,\n",
      "Looks up at his hero, the Commander-in-Chief,\n",
      "Saying tell me great leader, but please make it brief\n",
      "Is there a hole for me to get sick in?\n",
      "The Commander-in-Chief answers him while chasing a fly,\n",
      "Saying death to all those who would whimper and cry.\n",
      "And dropping a barbell he points to the sky,\n",
      "Saying the sun is not yellow, it's chicken.\n",
      "\t\t-- Bob Dylan, \"Tombstone Blues\"\n"
     ]
    }
   ],
   "source": [
    "%%bash\n",
    "\n",
    "fortune"
   ]
  },
  {
   "cell_type": "code",
   "execution_count": 3,
   "id": "a4abbd60-6713-4883-8fd5-7c33afe8b750",
   "metadata": {
    "editable": true,
    "slideshow": {
     "slide_type": "fragment"
    },
    "tags": []
   },
   "outputs": [],
   "source": [
    "%%bash\n",
    "\n"
   ]
  },
  {
   "cell_type": "markdown",
   "id": "7f3a8bf6-b1af-4a70-a94a-8ab6b361e7a2",
   "metadata": {
    "editable": true,
    "slideshow": {
     "slide_type": "slide"
    },
    "tags": []
   },
   "source": [
    "\n",
    "---\n",
    "## What Are UNIX Pipes?\n",
    "\n",
    "- **Pipes (`|`)**: A method of connecting the output of one command directly into the input of another command.\n",
    "  \n",
    "  - Example:\n",
    "    ```bash\n",
    "    command1 | command2\n",
    "    ```\n",
    "  - Output of `command1` becomes input of `command2`.\n",
    "\n",
    "---\n",
    "\n"
   ]
  },
  {
   "cell_type": "markdown",
   "id": "0f6260a5-cc79-4deb-a455-542eed831526",
   "metadata": {
    "editable": true,
    "slideshow": {
     "slide_type": "subslide"
    },
    "tags": []
   },
   "source": [
    "#### 1. **Basic Example of UNIX Streams**\n",
    "\n",
    "Here’s a simple example of using `fortune` to generate output, which can be displayed using `cowsay`:\n",
    "\n",
    "```bash\n",
    "fortune | cowsay\n",
    "```\n",
    "\n",
    "- **Explanation**: \n",
    "  - `fortune` outputs a random quote.\n",
    "  - `|` pipes that output into `cowsay`, which formats it as a speech bubble around an ASCII cow.\n",
    "\n",
    "---\n"
   ]
  },
  {
   "cell_type": "code",
   "execution_count": 3,
   "id": "25fe7557-2c42-4f93-b8a1-76c90de71f3f",
   "metadata": {
    "editable": true,
    "slideshow": {
     "slide_type": "fragment"
    },
    "tags": []
   },
   "outputs": [
    {
     "name": "stdout",
     "output_type": "stream",
     "text": [
      " _______________________________________ \n",
      "/ Schshschshchsch.                      \\\n",
      "|                                       |\n",
      "\\ -- The Gorn, \"Arena\", stardate 3046.2 /\n",
      " --------------------------------------- \n",
      "        \\   ^__^\n",
      "         \\  (oo)\\_______\n",
      "            (__)\\       )\\/\\\n",
      "                ||----w |\n",
      "                ||     ||\n"
     ]
    }
   ],
   "source": [
    "%%bash\n",
    "\n",
    "fortune | cowsay\n",
    "\n"
   ]
  },
  {
   "cell_type": "code",
   "execution_count": 5,
   "id": "160315b0-662b-40c9-8426-9c4d3ea58231",
   "metadata": {
    "editable": true,
    "slideshow": {
     "slide_type": "fragment"
    },
    "tags": []
   },
   "outputs": [],
   "source": [
    "%%bash\n",
    "\n"
   ]
  },
  {
   "cell_type": "markdown",
   "id": "dd8ddf87-f162-4873-bd88-d15166c87c8a",
   "metadata": {
    "editable": true,
    "slideshow": {
     "slide_type": "slide"
    },
    "tags": []
   },
   "source": [
    "\n",
    "---\n",
    "## Benefits of Pipes\n",
    "\n",
    "- **Modular Processing**: Each command in the pipeline does one job.\n",
    "- **Efficiency**: Avoids creating temporary files.\n",
    "- **Flexibility**: You can combine simple commands to perform complex tasks.\n",
    "\n",
    "---\n",
    "\n"
   ]
  },
  {
   "cell_type": "markdown",
   "id": "f84fa611-a85e-4f56-991f-16d3d48a8fd4",
   "metadata": {
    "editable": true,
    "slideshow": {
     "slide_type": "slide"
    },
    "tags": []
   },
   "source": [
    "\n",
    "---\n",
    "## Real-Life Example of Pipes\n",
    "\n",
    "- Find all text files in a directory and count the number of lines:\n",
    "  ```bash\n",
    "  find . -name \"*.txt\" | xargs wc -l\n",
    "  ```\n",
    "\n",
    "---\n",
    "\n"
   ]
  },
  {
   "cell_type": "code",
   "execution_count": 6,
   "id": "04dec2be-f9cf-484f-bf12-3dcb73664435",
   "metadata": {
    "editable": true,
    "slideshow": {
     "slide_type": "fragment"
    },
    "tags": []
   },
   "outputs": [
    {
     "name": "stdout",
     "output_type": "stream",
     "text": [
      "      11 ./file_7.txt\n",
      "      22 ./file_27.txt\n",
      "      13 ./file_26.txt\n",
      "      11 ./file_6.txt\n",
      "       9 ./file_4.txt\n",
      "      10 ./file_18.txt\n",
      "       9 ./file_24.txt\n",
      "      11 ./file_30.txt\n",
      "      20 ./file_25.txt\n",
      "       8 ./file_19.txt\n",
      "      11 ./file_5.txt\n",
      "       6 ./numbers.txt\n",
      "       9 ./file_1.txt\n",
      "      12 ./file_21.txt\n",
      "       9 ./file_20.txt\n",
      "      13 ./file_0.txt\n",
      "       9 ./file_2.txt\n",
      "      14 ./file_22.txt\n",
      "      10 ./file_23.txt\n",
      "       9 ./file_3.txt\n",
      "       5 ./log.txt\n",
      "       5 ./processes.txt\n",
      "      10 ./file_12.txt\n",
      "      10 ./file_13.txt\n",
      "      10 ./file_11.txt\n",
      "      52 ./file_10.txt\n",
      "       9 ./file_8.txt\n",
      "      10 ./file_14.txt\n",
      "      10 ./file_28.txt\n",
      "       8 ./file_29.txt\n",
      "      11 ./file_15.txt\n",
      "      10 ./file_9.txt\n",
      "       5 ./data.txt\n",
      "       9 ./file_17.txt\n",
      "       9 ./file_16.txt\n",
      "     399 total\n"
     ]
    }
   ],
   "source": [
    "%%bash\n",
    "\n",
    "find . -name \"*.txt\" | xargs wc -l"
   ]
  },
  {
   "cell_type": "code",
   "execution_count": 7,
   "id": "eccaa1f9-9c65-4f84-82f0-7021163bffb3",
   "metadata": {
    "editable": true,
    "slideshow": {
     "slide_type": "fragment"
    },
    "tags": []
   },
   "outputs": [],
   "source": [
    "%%bash\n",
    "\n"
   ]
  },
  {
   "cell_type": "markdown",
   "id": "0dae21dd-e1ee-43a5-b324-f7c76f6a3531",
   "metadata": {
    "editable": true,
    "slideshow": {
     "slide_type": "slide"
    },
    "tags": []
   },
   "source": [
    "\n",
    "---\n",
    "## Redirecting Streams\n",
    "\n",
    "- Use **`>`** to redirect stdout to a file:\n",
    "  ```bash\n",
    "  echo \"Hello, World!\" > output.txt\n",
    "  ```\n",
    "- Use **`>>`** to append to a file:\n",
    "  ```bash\n",
    "  echo \"More data\" >> output.txt\n",
    "  ```\n",
    "- Redirect **stderr** with **`2>`**:\n",
    "  ```bash\n",
    "  some_command2 2> error_log.txt\n",
    "  ```\n",
    "\n",
    "---\n",
    "\n"
   ]
  },
  {
   "cell_type": "code",
   "execution_count": 8,
   "id": "2c07d449-1640-426a-99a5-fdef445642e1",
   "metadata": {
    "editable": true,
    "slideshow": {
     "slide_type": "fragment"
    },
    "tags": []
   },
   "outputs": [
    {
     "ename": "CalledProcessError",
     "evalue": "Command 'b' \\n\\nsome_command2 2>file.logc  \\n'' returned non-zero exit status 127.",
     "output_type": "error",
     "traceback": [
      "\u001b[0;31m---------------------------------------------------------------------------\u001b[0m",
      "\u001b[0;31mCalledProcessError\u001b[0m                        Traceback (most recent call last)",
      "Cell \u001b[0;32mIn[8], line 1\u001b[0m\n\u001b[0;32m----> 1\u001b[0m \u001b[43mget_ipython\u001b[49m\u001b[43m(\u001b[49m\u001b[43m)\u001b[49m\u001b[38;5;241;43m.\u001b[39;49m\u001b[43mrun_cell_magic\u001b[49m\u001b[43m(\u001b[49m\u001b[38;5;124;43m'\u001b[39;49m\u001b[38;5;124;43mbash\u001b[39;49m\u001b[38;5;124;43m'\u001b[39;49m\u001b[43m,\u001b[49m\u001b[43m \u001b[49m\u001b[38;5;124;43m'\u001b[39;49m\u001b[38;5;124;43m'\u001b[39;49m\u001b[43m,\u001b[49m\u001b[43m \u001b[49m\u001b[38;5;124;43m'\u001b[39;49m\u001b[38;5;124;43m \u001b[39;49m\u001b[38;5;130;43;01m\\n\u001b[39;49;00m\u001b[38;5;130;43;01m\\n\u001b[39;49;00m\u001b[38;5;124;43msome_command2 2>file.logc  \u001b[39;49m\u001b[38;5;130;43;01m\\n\u001b[39;49;00m\u001b[38;5;124;43m'\u001b[39;49m\u001b[43m)\u001b[49m\n",
      "File \u001b[0;32m~/miniconda3/envs/lectures/lib/python3.12/site-packages/IPython/core/interactiveshell.py:2541\u001b[0m, in \u001b[0;36mInteractiveShell.run_cell_magic\u001b[0;34m(self, magic_name, line, cell)\u001b[0m\n\u001b[1;32m   2539\u001b[0m \u001b[38;5;28;01mwith\u001b[39;00m \u001b[38;5;28mself\u001b[39m\u001b[38;5;241m.\u001b[39mbuiltin_trap:\n\u001b[1;32m   2540\u001b[0m     args \u001b[38;5;241m=\u001b[39m (magic_arg_s, cell)\n\u001b[0;32m-> 2541\u001b[0m     result \u001b[38;5;241m=\u001b[39m \u001b[43mfn\u001b[49m\u001b[43m(\u001b[49m\u001b[38;5;241;43m*\u001b[39;49m\u001b[43margs\u001b[49m\u001b[43m,\u001b[49m\u001b[43m \u001b[49m\u001b[38;5;241;43m*\u001b[39;49m\u001b[38;5;241;43m*\u001b[39;49m\u001b[43mkwargs\u001b[49m\u001b[43m)\u001b[49m\n\u001b[1;32m   2543\u001b[0m \u001b[38;5;66;03m# The code below prevents the output from being displayed\u001b[39;00m\n\u001b[1;32m   2544\u001b[0m \u001b[38;5;66;03m# when using magics with decorator @output_can_be_silenced\u001b[39;00m\n\u001b[1;32m   2545\u001b[0m \u001b[38;5;66;03m# when the last Python token in the expression is a ';'.\u001b[39;00m\n\u001b[1;32m   2546\u001b[0m \u001b[38;5;28;01mif\u001b[39;00m \u001b[38;5;28mgetattr\u001b[39m(fn, magic\u001b[38;5;241m.\u001b[39mMAGIC_OUTPUT_CAN_BE_SILENCED, \u001b[38;5;28;01mFalse\u001b[39;00m):\n",
      "File \u001b[0;32m~/miniconda3/envs/lectures/lib/python3.12/site-packages/IPython/core/magics/script.py:155\u001b[0m, in \u001b[0;36mScriptMagics._make_script_magic.<locals>.named_script_magic\u001b[0;34m(line, cell)\u001b[0m\n\u001b[1;32m    153\u001b[0m \u001b[38;5;28;01melse\u001b[39;00m:\n\u001b[1;32m    154\u001b[0m     line \u001b[38;5;241m=\u001b[39m script\n\u001b[0;32m--> 155\u001b[0m \u001b[38;5;28;01mreturn\u001b[39;00m \u001b[38;5;28;43mself\u001b[39;49m\u001b[38;5;241;43m.\u001b[39;49m\u001b[43mshebang\u001b[49m\u001b[43m(\u001b[49m\u001b[43mline\u001b[49m\u001b[43m,\u001b[49m\u001b[43m \u001b[49m\u001b[43mcell\u001b[49m\u001b[43m)\u001b[49m\n",
      "File \u001b[0;32m~/miniconda3/envs/lectures/lib/python3.12/site-packages/IPython/core/magics/script.py:315\u001b[0m, in \u001b[0;36mScriptMagics.shebang\u001b[0;34m(self, line, cell)\u001b[0m\n\u001b[1;32m    310\u001b[0m \u001b[38;5;28;01mif\u001b[39;00m args\u001b[38;5;241m.\u001b[39mraise_error \u001b[38;5;129;01mand\u001b[39;00m p\u001b[38;5;241m.\u001b[39mreturncode \u001b[38;5;241m!=\u001b[39m \u001b[38;5;241m0\u001b[39m:\n\u001b[1;32m    311\u001b[0m     \u001b[38;5;66;03m# If we get here and p.returncode is still None, we must have\u001b[39;00m\n\u001b[1;32m    312\u001b[0m     \u001b[38;5;66;03m# killed it but not yet seen its return code. We don't wait for it,\u001b[39;00m\n\u001b[1;32m    313\u001b[0m     \u001b[38;5;66;03m# in case it's stuck in uninterruptible sleep. -9 = SIGKILL\u001b[39;00m\n\u001b[1;32m    314\u001b[0m     rc \u001b[38;5;241m=\u001b[39m p\u001b[38;5;241m.\u001b[39mreturncode \u001b[38;5;129;01mor\u001b[39;00m \u001b[38;5;241m-\u001b[39m\u001b[38;5;241m9\u001b[39m\n\u001b[0;32m--> 315\u001b[0m     \u001b[38;5;28;01mraise\u001b[39;00m CalledProcessError(rc, cell)\n",
      "\u001b[0;31mCalledProcessError\u001b[0m: Command 'b' \\n\\nsome_command2 2>file.logc  \\n'' returned non-zero exit status 127."
     ]
    }
   ],
   "source": [
    "%%bash\n",
    " \n",
    "\n",
    "some_command2 2>file.logc  "
   ]
  },
  {
   "cell_type": "code",
   "execution_count": 9,
   "id": "f8d9af0a-5c94-45fc-b5e3-90feac14f478",
   "metadata": {
    "editable": true,
    "slideshow": {
     "slide_type": "fragment"
    },
    "tags": []
   },
   "outputs": [],
   "source": [
    "%%bash\n",
    "\n",
    "\n",
    "\n"
   ]
  },
  {
   "cell_type": "code",
   "execution_count": 10,
   "id": "0f92dd95-048c-4aee-8eb0-8592526984ba",
   "metadata": {
    "editable": true,
    "slideshow": {
     "slide_type": "fragment"
    },
    "tags": []
   },
   "outputs": [],
   "source": [
    "%%bash\n",
    "\n",
    "\n",
    "\n"
   ]
  },
  {
   "cell_type": "markdown",
   "id": "ca3a09e5-11d0-47e9-a8c6-2b8fe3e7ee6e",
   "metadata": {
    "editable": true,
    "slideshow": {
     "slide_type": "slide"
    },
    "tags": []
   },
   "source": [
    "\n",
    "---\n",
    "## Combining stdout and stderr\n",
    "\n",
    "- Redirect both stdout and stderr:\n",
    "  ```bash\n",
    "  some_command2 > output.txt 2>&1\n",
    "  ```\n",
    "\n",
    "---\n",
    "\n"
   ]
  },
  {
   "cell_type": "code",
   "execution_count": 11,
   "id": "2270eb68-4ab8-4015-916f-9de3c51307c2",
   "metadata": {
    "editable": true,
    "slideshow": {
     "slide_type": "fragment"
    },
    "tags": []
   },
   "outputs": [],
   "source": [
    "%%bash\n",
    "\n"
   ]
  },
  {
   "cell_type": "code",
   "execution_count": 12,
   "id": "427ae095-1ca4-4f73-b656-f9a3511732f8",
   "metadata": {
    "editable": true,
    "slideshow": {
     "slide_type": "fragment"
    },
    "tags": []
   },
   "outputs": [],
   "source": [
    "%%bash\n",
    "\n"
   ]
  },
  {
   "cell_type": "markdown",
   "id": "1eb95df7-64c4-4c82-af3f-8d43d6f89182",
   "metadata": {
    "editable": true,
    "slideshow": {
     "slide_type": "slide"
    },
    "tags": []
   },
   "source": [
    "\n",
    "---\n",
    "## Filters in Pipes\n",
    "\n",
    "- **Filters**: Commands that process input and produce output.\n",
    "  - Examples: `grep`, `sort`, `cut`, `awk`, `sed`.\n",
    "  \n",
    "- Example:\n",
    "  ```bash\n",
    "  ps aux | grep \"python\" | sort -nrk 3\n",
    "  ```\n",
    "  - Finds running Python processes and sorts by memory usage.\n",
    "\n",
    "---\n",
    "\n"
   ]
  },
  {
   "cell_type": "code",
   "execution_count": 5,
   "id": "4e3d713e-a64b-4663-ab73-b69ad4a301fe",
   "metadata": {
    "editable": true,
    "slideshow": {
     "slide_type": ""
    },
    "tags": []
   },
   "outputs": [
    {
     "name": "stdout",
     "output_type": "stream",
     "text": [
      " _________________________________________ \n",
      "/ mattloose 7868 1.2 0.2 411937536 147200 \\\n",
      "| ?? S 9:27AM 0:04.23 python -m           |\n",
      "| jupyterlab --no-browser                 |\n",
      "| --expose-app-in-browser                 |\n",
      "| --ServerApp.port=52253                  |\n",
      "| --ServerApp.password=                   |\n",
      "| --ServerApp.token=jlab:srvr:4407e55ee9e |\n",
      "| 60499b32dd1e1d2bd6e11dac16e             |\n",
      "| --LabApp.quit_button=False              |\n",
      "| --JupyterApp.config_file_name=          |\n",
      "| --ContentsManager.allow_hidden=True     |\n",
      "| mattloose 8208 0.0 0.0 410208736 1296   |\n",
      "| ?? S 9:33AM 0:00.00 grep python         |\n",
      "| mattloose 7923 0.0 0.1 411836448 72000  |\n",
      "| ?? Ss 9:27AM 0:00.45                    |\n",
      "| /Users/mattloose/miniconda3/envs/lectur |\n",
      "| es/bin/python -m ipykernel_launcher -f  |\n",
      "| /Users/mattloose/Library/Jupyter/runtim |\n",
      "| e/kernel-9da672ab-70b6-4df2-b86b-dc3f18 |\n",
      "| 0de40b.json mattloose 7922 0.0 0.1      |\n",
      "| 411967520 72112 ?? Ss 9:27AM 0:00.47    |\n",
      "| /Users/mattloose/miniconda3/envs/lectur |\n",
      "| es/bin/python -m ipykernel_launcher -f  |\n",
      "| /Users/mattloose/Library/Jupyter/runtim |\n",
      "| e/kernel-2c56e1a3-90c0-4e26-b603-1cc5c7 |\n",
      "| a71bd6.json mattloose 7921 0.0 0.1      |\n",
      "| 411853920 72416 ?? Ss 9:27AM 0:00.48    |\n",
      "| /Users/mattloose/miniconda3/envs/lectur |\n",
      "| es/bin/python -m ipykernel_launcher -f  |\n",
      "| /Users/mattloose/Library/Jupyter/runtim |\n",
      "| e/kernel-34a278ad-a375-45f8-81d8-5ba86d |\n",
      "\\ 0d472c.json                             /\n",
      " ----------------------------------------- \n",
      "        \\   ^__^\n",
      "         \\  (oo)\\_______\n",
      "            (__)\\       )\\/\\\n",
      "                ||----w |\n",
      "                ||     ||\n"
     ]
    }
   ],
   "source": [
    "%%bash\n",
    "\n",
    "ps aux | grep python | sort -nrk 3 | head -n 5 | cowsay"
   ]
  },
  {
   "cell_type": "code",
   "execution_count": 14,
   "id": "0d0ae0c5-1277-46b6-be5f-808eefce8fe3",
   "metadata": {
    "editable": true,
    "slideshow": {
     "slide_type": ""
    },
    "tags": []
   },
   "outputs": [],
   "source": [
    "%%bash\n",
    "\n"
   ]
  },
  {
   "cell_type": "markdown",
   "id": "b3bd735d-0de7-4edb-83cd-a63d6dbdbe4f",
   "metadata": {
    "editable": true,
    "slideshow": {
     "slide_type": "slide"
    },
    "tags": []
   },
   "source": [
    "\n",
    "---\n",
    "## Summary\n",
    "\n",
    "- **Streams**: stdin, stdout, stderr – standard communication channels.\n",
    "- **Pipes**: Connect output of one command to the input of another.\n",
    "- **Redirection**: Modify where input/output goes, even to files.\n",
    "- **Filters**: Tools to manipulate data within pipes for flexible processing.\n",
    "\n",
    "\n",
    "### Note: Most command line bioinformatics programs can be used with streams, pipes, redirection and filters.\n",
    "---\n",
    "\n"
   ]
  },
  {
   "cell_type": "markdown",
   "id": "c8898511-cd3b-49ce-9adb-362c3070980f",
   "metadata": {
    "editable": true,
    "slideshow": {
     "slide_type": "slide"
    },
    "tags": []
   },
   "source": [
    "# UNIX Text Processing Tools: grep, sort, cut, awk, and sed\n",
    "\n",
    "---\n",
    "\n",
    "## Introduction to `grep`\n",
    "\n",
    "- **`grep`** is used to search for patterns within files.\n",
    "- It stands for **global regular expression print**.\n",
    "  \n",
    "### Syntax:\n",
    "```bash\n",
    "grep [options] pattern [file...]\n",
    "```\n",
    "\n",
    "### Example:\n",
    "```bash\n",
    "grep \"error\" log.txt\n",
    "```\n",
    "Searches for the word \"error\" in log.txt.\n",
    "\n",
    "---"
   ]
  },
  {
   "cell_type": "markdown",
   "id": "4167075a-9101-4f05-a6d5-612cc9c4c3c3",
   "metadata": {
    "editable": true,
    "slideshow": {
     "slide_type": "slide"
    },
    "tags": []
   },
   "source": [
    "---\n",
    "\n",
    "## grep Options\n",
    "\n",
    "-i: Case-insensitive search.\n",
    "\n",
    "-v: Invert match (show lines that don't match the pattern).\n",
    "\n",
    "-r: Search directories recursively.\n",
    "\n",
    "\n",
    "Example:\n",
    "```bash\n",
    "grep -i \"warning\" log.txt\n",
    "```\n",
    "\n",
    "Case-insensitive search for \"warning\" in log.txt.\n",
    "\n",
    "---"
   ]
  },
  {
   "cell_type": "markdown",
   "id": "022b17c9-b5bb-4640-82a1-bbdadd26b620",
   "metadata": {
    "editable": true,
    "slideshow": {
     "slide_type": "slide"
    },
    "tags": []
   },
   "source": [
    "---\n",
    "\n",
    "# Introduction to sort\n",
    "\n",
    "sort is used to sort lines of text files.\n",
    "\n",
    "Syntax:\n",
    "\n",
    "```bash\n",
    "sort [options] [file...]\n",
    "```\n",
    "\n",
    "Example:\n",
    "```bash\n",
    "sort data.txt\n",
    "```\n",
    "\n",
    "Sorts the contents of data.txt in alphabetical order.\n",
    "\n",
    "---"
   ]
  },
  {
   "cell_type": "markdown",
   "id": "d96e9a87-0972-438e-b4f7-6587e7eaead2",
   "metadata": {
    "editable": true,
    "slideshow": {
     "slide_type": "slide"
    },
    "tags": []
   },
   "source": [
    "---\n",
    "\n",
    "## sort Options\n",
    "\n",
    "-r: Sort in reverse order.\n",
    "\n",
    "-n: Numeric sort.\n",
    "\n",
    "-k: Sort by a specific column.\n",
    "\n",
    "Example:\n",
    "```bash\n",
    "\n",
    "sort -k 2,2 -n data.txt\n",
    "```\n",
    "\n",
    "Sorts data.txt numerically based on the second column.\n",
    "\n",
    "---"
   ]
  },
  {
   "cell_type": "markdown",
   "id": "d27bcce9-a929-4de9-933e-b8a6f4df883c",
   "metadata": {
    "editable": true,
    "slideshow": {
     "slide_type": "slide"
    },
    "tags": []
   },
   "source": [
    "---\n",
    "\n",
    "## Introduction to cut\n",
    "\n",
    "cut is used to extract specific fields from files.\n",
    "\n",
    "Syntax:\n",
    "```bash\n",
    "cut [options] [file...]\n",
    "```\n",
    "\n",
    "Example:\n",
    "```bash\n",
    "cut -d \",\" -f 1,3 data.csv\n",
    "```\n",
    "\n",
    "Extracts the 1st and 3rd columns from data.csv using , as a delimiter.\n",
    "\n",
    "---"
   ]
  },
  {
   "cell_type": "markdown",
   "id": "8d043190-c0db-4500-a696-20365a0dec02",
   "metadata": {
    "editable": true,
    "slideshow": {
     "slide_type": "slide"
    },
    "tags": []
   },
   "source": [
    "---\n",
    "\n",
    "## cut Options\n",
    "\n",
    "-d: Specify the delimiter.\n",
    "\n",
    "-f: Specify fields to extract.\n",
    "\n",
    "Example:\n",
    "```bash\n",
    "cut -d \" \" -f 2-4 data.txt\n",
    "```\n",
    "\n",
    "Extracts the 2nd to 4th fields from data.txt using a space delimiter.\n",
    "\n",
    "\n",
    "---"
   ]
  },
  {
   "cell_type": "markdown",
   "id": "b95a438b-5f45-440b-976b-20d4918d4544",
   "metadata": {
    "editable": true,
    "slideshow": {
     "slide_type": "slide"
    },
    "tags": []
   },
   "source": [
    "## Introduction to awk\n",
    "\n",
    "awk is a powerful text processing tool, particularly for structured data.\n",
    "\n",
    "Syntax:\n",
    "```bash\n",
    "awk 'pattern {action}' [file...]\n",
    "```\n",
    "\n",
    "Example:\n",
    "\n",
    "```bash\n",
    "awk '{print $1, $3}' data.txt\n",
    "```\n",
    "\n",
    "Prints the 1st and 3rd columns of each line from data.txt.\n",
    "\n",
    "## awk Example with Conditions\n",
    "\n",
    "You can use conditions within awk to filter data:\n",
    "\n",
    "Example:\n",
    "```bash\n",
    "awk '$3 > 100 {print $1, $3}' data.txt\n",
    "```\n",
    "\n",
    "Prints the 1st and 3rd columns where the value in the 3rd column is greater than 100."
   ]
  },
  {
   "cell_type": "markdown",
   "id": "07abb1ba-6d89-4965-8a34-dd697392e6f6",
   "metadata": {
    "editable": true,
    "slideshow": {
     "slide_type": "slide"
    },
    "tags": []
   },
   "source": [
    "## Introduction to sed\n",
    "\n",
    "sed is a stream editor for filtering and transforming text.\n",
    "\n",
    "Syntax:\n",
    "```bash\n",
    "sed 'command' [file...]\n",
    "```\n",
    "\n",
    "Example:\n",
    "```bash\n",
    "sed 's/error/ERROR/g' log.txt\n",
    "```\n",
    "\n",
    "Replaces all occurrences of \"error\" with \"ERROR\" in log.txt.\n",
    "\n",
    "## sed Options and Examples\n",
    "\n",
    "-i: Edit files in place.\n",
    "\n",
    "s/pattern/replacement/: Replace pattern with replacement.\n",
    "\n",
    "Example:\n",
    "```bash\n",
    "sed -i 's/warning/NOTICE/g' log.txt\n",
    "```\n",
    "\n",
    "Replaces \"warning\" with \"NOTICE\" in log.txt and saves the changes.\n",
    "\n"
   ]
  },
  {
   "cell_type": "markdown",
   "id": "d3c52998-e18b-4ba7-b35f-6eefdc636da3",
   "metadata": {
    "editable": true,
    "slideshow": {
     "slide_type": "slide"
    },
    "tags": []
   },
   "source": [
    "## Combining Tools: A Practical Example\n",
    "\n",
    "Use a combination of grep, cut, and sort to process data:\n",
    "\n",
    "Example:\n",
    "```bash\n",
    "grep \"error\" log.txt | cut -d \" \" -f 2,4 | sort -n\n",
    "```\n",
    "\n",
    "Finds lines with \"error\" in log.txt, extracts the 2nd and 4th fields, and sorts them numerically.\n",
    "\n"
   ]
  },
  {
   "cell_type": "markdown",
   "id": "d9bd310a-000f-455c-be6f-bfb00848a977",
   "metadata": {
    "editable": true,
    "slideshow": {
     "slide_type": "slide"
    },
    "tags": []
   },
   "source": [
    "## Summary\n",
    "\n",
    "grep: Searches for patterns.\n",
    "\n",
    "sort: Sorts lines.\n",
    "\n",
    "cut: Extracts specific columns.\n",
    "\n",
    "awk: Processes structured text with conditions.\n",
    "\n",
    "sed: Edits and transforms text streams.\n",
    "\n",
    "\n"
   ]
  },
  {
   "cell_type": "markdown",
   "id": "247f0839-7bb6-49e8-9d31-a8001f9d6ceb",
   "metadata": {
    "editable": true,
    "slideshow": {
     "slide_type": "slide"
    },
    "tags": []
   },
   "source": [
    "## Bash Examples for Each Tool\n",
    "\n"
   ]
  },
  {
   "cell_type": "markdown",
   "id": "4bc55693-bc1a-478d-97a1-fd710996cb6f",
   "metadata": {
    "editable": true,
    "slideshow": {
     "slide_type": "subslide"
    },
    "tags": []
   },
   "source": [
    "1. grep Examples:\n",
    "```bash\n",
    "# Basic usage to search for a pattern\n",
    "grep \"error\" log.txt\n",
    "\n",
    "# Case-insensitive search\n",
    "grep -i \"error\" log.txt\n",
    "\n",
    "# Search recursively through directories\n",
    "grep -r \"error\" /var/logs/\n",
    "```"
   ]
  },
  {
   "cell_type": "markdown",
   "id": "9c760227-0c6c-4812-a687-779083c60222",
   "metadata": {
    "editable": true,
    "slideshow": {
     "slide_type": "subslide"
    },
    "tags": []
   },
   "source": [
    "2. sort Examples:\n",
    "```bash\n",
    "# Sort alphabetically\n",
    "sort data.txt\n",
    "\n",
    "# Sort numerically\n",
    "sort -n numbers.txt\n",
    "\n",
    "# Sort by the second column\n",
    "sort -k 2,2 -n data.txt\n",
    "```"
   ]
  },
  {
   "cell_type": "markdown",
   "id": "0efd7bb3-924f-41fd-9c68-42ce4eeea7d3",
   "metadata": {
    "editable": true,
    "slideshow": {
     "slide_type": "subslide"
    },
    "tags": []
   },
   "source": [
    "3. cut Examples:\n",
    "\n",
    "```bash\n",
    "# Extract first and third fields from a CSV file\n",
    "cut -d \",\" -f 1,3 data.csv\n",
    "\n",
    "# Extract fields from 2 to 4 using space as delimiter\n",
    "cut -d \" \" -f 2-4 data.txt\n",
    "```"
   ]
  },
  {
   "cell_type": "markdown",
   "id": "59da9b4c-2fd6-4a62-8103-653031d29054",
   "metadata": {
    "editable": true,
    "slideshow": {
     "slide_type": "subslide"
    },
    "tags": []
   },
   "source": [
    "4. awk Examples:\n",
    "\n",
    "```bash\n",
    "# Print the 1st and 3rd columns of a file\n",
    "awk '{print $1, $3}' data.txt\n",
    "\n",
    "# Print lines where the 3rd column is greater than 100\n",
    "awk '$3 > 100 {print $1, $3}' data.txt\n",
    "```"
   ]
  },
  {
   "cell_type": "markdown",
   "id": "a3ce7276-f195-4c0c-897f-810a2ed2c17c",
   "metadata": {
    "editable": true,
    "slideshow": {
     "slide_type": "subslide"
    },
    "tags": []
   },
   "source": [
    "5. sed Examples:\n",
    "```bash\n",
    "# Replace \"error\" with \"ERROR\" in a file\n",
    "sed 's/error/ERROR/g' log.txt\n",
    "\n",
    "# Edit a file in place, replacing \"warning\" with \"NOTICE\"\n",
    "sed -i 's/warning/NOTICE/g' log.txt\n",
    "```"
   ]
  },
  {
   "cell_type": "markdown",
   "id": "9f8378f2-4142-4719-af90-0ddb7800e19f",
   "metadata": {
    "editable": true,
    "slideshow": {
     "slide_type": "subslide"
    },
    "tags": []
   },
   "source": [
    "6. Combining Tools:\n",
    "\n",
    "```bash\n",
    "# Combine grep, cut, and sort to process data\n",
    "grep \"error\" log.txt | cut -d \" \" -f 2,4 | sort -n\n",
    "\n",
    "```"
   ]
  },
  {
   "cell_type": "markdown",
   "id": "2eaea086-e536-4bc4-920d-fd2696733a23",
   "metadata": {
    "editable": true,
    "slideshow": {
     "slide_type": "slide"
    },
    "tags": []
   },
   "source": [
    "# Introduction to Bash Scripting"
   ]
  },
  {
   "cell_type": "markdown",
   "id": "d7f1268e-38a6-42ed-9b7c-7b168926cb2f",
   "metadata": {
    "editable": true,
    "slideshow": {
     "slide_type": "subslide"
    },
    "tags": []
   },
   "source": [
    "---\n",
    "\n",
    "## What is Bash?\n",
    "\n",
    "- **Bash** (Bourne Again SHell) is a command-line shell used for interacting with the Unix/Linux operating system.\n",
    "- It allows users to run commands, automate tasks, and write complex scripts to control the system.\n",
    "\n",
    "---\n"
   ]
  },
  {
   "cell_type": "markdown",
   "id": "ae88261a-db33-475d-8f6a-cd27b7481fae",
   "metadata": {
    "editable": true,
    "slideshow": {
     "slide_type": "subslide"
    },
    "tags": []
   },
   "source": [
    "---\n",
    "\n",
    "## Why Learn Bash Scripting?\n",
    "\n",
    "- **Automation**: Perform repetitive tasks automatically.\n",
    "- **Efficiency**: Combine and execute multiple commands in a single script.\n",
    "- **Customizability**: Customize your workflow and environment.\n",
    "- **Portability**: Write scripts that run across multiple Unix-like systems.\n",
    "\n",
    "---"
   ]
  },
  {
   "cell_type": "markdown",
   "id": "23684050-9809-4667-804e-71b17584d723",
   "metadata": {
    "editable": true,
    "slideshow": {
     "slide_type": "slide"
    },
    "tags": []
   },
   "source": [
    "## Writing Your First Bash Script\n",
    "\n"
   ]
  },
  {
   "cell_type": "markdown",
   "id": "40bdb69f-8346-4480-a21e-93418cb50b7a",
   "metadata": {
    "editable": true,
    "slideshow": {
     "slide_type": "fragment"
    },
    "tags": []
   },
   "source": [
    "### Steps to Create a Script:\n",
    "\n",
    "1. Open a text editor and type the script content.\n",
    "2. Save the file with a `.sh` extension.\n",
    "3. Make the file executable using the `chmod` command.\n",
    "4. Run the script from the terminal."
   ]
  },
  {
   "cell_type": "markdown",
   "id": "5989c5ce-b578-4da5-9c7b-b178fdfa30fb",
   "metadata": {
    "editable": true,
    "slideshow": {
     "slide_type": "fragment"
    },
    "tags": []
   },
   "source": [
    "### Example Script:\n",
    "\n",
    "```bash\n",
    "#!/bin/bash\n",
    "# This is a simple Bash script\n",
    "echo \"Hello, World!\"\n",
    "```\n"
   ]
  },
  {
   "cell_type": "markdown",
   "id": "0714e150-15a3-41c4-8859-f7326c94df96",
   "metadata": {
    "editable": true,
    "slideshow": {
     "slide_type": "fragment"
    },
    "tags": []
   },
   "source": [
    "Try it - now!"
   ]
  },
  {
   "cell_type": "markdown",
   "id": "17995544-9180-44f4-bd9f-99f51c7ecfc0",
   "metadata": {
    "editable": true,
    "slideshow": {
     "slide_type": "fragment"
    },
    "tags": []
   },
   "source": [
    "- **Explanation**:\n",
    "  - `#!/bin/bash`: The **shebang** line, which tells the system which interpreter to use.\n",
    "  - `echo`: A command that prints text to the terminal.\n",
    "  - Save this as `hello.sh`, then make it executable with `chmod +x hello.sh` and run it using `./hello.sh`.\n",
    "\n",
    "---\n"
   ]
  },
  {
   "cell_type": "markdown",
   "id": "eae74aaa-cf8a-461d-bd6d-9398ff8a3f71",
   "metadata": {
    "editable": true,
    "slideshow": {
     "slide_type": "slide"
    },
    "tags": []
   },
   "source": [
    "## Comments in Bash\n",
    "\n",
    "- Comments are ignored by the Bash interpreter and help explain the code.\n",
    "\n",
    "```bash\n",
    "# This is a single-line comment\n",
    "echo \"Hello\"  # Inline comment\n",
    "```\n",
    "\n",
    "\n",
    "\n",
    "\n"
   ]
  },
  {
   "cell_type": "code",
   "execution_count": 17,
   "id": "380a9df3-c063-45bc-9b82-d432ca796f63",
   "metadata": {
    "editable": true,
    "slideshow": {
     "slide_type": "fragment"
    },
    "tags": []
   },
   "outputs": [
    {
     "name": "stdout",
     "output_type": "stream",
     "text": [
      "Hello\n"
     ]
    }
   ],
   "source": [
    "\n",
    "%%bash\n",
    "echo \"Hello\"  # Inline comment\n"
   ]
  },
  {
   "cell_type": "markdown",
   "id": "2a5fafc2-254f-42fd-a3c8-38e0e90dcffa",
   "metadata": {
    "editable": true,
    "slideshow": {
     "slide_type": "slide"
    },
    "tags": []
   },
   "source": [
    "---\n",
    "\n",
    "## Basic Bash Commands\n",
    "\n",
    "- **echo**: Prints text to the terminal.\n",
    "- **cd**: Changes directories.\n",
    "- **ls**: Lists files and directories.\n",
    "- **cp**: Copies files.\n",
    "- **mv**: Moves or renames files.\n",
    "- **rm**: Deletes files.\n",
    "\n",
    "### Example\n",
    "\n",
    "```bash\n",
    "echo \"Current directory:\"\n",
    "pwd  # Prints the current directory path\n",
    "```\n",
    "\n",
    "---\n"
   ]
  },
  {
   "cell_type": "markdown",
   "id": "d4ea813a-06bd-43f6-91e3-a3a660981904",
   "metadata": {
    "editable": true,
    "slideshow": {
     "slide_type": "slide"
    },
    "tags": []
   },
   "source": [
    "## Variables in Bash\n",
    "\n",
    "- Variables store data that can be used throughout the script.\n",
    "- Assign variables using the `=` operator.\n",
    "\n",
    "\n",
    "---"
   ]
  },
  {
   "cell_type": "code",
   "execution_count": 21,
   "id": "d296c4b6-2a98-4fbb-9622-96cde35d974c",
   "metadata": {
    "editable": true,
    "slideshow": {
     "slide_type": "fragment"
    },
    "tags": []
   },
   "outputs": [
    {
     "name": "stdout",
     "output_type": "stream",
     "text": [
      "Hello, Alice!\n"
     ]
    }
   ],
   "source": [
    "%%bash\n",
    "greeting=\"Hello\"\n",
    "name=\"Alice\"\n",
    "echo \"$greeting, $name!\"\n"
   ]
  },
  {
   "cell_type": "code",
   "execution_count": null,
   "id": "df4a926b-0164-4a74-ae81-0c37a2bb1801",
   "metadata": {
    "editable": true,
    "slideshow": {
     "slide_type": ""
    },
    "tags": []
   },
   "outputs": [],
   "source": []
  },
  {
   "cell_type": "markdown",
   "id": "3c582850-d01f-4609-8988-b9586be23a75",
   "metadata": {
    "editable": true,
    "slideshow": {
     "slide_type": "slide"
    },
    "tags": []
   },
   "source": [
    "---\n",
    "\n",
    "## Conditionals in Bash\n",
    "\n",
    "- **If statements** allow you to run commands based on conditions.\n",
    "\n",
    "```bash\n",
    "if [ condition ]\n",
    "then\n",
    "    # Commands to run if condition is true\n",
    "else\n",
    "    # Commands to run if condition is false\n",
    "fi\n",
    "```\n",
    "\n",
    "### Example\n"
   ]
  },
  {
   "cell_type": "code",
   "execution_count": null,
   "id": "acc923f8-e500-4d3c-8314-6bc52ca58e50",
   "metadata": {
    "editable": true,
    "slideshow": {
     "slide_type": "fragment"
    },
    "tags": []
   },
   "outputs": [],
   "source": [
    "%%bash\n",
    "age=18\n",
    "if [ $age -ge 18 ]\n",
    "then\n",
    "    echo \"You are an adult.\"\n",
    "else\n",
    "    echo \"You are a minor.\"\n",
    "fi\n"
   ]
  },
  {
   "cell_type": "markdown",
   "id": "96437ed4-9a45-48e2-a8b0-8687b9f5511d",
   "metadata": {
    "editable": true,
    "slideshow": {
     "slide_type": "slide"
    },
    "tags": []
   },
   "source": [
    "---\n",
    "\n",
    "## Loops in Bash\n",
    "\n",
    "- **For Loops**: Iterate over a list of items.\n",
    "\n",
    "```bash\n",
    "for i in 1 2 3\n",
    "do\n",
    "    echo \"Number: $i\"\n",
    "done\n",
    "```\n",
    "\n",
    "- **While Loops**: Repeat commands while a condition is true.\n",
    "\n",
    "```bash\n",
    "count=1\n",
    "while [ $count -le 5 ]\n",
    "do\n",
    "    echo \"Count: $count\"\n",
    "    count=$((count + 1))\n",
    "done\n",
    "```\n",
    "\n",
    "---\n"
   ]
  },
  {
   "cell_type": "markdown",
   "id": "54b06ab6-50f2-4b13-994d-18a54ba71e53",
   "metadata": {
    "editable": true,
    "slideshow": {
     "slide_type": "slide"
    },
    "tags": []
   },
   "source": [
    "---\n",
    "\n",
    "## Functions in Bash\n",
    "\n",
    "- Functions group a set of commands that can be reused in a script.\n",
    "\n",
    "```bash\n",
    "greet() {\n",
    "    echo \"Hello, $1!\"\n",
    "}\n",
    "\n",
    "greet \"Alice\"\n",
    "```\n",
    "\n",
    "- **Explanation**: Functions can take arguments. `$1` refers to the first argument.\n",
    "\n",
    "---"
   ]
  },
  {
   "cell_type": "markdown",
   "id": "3b6f2b99-8dd7-40b5-90b0-c727e6242517",
   "metadata": {
    "editable": true,
    "slideshow": {
     "slide_type": "slide"
    },
    "tags": []
   },
   "source": [
    "---\n",
    "\n",
    "## Command Substitution\n",
    "\n",
    "- Capture the output of a command and store it in a variable.\n",
    "\n",
    "```bash\n",
    "current_time=$(date)\n",
    "echo \"Current time: $current_time\"\n",
    "```\n",
    "\n",
    "- **Explanation**: The `$(command)` syntax runs the command and stores the result.\n",
    "\n",
    "---"
   ]
  },
  {
   "cell_type": "markdown",
   "id": "a04f6d4a-b546-42a7-afb5-638401eafb06",
   "metadata": {
    "editable": true,
    "slideshow": {
     "slide_type": "slide"
    },
    "tags": []
   },
   "source": [
    "---\n",
    "\n",
    "## Redirecting Input and Output\n",
    "\n",
    "- **>**: Redirects output to a file (overwrites).\n",
    "- **>>**: Appends output to a file.\n",
    "- **<**: Takes input from a file.\n",
    "\n",
    "```bash\n",
    "echo \"Hello\" > output.txt  # Write to file\n",
    "cat output.txt             # Display file contents\n",
    "```\n",
    "\n",
    "---"
   ]
  },
  {
   "cell_type": "markdown",
   "id": "3b2b3b71-4fe2-4ed6-bdf6-878afefce2d8",
   "metadata": {
    "editable": true,
    "slideshow": {
     "slide_type": "slide"
    },
    "tags": []
   },
   "source": [
    "---\n",
    "\n",
    "## Shell Scripting Best Practices\n",
    "\n",
    "- **Use comments**: Make your script easier to understand.\n",
    "- **Quote variables**: Prevent issues with spaces or special characters.\n",
    "- **Test your script**: Always run your script with test cases before deploying.\n",
    "- **Error handling**: Check for possible errors using conditionals.\n",
    "\n",
    "---\n"
   ]
  },
  {
   "cell_type": "markdown",
   "id": "b7b71bd7-ba20-45ad-bdf6-08f15731e990",
   "metadata": {
    "editable": true,
    "slideshow": {
     "slide_type": "slide"
    },
    "tags": []
   },
   "source": [
    "---\n",
    "\n",
    "## Conclusion\n",
    "\n",
    "- Bash scripting allows you to automate tasks and improve your productivity in Unix/Linux environments.\n",
    "- With knowledge of variables, conditionals, loops, and functions, you can create powerful scripts.\n",
    "- Practice by writing small scripts and gradually build more complex ones.\n",
    "\n",
    "---"
   ]
  },
  {
   "cell_type": "markdown",
   "id": "019dfb1b-6941-4911-812e-9122ccdd14ee",
   "metadata": {
    "editable": true,
    "slideshow": {
     "slide_type": ""
    },
    "tags": []
   },
   "source": [
    "# REPRODUCIBILITY!!!"
   ]
  },
  {
   "cell_type": "markdown",
   "id": "69b446e1-47b2-4ae9-8775-d9e9edf77b93",
   "metadata": {
    "editable": true,
    "slideshow": {
     "slide_type": "slide"
    },
    "tags": []
   },
   "source": [
    "# Introduction to Variables in Bash Scripting\n",
    "\n",
    "---\n",
    "\n",
    "## What is a Variable?\n",
    "\n",
    "- A **variable** is a way to store data that can be referenced and manipulated within a script.\n",
    "- Bash variables do not require explicit declaration of data types (e.g., string, integer). Everything is treated as a string.\n",
    "\n",
    "---"
   ]
  },
  {
   "cell_type": "markdown",
   "id": "0b72f46c-2707-44d9-a4c3-5dd7d5027b80",
   "metadata": {
    "editable": true,
    "slideshow": {
     "slide_type": "slide"
    },
    "tags": []
   },
   "source": [
    "---\n",
    "\n",
    "## Basic Syntax\n",
    "\n",
    "```bash\n",
    "variable_name=value\n",
    "```\n",
    "\n",
    "- No spaces around the equal sign.\n",
    "- **variable_name**: The name of the variable (should not start with a number).\n",
    "- **value**: The data that is stored in the variable.\n",
    "\n",
    "---\n",
    "\n",
    "## Simple Example\n",
    "\n",
    "```bash\n",
    "greeting=\"Hello, World!\"\n",
    "echo $greeting\n",
    "```\n",
    "\n",
    "- **Output:**\n",
    "  ```\n",
    "  Hello, World!\n",
    "  ```\n",
    "\n",
    "---"
   ]
  },
  {
   "cell_type": "markdown",
   "id": "2894c977-4203-4a77-868a-24c5ad45ad94",
   "metadata": {
    "editable": true,
    "slideshow": {
     "slide_type": "slide"
    },
    "tags": []
   },
   "source": [
    "---\n",
    "\n",
    "## Accessing Variables\n",
    "\n",
    "- Use the `$` symbol to access the value of a variable.\n",
    "\n",
    "```bash\n",
    "name=\"Alice\"\n",
    "echo \"Hello, $name!\"\n",
    "```\n",
    "\n",
    "- **Output:**\n",
    "  ```\n",
    "  Hello, Alice!\n",
    "  ```\n",
    "\n",
    "---"
   ]
  },
  {
   "cell_type": "markdown",
   "id": "288c0cfc-30b2-4351-bbc7-10933d1ff3f9",
   "metadata": {
    "editable": true,
    "slideshow": {
     "slide_type": "slide"
    },
    "tags": []
   },
   "source": [
    "---\n",
    "\n",
    "## Variable Types\n",
    "\n",
    "### Local Variables\n",
    "\n",
    "- Variables defined within a script or function, accessible only within that scope.\n",
    "\n",
    "```bash\n",
    "greeting=\"Hello\"\n",
    "echo $greeting\n",
    "```\n",
    "\n",
    "### Environment Variables\n",
    "\n",
    "- Variables that are available system-wide, across different scripts and programs.\n",
    "\n",
    "```bash\n",
    "export MY_VAR=\"Exported value®\"\n",
    "echo $MY_VAR\n",
    "```\n",
    "\n",
    "### Positional Parameters\n",
    "\n",
    "- Variables assigned automatically to command-line arguments in a script.\n",
    "\n",
    "```bash\n",
    "echo \"First argument: $1\"\n",
    "echo \"Second argument: $2\"\n",
    "```\n",
    "\n",
    "---"
   ]
  },
  {
   "cell_type": "markdown",
   "id": "26a6199b-8db6-4e02-971f-ca5c561a87c4",
   "metadata": {
    "editable": true,
    "slideshow": {
     "slide_type": "slide"
    },
    "tags": []
   },
   "source": [
    "---\n",
    "\n",
    "## Read-Only Variables\n",
    "\n",
    "- Prevent modification by marking a variable as read-only.\n",
    "\n",
    "```bash\n",
    "readonly PI=3.14159\n",
    "echo $PI\n",
    "```\n",
    "\n",
    "- Trying to modify `PI` will result in an error.\n",
    "\n",
    "---"
   ]
  },
  {
   "cell_type": "code",
   "execution_count": 8,
   "id": "ef05395b-9452-45e3-8529-6f60be6ec5b9",
   "metadata": {
    "editable": true,
    "slideshow": {
     "slide_type": ""
    },
    "tags": []
   },
   "outputs": [
    {
     "name": "stdout",
     "output_type": "stream",
     "text": [
      "3.14159\n"
     ]
    }
   ],
   "source": [
    "%%bash\n",
    "\n",
    "readonly PI=3.14159\n",
    "echo $PI\n",
    "\n"
   ]
  },
  {
   "cell_type": "code",
   "execution_count": 9,
   "id": "d8ccab14-a760-4267-9558-d4f5f1fcb6ea",
   "metadata": {
    "editable": true,
    "slideshow": {
     "slide_type": ""
    },
    "tags": []
   },
   "outputs": [
    {
     "name": "stderr",
     "output_type": "stream",
     "text": [
      "UsageError: %%bash is a cell magic, but the cell body is empty.\n"
     ]
    }
   ],
   "source": [
    "%%bash\n"
   ]
  },
  {
   "cell_type": "code",
   "execution_count": null,
   "id": "2306c6fa-dc19-4170-a2f1-477a7479be30",
   "metadata": {
    "editable": true,
    "slideshow": {
     "slide_type": ""
    },
    "tags": []
   },
   "outputs": [],
   "source": []
  },
  {
   "cell_type": "markdown",
   "id": "698d4af7-0609-461e-8104-f4e022afe24a",
   "metadata": {
    "editable": true,
    "slideshow": {
     "slide_type": "slide"
    },
    "tags": []
   },
   "source": [
    "---\n",
    "\n",
    "## Using `read` to Assign Variables\n",
    "\n",
    "- Use `read` to accept input from the user.\n",
    "\n",
    "```bash\n",
    "read -p \"Enter your name: \" user_name\n",
    "echo \"Hello, $user_name!\"\n",
    "```\n",
    "\n",
    "- **Output (after inputting \"Alice\"):**\n",
    "  ```\n",
    "  Hello, Alice!\n",
    "  ```\n",
    "\n",
    "---"
   ]
  },
  {
   "cell_type": "code",
   "execution_count": 57,
   "id": "8360b9dc-1768-4706-b0e2-bc7c26d913ac",
   "metadata": {},
   "outputs": [],
   "source": [
    "%%bash\n",
    "\n",
    "#read -p \"Enter your name: \" user_name\n"
   ]
  },
  {
   "cell_type": "markdown",
   "id": "92be8e59-5774-431c-a266-36fe2e377299",
   "metadata": {},
   "source": [
    "Note - jump to a terminal and use bash explicitly!"
   ]
  },
  {
   "cell_type": "markdown",
   "id": "8fe848ba-0030-4f4d-a5b9-5231cb40234d",
   "metadata": {
    "editable": true,
    "slideshow": {
     "slide_type": "slide"
    },
    "tags": []
   },
   "source": [
    "---\n",
    "\n",
    "## Arithmetic Operations\n",
    "\n",
    "- Use `(( ))` for integer arithmetic operations.\n",
    "\n",
    "```bash\n",
    "x=5\n",
    "y=3\n",
    "sum=$((x + y))\n",
    "echo \"Sum: $sum\"\n",
    "```\n",
    "\n",
    "- **Output:**\n",
    "  ```\n",
    "  Sum: 8\n",
    "  ```\n",
    "\n",
    "---"
   ]
  },
  {
   "cell_type": "markdown",
   "id": "35d27a29-2431-44a6-9bc1-560a6f11d404",
   "metadata": {
    "editable": true,
    "slideshow": {
     "slide_type": "slide"
    },
    "tags": []
   },
   "source": [
    "---\n",
    "\n",
    "## Variable Scope\n",
    "\n",
    "- Variables defined inside a function are local by default.\n",
    "- Use `global` variables by defining them outside any function.\n",
    "\n",
    "### Example of Local Variable:\n",
    "\n",
    "```bash\n",
    "my_function() {\n",
    "    local var=\"I'm local\"\n",
    "    echo $var\n",
    "}\n",
    "my_function\n",
    "echo $var  # This will not print anything\n",
    "```\n",
    "\n",
    "### Example of Global Variable:\n",
    "\n",
    "```bash\n",
    "var=\"I'm global\"\n",
    "my_function() {\n",
    "    echo $var\n",
    "}\n",
    "my_function\n",
    "```\n",
    "\n",
    "---"
   ]
  },
  {
   "cell_type": "markdown",
   "id": "0afb2d28-e73f-4e52-9397-303e16b6370c",
   "metadata": {
    "editable": true,
    "slideshow": {
     "slide_type": "slide"
    },
    "tags": []
   },
   "source": [
    "---\n",
    "\n",
    "## String Manipulation\n",
    "\n",
    "### String Concatenation\n",
    "\n",
    "- You can concatenate strings using variables.\n",
    "\n",
    "```bash\n",
    "first=\"Hello\"\n",
    "second=\"World\"\n",
    "greeting=\"$first, $second!\"\n",
    "echo $greeting\n",
    "```\n",
    "\n",
    "- **Output:**\n",
    "  ```\n",
    "  Hello, World!\n",
    "  ```\n",
    "\n",
    "### Getting the Length of a String\n",
    "\n",
    "- Use `${#variable}` to get the length of a string.\n",
    "\n",
    "```bash\n",
    "str=\"Hello, World!\"\n",
    "echo ${#str}\n",
    "```\n",
    "\n",
    "- **Output:**\n",
    "  ```\n",
    "  13\n",
    "  ```\n",
    "\n",
    "---"
   ]
  },
  {
   "cell_type": "markdown",
   "id": "38f6ae18-b252-4eb1-83f6-57d1176cbfd6",
   "metadata": {
    "editable": true,
    "slideshow": {
     "slide_type": "slide"
    },
    "tags": []
   },
   "source": [
    "---\n",
    "\n",
    "## Best Practices\n",
    "\n",
    "- **Use meaningful names**: Always name your variables descriptively.\n",
    "- **Quote variable references**: Use `\"$variable\"` to avoid issues with spaces or special characters.\n",
    "- **Avoid using reserved words**: Do not use names that conflict with system commands (e.g., `echo`, `read`).\n",
    "- **Scope your variables**: Prefer local variables when working inside functions.\n",
    "- **Test before using**: You can check if a variable is set with:\n",
    "\n",
    "  ```bash\n",
    "  if [ -z \"$var\" ]; then\n",
    "      echo \"Variable is not set.\"\n",
    "  fi\n",
    "  ```\n",
    "\n",
    "---\n"
   ]
  },
  {
   "cell_type": "markdown",
   "id": "7b7b42c4-f868-4564-9f57-a83557d0a2b8",
   "metadata": {
    "editable": true,
    "slideshow": {
     "slide_type": "slide"
    },
    "tags": []
   },
   "source": [
    "---\n",
    "\n",
    "## Conclusion\n",
    "\n",
    "- Variables are fundamental to bash scripting and are used to store and manipulate data.\n",
    "- With proper variable usage, you can make your scripts more dynamic and powerful.\n",
    "\n",
    "---"
   ]
  },
  {
   "cell_type": "markdown",
   "id": "83cf8a0c-91e4-4925-b899-50992d1236da",
   "metadata": {
    "editable": true,
    "slideshow": {
     "slide_type": "slide"
    },
    "tags": []
   },
   "source": [
    "# Introduction to For Loops in Bash Scripting\n",
    "\n",
    "---"
   ]
  },
  {
   "cell_type": "markdown",
   "id": "4fdde9ad-5f3e-4171-8d18-ea8dc8d20b26",
   "metadata": {
    "editable": true,
    "slideshow": {
     "slide_type": "fragment"
    },
    "tags": []
   },
   "source": [
    "## What is a For Loop?\n",
    "\n",
    "- A **for loop** is a control flow statement for specifying iteration.\n",
    "- It allows you to execute a sequence of commands multiple times.\n",
    "- Useful for automating repetitive tasks in scripts.\n",
    "\n",
    "---\n",
    "\n"
   ]
  },
  {
   "cell_type": "markdown",
   "id": "93832dea-3b0f-4788-8415-139fc8bf19ce",
   "metadata": {
    "editable": true,
    "slideshow": {
     "slide_type": "slide"
    },
    "tags": []
   },
   "source": [
    "## Basic Syntax\n",
    "\n",
    "```bash\n",
    "for variable in list\n",
    "do\n",
    "    commands\n",
    "done\n",
    "```\n",
    "\n",
    "- **variable**: A placeholder for each item in the list.\n",
    "- **list**: A set of values (numbers, strings, etc.).\n",
    "\n",
    "---\n"
   ]
  },
  {
   "cell_type": "markdown",
   "id": "b271872a-63f2-4c95-a721-46418a19ecfc",
   "metadata": {
    "editable": true,
    "slideshow": {
     "slide_type": "slide"
    },
    "tags": []
   },
   "source": [
    "\n",
    "## Simple Example\n",
    "\n",
    "```bash\n",
    "for i in 1 2 3 4 5\n",
    "do\n",
    "    echo \"Number: $i\"\n",
    "done\n",
    "```\n",
    "\n",
    "- **Output:**\n",
    "  ```\n",
    "  Number: 1\n",
    "  Number: 2\n",
    "  Number: 3\n",
    "  Number: 4\n",
    "  Number: 5\n",
    "  ```\n",
    "\n",
    "---\n"
   ]
  },
  {
   "cell_type": "markdown",
   "id": "ff3677b2-987c-40ef-85f8-ba32b7c8fbfa",
   "metadata": {
    "editable": true,
    "slideshow": {
     "slide_type": "slide"
    },
    "tags": []
   },
   "source": [
    "\n",
    "## Using Brace Expansion\n",
    "\n",
    "- Simplify sequences with brace expansion `{start..end}`.\n",
    "\n",
    "```bash\n",
    "for i in {1..5}\n",
    "do\n",
    "    echo \"Number: $i\"\n",
    "done\n",
    "```\n",
    "\n",
    "- Equivalent to listing numbers manually.\n",
    "\n",
    "---\n",
    "\n"
   ]
  },
  {
   "cell_type": "markdown",
   "id": "24ae6997-cdba-46dc-b4ce-ad465f70e383",
   "metadata": {
    "editable": true,
    "slideshow": {
     "slide_type": "slide"
    },
    "tags": []
   },
   "source": [
    "## Looping Over Files\n",
    "\n",
    "- Iterate over files matching a pattern.\n",
    "\n",
    "```bash\n",
    "for file in *.txt\n",
    "do\n",
    "    echo \"Processing $file\"\n",
    "done\n",
    "```\n",
    "\n",
    "- **Processes all `.txt` files** in the current directory.\n",
    "\n",
    "---\n",
    "\n"
   ]
  },
  {
   "cell_type": "markdown",
   "id": "d2452a84-5b9b-4d2e-8af2-daddf36bed06",
   "metadata": {
    "editable": true,
    "slideshow": {
     "slide_type": "slide"
    },
    "tags": []
   },
   "source": [
    "## C-Style For Loops\n",
    "\n",
    "- Similar to loops in languages like C or Java.\n",
    "\n",
    "```bash\n",
    "for (( i=1; i<=5; i++ ))\n",
    "do\n",
    "    echo \"Number: $i\"\n",
    "done\n",
    "```\n",
    "\n",
    "- **Initialization**: `i=1`\n",
    "- **Condition**: `i<=5`\n",
    "- **Increment**: `i++`\n",
    "\n",
    "---\n"
   ]
  },
  {
   "cell_type": "markdown",
   "id": "92ec2364-a50e-492b-adeb-353b42bf0e49",
   "metadata": {
    "editable": true,
    "slideshow": {
     "slide_type": "slide"
    },
    "tags": []
   },
   "source": [
    "\n",
    "## Nested For Loops\n",
    "\n",
    "- Loops within loops for multi-level iteration.\n",
    "\n",
    "```bash\n",
    "for i in {1..3}\n",
    "do\n",
    "    for j in a b\n",
    "    do\n",
    "        echo \"$i$j\"\n",
    "    done\n",
    "done\n",
    "```\n",
    "\n",
    "- **Output:**\n",
    "  ```\n",
    "  1a\n",
    "  1b\n",
    "  2a\n",
    "  2b\n",
    "  3a\n",
    "  3b\n",
    "  ```\n",
    "\n",
    "---\n",
    "\n"
   ]
  },
  {
   "cell_type": "markdown",
   "id": "2f3e45b4-1d69-4711-8c1e-7afaac742d60",
   "metadata": {
    "editable": true,
    "slideshow": {
     "slide_type": "slide"
    },
    "tags": []
   },
   "source": [
    "## Practical Example: Renaming Files\n",
    "\n",
    "- Append a prefix to multiple files.\n",
    "\n",
    "```bash\n",
    "for file in *.jpg\n",
    "do\n",
    "    mv \"$file\" \"new_$file\"\n",
    "done\n",
    "```\n",
    "\n",
    "- **Renames**: `image.jpg` to `new_image.jpg`\n",
    "\n",
    "---\n",
    "\n"
   ]
  },
  {
   "cell_type": "markdown",
   "id": "48c766c4-a770-4da7-baf3-88d3f86f2c4d",
   "metadata": {
    "editable": true,
    "slideshow": {
     "slide_type": "slide"
    },
    "tags": []
   },
   "source": [
    "## Looping Through Command Output\n",
    "\n",
    "- Iterate over lines of command output.\n",
    "\n",
    "```bash\n",
    "for user in $(cat users.txt)\n",
    "do\n",
    "    echo \"Processing user: $user\"\n",
    "done\n",
    "```\n",
    "\n",
    "- Reads usernames from `users.txt`.\n",
    "\n",
    "---\n",
    "\n"
   ]
  },
  {
   "cell_type": "markdown",
   "id": "4e169e7c-c117-4f65-81f6-05c2aac2fbb0",
   "metadata": {
    "editable": true,
    "slideshow": {
     "slide_type": "slide"
    },
    "tags": []
   },
   "source": [
    "## Tips and Best Practices\n",
    "\n",
    "- **Always quote variables**: `\"$variable\"`\n",
    "- **Use meaningful variable names** for clarity.\n",
    "- **Test scripts** with `echo` before executing critical commands.\n",
    "  ```bash\n",
    "  echo mv \"$file\" \"new_$file\"\n",
    "  ```\n",
    "- **Be cautious** with wildcard patterns to avoid unintended matches.\n",
    "\n",
    "---\n",
    "\n",
    "## Conclusion\n",
    "\n",
    "- For loops are essential for automation in Bash scripting.\n",
    "- Multiple syntaxes to fit different scenarios.\n",
    "- Enhance scripts by combining loops with other control structures.\n",
    "\n",
    "---\n"
   ]
  },
  {
   "cell_type": "markdown",
   "id": "ddca36d2-a63f-4ee5-8e14-8572c79a9606",
   "metadata": {
    "editable": true,
    "slideshow": {
     "slide_type": "slide"
    },
    "tags": []
   },
   "source": [
    "---\n",
    "\n",
    "# Introduction to If Statements in Bash Scripting\n",
    "\n",
    "---\n",
    "\n",
    "## What is an If Statement?\n",
    "\n",
    "- An **if statement** allows your script to make decisions based on conditions.\n",
    "- Executes commands **only if** a specified condition is true.\n",
    "- Essential for adding logic and control flow to your scripts.\n",
    "\n",
    "---\n",
    "\n",
    "## Basic Syntax\n",
    "\n",
    "```bash\n",
    "if [ condition ]\n",
    "then\n",
    "    commands\n",
    "fi\n",
    "```\n",
    "\n",
    "- **condition**: A test expression that returns true or false.\n",
    "- **commands**: One or more commands to execute if the condition is true.\n",
    "\n",
    "---\n"
   ]
  },
  {
   "cell_type": "markdown",
   "id": "9acc77cb-c8b5-4b3a-8426-8f82e11f71c8",
   "metadata": {
    "editable": true,
    "slideshow": {
     "slide_type": "slide"
    },
    "tags": []
   },
   "source": [
    "\n",
    "## Simple Example\n",
    "\n",
    "```bash\n",
    "if [ -f \"file.txt\" ]\n",
    "then\n",
    "    echo \"File exists.\"\n",
    "fi\n",
    "```\n",
    "\n",
    "- **Explanation**:\n",
    "  - `-f \"file.txt\"` checks if `file.txt` is a regular file.\n",
    "- **Output (if file exists):**\n",
    "  ```\n",
    "  File exists.\n",
    "  ```\n",
    "\n",
    "---\n"
   ]
  },
  {
   "cell_type": "markdown",
   "id": "866b8501-59bf-4848-b5cf-a3c4c2924c9d",
   "metadata": {
    "editable": true,
    "slideshow": {
     "slide_type": "slide"
    },
    "tags": []
   },
   "source": [
    "\n",
    "## Using Else\n",
    "\n",
    "- Execute alternative commands if the condition is false.\n",
    "\n",
    "```bash\n",
    "if [ condition ]\n",
    "then\n",
    "    commands_if_true\n",
    "else\n",
    "    commands_if_false\n",
    "fi\n",
    "```\n",
    "\n",
    "---\n",
    "\n",
    "### Example with Else\n",
    "\n",
    "```bash\n",
    "if [ -d \"/path/to/directory\" ]\n",
    "then\n",
    "    echo \"Directory exists.\"\n",
    "else\n",
    "    echo \"Directory does not exist.\"\n",
    "fi\n",
    "```\n",
    "\n",
    "- **Explanation**:\n",
    "  - Checks if the specified directory exists.\n",
    "  - Outputs a message based on the result.\n",
    "\n",
    "---\n"
   ]
  },
  {
   "cell_type": "markdown",
   "id": "5e1e033f-ed1a-42ab-bbf4-0b2d60be1600",
   "metadata": {
    "editable": true,
    "slideshow": {
     "slide_type": "slide"
    },
    "tags": []
   },
   "source": [
    "\n",
    "## Using Elif (Else If)\n",
    "\n",
    "- Check multiple conditions in sequence.\n",
    "\n",
    "```bash\n",
    "if [ condition1 ]\n",
    "then\n",
    "    commands1\n",
    "elif [ condition2 ]\n",
    "then\n",
    "    commands2\n",
    "else\n",
    "    commands3\n",
    "fi\n",
    "```\n",
    "\n",
    "---\n",
    "\n",
    "### Example with Elif\n",
    "\n",
    "```bash\n",
    "if [ $score -ge 90 ]\n",
    "then\n",
    "    echo \"Grade: A\"\n",
    "elif [ $score -ge 80 ]\n",
    "then\n",
    "    echo \"Grade: B\"\n",
    "else\n",
    "    echo \"Grade: C\"\n",
    "fi\n",
    "```\n",
    "\n",
    "- **Explanation**:\n",
    "  - Assigns grades based on the value of `score`.\n",
    "\n",
    "---\n"
   ]
  },
  {
   "cell_type": "markdown",
   "id": "4ee47a81-ebbe-4fb9-a898-10b90def1a88",
   "metadata": {
    "editable": true,
    "slideshow": {
     "slide_type": "slide"
    },
    "tags": []
   },
   "source": [
    "\n",
    "## Comparison Operators\n",
    "\n",
    "### Numeric Comparison\n",
    "\n",
    "- `-eq`: equal to\n",
    "- `-ne`: not equal to\n",
    "- `-gt`: greater than\n",
    "- `-lt`: less than\n",
    "- `-ge`: greater than or equal to\n",
    "- `-le`: less than or equal to\n",
    "\n",
    "### String Comparison\n",
    "\n",
    "- `=`: strings are equal\n",
    "- `!=`: strings are not equal\n",
    "- `-z string`: string is null (empty)\n",
    "- `-n string`: string is not null\n",
    "\n",
    "---\n"
   ]
  },
  {
   "cell_type": "markdown",
   "id": "437d8e88-0c65-46b5-a72c-c69305575ccf",
   "metadata": {
    "editable": true,
    "slideshow": {
     "slide_type": "slide"
    },
    "tags": []
   },
   "source": [
    "\n",
    "## Logical Operators\n",
    "\n",
    "- **AND**: `&&` or `-a`\n",
    "- **OR**: `||` or `-o`\n",
    "- **NOT**: `!`\n",
    "\n",
    "### Example\n",
    "\n",
    "```bash\n",
    "if [ $age -ge 18 ] && [ $age -lt 65 ]\n",
    "then\n",
    "    echo \"Eligible for work.\"\n",
    "fi\n",
    "```\n",
    "\n",
    "- **Explanation**:\n",
    "  - Checks if `age` is between 18 and 64.\n",
    "\n",
    "---\n"
   ]
  },
  {
   "cell_type": "markdown",
   "id": "16b65bc5-9ac2-4997-8c67-c0cb28166736",
   "metadata": {
    "editable": true,
    "slideshow": {
     "slide_type": "slide"
    },
    "tags": []
   },
   "source": [
    "\n",
    "## Using Double Brackets `[[ ]]`\n",
    "\n",
    "- Offers advanced features like pattern matching.\n",
    "\n",
    "```bash\n",
    "if [[ $name == \"Alice\" ]]\n",
    "then\n",
    "    echo \"Hello, Alice!\"\n",
    "fi\n",
    "```\n",
    "\n",
    "- **Advantages**:\n",
    "  - Supports `&&`, `||` without escaping.\n",
    "  - Allows regex matching with `=~`.\n",
    "\n",
    "---\n"
   ]
  },
  {
   "cell_type": "markdown",
   "id": "18541ac4-c9d0-4401-b58c-b66a34af4ebc",
   "metadata": {
    "editable": true,
    "slideshow": {
     "slide_type": "slide"
    },
    "tags": []
   },
   "source": [
    "\n",
    "## Checking File Conditions\n",
    "\n",
    "- `-e file`: File exists.\n",
    "- `-f file`: File is a regular file.\n",
    "- `-d file`: Directory exists.\n",
    "- `-s file`: File is not empty.\n",
    "- `-r file`: File is readable.\n",
    "- `-w file`: File is writable.\n",
    "- `-x file`: File is executable.\n",
    "\n",
    "---\n",
    "\n",
    "## Practical Example: User Input Validation\n",
    "\n",
    "```bash\n",
    "read -p \"Enter a number between 1 and 10: \" num\n",
    "if [[ $num -ge 1 && $num -le 10 ]]\n",
    "then\n",
    "    echo \"Valid input.\"\n",
    "else\n",
    "    echo \"Invalid input.\"\n",
    "fi\n",
    "```\n",
    "\n",
    "- **Explanation**:\n",
    "  - Prompts user for input.\n",
    "  - Validates if the number is within the specified range.\n",
    "\n",
    "---\n"
   ]
  },
  {
   "cell_type": "markdown",
   "id": "574eb24b-9b19-4f5f-a5e8-5f17302cfc9b",
   "metadata": {
    "editable": true,
    "slideshow": {
     "slide_type": "slide"
    },
    "tags": []
   },
   "source": [
    "\n",
    "## Nested If Statements\n",
    "\n",
    "- Place an if statement inside another for complex conditions.\n",
    "\n",
    "```bash\n",
    "if [ $user == \"admin\" ]\n",
    "then\n",
    "    if [ $password == \"secret\" ]\n",
    "    then\n",
    "        echo \"Access granted.\"\n",
    "    else\n",
    "        echo \"Incorrect password.\"\n",
    "    fi\n",
    "else\n",
    "    echo \"Unknown user.\"\n",
    "fi\n",
    "```\n"
   ]
  },
  {
   "cell_type": "markdown",
   "id": "3575b3b4-9f5d-46ed-bf04-13e962016997",
   "metadata": {
    "editable": true,
    "slideshow": {
     "slide_type": "slide"
    },
    "tags": []
   },
   "source": [
    "\n",
    "---\n",
    "\n",
    "## Case Statement Alternative\n",
    "\n",
    "- For multiple conditions, `case` can be more efficient.\n",
    "\n",
    "```bash\n",
    "case $option in\n",
    "    start)\n",
    "        echo \"Starting service.\"\n",
    "        ;;\n",
    "    stop)\n",
    "        echo \"Stopping service.\"\n",
    "        ;;\n",
    "    restart)\n",
    "        echo \"Restarting service.\"\n",
    "        ;;\n",
    "    *)\n",
    "        echo \"Invalid option.\"\n",
    "        ;;\n",
    "esac\n",
    "```\n",
    "\n"
   ]
  },
  {
   "cell_type": "code",
   "execution_count": 63,
   "id": "168c3199-9e71-43ff-9186-e9f2f1a9c8c1",
   "metadata": {
    "editable": true,
    "slideshow": {
     "slide_type": ""
    },
    "tags": []
   },
   "outputs": [
    {
     "name": "stdout",
     "output_type": "stream",
     "text": [
      "Stopping service.\n"
     ]
    }
   ],
   "source": [
    "%%bash\n",
    "option=stop\n",
    "case $option in\n",
    "    start)\n",
    "        echo \"Starting service.\"\n",
    "        ;;\n",
    "    stop)\n",
    "        echo \"Stopping service.\"\n",
    "        ;;\n",
    "    restart)\n",
    "        echo \"Restarting service.\"\n",
    "        ;;\n",
    "    *)\n",
    "        echo \"Invalid option.\"\n",
    "        ;;\n",
    "esac"
   ]
  },
  {
   "cell_type": "code",
   "execution_count": null,
   "id": "24100606-3d60-45be-bd34-b57e55ae6d7e",
   "metadata": {
    "editable": true,
    "slideshow": {
     "slide_type": ""
    },
    "tags": []
   },
   "outputs": [],
   "source": []
  },
  {
   "cell_type": "markdown",
   "id": "dc7eb001-f5c1-4146-aa98-a12b79d790fd",
   "metadata": {
    "editable": true,
    "slideshow": {
     "slide_type": "slide"
    },
    "tags": []
   },
   "source": [
    "---\n",
    "\n",
    "## Tips and Best Practices\n",
    "\n",
    "- **Quote Variables**: Use `\"$variable\"` to prevent word splitting.\n",
    "- **Use Double Brackets**: Prefer `[[ ]]` for complex conditions.\n",
    "- **Indent Code**: Improves readability.\n",
    "- **Test Conditions**: Use `echo` or `set -x` for debugging.\n",
    "\n",
    "---\n",
    "\n",
    "## Common Pitfalls\n",
    "\n",
    "- **Incorrect Spacing**: `[ $a -gt $b ]` requires spaces.\n",
    "- **Variable Expansion**: Uninitialized variables may cause errors.\n",
    "- **Operator Confusion**: Remember `-eq` is for numbers, `=` is for strings.\n",
    "\n",
    "---\n",
    "\n",
    "## Conclusion\n",
    "\n",
    "- If statements add decision-making capabilities to scripts.\n",
    "- Can handle simple or complex conditions.\n",
    "- Enhance scripts by combining with loops and functions.\n",
    "\n",
    "---"
   ]
  },
  {
   "cell_type": "code",
   "execution_count": null,
   "id": "ead8777e-d2a9-49c0-94a0-c7965cd16865",
   "metadata": {},
   "outputs": [],
   "source": []
  },
  {
   "cell_type": "code",
   "execution_count": null,
   "id": "db6e4202-b217-40aa-8934-966e298fcc06",
   "metadata": {},
   "outputs": [],
   "source": []
  },
  {
   "cell_type": "code",
   "execution_count": null,
   "id": "5f45f732-38b3-427e-be59-9e0c926b67e1",
   "metadata": {},
   "outputs": [],
   "source": []
  }
 ],
 "metadata": {
  "kernelspec": {
   "display_name": "Python 3 (ipykernel)",
   "language": "python",
   "name": "python3"
  },
  "language_info": {
   "codemirror_mode": {
    "name": "ipython",
    "version": 3
   },
   "file_extension": ".py",
   "mimetype": "text/x-python",
   "name": "python",
   "nbconvert_exporter": "python",
   "pygments_lexer": "ipython3",
   "version": "3.12.5"
  }
 },
 "nbformat": 4,
 "nbformat_minor": 5
}
