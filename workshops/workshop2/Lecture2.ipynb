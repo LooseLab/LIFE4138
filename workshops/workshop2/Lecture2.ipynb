{
 "cells": [
  {
   "cell_type": "markdown",
   "id": "a4751336-16bc-47e7-855b-811004509a62",
   "metadata": {
    "editable": true,
    "slideshow": {
     "slide_type": "slide"
    },
    "tags": []
   },
   "source": [
    "\n",
    "# Introduction to UNIX Streams and Pipes\n",
    "\n",
    "![ghostbusters](https://i.giphy.com/media/v1.Y2lkPTc5MGI3NjExejhtamY1OHdoaXg3M253MGQxOXZ2and1aW05a3ZtaHRuc3hlYjR6NSZlcD12MV9pbnRlcm5hbF9naWZfYnlfaWQmY3Q9Zw/3o72FiKtrMAjIb0Rhu/giphy.gif)\n",
    "\n"
   ]
  },
  {
   "cell_type": "markdown",
   "id": "cb2d8d2f-77f2-49b6-aff3-addb86b1e993",
   "metadata": {
    "editable": true,
    "slideshow": {
     "slide_type": "slide"
    },
    "tags": []
   },
   "source": [
    "\n",
    "---\n",
    "\n",
    "## What Are UNIX Streams?\n",
    "\n",
    "- **Streams** are a series of bytes of data that flow from one place to another.\n",
    "- There are three standard streams:\n",
    "  1. **Standard Input (stdin)**: Data coming into a program.\n",
    "  2. **Standard Output (stdout)**: Data the program outputs.\n",
    "  3. **Standard Error (stderr)**: Error messages from the program.\n",
    "\n",
    "---\n",
    "\n"
   ]
  },
  {
   "cell_type": "markdown",
   "id": "05a5c0d8-c4a0-4f33-b4ea-dc393a34a9dd",
   "metadata": {
    "editable": true,
    "slideshow": {
     "slide_type": "slide"
    },
    "tags": []
   },
   "source": [
    "\n",
    "---\n",
    "\n",
    "## Standard Streams Breakdown\n",
    "\n",
    "- **stdin**: Usually from the keyboard but can be from files or other programs.\n",
    "- **stdout**: Default is your terminal window, but it can be redirected elsewhere.\n",
    "- **stderr**: Like stdout but meant for error messages, so it can be handled separately.\n",
    "\n",
    "---\n",
    "\n"
   ]
  },
  {
   "cell_type": "markdown",
   "id": "ec3354a6-5e36-4429-b0c4-12a76979b16b",
   "metadata": {
    "editable": true,
    "slideshow": {
     "slide_type": "subslide"
    },
    "tags": []
   },
   "source": [
    "### 1. **Basic Example of UNIX Streams**\n",
    "\n",
    "Here’s a simple example of using `fortune` to generate output, which is written to stdout:\n",
    "\n",
    "```bash\n",
    "fortune \n",
    "```\n",
    "\n",
    "- **Explanation**: \n",
    "  - `fortune` outputs a random quote. It is commonly installed on linux systems and may be on osx...\n",
    "\n"
   ]
  },
  {
   "cell_type": "code",
   "execution_count": null,
   "id": "7bd87eac-9a22-4258-99a1-1d58e81e0fa9",
   "metadata": {
    "editable": true,
    "slideshow": {
     "slide_type": "fragment"
    },
    "tags": []
   },
   "outputs": [],
   "source": [
    "%%bash\n",
    "\n"
   ]
  },
  {
   "cell_type": "code",
   "execution_count": null,
   "id": "a4abbd60-6713-4883-8fd5-7c33afe8b750",
   "metadata": {
    "editable": true,
    "slideshow": {
     "slide_type": "fragment"
    },
    "tags": []
   },
   "outputs": [],
   "source": [
    "%%bash\n",
    "\n"
   ]
  },
  {
   "cell_type": "markdown",
   "id": "7f3a8bf6-b1af-4a70-a94a-8ab6b361e7a2",
   "metadata": {
    "editable": true,
    "slideshow": {
     "slide_type": "slide"
    },
    "tags": []
   },
   "source": [
    "\n",
    "---\n",
    "## What Are UNIX Pipes?\n",
    "\n",
    "- **Pipes (`|`)**: A method of connecting the output of one command directly into the input of another command.\n",
    "  \n",
    "  - Example:\n",
    "    ```bash\n",
    "    command1 | command2\n",
    "    ```\n",
    "  - Output of `command1` becomes input of `command2`.\n",
    "\n",
    "---\n",
    "\n"
   ]
  },
  {
   "cell_type": "markdown",
   "id": "0f6260a5-cc79-4deb-a455-542eed831526",
   "metadata": {
    "editable": true,
    "slideshow": {
     "slide_type": "subslide"
    },
    "tags": []
   },
   "source": [
    "#### 1. **Basic Example of UNIX Streams**\n",
    "\n",
    "Here’s a simple example of using `fortune` to generate output, which can be displayed using `cowsay`:\n",
    "\n",
    "```bash\n",
    "fortune | cowsay\n",
    "```\n",
    "\n",
    "- **Explanation**: \n",
    "  - `fortune` outputs a random quote.\n",
    "  - `|` pipes that output into `cowsay`, which formats it as a speech bubble around an ASCII cow.\n",
    "\n",
    "---\n"
   ]
  },
  {
   "cell_type": "code",
   "execution_count": null,
   "id": "25fe7557-2c42-4f93-b8a1-76c90de71f3f",
   "metadata": {
    "editable": true,
    "slideshow": {
     "slide_type": "fragment"
    },
    "tags": []
   },
   "outputs": [],
   "source": [
    "%%bash\n",
    "\n",
    "\n"
   ]
  },
  {
   "cell_type": "code",
   "execution_count": null,
   "id": "160315b0-662b-40c9-8426-9c4d3ea58231",
   "metadata": {
    "editable": true,
    "slideshow": {
     "slide_type": "fragment"
    },
    "tags": []
   },
   "outputs": [],
   "source": [
    "%%bash\n",
    "\n"
   ]
  },
  {
   "cell_type": "markdown",
   "id": "dd8ddf87-f162-4873-bd88-d15166c87c8a",
   "metadata": {
    "editable": true,
    "slideshow": {
     "slide_type": "slide"
    },
    "tags": []
   },
   "source": [
    "\n",
    "---\n",
    "## Benefits of Pipes\n",
    "\n",
    "- **Modular Processing**: Each command in the pipeline does one job.\n",
    "- **Efficiency**: Avoids creating temporary files.\n",
    "- **Flexibility**: You can combine simple commands to perform complex tasks.\n",
    "\n",
    "---\n",
    "\n"
   ]
  },
  {
   "cell_type": "markdown",
   "id": "f84fa611-a85e-4f56-991f-16d3d48a8fd4",
   "metadata": {
    "editable": true,
    "slideshow": {
     "slide_type": "slide"
    },
    "tags": []
   },
   "source": [
    "\n",
    "---\n",
    "## Real-Life Example of Pipes\n",
    "\n",
    "- Find all text files in a directory and count the number of lines:\n",
    "  ```bash\n",
    "  find . -name \"*.txt\" | xargs wc -l\n",
    "  ```\n",
    "\n",
    "---\n",
    "\n"
   ]
  },
  {
   "cell_type": "code",
   "execution_count": null,
   "id": "04dec2be-f9cf-484f-bf12-3dcb73664435",
   "metadata": {
    "editable": true,
    "slideshow": {
     "slide_type": "fragment"
    },
    "tags": []
   },
   "outputs": [],
   "source": [
    "%%bash\n",
    "\n"
   ]
  },
  {
   "cell_type": "code",
   "execution_count": null,
   "id": "eccaa1f9-9c65-4f84-82f0-7021163bffb3",
   "metadata": {
    "editable": true,
    "slideshow": {
     "slide_type": "fragment"
    },
    "tags": []
   },
   "outputs": [],
   "source": [
    "%%bash\n",
    "\n"
   ]
  },
  {
   "cell_type": "markdown",
   "id": "0dae21dd-e1ee-43a5-b324-f7c76f6a3531",
   "metadata": {
    "editable": true,
    "slideshow": {
     "slide_type": "slide"
    },
    "tags": []
   },
   "source": [
    "\n",
    "---\n",
    "## Redirecting Streams\n",
    "\n",
    "- Use **`>`** to redirect stdout to a file:\n",
    "  ```bash\n",
    "  echo \"Hello, World!\" > output.txt\n",
    "  ```\n",
    "- Use **`>>`** to append to a file:\n",
    "  ```bash\n",
    "  echo \"More data\" >> output.txt\n",
    "  ```\n",
    "- Redirect **stderr** with **`2>`**:\n",
    "  ```bash\n",
    "  some_command2 2> error_log.txt\n",
    "  ```\n",
    "\n",
    "---\n",
    "\n"
   ]
  },
  {
   "cell_type": "code",
   "execution_count": 37,
   "id": "2c07d449-1640-426a-99a5-fdef445642e1",
   "metadata": {
    "editable": true,
    "slideshow": {
     "slide_type": "fragment"
    },
    "tags": []
   },
   "outputs": [
    {
     "ename": "CalledProcessError",
     "evalue": "Command 'b'\\n\\nsome_command2 2>file.log\\n'' returned non-zero exit status 127.",
     "output_type": "error",
     "traceback": [
      "\u001b[0;31m---------------------------------------------------------------------------\u001b[0m",
      "\u001b[0;31mCalledProcessError\u001b[0m                        Traceback (most recent call last)",
      "Cell \u001b[0;32mIn[37], line 1\u001b[0m\n\u001b[0;32m----> 1\u001b[0m \u001b[43mget_ipython\u001b[49m\u001b[43m(\u001b[49m\u001b[43m)\u001b[49m\u001b[38;5;241;43m.\u001b[39;49m\u001b[43mrun_cell_magic\u001b[49m\u001b[43m(\u001b[49m\u001b[38;5;124;43m'\u001b[39;49m\u001b[38;5;124;43mbash\u001b[39;49m\u001b[38;5;124;43m'\u001b[39;49m\u001b[43m,\u001b[49m\u001b[43m \u001b[49m\u001b[38;5;124;43m'\u001b[39;49m\u001b[38;5;124;43m'\u001b[39;49m\u001b[43m,\u001b[49m\u001b[43m \u001b[49m\u001b[38;5;124;43m'\u001b[39;49m\u001b[38;5;130;43;01m\\n\u001b[39;49;00m\u001b[38;5;130;43;01m\\n\u001b[39;49;00m\u001b[38;5;124;43msome_command2 2>file.log\u001b[39;49m\u001b[38;5;130;43;01m\\n\u001b[39;49;00m\u001b[38;5;124;43m'\u001b[39;49m\u001b[43m)\u001b[49m\n",
      "File \u001b[0;32m~/miniconda3/envs/lectures/lib/python3.12/site-packages/IPython/core/interactiveshell.py:2541\u001b[0m, in \u001b[0;36mInteractiveShell.run_cell_magic\u001b[0;34m(self, magic_name, line, cell)\u001b[0m\n\u001b[1;32m   2539\u001b[0m \u001b[38;5;28;01mwith\u001b[39;00m \u001b[38;5;28mself\u001b[39m\u001b[38;5;241m.\u001b[39mbuiltin_trap:\n\u001b[1;32m   2540\u001b[0m     args \u001b[38;5;241m=\u001b[39m (magic_arg_s, cell)\n\u001b[0;32m-> 2541\u001b[0m     result \u001b[38;5;241m=\u001b[39m \u001b[43mfn\u001b[49m\u001b[43m(\u001b[49m\u001b[38;5;241;43m*\u001b[39;49m\u001b[43margs\u001b[49m\u001b[43m,\u001b[49m\u001b[43m \u001b[49m\u001b[38;5;241;43m*\u001b[39;49m\u001b[38;5;241;43m*\u001b[39;49m\u001b[43mkwargs\u001b[49m\u001b[43m)\u001b[49m\n\u001b[1;32m   2543\u001b[0m \u001b[38;5;66;03m# The code below prevents the output from being displayed\u001b[39;00m\n\u001b[1;32m   2544\u001b[0m \u001b[38;5;66;03m# when using magics with decorator @output_can_be_silenced\u001b[39;00m\n\u001b[1;32m   2545\u001b[0m \u001b[38;5;66;03m# when the last Python token in the expression is a ';'.\u001b[39;00m\n\u001b[1;32m   2546\u001b[0m \u001b[38;5;28;01mif\u001b[39;00m \u001b[38;5;28mgetattr\u001b[39m(fn, magic\u001b[38;5;241m.\u001b[39mMAGIC_OUTPUT_CAN_BE_SILENCED, \u001b[38;5;28;01mFalse\u001b[39;00m):\n",
      "File \u001b[0;32m~/miniconda3/envs/lectures/lib/python3.12/site-packages/IPython/core/magics/script.py:155\u001b[0m, in \u001b[0;36mScriptMagics._make_script_magic.<locals>.named_script_magic\u001b[0;34m(line, cell)\u001b[0m\n\u001b[1;32m    153\u001b[0m \u001b[38;5;28;01melse\u001b[39;00m:\n\u001b[1;32m    154\u001b[0m     line \u001b[38;5;241m=\u001b[39m script\n\u001b[0;32m--> 155\u001b[0m \u001b[38;5;28;01mreturn\u001b[39;00m \u001b[38;5;28;43mself\u001b[39;49m\u001b[38;5;241;43m.\u001b[39;49m\u001b[43mshebang\u001b[49m\u001b[43m(\u001b[49m\u001b[43mline\u001b[49m\u001b[43m,\u001b[49m\u001b[43m \u001b[49m\u001b[43mcell\u001b[49m\u001b[43m)\u001b[49m\n",
      "File \u001b[0;32m~/miniconda3/envs/lectures/lib/python3.12/site-packages/IPython/core/magics/script.py:315\u001b[0m, in \u001b[0;36mScriptMagics.shebang\u001b[0;34m(self, line, cell)\u001b[0m\n\u001b[1;32m    310\u001b[0m \u001b[38;5;28;01mif\u001b[39;00m args\u001b[38;5;241m.\u001b[39mraise_error \u001b[38;5;129;01mand\u001b[39;00m p\u001b[38;5;241m.\u001b[39mreturncode \u001b[38;5;241m!=\u001b[39m \u001b[38;5;241m0\u001b[39m:\n\u001b[1;32m    311\u001b[0m     \u001b[38;5;66;03m# If we get here and p.returncode is still None, we must have\u001b[39;00m\n\u001b[1;32m    312\u001b[0m     \u001b[38;5;66;03m# killed it but not yet seen its return code. We don't wait for it,\u001b[39;00m\n\u001b[1;32m    313\u001b[0m     \u001b[38;5;66;03m# in case it's stuck in uninterruptible sleep. -9 = SIGKILL\u001b[39;00m\n\u001b[1;32m    314\u001b[0m     rc \u001b[38;5;241m=\u001b[39m p\u001b[38;5;241m.\u001b[39mreturncode \u001b[38;5;129;01mor\u001b[39;00m \u001b[38;5;241m-\u001b[39m\u001b[38;5;241m9\u001b[39m\n\u001b[0;32m--> 315\u001b[0m     \u001b[38;5;28;01mraise\u001b[39;00m CalledProcessError(rc, cell)\n",
      "\u001b[0;31mCalledProcessError\u001b[0m: Command 'b'\\n\\nsome_command2 2>file.log\\n'' returned non-zero exit status 127."
     ]
    }
   ],
   "source": [
    "%%bash\n",
    "\n",
    "\n",
    "some_command2 2>file.log"
   ]
  },
  {
   "cell_type": "code",
   "execution_count": 39,
   "id": "f8d9af0a-5c94-45fc-b5e3-90feac14f478",
   "metadata": {
    "editable": true,
    "slideshow": {
     "slide_type": "fragment"
    },
    "tags": []
   },
   "outputs": [],
   "source": [
    "%%bash\n",
    "\n",
    "\n",
    "\n"
   ]
  },
  {
   "cell_type": "code",
   "execution_count": 39,
   "id": "0f92dd95-048c-4aee-8eb0-8592526984ba",
   "metadata": {
    "editable": true,
    "slideshow": {
     "slide_type": "fragment"
    },
    "tags": []
   },
   "outputs": [],
   "source": [
    "%%bash\n",
    "\n",
    "\n",
    "\n"
   ]
  },
  {
   "cell_type": "markdown",
   "id": "ca3a09e5-11d0-47e9-a8c6-2b8fe3e7ee6e",
   "metadata": {
    "editable": true,
    "slideshow": {
     "slide_type": "slide"
    },
    "tags": []
   },
   "source": [
    "\n",
    "---\n",
    "## Combining stdout and stderr\n",
    "\n",
    "- Redirect both stdout and stderr:\n",
    "  ```bash\n",
    "  some_command2 > output.txt 2>&1\n",
    "  ```\n",
    "\n",
    "---\n",
    "\n"
   ]
  },
  {
   "cell_type": "code",
   "execution_count": null,
   "id": "2270eb68-4ab8-4015-916f-9de3c51307c2",
   "metadata": {
    "editable": true,
    "slideshow": {
     "slide_type": "fragment"
    },
    "tags": []
   },
   "outputs": [],
   "source": [
    "%%bash\n",
    "\n"
   ]
  },
  {
   "cell_type": "code",
   "execution_count": null,
   "id": "427ae095-1ca4-4f73-b656-f9a3511732f8",
   "metadata": {
    "editable": true,
    "slideshow": {
     "slide_type": "fragment"
    },
    "tags": []
   },
   "outputs": [],
   "source": [
    "%%bash\n",
    "\n"
   ]
  },
  {
   "cell_type": "markdown",
   "id": "1eb95df7-64c4-4c82-af3f-8d43d6f89182",
   "metadata": {
    "editable": true,
    "slideshow": {
     "slide_type": "slide"
    },
    "tags": []
   },
   "source": [
    "\n",
    "---\n",
    "## Filters in Pipes\n",
    "\n",
    "- **Filters**: Commands that process input and produce output.\n",
    "  - Examples: `grep`, `sort`, `cut`, `awk`, `sed`.\n",
    "  \n",
    "- Example:\n",
    "  ```bash\n",
    "  ps aux | grep \"python\" | sort -nrk 3\n",
    "  ```\n",
    "  - Finds running Python processes and sorts by memory usage.\n",
    "\n",
    "---\n",
    "\n"
   ]
  },
  {
   "cell_type": "code",
   "execution_count": null,
   "id": "4e3d713e-a64b-4663-ab73-b69ad4a301fe",
   "metadata": {
    "editable": true,
    "slideshow": {
     "slide_type": ""
    },
    "tags": []
   },
   "outputs": [],
   "source": [
    "%%bash\n",
    "\n",
    "ps aux | grep python | sort -nrk 3 | head -n 5 | cowsay"
   ]
  },
  {
   "cell_type": "code",
   "execution_count": null,
   "id": "0d0ae0c5-1277-46b6-be5f-808eefce8fe3",
   "metadata": {
    "editable": true,
    "slideshow": {
     "slide_type": ""
    },
    "tags": []
   },
   "outputs": [],
   "source": [
    "%%bash\n",
    "\n"
   ]
  },
  {
   "cell_type": "markdown",
   "id": "b3bd735d-0de7-4edb-83cd-a63d6dbdbe4f",
   "metadata": {
    "editable": true,
    "slideshow": {
     "slide_type": "slide"
    },
    "tags": []
   },
   "source": [
    "\n",
    "---\n",
    "## Summary\n",
    "\n",
    "- **Streams**: stdin, stdout, stderr – standard communication channels.\n",
    "- **Pipes**: Connect output of one command to the input of another.\n",
    "- **Redirection**: Modify where input/output goes, even to files.\n",
    "- **Filters**: Tools to manipulate data within pipes for flexible processing.\n",
    "\n",
    "\n",
    "# Note: Most command line bioinformatics programs can be used with streams, pipes, redirection and filters.\n",
    "---\n",
    "\n"
   ]
  },
  {
   "cell_type": "markdown",
   "id": "c8898511-cd3b-49ce-9adb-362c3070980f",
   "metadata": {
    "editable": true,
    "slideshow": {
     "slide_type": "slide"
    },
    "tags": []
   },
   "source": [
    "# UNIX Text Processing Tools: grep, sort, cut, awk, and sed\n",
    "\n",
    "---\n",
    "\n",
    "## Introduction to `grep`\n",
    "\n",
    "- **`grep`** is used to search for patterns within files.\n",
    "- It stands for **global regular expression print**.\n",
    "  \n",
    "### Syntax:\n",
    "```bash\n",
    "grep [options] pattern [file...]\n",
    "```\n",
    "\n",
    "### Example:\n",
    "```bash\n",
    "grep \"error\" log.txt\n",
    "```\n",
    "Searches for the word \"error\" in log.txt.\n",
    "\n",
    "---"
   ]
  },
  {
   "cell_type": "markdown",
   "id": "4167075a-9101-4f05-a6d5-612cc9c4c3c3",
   "metadata": {
    "editable": true,
    "slideshow": {
     "slide_type": "slide"
    },
    "tags": []
   },
   "source": [
    "---\n",
    "\n",
    "## grep Options\n",
    "\n",
    "-i: Case-insensitive search.\n",
    "-v: Invert match (show lines that don't match the pattern).\n",
    "-r: Search directories recursively.\n",
    "\n",
    "Example:\n",
    "```bash\n",
    "grep -i \"warning\" log.txt\n",
    "```\n",
    "\n",
    "Case-insensitive search for \"warning\" in log.txt.\n",
    "\n",
    "---"
   ]
  },
  {
   "cell_type": "markdown",
   "id": "022b17c9-b5bb-4640-82a1-bbdadd26b620",
   "metadata": {
    "editable": true,
    "slideshow": {
     "slide_type": "slide"
    },
    "tags": []
   },
   "source": [
    "---\n",
    "\n",
    "# Introduction to sort\n",
    "\n",
    "sort is used to sort lines of text files.\n",
    "\n",
    "Syntax:\n",
    "\n",
    "```bash\n",
    "sort [options] [file...]\n",
    "```\n",
    "\n",
    "Example:\n",
    "```bash\n",
    "sort data.txt\n",
    "```\n",
    "\n",
    "Sorts the contents of data.txt in alphabetical order.\n",
    "\n",
    "---"
   ]
  },
  {
   "cell_type": "markdown",
   "id": "d96e9a87-0972-438e-b4f7-6587e7eaead2",
   "metadata": {
    "editable": true,
    "slideshow": {
     "slide_type": "slide"
    },
    "tags": []
   },
   "source": [
    "---\n",
    "\n",
    "## sort Options\n",
    "\n",
    "-r: Sort in reverse order.\n",
    "-n: Numeric sort.\n",
    "-k: Sort by a specific column.\n",
    "\n",
    "Example:\n",
    "```bash\n",
    "\n",
    "sort -k 2,2 -n data.txt\n",
    "```\n",
    "\n",
    "Sorts data.txt numerically based on the second column.\n",
    "\n",
    "---"
   ]
  },
  {
   "cell_type": "markdown",
   "id": "d27bcce9-a929-4de9-933e-b8a6f4df883c",
   "metadata": {
    "editable": true,
    "slideshow": {
     "slide_type": "slide"
    },
    "tags": []
   },
   "source": [
    "---\n",
    "\n",
    "## Introduction to cut\n",
    "\n",
    "cut is used to extract specific fields from files.\n",
    "\n",
    "Syntax:\n",
    "```bash\n",
    "cut [options] [file...]\n",
    "```\n",
    "\n",
    "Example:\n",
    "```bash\n",
    "cut -d \",\" -f 1,3 data.csv\n",
    "```\n",
    "\n",
    "Extracts the 1st and 3rd columns from data.csv using , as a delimiter.\n",
    "\n",
    "---"
   ]
  },
  {
   "cell_type": "markdown",
   "id": "8d043190-c0db-4500-a696-20365a0dec02",
   "metadata": {
    "editable": true,
    "slideshow": {
     "slide_type": "slide"
    },
    "tags": []
   },
   "source": [
    "---\n",
    "\n",
    "## cut Options\n",
    "\n",
    "-d: Specify the delimiter.\n",
    "-f: Specify fields to extract.\n",
    "\n",
    "Example:\n",
    "```bash\n",
    "cut -d \" \" -f 2-4 data.txt\n",
    "```\n",
    "\n",
    "Extracts the 2nd to 4th fields from data.txt using a space delimiter.\n",
    "\n",
    "\n",
    "---"
   ]
  },
  {
   "cell_type": "markdown",
   "id": "07abb1ba-6d89-4965-8a34-dd697392e6f6",
   "metadata": {
    "editable": true,
    "slideshow": {
     "slide_type": ""
    },
    "tags": []
   },
   "source": [
    "\n",
    "## Introduction to awk\n",
    "\n",
    "awk is a powerful text processing tool, particularly for structured data.\n",
    "\n",
    "Syntax:\n",
    "```bash\n",
    "awk 'pattern {action}' [file...]\n",
    "```\n",
    "\n",
    "Example:\n",
    "\n",
    "```bash\n",
    "awk '{print $1, $3}' data.txt\n",
    "```\n",
    "\n",
    "Prints the 1st and 3rd columns of each line from data.txt.\n",
    "\n",
    "## awk Example with Conditions\n",
    "\n",
    "You can use conditions within awk to filter data:\n",
    "\n",
    "Example:\n",
    "```bash\n",
    "awk '$3 > 100 {print $1, $3}' data.txt\n",
    "```\n",
    "\n",
    "Prints the 1st and 3rd columns where the value in the 3rd column is greater than 100.\n",
    "\n",
    "\n",
    "## Introduction to sed\n",
    "\n",
    "sed is a stream editor for filtering and transforming text.\n",
    "\n",
    "Syntax:\n",
    "```bash\n",
    "sed 'command' [file...]\n",
    "```\n",
    "\n",
    "Example:\n",
    "```bash\n",
    "sed 's/error/ERROR/g' log.txt\n",
    "```\n",
    "\n",
    "Replaces all occurrences of \"error\" with \"ERROR\" in log.txt.\n",
    "\n",
    "## sed Options and Examples\n",
    "\n",
    "-i: Edit files in place.\n",
    "\n",
    "s/pattern/replacement/: Replace pattern with replacement.\n",
    "\n",
    "Example:\n",
    "```bash\n",
    "sed -i 's/warning/NOTICE/g' log.txt\n",
    "```\n",
    "\n",
    "Replaces \"warning\" with \"NOTICE\" in log.txt and saves the changes.\n",
    "\n",
    "## Combining Tools: A Practical Example\n",
    "\n",
    "Use a combination of grep, cut, and sort to process data:\n",
    "\n",
    "Example:\n",
    "```bash\n",
    "grep \"error\" log.txt | cut -d \" \" -f 2,4 | sort -n\n",
    "```\n",
    "\n",
    "Finds lines with \"error\" in log.txt, extracts the 2nd and 4th fields, and sorts them numerically.\n",
    "\n",
    "## Summary\n",
    "\n",
    "grep: Searches for patterns.\n",
    "sort: Sorts lines.\n",
    "cut: Extracts specific columns.\n",
    "awk: Processes structured text with conditions.\n",
    "sed: Edits and transforms text streams.\n",
    "\n",
    "\n",
    "## Bash Examples for Each Tool\n",
    "\n",
    "1. grep Examples:\n",
    "```bash\n",
    "# Basic usage to search for a pattern\n",
    "grep \"error\" log.txt\n",
    "\n",
    "# Case-insensitive search\n",
    "grep -i \"error\" log.txt\n",
    "\n",
    "# Search recursively through directories\n",
    "grep -r \"error\" /var/logs/\n",
    "```\n",
    "\n",
    "2. sort Examples:\n",
    "```bash\n",
    "# Sort alphabetically\n",
    "sort data.txt\n",
    "\n",
    "# Sort numerically\n",
    "sort -n numbers.txt\n",
    "\n",
    "# Sort by the second column\n",
    "sort -k 2,2 -n data.txt\n",
    "```\n",
    "\n",
    "3. cut Examples:\n",
    "\n",
    "```bash\n",
    "# Extract first and third fields from a CSV file\n",
    "cut -d \",\" -f 1,3 data.csv\n",
    "\n",
    "# Extract fields from 2 to 4 using space as delimiter\n",
    "cut -d \" \" -f 2-4 data.txt\n",
    "```\n",
    "\n",
    "4. awk Examples:\n",
    "\n",
    "```bash\n",
    "# Print the 1st and 3rd columns of a file\n",
    "awk '{print $1, $3}' data.txt\n",
    "\n",
    "# Print lines where the 3rd column is greater than 100\n",
    "awk '$3 > 100 {print $1, $3}' data.txt\n",
    "```\n",
    "\n",
    "5. sed Examples:\n",
    "```bash\n",
    "# Replace \"error\" with \"ERROR\" in a file\n",
    "sed 's/error/ERROR/g' log.txt\n",
    "\n",
    "# Edit a file in place, replacing \"warning\" with \"NOTICE\"\n",
    "sed -i 's/warning/NOTICE/g' log.txt\n",
    "```\n",
    "\n",
    "6. Combining Tools:\n",
    "\n",
    "```bash\n",
    "# Combine grep, cut, and sort to process data\n",
    "grep \"error\" log.txt | cut -d \" \" -f 2,4 | sort -n\n",
    "\n",
    "```"
   ]
  },
  {
   "cell_type": "code",
   "execution_count": null,
   "id": "d030df0e-bd51-464c-88dc-9f27032e94ea",
   "metadata": {
    "editable": true,
    "slideshow": {
     "slide_type": ""
    },
    "tags": []
   },
   "outputs": [],
   "source": []
  }
 ],
 "metadata": {
  "kernelspec": {
   "display_name": "Python 3 (ipykernel)",
   "language": "python",
   "name": "python3"
  },
  "language_info": {
   "codemirror_mode": {
    "name": "ipython",
    "version": 3
   },
   "file_extension": ".py",
   "mimetype": "text/x-python",
   "name": "python",
   "nbconvert_exporter": "python",
   "pygments_lexer": "ipython3",
   "version": "3.12.5"
  }
 },
 "nbformat": 4,
 "nbformat_minor": 5
}
