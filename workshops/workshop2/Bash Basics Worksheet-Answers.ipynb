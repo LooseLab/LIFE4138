{
 "cells": [
  {
   "cell_type": "markdown",
   "id": "0c70fa99-d9b8-49d7-9cef-215e8b17cea6",
   "metadata": {
    "editable": true,
    "slideshow": {
     "slide_type": "slide"
    },
    "tags": []
   },
   "source": [
    "# Bash Basics Worksheet\n",
    "\n",
    "Welcome to the Bash Basics worksheet! This sheet is designed to help you review the basics of bash commands and test your understanding. Complete each section, and be sure to try out the commands on your terminal to solidify your knowledge.\n",
    "\n",
    "---\n",
    "\n",
    "## 1. Basic Commands\n",
    "\n",
    "- **Task:** Write the bash command for the following actions:\n",
    "  1. Create a new directory called `my_folder`.\n",
    "  2. List all files and directories in the current directory.\n",
    "  3. Print the current working directory.\n",
    "  4. Remove a file called `test.txt`.\n",
    "\n",
    "---"
   ]
  },
  {
   "cell_type": "code",
   "execution_count": 2,
   "id": "3cfac0be-7bd3-47e3-bbc0-2a5093e12b43",
   "metadata": {
    "editable": true,
    "slideshow": {
     "slide_type": "fragment"
    },
    "tags": []
   },
   "outputs": [
    {
     "name": "stdout",
     "output_type": "stream",
     "text": [
      "total 9640\n",
      "drwxr-xr-x@ 50 mattloose  staff     1600 Oct 11 09:45 \u001b[1m\u001b[36m.\u001b[m\u001b[m\n",
      "drwxr-xr-x@ 11 mattloose  staff      352 Oct  8 11:09 \u001b[1m\u001b[36m..\u001b[m\u001b[m\n",
      "drwxr-xr-x@  8 mattloose  staff      256 Oct 10 17:18 \u001b[1m\u001b[36m.ipynb_checkpoints\u001b[m\u001b[m\n",
      "-rw-r--r--@  1 mattloose  staff    10821 Oct 11 09:43 Bash Basics Worksheet-Answers.ipynb\n",
      "-rw-r--r--@  1 mattloose  staff     3646 Oct 10 13:08 Bash Basics Worksheet.ipynb\n",
      "-rw-r--r--@  1 mattloose  staff     7909 Oct 11 09:12 For Loops-Answers.ipynb\n",
      "-rw-r--r--@  1 mattloose  staff     2639 Oct 10 17:18 For Loops.ipynb\n",
      "-rw-r--r--@  1 mattloose  staff    78345 Oct  4 11:40 Lecture2.ipynb\n",
      "-rw-r--r--@  1 mattloose  staff   390179 Oct  3 13:38 Lecture2.slides.html\n",
      "-rw-r--r--@  1 mattloose  staff       80 Sep 28 10:42 data.csv\n",
      "-rw-r--r--@  1 mattloose  staff       64 Sep 28 10:42 data.txt\n",
      "-rw-r--r--@  1 mattloose  staff       47 Sep 28 10:42 file.log\n",
      "-rw-r--r--@  1 mattloose  staff       47 Sep 28 10:42 file.logc\n",
      "-rw-r--r--@  1 mattloose  staff      475 Sep 28 10:42 file_0.txt\n",
      "-rw-r--r--@  1 mattloose  staff      291 Sep 28 10:42 file_1.txt\n",
      "-rw-r--r--@  1 mattloose  staff     2191 Sep 28 10:42 file_10.txt\n",
      "-rw-r--r--@  1 mattloose  staff      338 Sep 28 10:42 file_11.txt\n",
      "-rw-r--r--@  1 mattloose  staff      338 Sep 28 10:42 file_12.txt\n",
      "-rw-r--r--@  1 mattloose  staff      343 Sep 28 10:42 file_13.txt\n",
      "-rw-r--r--@  1 mattloose  staff      308 Sep 28 10:42 file_14.txt\n",
      "-rw-r--r--@  1 mattloose  staff      381 Sep 28 10:42 file_15.txt\n",
      "-rw-r--r--@  1 mattloose  staff      271 Sep 28 10:42 file_16.txt\n",
      "-rw-r--r--@  1 mattloose  staff      283 Sep 28 10:42 file_17.txt\n",
      "-rw-r--r--@  1 mattloose  staff      338 Sep 28 10:42 file_18.txt\n",
      "-rw-r--r--@  1 mattloose  staff      246 Sep 28 10:42 file_19.txt\n",
      "-rw-r--r--@  1 mattloose  staff      295 Sep 28 10:42 file_2.txt\n",
      "-rw-r--r--@  1 mattloose  staff      295 Sep 28 10:42 file_20.txt\n",
      "-rw-r--r--@  1 mattloose  staff      410 Sep 28 10:42 file_21.txt\n",
      "-rw-r--r--@  1 mattloose  staff      510 Sep 28 10:42 file_22.txt\n",
      "-rw-r--r--@  1 mattloose  staff      343 Sep 28 10:42 file_23.txt\n",
      "-rw-r--r--@  1 mattloose  staff      283 Sep 28 10:42 file_24.txt\n",
      "-rw-r--r--@  1 mattloose  staff      783 Sep 28 10:42 file_25.txt\n",
      "-rw-r--r--@  1 mattloose  staff      467 Sep 28 10:42 file_26.txt\n",
      "-rw-r--r--@  1 mattloose  staff      871 Sep 28 10:42 file_27.txt\n",
      "-rw-r--r--@  1 mattloose  staff      303 Sep 28 10:42 file_28.txt\n",
      "-rw-r--r--@  1 mattloose  staff      210 Sep 28 10:42 file_29.txt\n",
      "-rw-r--r--@  1 mattloose  staff      291 Sep 28 10:42 file_3.txt\n",
      "-rw-r--r--@  1 mattloose  staff      345 Sep 28 10:42 file_30.txt\n",
      "-rw-r--r--@  1 mattloose  staff      291 Sep 28 10:42 file_4.txt\n",
      "-rw-r--r--@  1 mattloose  staff      363 Sep 28 10:42 file_5.txt\n",
      "-rw-r--r--@  1 mattloose  staff      351 Sep 28 10:42 file_6.txt\n",
      "-rw-r--r--@  1 mattloose  staff      381 Sep 28 10:42 file_7.txt\n",
      "-rw-r--r--@  1 mattloose  staff      291 Sep 28 10:42 file_8.txt\n",
      "-rw-r--r--@  1 mattloose  staff      338 Sep 28 10:42 file_9.txt\n",
      "-rw-r--r--@  1 mattloose  staff  4270425 Oct  3 21:27 lecture2.pdf\n",
      "-rw-r--r--@  1 mattloose  staff      161 Sep 28 10:42 log.txt\n",
      "drwxr-xr-x@  2 mattloose  staff       64 Oct 11 09:45 \u001b[1m\u001b[36mmy_folder\u001b[m\u001b[m\n",
      "-rw-r--r--@  1 mattloose  staff       17 Sep 28 10:42 numbers.txt\n",
      "-rw-r--r--@  1 mattloose  staff       14 Oct  4 09:47 output.txt\n",
      "-rw-r--r--@  1 mattloose  staff       59 Sep 28 10:42 processes.txt\n",
      "/Users/mattloose/GIT/LIFE4138/workshops/workshop2\n"
     ]
    },
    {
     "name": "stderr",
     "output_type": "stream",
     "text": [
      "rm: test.txt: No such file or directory\n"
     ]
    },
    {
     "ename": "CalledProcessError",
     "evalue": "Command 'b\"\\n# 1. Create a new directory called 'my_folder'\\nmkdir my_folder\\n\\n# 2. List all files and directories in the current directory\\nls -la\\n\\n# 3. Print the current working directory\\npwd\\n\\n# 4. Remove a file called 'test.txt'\\nrm test.txt\\n\"' returned non-zero exit status 1.",
     "output_type": "error",
     "traceback": [
      "\u001b[0;31m---------------------------------------------------------------------------\u001b[0m",
      "\u001b[0;31mCalledProcessError\u001b[0m                        Traceback (most recent call last)",
      "Cell \u001b[0;32mIn[2], line 1\u001b[0m\n\u001b[0;32m----> 1\u001b[0m \u001b[43mget_ipython\u001b[49m\u001b[43m(\u001b[49m\u001b[43m)\u001b[49m\u001b[38;5;241;43m.\u001b[39;49m\u001b[43mrun_cell_magic\u001b[49m\u001b[43m(\u001b[49m\u001b[38;5;124;43m'\u001b[39;49m\u001b[38;5;124;43mbash\u001b[39;49m\u001b[38;5;124;43m'\u001b[39;49m\u001b[43m,\u001b[49m\u001b[43m \u001b[49m\u001b[38;5;124;43m'\u001b[39;49m\u001b[38;5;124;43m'\u001b[39;49m\u001b[43m,\u001b[49m\u001b[43m \u001b[49m\u001b[38;5;124;43m\"\u001b[39;49m\u001b[38;5;130;43;01m\\n\u001b[39;49;00m\u001b[38;5;124;43m# 1. Create a new directory called \u001b[39;49m\u001b[38;5;124;43m'\u001b[39;49m\u001b[38;5;124;43mmy_folder\u001b[39;49m\u001b[38;5;124;43m'\u001b[39;49m\u001b[38;5;130;43;01m\\n\u001b[39;49;00m\u001b[38;5;124;43mmkdir my_folder\u001b[39;49m\u001b[38;5;130;43;01m\\n\u001b[39;49;00m\u001b[38;5;130;43;01m\\n\u001b[39;49;00m\u001b[38;5;124;43m# 2. List all files and directories in the current directory\u001b[39;49m\u001b[38;5;130;43;01m\\n\u001b[39;49;00m\u001b[38;5;124;43mls -la\u001b[39;49m\u001b[38;5;130;43;01m\\n\u001b[39;49;00m\u001b[38;5;130;43;01m\\n\u001b[39;49;00m\u001b[38;5;124;43m# 3. Print the current working directory\u001b[39;49m\u001b[38;5;130;43;01m\\n\u001b[39;49;00m\u001b[38;5;124;43mpwd\u001b[39;49m\u001b[38;5;130;43;01m\\n\u001b[39;49;00m\u001b[38;5;130;43;01m\\n\u001b[39;49;00m\u001b[38;5;124;43m# 4. Remove a file called \u001b[39;49m\u001b[38;5;124;43m'\u001b[39;49m\u001b[38;5;124;43mtest.txt\u001b[39;49m\u001b[38;5;124;43m'\u001b[39;49m\u001b[38;5;130;43;01m\\n\u001b[39;49;00m\u001b[38;5;124;43mrm test.txt\u001b[39;49m\u001b[38;5;130;43;01m\\n\u001b[39;49;00m\u001b[38;5;124;43m\"\u001b[39;49m\u001b[43m)\u001b[49m\n",
      "File \u001b[0;32m~/miniconda3/envs/lectures/lib/python3.12/site-packages/IPython/core/interactiveshell.py:2541\u001b[0m, in \u001b[0;36mInteractiveShell.run_cell_magic\u001b[0;34m(self, magic_name, line, cell)\u001b[0m\n\u001b[1;32m   2539\u001b[0m \u001b[38;5;28;01mwith\u001b[39;00m \u001b[38;5;28mself\u001b[39m\u001b[38;5;241m.\u001b[39mbuiltin_trap:\n\u001b[1;32m   2540\u001b[0m     args \u001b[38;5;241m=\u001b[39m (magic_arg_s, cell)\n\u001b[0;32m-> 2541\u001b[0m     result \u001b[38;5;241m=\u001b[39m \u001b[43mfn\u001b[49m\u001b[43m(\u001b[49m\u001b[38;5;241;43m*\u001b[39;49m\u001b[43margs\u001b[49m\u001b[43m,\u001b[49m\u001b[43m \u001b[49m\u001b[38;5;241;43m*\u001b[39;49m\u001b[38;5;241;43m*\u001b[39;49m\u001b[43mkwargs\u001b[49m\u001b[43m)\u001b[49m\n\u001b[1;32m   2543\u001b[0m \u001b[38;5;66;03m# The code below prevents the output from being displayed\u001b[39;00m\n\u001b[1;32m   2544\u001b[0m \u001b[38;5;66;03m# when using magics with decorator @output_can_be_silenced\u001b[39;00m\n\u001b[1;32m   2545\u001b[0m \u001b[38;5;66;03m# when the last Python token in the expression is a ';'.\u001b[39;00m\n\u001b[1;32m   2546\u001b[0m \u001b[38;5;28;01mif\u001b[39;00m \u001b[38;5;28mgetattr\u001b[39m(fn, magic\u001b[38;5;241m.\u001b[39mMAGIC_OUTPUT_CAN_BE_SILENCED, \u001b[38;5;28;01mFalse\u001b[39;00m):\n",
      "File \u001b[0;32m~/miniconda3/envs/lectures/lib/python3.12/site-packages/IPython/core/magics/script.py:155\u001b[0m, in \u001b[0;36mScriptMagics._make_script_magic.<locals>.named_script_magic\u001b[0;34m(line, cell)\u001b[0m\n\u001b[1;32m    153\u001b[0m \u001b[38;5;28;01melse\u001b[39;00m:\n\u001b[1;32m    154\u001b[0m     line \u001b[38;5;241m=\u001b[39m script\n\u001b[0;32m--> 155\u001b[0m \u001b[38;5;28;01mreturn\u001b[39;00m \u001b[38;5;28;43mself\u001b[39;49m\u001b[38;5;241;43m.\u001b[39;49m\u001b[43mshebang\u001b[49m\u001b[43m(\u001b[49m\u001b[43mline\u001b[49m\u001b[43m,\u001b[49m\u001b[43m \u001b[49m\u001b[43mcell\u001b[49m\u001b[43m)\u001b[49m\n",
      "File \u001b[0;32m~/miniconda3/envs/lectures/lib/python3.12/site-packages/IPython/core/magics/script.py:315\u001b[0m, in \u001b[0;36mScriptMagics.shebang\u001b[0;34m(self, line, cell)\u001b[0m\n\u001b[1;32m    310\u001b[0m \u001b[38;5;28;01mif\u001b[39;00m args\u001b[38;5;241m.\u001b[39mraise_error \u001b[38;5;129;01mand\u001b[39;00m p\u001b[38;5;241m.\u001b[39mreturncode \u001b[38;5;241m!=\u001b[39m \u001b[38;5;241m0\u001b[39m:\n\u001b[1;32m    311\u001b[0m     \u001b[38;5;66;03m# If we get here and p.returncode is still None, we must have\u001b[39;00m\n\u001b[1;32m    312\u001b[0m     \u001b[38;5;66;03m# killed it but not yet seen its return code. We don't wait for it,\u001b[39;00m\n\u001b[1;32m    313\u001b[0m     \u001b[38;5;66;03m# in case it's stuck in uninterruptible sleep. -9 = SIGKILL\u001b[39;00m\n\u001b[1;32m    314\u001b[0m     rc \u001b[38;5;241m=\u001b[39m p\u001b[38;5;241m.\u001b[39mreturncode \u001b[38;5;129;01mor\u001b[39;00m \u001b[38;5;241m-\u001b[39m\u001b[38;5;241m9\u001b[39m\n\u001b[0;32m--> 315\u001b[0m     \u001b[38;5;28;01mraise\u001b[39;00m CalledProcessError(rc, cell)\n",
      "\u001b[0;31mCalledProcessError\u001b[0m: Command 'b\"\\n# 1. Create a new directory called 'my_folder'\\nmkdir my_folder\\n\\n# 2. List all files and directories in the current directory\\nls -la\\n\\n# 3. Print the current working directory\\npwd\\n\\n# 4. Remove a file called 'test.txt'\\nrm test.txt\\n\"' returned non-zero exit status 1."
     ]
    }
   ],
   "source": [
    "%%bash \n",
    "\n",
    "# 1. Create a new directory called 'my_folder'\n",
    "mkdir my_folder\n",
    "\n",
    "# 2. List all files and directories in the current directory\n",
    "ls -la\n",
    "\n",
    "# 3. Print the current working directory\n",
    "pwd\n",
    "\n",
    "# 4. Remove a file called 'test.txt'\n",
    "rm test.txt\n"
   ]
  },
  {
   "cell_type": "code",
   "execution_count": null,
   "id": "eed33be7-965b-4a48-bf88-8a4aba1b157a",
   "metadata": {
    "editable": true,
    "slideshow": {
     "slide_type": ""
    },
    "tags": []
   },
   "outputs": [],
   "source": []
  },
  {
   "cell_type": "markdown",
   "id": "01ea08b9-991a-4992-a19d-d976353ad099",
   "metadata": {
    "editable": true,
    "slideshow": {
     "slide_type": "slide"
    },
    "tags": []
   },
   "source": [
    "## 2. Working with Files\n",
    "\n",
    "- **Task:** Write the appropriate bash commands for each action:\n",
    "  1. Create a new, empty file called `notes.txt`.\n",
    "  2. Append the text \"Hello World\" to `notes.txt`.\n",
    "  3. Display the contents of `notes.txt` in the terminal.\n",
    "  4. Copy `notes.txt` to a new file named `backup_notes.txt`.\n",
    "\n",
    "---"
   ]
  },
  {
   "cell_type": "code",
   "execution_count": 5,
   "id": "0d249370-e643-4bbe-9a76-4251e0f0c689",
   "metadata": {
    "editable": true,
    "slideshow": {
     "slide_type": "fragment"
    },
    "tags": []
   },
   "outputs": [
    {
     "name": "stdout",
     "output_type": "stream",
     "text": [
      "Hello World\n",
      "Hello World\n",
      "Hello World\n"
     ]
    }
   ],
   "source": [
    "%%bash\n",
    "\n",
    "# 1. Create a new, empty file called 'notes.txt'\n",
    "touch notes.txt\n",
    "\n",
    "# 2. Append the text \"Hello World\" to notes.txt\n",
    "echo \"Hello World\" >> notes.txt\n",
    "\n",
    "# 3. Display the contents of notes.txt in the terminal\n",
    "cat notes.txt\n",
    "\n",
    "# 4. Copy notes.txt to a new file named backup_notes.txt\n",
    "cp notes.txt backup_notes.txt\n"
   ]
  },
  {
   "cell_type": "code",
   "execution_count": null,
   "id": "a11875ba-f7bc-437b-9ae2-15b81f9ccddd",
   "metadata": {
    "editable": true,
    "slideshow": {
     "slide_type": ""
    },
    "tags": []
   },
   "outputs": [],
   "source": []
  },
  {
   "cell_type": "markdown",
   "id": "ec7a253c-48dc-48a9-9dd4-eddcc2ef6334",
   "metadata": {
    "editable": true,
    "slideshow": {
     "slide_type": "slide"
    },
    "tags": []
   },
   "source": [
    "## 3. Navigating Directories\n",
    "\n",
    "- **Task:** What commands would you use to:\n",
    "  1. Move up one directory.\n",
    "  2. Change to the home directory.\n",
    "  3. Go to the `/usr/local` directory.\n",
    "\n",
    "---"
   ]
  },
  {
   "cell_type": "code",
   "execution_count": null,
   "id": "69ec8f4e-d7e5-44c0-88e6-d8a539b7ec55",
   "metadata": {
    "editable": true,
    "slideshow": {
     "slide_type": "fragment"
    },
    "tags": []
   },
   "outputs": [],
   "source": [
    "%%bash\n",
    "\n",
    "cd ..\n",
    "\n",
    "cd ~/\n",
    "\n",
    "cd /usr/local"
   ]
  },
  {
   "cell_type": "code",
   "execution_count": null,
   "id": "109d962d-925d-464a-961c-fb7d70662881",
   "metadata": {
    "editable": true,
    "slideshow": {
     "slide_type": ""
    },
    "tags": []
   },
   "outputs": [],
   "source": []
  },
  {
   "cell_type": "markdown",
   "id": "57419f50-afd6-4025-9296-de34269a6c5d",
   "metadata": {
    "editable": true,
    "slideshow": {
     "slide_type": "slide"
    },
    "tags": []
   },
   "source": [
    "## 4. Permissions\n",
    "\n",
    "- **Task:** You need to modify the permissions of a file. Write the commands to:\n",
    "  1. Give the file `script.sh` executable permissions.\n",
    "  2. Set read, write, and execute permissions for the owner of `script.sh`, but only read and execute for the group and others.\n",
    "\n",
    "---\n"
   ]
  },
  {
   "cell_type": "code",
   "execution_count": null,
   "id": "89ab5330-f6ef-4825-b753-341711621416",
   "metadata": {
    "editable": true,
    "slideshow": {
     "slide_type": "fragment"
    },
    "tags": []
   },
   "outputs": [],
   "source": [
    "%%bash\n",
    "\n",
    "chmod +x script.sh\n",
    "\n",
    "chmod 755 script.sh"
   ]
  },
  {
   "cell_type": "code",
   "execution_count": null,
   "id": "9a996472-15f5-43fc-bd27-d798c7121cd9",
   "metadata": {
    "editable": true,
    "slideshow": {
     "slide_type": ""
    },
    "tags": []
   },
   "outputs": [],
   "source": []
  },
  {
   "cell_type": "markdown",
   "id": "6ad5d660-b26f-4cad-bc16-9dc56c844177",
   "metadata": {
    "editable": true,
    "slideshow": {
     "slide_type": "slide"
    },
    "tags": []
   },
   "source": [
    "## 5. Searching and Grep\n",
    "\n",
    "- **Task:** Write commands to:\n",
    "  1. Search for the word \"error\" in a file named `log.txt`.\n",
    "  2. Count how many times \"success\" appears in `output.txt`.\n",
    "\n",
    "---"
   ]
  },
  {
   "cell_type": "code",
   "execution_count": 8,
   "id": "4100cbbd-aa66-409f-996d-6fb3117f9318",
   "metadata": {
    "editable": true,
    "slideshow": {
     "slide_type": "fragment"
    },
    "tags": []
   },
   "outputs": [
    {
     "name": "stdout",
     "output_type": "stream",
     "text": [
      "error: Disk space is low\n",
      "error: Failed to connect to server\n",
      "2\n"
     ]
    }
   ],
   "source": [
    "%%bash\n",
    "\n",
    "grep 'error' log.txt\n",
    "echo \"success completed worksheet\" >> output.txt \n",
    "grep -c 'success' output.txt"
   ]
  },
  {
   "cell_type": "code",
   "execution_count": null,
   "id": "86aa8336-7c00-4c7e-bbc0-a71252cb6c5f",
   "metadata": {
    "editable": true,
    "slideshow": {
     "slide_type": ""
    },
    "tags": []
   },
   "outputs": [],
   "source": []
  },
  {
   "cell_type": "markdown",
   "id": "ef161e4a-847c-471a-a710-e6a00a2d07cb",
   "metadata": {
    "editable": true,
    "slideshow": {
     "slide_type": "slide"
    },
    "tags": []
   },
   "source": [
    "## 6. Piping and Redirection\n",
    "\n",
    "- **Task:** What commands would you use to:\n",
    "  1. Redirect the output of the command `ls` into a file called `filelist.txt`.\n",
    "  2. Display the contents of `filelist.txt` and search for the word \"notes\" at the same time.\n",
    "\n",
    "---"
   ]
  },
  {
   "cell_type": "code",
   "execution_count": 10,
   "id": "f736f398-641e-4f53-9579-9700ef8072bf",
   "metadata": {
    "editable": true,
    "slideshow": {
     "slide_type": "fragment"
    },
    "tags": []
   },
   "outputs": [
    {
     "name": "stdout",
     "output_type": "stream",
     "text": [
      "backup_notes.txt\n",
      "notes.txt\n"
     ]
    }
   ],
   "source": [
    "%%bash\n",
    "\n",
    "ls > filelist.txt\n",
    "\n",
    "cat filelist.txt | grep 'notes'"
   ]
  },
  {
   "cell_type": "code",
   "execution_count": null,
   "id": "4dd048df-4f81-4d12-b681-3a7090dda7ee",
   "metadata": {
    "editable": true,
    "slideshow": {
     "slide_type": ""
    },
    "tags": []
   },
   "outputs": [],
   "source": []
  },
  {
   "cell_type": "markdown",
   "id": "18cbb4d0-e79d-4df8-a47c-fd69d20c55be",
   "metadata": {
    "editable": true,
    "slideshow": {
     "slide_type": "slide"
    },
    "tags": []
   },
   "source": [
    "## 7. Scripting\n",
    "\n",
    "- **Task:** Write a simple bash script (`backup.sh`) that does the following:\n",
    "  1. Creates a directory called `backup`.\n",
    "  2. Copies all `.txt` files from the current directory into the `backup` directory.\n",
    "  \n",
    "---"
   ]
  },
  {
   "cell_type": "code",
   "execution_count": null,
   "id": "33eb6cb0-8663-461c-950e-9fa285c632c4",
   "metadata": {
    "editable": true,
    "slideshow": {
     "slide_type": "fragment"
    },
    "tags": []
   },
   "outputs": [],
   "source": [
    "%%bash\n",
    "\n",
    "#!/bin/bash\n",
    "\n",
    "# Create a directory called 'backup'\n",
    "mkdir -p backup\n",
    "\n",
    "# Copy all .txt files from the current directory into the 'backup' directory\n",
    "cp *.txt backup/\n",
    "\n",
    "# Optional: Print a message indicating the backup is complete\n",
    "echo \"Backup of .txt files completed successfully.\"\n",
    "\n",
    "\n",
    "\n",
    "\n",
    " ---\n",
    "\n",
    "chmod +x backup.sh\n",
    "\n",
    "./backup.sh"
   ]
  },
  {
   "cell_type": "code",
   "execution_count": null,
   "id": "0fbbc69c-eea4-4130-b2a5-4da46f134406",
   "metadata": {
    "editable": true,
    "slideshow": {
     "slide_type": ""
    },
    "tags": []
   },
   "outputs": [],
   "source": []
  },
  {
   "cell_type": "markdown",
   "id": "b09d5eec-7964-4d63-82a6-a1ec144cbf78",
   "metadata": {
    "editable": true,
    "slideshow": {
     "slide_type": "slide"
    },
    "tags": []
   },
   "source": [
    "\n",
    "## 8. Miscellaneous\n",
    "\n",
    "- **Task:** Write the command to:\n",
    "  1. Check the manual for the `ls` command.\n",
    "  2. Print the current date and time.\n",
    "\"\"\""
   ]
  },
  {
   "cell_type": "code",
   "execution_count": 14,
   "id": "66759985-9c7e-4e2c-8063-e88bbb98a22d",
   "metadata": {
    "editable": true,
    "slideshow": {
     "slide_type": "fragment"
    },
    "tags": []
   },
   "outputs": [
    {
     "name": "stdout",
     "output_type": "stream",
     "text": [
      "Fri Oct 11 10:00:52 BST 2024\n"
     ]
    },
    {
     "name": "stderr",
     "output_type": "stream",
     "text": [
      "\n",
      "real\t0m0.018s\n",
      "user\t0m0.003s\n",
      "sys\t0m0.008s\n"
     ]
    }
   ],
   "source": [
    "%%bash\n",
    "\n",
    "#man ls\n",
    "\n",
    "time date"
   ]
  },
  {
   "cell_type": "code",
   "execution_count": null,
   "id": "21eb6da4-6e27-4d4c-9801-ab9ee1b47778",
   "metadata": {
    "editable": true,
    "slideshow": {
     "slide_type": ""
    },
    "tags": []
   },
   "outputs": [],
   "source": []
  }
 ],
 "metadata": {
  "kernelspec": {
   "display_name": "Python 3 (ipykernel)",
   "language": "python",
   "name": "python3"
  },
  "language_info": {
   "codemirror_mode": {
    "name": "ipython",
    "version": 3
   },
   "file_extension": ".py",
   "mimetype": "text/x-python",
   "name": "python",
   "nbconvert_exporter": "python",
   "pygments_lexer": "ipython3",
   "version": "3.12.5"
  }
 },
 "nbformat": 4,
 "nbformat_minor": 5
}
