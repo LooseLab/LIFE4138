{
 "cells": [
  {
   "cell_type": "markdown",
   "id": "aaec4ad8-1608-4696-833b-204e15ced8ec",
   "metadata": {},
   "source": [
    "\n",
    "### Bash For Loops Worksheet\n",
    "\n",
    "---\n",
    "\n",
    "## 1. Simple For Loop\n",
    "\n",
    "- **Task:** Write a bash `for` loop that prints numbers 1 to 5.\n",
    "\n",
    "---\n",
    "\n",
    "## 2. Loop Over Files\n",
    "\n",
    "- **Task:** Write a bash `for` loop that iterates over all `.txt` files in the current directory and prints the filename for each.\n",
    "\n",
    "---\n",
    "\n",
    "## 3. Reading Usernames from a File\n",
    "\n",
    "- **Task:** Write a bash `for` loop that reads a list of usernames from a file `users.txt` and prints \"Processing user: [username]\" for each user.\n",
    "\n",
    "---\n",
    "\n",
    "## 4. C-style For Loop\n",
    "\n",
    "- **Task:** Write a C-style `for` loop in bash that counts from 1 to 5 and prints each number.\n",
    "\n",
    "---\n",
    "\n",
    "## 5. Nested For Loops\n",
    "\n",
    "- **Task:** Write a bash script using nested `for` loops that prints combinations of numbers 1-3 and letters 'a' and 'b'. The output should look like:\n",
    "  ```\n",
    "  1a\n",
    "  1b\n",
    "  2a\n",
    "  2b\n",
    "  3a\n",
    "  3b\n",
    "  ```\n",
    "\n",
    "---\n",
    "\n",
    "## 6. Best Practices\n",
    "\n",
    "- **Task:** For each of the following scenarios, write a bash `for` loop that solves the problem:\n",
    "  1. Append the prefix \"new_\" to every `.log` file in the directory.\n",
    "  2. Loop through the numbers 1 to 3, and for each, print the number followed by \" is a number\".\n",
    "\n",
    "---\n",
    "\n",
    "### **Bonus Challenge**\n",
    "- Write a script that processes a list of URLs from a file `urls.txt` and checks if each URL is reachable using `curl`. Print the result for each URL.\n"
   ]
  },
  {
   "cell_type": "code",
   "execution_count": null,
   "id": "32b9c8d1-c9d7-4051-b706-46a760ce8c3a",
   "metadata": {},
   "outputs": [],
   "source": []
  },
  {
   "cell_type": "markdown",
   "id": "acdca4bf-d2c0-4e4b-85a3-8d754352b5bc",
   "metadata": {},
   "source": []
  }
 ],
 "metadata": {
  "kernelspec": {
   "display_name": "Python 3 (ipykernel)",
   "language": "python",
   "name": "python3"
  },
  "language_info": {
   "codemirror_mode": {
    "name": "ipython",
    "version": 3
   },
   "file_extension": ".py",
   "mimetype": "text/x-python",
   "name": "python",
   "nbconvert_exporter": "python",
   "pygments_lexer": "ipython3",
   "version": "3.12.5"
  }
 },
 "nbformat": 4,
 "nbformat_minor": 5
}
