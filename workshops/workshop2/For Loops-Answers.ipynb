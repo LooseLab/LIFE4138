{
 "cells": [
  {
   "cell_type": "markdown",
   "id": "96b2a095-764f-4a8b-9966-529a8b800e47",
   "metadata": {
    "editable": true,
    "slideshow": {
     "slide_type": "slide"
    },
    "tags": []
   },
   "source": [
    "### Bash For Loops Worksheet\n",
    "\n",
    "---\n",
    "\n",
    "## 1. Simple For Loop\n",
    "\n",
    "- **Task:** Write a bash `for` loop that prints numbers 1 to 5.\n",
    "\n",
    "---"
   ]
  },
  {
   "cell_type": "markdown",
   "id": "63892961-0da3-4e4d-9df5-a675f0c97f47",
   "metadata": {
    "editable": true,
    "slideshow": {
     "slide_type": "fragment"
    },
    "tags": []
   },
   "source": [
    "```console\n",
    "\n",
    "for i in {1..5}; do\n",
    "    echo $i\n",
    "done\n",
    "```\n"
   ]
  },
  {
   "cell_type": "markdown",
   "id": "d67228ae-2819-471a-aa5a-9e16adb48674",
   "metadata": {
    "editable": true,
    "slideshow": {
     "slide_type": "slide"
    },
    "tags": []
   },
   "source": [
    "## 2. Loop Over Files\n",
    "\n",
    "- **Task:** Write a bash `for` loop that iterates over all `.txt` files in the current directory and prints the filename for each.\n",
    "\n",
    "---"
   ]
  },
  {
   "cell_type": "markdown",
   "id": "7d7dd3c4-9bf8-4c2e-ab8e-2cb8d27e3992",
   "metadata": {
    "editable": true,
    "slideshow": {
     "slide_type": "fragment"
    },
    "tags": []
   },
   "source": [
    "```console\n",
    "\n",
    "for file in *.txt; do\n",
    "    echo \"Filename: $file\"\n",
    "done\n",
    "```"
   ]
  },
  {
   "cell_type": "markdown",
   "id": "3c81f59e-3597-4c9d-bfc5-a1f39d5266f0",
   "metadata": {
    "editable": true,
    "slideshow": {
     "slide_type": "slide"
    },
    "tags": []
   },
   "source": [
    "## 3. Reading Usernames from a File\n",
    "\n",
    "- **Task:** Write a bash `for` loop that reads a list of usernames from a file `users.txt` and prints \"Processing user: [username]\" for each user.\n",
    "\n",
    "---\n"
   ]
  },
  {
   "cell_type": "markdown",
   "id": "9eb326ff-6b4a-4464-b4b7-df8dfcd04d63",
   "metadata": {
    "editable": true,
    "slideshow": {
     "slide_type": "fragment"
    },
    "tags": []
   },
   "source": [
    "```console\n",
    "for user in $(cat users.txt); do\n",
    "    echo \"Processing user: $user\"\n",
    "done\n",
    "```"
   ]
  },
  {
   "cell_type": "markdown",
   "id": "bce99d53-9a39-40d8-af3d-4a803a7f525c",
   "metadata": {
    "editable": true,
    "slideshow": {
     "slide_type": "slide"
    },
    "tags": []
   },
   "source": [
    "## 4. C-style For Loop\n",
    "\n",
    "- **Task:** Write a C-style `for` loop in bash that counts from 1 to 5 and prints each number.\n",
    "\n",
    "---"
   ]
  },
  {
   "cell_type": "markdown",
   "id": "ab7cee7f-3d5f-4658-af2b-33a2f39c007f",
   "metadata": {
    "editable": true,
    "slideshow": {
     "slide_type": "fragment"
    },
    "tags": []
   },
   "source": [
    "```console\n",
    "for ((i = 1; i <= 5; i++)); do\n",
    "    echo $i\n",
    "done\n",
    "```"
   ]
  },
  {
   "cell_type": "markdown",
   "id": "db4b9f98-0879-4f42-b5d2-00ff8679ea4e",
   "metadata": {
    "editable": true,
    "slideshow": {
     "slide_type": "slide"
    },
    "tags": []
   },
   "source": [
    "## 5. Nested For Loops\n",
    "\n",
    "- **Task:** Write a bash script using nested `for` loops that prints combinations of numbers 1-3 and letters 'a' and 'b'. The output should look like:\n",
    "  ```\n",
    "  1a\n",
    "  1b\n",
    "  2a\n",
    "  2b\n",
    "  3a\n",
    "  3b\n",
    "  ```\n",
    "\n",
    "---"
   ]
  },
  {
   "cell_type": "markdown",
   "id": "80513d44-b6ee-4a42-828c-ef5738d7ae2d",
   "metadata": {
    "editable": true,
    "slideshow": {
     "slide_type": "fragment"
    },
    "tags": []
   },
   "source": [
    "```console\n",
    "for number in {1..3}; do\n",
    "    for letter in a b; do\n",
    "        echo \"${number}${letter}\"\n",
    "    done\n",
    "done\n",
    "```"
   ]
  },
  {
   "cell_type": "markdown",
   "id": "6d350734-9901-45d2-8734-b9ff09b4982c",
   "metadata": {
    "editable": true,
    "slideshow": {
     "slide_type": "slide"
    },
    "tags": []
   },
   "source": [
    "## 6. Best Practices\n",
    "\n",
    "- **Task:** For each of the following scenarios, write a bash `for` loop that solves the problem:\n",
    "  1. Append the prefix \"new_\" to every `.log` file in the directory.\n",
    "  2. Loop through the numbers 1 to 3, and for each, print the number followed by \" is a number\".\n",
    "\n",
    "---"
   ]
  },
  {
   "cell_type": "markdown",
   "id": "b144e3eb-f219-4744-ba3f-8efddec73c91",
   "metadata": {
    "editable": true,
    "slideshow": {
     "slide_type": "fragment"
    },
    "tags": []
   },
   "source": [
    "```console\n",
    "for file in *.log; do\n",
    "    mv \"$file\" \"new_$file\"\n",
    "done\n",
    "```"
   ]
  },
  {
   "cell_type": "markdown",
   "id": "253de184-cf05-42d9-9644-743f3f563b86",
   "metadata": {
    "editable": true,
    "slideshow": {
     "slide_type": "fragment"
    },
    "tags": []
   },
   "source": [
    "```console\n",
    "for i in {1..3}; do\n",
    "    echo \"$i is a number\"\n",
    "done\n",
    "```"
   ]
  },
  {
   "cell_type": "markdown",
   "id": "cec0306c-de64-457a-b311-a69821a1969c",
   "metadata": {
    "editable": true,
    "slideshow": {
     "slide_type": "slide"
    },
    "tags": []
   },
   "source": [
    "### **Bonus Challenge**\n",
    "- Write a script that processes a list of URLs from a file `urls.txt` and checks if each URL is reachable using `curl`. Print the result for each URL.\n"
   ]
  },
  {
   "cell_type": "markdown",
   "id": "aaec4ad8-1608-4696-833b-204e15ced8ec",
   "metadata": {
    "editable": true,
    "slideshow": {
     "slide_type": "fragment"
    },
    "tags": []
   },
   "source": [
    "```console\n",
    "#!/bin/bash\n",
    "\n",
    "while IFS= read -r url; do\n",
    "    if curl --output /dev/null --silent --head --fail \"$url\"; then\n",
    "        echo \"$url is reachable.\"\n",
    "    else\n",
    "        echo \"$url is not reachable.\"\n",
    "    fi\n",
    "done < urls.txt\n",
    "```\n"
   ]
  },
  {
   "cell_type": "code",
   "execution_count": null,
   "id": "32b9c8d1-c9d7-4051-b706-46a760ce8c3a",
   "metadata": {
    "editable": true,
    "slideshow": {
     "slide_type": ""
    },
    "tags": []
   },
   "outputs": [],
   "source": []
  },
  {
   "cell_type": "code",
   "execution_count": null,
   "id": "a4c8910a-1846-4983-9d2e-9c48895461dd",
   "metadata": {
    "editable": true,
    "slideshow": {
     "slide_type": ""
    },
    "tags": []
   },
   "outputs": [],
   "source": []
  },
  {
   "cell_type": "code",
   "execution_count": null,
   "id": "af6a421a-3f39-4a48-b0a1-d2b5cd974401",
   "metadata": {
    "editable": true,
    "slideshow": {
     "slide_type": ""
    },
    "tags": []
   },
   "outputs": [],
   "source": []
  },
  {
   "cell_type": "code",
   "execution_count": null,
   "id": "f802f8a1-5929-4cc5-ba18-ba9782c79874",
   "metadata": {
    "editable": true,
    "slideshow": {
     "slide_type": ""
    },
    "tags": []
   },
   "outputs": [],
   "source": []
  },
  {
   "cell_type": "code",
   "execution_count": null,
   "id": "6211755b-aaa6-4c9a-8fdc-0bb893adc5b6",
   "metadata": {
    "editable": true,
    "slideshow": {
     "slide_type": ""
    },
    "tags": []
   },
   "outputs": [],
   "source": []
  }
 ],
 "metadata": {
  "kernelspec": {
   "display_name": "Python 3 (ipykernel)",
   "language": "python",
   "name": "python3"
  },
  "language_info": {
   "codemirror_mode": {
    "name": "ipython",
    "version": 3
   },
   "file_extension": ".py",
   "mimetype": "text/x-python",
   "name": "python",
   "nbconvert_exporter": "python",
   "pygments_lexer": "ipython3",
   "version": "3.12.5"
  }
 },
 "nbformat": 4,
 "nbformat_minor": 5
}
