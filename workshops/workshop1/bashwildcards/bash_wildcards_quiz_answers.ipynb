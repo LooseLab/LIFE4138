{
 "cells": [
  {
   "cell_type": "markdown",
   "id": "fccded1c",
   "metadata": {
    "editable": true,
    "slideshow": {
     "slide_type": "slide"
    },
    "tags": []
   },
   "source": [
    "\n",
    "# Bash Wildcards Quiz\n",
    "\n",
    "This interactive notebook will test your understanding of Bash wildcards. Complete the tasks below by writing your Bash commands in the provided cells. You can also explain your choices using comments.\n"
   ]
  },
  {
   "cell_type": "markdown",
   "id": "7189036b",
   "metadata": {
    "editable": true,
    "slideshow": {
     "slide_type": "fragment"
    },
    "tags": []
   },
   "source": [
    "\n",
    "## Question 1: Asterisk Wildcard (*)\n",
    "Write a command that lists all files in the `wildcard_test_directory` directory that have a `.txt` extension.\n"
   ]
  },
  {
   "cell_type": "code",
   "execution_count": 2,
   "id": "9cef4dcb",
   "metadata": {
    "editable": true,
    "slideshow": {
     "slide_type": "fragment"
    },
    "tags": []
   },
   "outputs": [
    {
     "name": "stdout",
     "output_type": "stream",
     "text": [
      "wildcard_test_directory/document.txt\n",
      "wildcard_test_directory/file1.txt\n",
      "wildcard_test_directory/file10.txt\n",
      "wildcard_test_directory/file2.txt\n",
      "wildcard_test_directory/file3.txt\n",
      "wildcard_test_directory/fileA.txt\n",
      "wildcard_test_directory/fileB.txt\n",
      "wildcard_test_directory/notes.txt\n",
      "wildcard_test_directory/report.txt\n"
     ]
    }
   ],
   "source": [
    "%%bash\n",
    "# Your answer here\n",
    "# Write a command to list all .txt files in the wildcard_test_directory directory\n",
    "ls wildcard_*/*.txt"
   ]
  },
  {
   "cell_type": "code",
   "execution_count": null,
   "id": "f835037d-410a-48e7-8092-9409bed36413",
   "metadata": {
    "editable": true,
    "slideshow": {
     "slide_type": ""
    },
    "tags": []
   },
   "outputs": [],
   "source": []
  },
  {
   "cell_type": "markdown",
   "id": "0aa6cb29",
   "metadata": {
    "editable": true,
    "slideshow": {
     "slide_type": "slide"
    },
    "tags": []
   },
   "source": [
    "\n",
    "## Question 2: Question Mark Wildcard (?)\n",
    "Write a command that lists all files that start with `file`, followed by **one character**, and end with `.txt` (e.g., `file1.txt`, `fileA.txt`, but not `file10.txt`).\n"
   ]
  },
  {
   "cell_type": "code",
   "execution_count": 3,
   "id": "e84a18d5",
   "metadata": {
    "editable": true,
    "slideshow": {
     "slide_type": "fragment"
    },
    "tags": []
   },
   "outputs": [
    {
     "name": "stdout",
     "output_type": "stream",
     "text": [
      "wildcard_test_directory/file1.txt\n",
      "wildcard_test_directory/file2.txt\n",
      "wildcard_test_directory/file3.txt\n",
      "wildcard_test_directory/fileA.txt\n",
      "wildcard_test_directory/fileB.txt\n"
     ]
    }
   ],
   "source": [
    "%%bash\n",
    "# Your answer here\n",
    "# Write a command to list files with the pattern \"file?.txt\"\n",
    "\n",
    "ls wildcard_test_directory/file?.txt\n",
    "\n"
   ]
  },
  {
   "cell_type": "code",
   "execution_count": null,
   "id": "39f6bfa8-3063-44c2-bb87-9e121e1218d0",
   "metadata": {
    "editable": true,
    "slideshow": {
     "slide_type": "fragment"
    },
    "tags": []
   },
   "outputs": [],
   "source": []
  },
  {
   "cell_type": "markdown",
   "id": "8c6f452b",
   "metadata": {
    "editable": true,
    "slideshow": {
     "slide_type": "slide"
    },
    "tags": []
   },
   "source": [
    "\n",
    "## Question 3: Square Brackets Wildcard ([])\n",
    "Write a command that lists files named `file1.txt`, `file2.txt`, or `file3.txt` using square brackets.\n"
   ]
  },
  {
   "cell_type": "code",
   "execution_count": 5,
   "id": "d216a28d",
   "metadata": {
    "editable": true,
    "slideshow": {
     "slide_type": "fragment"
    },
    "tags": []
   },
   "outputs": [
    {
     "name": "stdout",
     "output_type": "stream",
     "text": [
      "wildcard_test_directory/file1.txt\n",
      "wildcard_test_directory/file2.txt\n",
      "wildcard_test_directory/file3.txt\n"
     ]
    }
   ],
   "source": [
    "%%bash\n",
    "# Your answer here\n",
    "# Write a command to list files \"file1.txt\", \"file2.txt\", and \"file3.txt\"\n",
    "\n",
    "ls wildcard_test_directory/file[1-3].txt\n"
   ]
  },
  {
   "cell_type": "code",
   "execution_count": null,
   "id": "ea5f066e-5d00-407f-9aca-9228d4dae4cd",
   "metadata": {
    "editable": true,
    "slideshow": {
     "slide_type": ""
    },
    "tags": []
   },
   "outputs": [],
   "source": []
  },
  {
   "cell_type": "markdown",
   "id": "48dd9275",
   "metadata": {
    "editable": true,
    "slideshow": {
     "slide_type": "slide"
    },
    "tags": []
   },
   "source": [
    "\n",
    "## Question 4: Negating a Set ([!])\n",
    "Write a command that lists all files **except** those with names that start with `file` followed by a number (e.g., `file1.txt`, `file2.txt`).\n"
   ]
  },
  {
   "cell_type": "code",
   "execution_count": 6,
   "id": "cdb33ed3",
   "metadata": {
    "editable": true,
    "slideshow": {
     "slide_type": "fragment"
    },
    "tags": []
   },
   "outputs": [
    {
     "name": "stdout",
     "output_type": "stream",
     "text": [
      ".\n",
      "./bash_wildcards_quiz.ipynb\n",
      "./bash_wildcards_quiz_answers.ipynb\n",
      "./wildcard_test_directory\n",
      "./wildcard_test_directory/fileB.txt\n",
      "./wildcard_test_directory/fileA.txt\n",
      "./wildcard_test_directory/notes.txt\n",
      "./wildcard_test_directory/subdir2\n",
      "./wildcard_test_directory/subdir2/fileY.txt\n",
      "./wildcard_test_directory/script.sh\n",
      "./wildcard_test_directory/document.txt\n",
      "./wildcard_test_directory/report.txt\n",
      "./wildcard_test_directory/subdir1\n",
      "./wildcard_test_directory/subdir1/fileX.txt\n",
      "./wildcard_test_directory/image1.jpg\n",
      "./wildcard_test_directory/image2.png\n",
      "./.ipynb_checkpoints\n",
      "./.ipynb_checkpoints/bash_wildcards_quiz_answers-checkpoint.ipynb\n",
      "./.ipynb_checkpoints/bash_wildcards_quiz-checkpoint.ipynb\n"
     ]
    }
   ],
   "source": [
    "%%bash\n",
    "# Your answer here\n",
    "# Write a command to list all files except those matching \"file[0-9].txt\"\n",
    "\n",
    "find . ! -name 'file[0-9]*'"
   ]
  },
  {
   "cell_type": "code",
   "execution_count": null,
   "id": "11bdb633-682c-42e0-a448-e17e250c72a9",
   "metadata": {
    "editable": true,
    "slideshow": {
     "slide_type": ""
    },
    "tags": []
   },
   "outputs": [],
   "source": []
  },
  {
   "cell_type": "markdown",
   "id": "edce2451",
   "metadata": {
    "editable": true,
    "slideshow": {
     "slide_type": "slide"
    },
    "tags": []
   },
   "source": [
    "\n",
    "## Question 5: Recursive Wildcard (**)\n",
    "Write a command that lists all `.txt` files in the current directory and **all subdirectories** recursively.\n"
   ]
  },
  {
   "cell_type": "code",
   "execution_count": null,
   "id": "b0143294",
   "metadata": {
    "editable": true,
    "slideshow": {
     "slide_type": "fragment"
    },
    "tags": []
   },
   "outputs": [],
   "source": [
    "%%bash\n",
    "# Your answer here\n",
    "# Write a command to list all .txt files in the current directory and subdirectories\n",
    "\n",
    "ls **/*.txt"
   ]
  },
  {
   "cell_type": "code",
   "execution_count": null,
   "id": "8e1dad04-ae84-4a12-95ed-9086348df49d",
   "metadata": {
    "editable": true,
    "slideshow": {
     "slide_type": ""
    },
    "tags": []
   },
   "outputs": [],
   "source": []
  },
  {
   "cell_type": "markdown",
   "id": "27bbce7f",
   "metadata": {
    "editable": true,
    "slideshow": {
     "slide_type": "slide"
    },
    "tags": []
   },
   "source": [
    "\n",
    "## Next Steps\n",
    "\n",
    "- After completing all the tasks, run each cell to test your commands.\n",
    "- Use comments to explain your reasoning if needed.\n",
    "\n",
    "Good luck!\n"
   ]
  },
  {
   "cell_type": "code",
   "execution_count": null,
   "id": "ecfb596a-6ea5-4ae1-977b-667809d7432c",
   "metadata": {
    "editable": true,
    "slideshow": {
     "slide_type": ""
    },
    "tags": []
   },
   "outputs": [],
   "source": []
  }
 ],
 "metadata": {
  "kernelspec": {
   "display_name": "Python 3 (ipykernel)",
   "language": "python",
   "name": "python3"
  },
  "language_info": {
   "codemirror_mode": {
    "name": "ipython",
    "version": 3
   },
   "file_extension": ".py",
   "mimetype": "text/x-python",
   "name": "python",
   "nbconvert_exporter": "python",
   "pygments_lexer": "ipython3",
   "version": "3.12.5"
  }
 },
 "nbformat": 4,
 "nbformat_minor": 5
}
