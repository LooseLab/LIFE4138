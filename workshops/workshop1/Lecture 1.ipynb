{
 "cells": [
  {
   "cell_type": "markdown",
   "id": "e7d6dc05-53e1-4c86-9d9a-ffa901a05b83",
   "metadata": {
    "editable": true,
    "slideshow": {
     "slide_type": "slide"
    },
    "tags": []
   },
   "source": [
    "# LIFE4138\n",
    "\n",
    "## Professor Matthew Loose \n",
    "\n",
    "matt.loose@nottingham.ac.uk\n",
    "\n",
    "## Dr Laura Dean\n",
    "\n",
    "laura.dean@nottingham.ac.uk\n"
   ]
  },
  {
   "cell_type": "markdown",
   "id": "b720296f",
   "metadata": {
    "editable": true,
    "slideshow": {
     "slide_type": "subslide"
    },
    "tags": []
   },
   "source": [
    "![Class at work](../images/training.webp)"
   ]
  },
  {
   "cell_type": "markdown",
   "id": "d3ca3708",
   "metadata": {
    "editable": true,
    "slideshow": {
     "slide_type": "subslide"
    },
    "tags": []
   },
   "source": [
    "![Cheery class at work](../images/cheerytraining.webp)"
   ]
  },
  {
   "cell_type": "markdown",
   "id": "0e6d3454",
   "metadata": {
    "editable": true,
    "slideshow": {
     "slide_type": "slide"
    },
    "tags": []
   },
   "source": [
    "# Module Goals\n",
    "\n",
    "### Learn Unix\n",
    "\n",
    "### Learn R\n",
    "\n",
    "### Learn Python\n",
    "\n",
    "### Become a coding expert!\n",
    "\n",
    "All by week 10!\n"
   ]
  },
  {
   "cell_type": "markdown",
   "id": "c63b8eee-9185-4eee-9db0-1205359b005e",
   "metadata": {
    "editable": true,
    "slideshow": {
     "slide_type": "slide"
    },
    "tags": []
   },
   "source": [
    "# Module Goals\n",
    "\n",
    "## Just kidding!\n",
    "\n",
    "\n"
   ]
  },
  {
   "cell_type": "markdown",
   "id": "0cc1cb21-2d8b-47a8-8a85-008e6bb77db0",
   "metadata": {
    "editable": true,
    "slideshow": {
     "slide_type": "fragment"
    },
    "tags": []
   },
   "source": [
    "We aim to teach you the basics, but most importantly we aim to teach you how to learn.\n",
    "\n",
    "\n",
    "**--Give a Man a Fish, and You Feed Him for a Day. Teach a Man To Fish, and You Feed Him for a Lifetime.--**\n",
    "\n",
    "![Fish](https://i.giphy.com/media/v1.Y2lkPTc5MGI3NjExcGtjaHoybnFxN3RyMmp3MzdrcmJ2MThsejE1ZjQxMWpvazc0N2MyZSZlcD12MV9pbnRlcm5hbF9naWZfYnlfaWQmY3Q9Zw/26tk0aLx4Aj4lxx3W/giphy.gif)\n"
   ]
  },
  {
   "cell_type": "markdown",
   "id": "75e709b6-1189-41dd-a3c6-ec9b97b1d7ec",
   "metadata": {
    "editable": true,
    "slideshow": {
     "slide_type": "slide"
    },
    "tags": []
   },
   "source": [
    "# We want you to GROK!\n",
    "\n",
    ":GROK To grok something means to understand it deeply and intuitively. The term suggests not just intellectual comprehension, but a thorough, almost instinctive understanding of a subject or concept. It implies that the person \"groks\" something so completely that they can fully internalize its meaning or function.\n",
    "\n",
    "The term originates from the 1961 science fiction novel Stranger in a Strange Land by Robert A. Heinlein, where it comes from the Martian language and means to \"drink\" or \"absorb\" in a metaphorical sense. In tech and hacker culture, it’s often used to describe a deep mastery or grasp of a complex subject, like coding, systems, or ideas.\n",
    "\n",
    "For example, \"I grok Bash scripting\" would mean the person has an intuitive and complete understanding of writing scripts in Bash.\n",
    "\n",
    "![Grok](https://i.giphy.com/media/v1.Y2lkPTc5MGI3NjExZTNibDlrNW04ZXk1enZxaXJmYWV4eHJkOHFnc2tlZ3M5ODhnMHV3biZlcD12MV9pbnRlcm5hbF9naWZfYnlfaWQmY3Q9Zw/K1nPCEuN2rwG1zJg04/giphy.gif)\n",
    "\n"
   ]
  },
  {
   "cell_type": "markdown",
   "id": "5414037c-410e-4507-ab3d-22f661fbbd83",
   "metadata": {
    "editable": true,
    "slideshow": {
     "slide_type": "slide"
    },
    "tags": []
   },
   "source": [
    "# Talking of **Grok** and Fish...\n",
    "\n",
    "https://software-carpentry.org/\n",
    "\n",
    "Software carpentry is a key resource. We will not duplicate the material in those lessons BUT they will be orthogonal to what we do here.\n",
    "\n",
    "Go to software carpentry.\n",
    "\n",
    "Go through the materials.\n",
    "\n",
    "Use the knowledge you have gained to improve your bioinformatics life!\n",
    "\n",
    "\n"
   ]
  },
  {
   "cell_type": "markdown",
   "id": "c2c8c098",
   "metadata": {
    "editable": true,
    "slideshow": {
     "slide_type": "slide"
    },
    "tags": []
   },
   "source": [
    "# Cheating\n",
    "\n",
    "Cheating is **wrong**.\n",
    "\n",
    "In the age of chatGPT/ClaudeAI/Bing/Grok/Custom LLMs (the list goes on)... it is easy to cheat. Ultimately cheating using these tools will only hurt you.\n",
    "\n",
    "We will try and demonstrate **ethical** use of tools such as these in coding.\n",
    "\n",
    "We will also refer you to \"CheatSheets\" which provide simple guides to common problems.\n",
    "\n"
   ]
  },
  {
   "cell_type": "markdown",
   "id": "d4ceffa9",
   "metadata": {
    "editable": true,
    "slideshow": {
     "slide_type": "slide"
    },
    "tags": []
   },
   "source": [
    "# ChatGPT etc\n",
    "\n",
    "\n",
    "The use of LLMs to write assignments, generate code in its entirety, solve all your problems and be awarded a degree is forbidden. \n",
    "\n",
    "However - you are encouraged to use search engines, the internet, self training courses and to appropriately use LLMs in your studies."
   ]
  },
  {
   "cell_type": "markdown",
   "id": "519342f0-b618-48b2-aea4-1a763ea0244c",
   "metadata": {
    "editable": true,
    "slideshow": {
     "slide_type": "slide"
    },
    "tags": []
   },
   "source": [
    "# Module Format\n",
    "\n",
    "\n",
    "We will meet twice a week. In each session it will be a mix of teaching, workshops and self learning.\n",
    "\n",
    "There will be **homework**.\n",
    "\n"
   ]
  },
  {
   "cell_type": "markdown",
   "id": "52bcd1e6-d5d2-4ce8-b125-29be908832cb",
   "metadata": {
    "editable": true,
    "slideshow": {
     "slide_type": "slide"
    },
    "tags": []
   },
   "source": [
    "# Assessment\n",
    "\n",
    "\n",
    "TBD\n",
    "\n"
   ]
  },
  {
   "attachments": {},
   "cell_type": "markdown",
   "id": "40ab0c7a-17ee-4744-a498-2470bd0b098e",
   "metadata": {
    "editable": true,
    "slideshow": {
     "slide_type": "slide"
    },
    "tags": []
   },
   "source": [
    "# Introduction to Unix\n",
    "\n",
    "## Professor Matthew Loose\n",
    "\n",
    "### Week 1 Workshop 1\n",
    "\n",
    "Unix Workshop - Week 1\n",
    "\n",
    "matt.loose@nottingham.ac.uk\n"
   ]
  },
  {
   "cell_type": "markdown",
   "id": "682b0c51-6ccd-40ae-83b3-22b0187e1141",
   "metadata": {
    "editable": true,
    "slideshow": {
     "slide_type": "slide"
    },
    "tags": []
   },
   "source": [
    "## Introduction\n",
    "\n",
    "Welcome to the first workshop on Unix. \n",
    "\n",
    "In this workshop, we will introduce you to some basic Unix commands and how to navigate and manipulate files in a Unix environment.\n",
    "\n",
    "We will also use: GIT and Jupyter Lab"
   ]
  },
  {
   "cell_type": "markdown",
   "id": "c9fb661f-55f0-40fc-95e8-54aa165e51a6",
   "metadata": {
    "editable": true,
    "slideshow": {
     "slide_type": "slide"
    },
    "tags": []
   },
   "source": [
    "## Learning Objectives:\n",
    "\n",
    "Understand consoles/terminals\n",
    "\n",
    "Learn basic Unix commands and understand command syntax \n",
    "\n",
    "Navigate through filesystems in Unix \n",
    "\n",
    "Modify the filesystem by creating, moving, and deleting files and directories \n",
    "\n",
    "Read, edit, and search files using Unix utilities \n",
    "\n",
    "Access and utilize the Unix manual pages for help"
   ]
  },
  {
   "cell_type": "markdown",
   "id": "187131c0-7ac8-4db3-b82b-e5dce333dfc9",
   "metadata": {
    "editable": true,
    "slideshow": {
     "slide_type": "slide"
    },
    "tags": []
   },
   "source": [
    "## How are we going to do this?\n",
    "\n",
    "We will use a mix of tools - but all the demonstrations will be in these jupyter notebook presentations. You can download the code to your own laptops and test and play.\n",
    "\n",
    "This whole lecture is a jupyter notebook (as you will see)...."
   ]
  },
  {
   "cell_type": "markdown",
   "id": "78dc12a5-3058-427e-aaa1-79b29a63bfb2",
   "metadata": {
    "editable": true,
    "slideshow": {
     "slide_type": ""
    },
    "tags": []
   },
   "source": [
    "# !ToDo\n",
    "\n",
    "Write setup instructions for the module!"
   ]
  },
  {
   "attachments": {},
   "cell_type": "markdown",
   "id": "dd8db41d-aa12-4097-8086-217009c411ed",
   "metadata": {
    "editable": true,
    "slideshow": {
     "slide_type": "slide"
    },
    "tags": []
   },
   "source": [
    "# 1. What is Unix?\n",
    "\n",
    "**Unix** is defined as an operating system that uses a command-line interface **(CLI)** rather than a graphical user interface **(GUI)**.\n",
    "\n",
    "**Shell**: A key component that interprets user commands.\n",
    "\n",
    "    e.g. \n",
    "\n",
    "        Bourne shell\n",
    "        \n",
    "        Bash\n",
    "        \n",
    "        Z shell\n",
    "        \n",
    "        C shell\n",
    "        \n",
    "**Linux**: A Unix-like OS but with different underlying code. It behaves similarly to Unix.\n",
    "\n",
    "**OSX**: Apple operating system built on.... Linux\n",
    "\n",
    "**Windows**: Microsoft operating system now built on... Linux\n",
    "\n",
    "![operating systems](../images/cross_windows.png)"
   ]
  },
  {
   "cell_type": "markdown",
   "id": "8db8c214-d61f-4468-a529-b8a45134b143",
   "metadata": {
    "editable": true,
    "slideshow": {
     "slide_type": "slide"
    },
    "tags": []
   },
   "source": [
    "### 2. The Importance of Text Editors\n",
    "- In Unix, plain text editors (like `nano`, `vim`, `emacs`) are used for writing and editing code.\n",
    "- Word processors (e.g., Microsoft Word) should be avoided as they add formatting that can interfere with code.\n",
    "\n",
    "https://www.nano-editor.org/\n",
    "\n",
    "https://www.vim.org/\n",
    "\n",
    "https://www.gnu.org/software/emacs/"
   ]
  },
  {
   "cell_type": "markdown",
   "id": "a5417c16-8895-486c-be4e-5292105607c8",
   "metadata": {
    "editable": true,
    "raw_mimetype": "",
    "slideshow": {
     "slide_type": "slide"
    },
    "tags": []
   },
   "source": [
    "### 3. The Unix Terminal\n",
    "- **Command Prompt:** Where users enter commands. Customizable but usually includes a cursor where new commands are entered."
   ]
  },
  {
   "cell_type": "markdown",
   "id": "65ca7d1f-1f81-4455-a347-149226d4d48d",
   "metadata": {
    "editable": true,
    "raw_mimetype": "",
    "slideshow": {
     "slide_type": "subslide"
    },
    "tags": []
   },
   "source": [
    "# Terminal Equivalents for Windows, macOS, and Linux\n",
    "\n",
    "## 1. **Windows:**\n",
    "- **Command Prompt (CMD)**: The traditional command-line interface in Windows. It uses commands specific to the Windows environment, such as `dir` for listing directories or `copy` for copying files.\n",
    "- **PowerShell**: A more advanced command-line interface that includes more powerful scripting capabilities, and it can run more complex scripts and commands. PowerShell supports both Windows commands and a more robust set of utilities.\n",
    "- **Windows Subsystem for Linux (WSL)**: This allows users to run a full Linux distribution inside Windows. Using WSL, you can run a Bash terminal with most Linux commands available.\n",
    "\n",
    "## 2. **macOS:**\n",
    "- **Terminal**: The default terminal application in macOS. It provides access to a command-line interface, which is Unix-based (similar to Linux), so it supports commands like `ls`, `cd`, `chmod`, and others.\n",
    "- **iTerm2**: An alternative terminal for macOS that offers additional features such as better customization and split panes, but it works in the same way as the built-in Terminal.\n",
    "\n",
    "## 3. **Linux:**\n",
    "- **Terminal**: Linux systems typically come with a terminal emulator that allows users to interact with the system using a shell (usually Bash, but others like Zsh, Fish, and Ksh can be used). Commands like `ls`, `cd`, `chmod`, and `grep` are standard.\n",
    "- Common terminal emulators on Linux include **GNOME Terminal**, **Konsole** (KDE), **xterm**, and **Tilix**, depending on the desktop environment.\n",
    "\n",
    "\n"
   ]
  },
  {
   "cell_type": "markdown",
   "id": "88930563-3046-4859-aae2-438696210211",
   "metadata": {
    "editable": true,
    "slideshow": {
     "slide_type": "slide"
    },
    "tags": []
   },
   "source": [
    "## Summary:\n",
    "- **Windows**: Command Prompt (CMD), PowerShell, WSL\n",
    "- **macOS**: Terminal, iTerm2\n",
    "- **Linux**: Terminal (with various emulators like GNOME Terminal, Konsole, etc.)\n",
    "\n",
    "While each platform has its terminal application, the command-line behavior is most similar between macOS and Linux, as they are both Unix-based systems. Windows can also offer a similar experience through WSL."
   ]
  },
  {
   "cell_type": "markdown",
   "id": "aae2901b-6045-4059-adf3-67c0a899ce50",
   "metadata": {
    "editable": true,
    "slideshow": {
     "slide_type": "slide"
    },
    "tags": []
   },
   "source": [
    "# Lets meet the Unix Shell\n",
    "\n",
    "The Unix shell is a command-line interface where users interact with the operating system. \n",
    "\n",
    "Some basic commands to get started are:\n",
    "\n"
   ]
  },
  {
   "cell_type": "markdown",
   "id": "b161cf1c-cd34-4e0f-8335-9126de6b008b",
   "metadata": {
    "editable": true,
    "scrolled": true,
    "slideshow": {
     "slide_type": "fragment"
    },
    "tags": []
   },
   "source": [
    "\n",
    "```bash\n",
    "    echo \"Hello world!\"\n",
    "```\n",
    "\n",
    "```bash\n",
    "    whoami\n",
    "```\n",
    "\n",
    "```bash\n",
    "    pwd\n",
    "```\n",
    "\n",
    "**Exercise:** \n",
    "\n",
    "Try these commands in your terminal. What do they do?"
   ]
  },
  {
   "cell_type": "code",
   "execution_count": 1,
   "id": "4df5fa81-8068-4fce-b84b-18a04e18ef63",
   "metadata": {
    "editable": true,
    "slideshow": {
     "slide_type": "fragment"
    },
    "tags": []
   },
   "outputs": [],
   "source": [
    "%%bash\n",
    "\n",
    "\n"
   ]
  },
  {
   "cell_type": "markdown",
   "id": "3166280d-ec70-460b-9aa4-827fde7fadd0",
   "metadata": {
    "editable": true,
    "slideshow": {
     "slide_type": "fragment"
    },
    "tags": []
   },
   "source": [
    "\n",
    "```bash\n",
    "    echo \"Hello world!\"\n",
    "```\n",
    "\n",
    "prints \"Hello world!\" to the terminal.\n",
    "\n",
    "```bash\n",
    "    whoami\n",
    "```\n",
    "\n",
    "    displays the current user’s username.\n",
    "\n",
    "```bash\n",
    "    pwd\n",
    "```\n",
    "\n",
    "    prints the working directory, or the current directory you're located in."
   ]
  },
  {
   "cell_type": "markdown",
   "id": "61e57b47-d4e7-4701-9af2-414b2a39a63a",
   "metadata": {
    "editable": true,
    "slideshow": {
     "slide_type": "subslide"
    },
    "tags": []
   },
   "source": [
    "What do we want to do if we wish to look for files in a folder?"
   ]
  },
  {
   "cell_type": "code",
   "execution_count": 3,
   "id": "b143bd37-325b-4db9-b5ef-88a1de207a6e",
   "metadata": {
    "editable": true,
    "slideshow": {
     "slide_type": ""
    },
    "tags": []
   },
   "outputs": [],
   "source": [
    "%%bash\n",
    " \n"
   ]
  },
  {
   "cell_type": "code",
   "execution_count": null,
   "id": "a7491680-448d-4b91-8586-244b28721c37",
   "metadata": {
    "editable": true,
    "slideshow": {
     "slide_type": ""
    },
    "tags": []
   },
   "outputs": [],
   "source": []
  },
  {
   "cell_type": "markdown",
   "id": "7195f14c-9baa-4a09-84a4-b568da2fe325",
   "metadata": {
    "editable": true,
    "slideshow": {
     "slide_type": "slide"
    },
    "tags": []
   },
   "source": [
    "# Lets make this interactive!\n",
    "\n",
    "![Celebrate](https://i.giphy.com/media/v1.Y2lkPTc5MGI3NjExcTA4Z2NmNzV3NWpkcmptaDNiZnpmd29wYnJ3b2IzeGp4ODhnYmN1YiZlcD12MV9pbnRlcm5hbF9naWZfYnlfaWQmY3Q9Zw/s2qXK8wAvkHTO/giphy.gif)"
   ]
  },
  {
   "attachments": {},
   "cell_type": "markdown",
   "id": "ecc82b0f-c01b-4087-afc8-6682f20ba5f2",
   "metadata": {
    "editable": true,
    "slideshow": {
     "slide_type": "slide"
    },
    "tags": []
   },
   "source": [
    "# Jupyter Labs\n",
    "\n",
    "This whole presentation is actually a jupyter notebook....\n",
    "\n",
    "This means you can play along... \n",
    "\n",
    "There are many ways of setting up a jupyter lab instance. Today we are going to use:\n",
    "\n",
    "https://github.com/jupyterlab/jupyterlab-desktop\n",
    "\n",
    "Please go there now - in this workshop - and install the version of jupyter lab (if you haven't already).\n",
    "\n",
    "Then we will have an explore in the notebooks.\n",
    "\n",
    "![make it so](https://i.giphy.com/media/v1.Y2lkPTc5MGI3NjExNnRjeGlhdjRtZjluODV0bjltZHY5aHR2Z2owbjR1anc1YjJhemRudCZlcD12MV9pbnRlcm5hbF9naWZfYnlfaWQmY3Q9Zw/wNlks0ID1igO4/giphy.gif)"
   ]
  },
  {
   "cell_type": "markdown",
   "id": "94d6abd7-38ce-4148-aa35-92d53ec8e336",
   "metadata": {
    "editable": true,
    "slideshow": {
     "slide_type": "slide"
    },
    "tags": []
   },
   "source": [
    "# Git & GitHub: A Beginner's Guide\n"
   ]
  },
  {
   "cell_type": "markdown",
   "id": "dadbfd34-cc94-4c17-9118-5447632617e6",
   "metadata": {
    "editable": true,
    "slideshow": {
     "slide_type": "fragment"
    },
    "tags": []
   },
   "source": [
    "## What is Git?\n",
    "\n",
    "Git is a **version control system**. It's a tool that helps track changes to files (usually code) over time.\n",
    "\n",
    "With Git, you can:\n",
    "\n",
    "- **Revert** to a previous version of your project.\n",
    "- **Collaborate** with other developers without accidentally overwriting each other's work.\n",
    "- Keep a detailed **history** of your project as it evolves.\n"
   ]
  },
  {
   "cell_type": "markdown",
   "id": "afd03acb-e16b-4b3e-8ee1-5558581ebd66",
   "metadata": {
    "editable": true,
    "slideshow": {
     "slide_type": "fragment"
    },
    "tags": []
   },
   "source": [
    "## What is GitHub?\n",
    "\n",
    "GitHub is a **hosting service for Git repositories**. \n",
    "\n",
    "It provides a place to store your Git projects online, collaborate with others, and manage your project. \n",
    "\n",
    "While Git is the tool, GitHub is where your projects can live, so you and others can access and contribute to them from anywhere.\n",
    "\n",
    "These workshops (and homeworks etc) will all be living in a github repository.\n"
   ]
  },
  {
   "cell_type": "markdown",
   "id": "b917cf46-a742-446e-8356-8fe50e4cdc47",
   "metadata": {
    "editable": true,
    "slideshow": {
     "slide_type": "slide"
    },
    "tags": []
   },
   "source": [
    "## Key Git Terms"
   ]
  },
  {
   "cell_type": "markdown",
   "id": "c93893b6-319a-403c-8b16-eb8441fafde5",
   "metadata": {
    "editable": true,
    "slideshow": {
     "slide_type": "subslide"
    },
    "tags": []
   },
   "source": [
    "### 1. **Repository (Repo)**\n",
    "A repository is like a project's folder that contains all the project files and the complete history of all changes made to those files. In GitHub, this repo is hosted online.\n",
    "\n",
    "This means you can keep versioned backups of files, share data and code, and never have the dog eat your homework again!\n",
    "\n",
    "![doghomework](https://i.giphy.com/media/v1.Y2lkPTc5MGI3NjExeXVmbWZ6ZWJsaHJ6N28zaDZkbXE5ZjE5NGI3bXduYWRvb2p3enFzciZlcD12MV9pbnRlcm5hbF9naWZfYnlfaWQmY3Q9Zw/l2Je2xMv1NGtcr2Mg/giphy.gif)"
   ]
  },
  {
   "cell_type": "markdown",
   "id": "90e0dcb2-3c16-4f8e-8f0c-3c91298f86ad",
   "metadata": {
    "editable": true,
    "slideshow": {
     "slide_type": "subslide"
    },
    "tags": []
   },
   "source": [
    "### 2. **Clone**\n",
    "Cloning means copying a repository from GitHub (or another location) to your local machine so you can work on it. The `git clone` command makes an exact copy of the repository.\n",
    "\n",
    "```bash\n",
    "git clone https://github.com/LooseLab/LIFE4138.git\n",
    "```"
   ]
  },
  {
   "cell_type": "markdown",
   "id": "c9135c27-9886-4076-9edb-becdaca1ff2c",
   "metadata": {
    "editable": true,
    "slideshow": {
     "slide_type": "subslide"
    },
    "tags": []
   },
   "source": [
    "### 3. **Staging Area**\n",
    "The staging area is where you prepare changes before making a commit. You add changes to the staging area using `git add` and then commit them when you’re ready.\n",
    "\n",
    "```bash\n",
    "git add mynewfile.txt\n",
    "```"
   ]
  },
  {
   "cell_type": "markdown",
   "id": "7e6025eb-ac60-4482-9e40-768b77453785",
   "metadata": {
    "editable": true,
    "slideshow": {
     "slide_type": "slide"
    },
    "tags": []
   },
   "source": [
    "### 4. **Status**\n",
    "\n",
    "Status allows you to see the state of your github repository:\n",
    "\n",
    "Before adding a file:\n",
    "\n",
    "```console\n",
    "git status\n",
    "On branch main\n",
    "Your branch is up to date with 'main/main'.\n",
    "\n",
    "Changes not staged for commit:\n",
    "  (use \"git add <file>...\" to update what will be committed)\n",
    "  (use \"git restore <file>...\" to discard changes in working directory)\n",
    "\tmodified:   .ipynb_checkpoints/Lecture 1-checkpoint.ipynb\n",
    "\tmodified:   Lecture 1.ipynb\n",
    "\n",
    "Untracked files:\n",
    "  (use \"git add <file>...\" to include in what will be committed)\n",
    "\t../../.DS_Store\n",
    "\t../../.idea/\n",
    "\t../../.ipynb_checkpoints/\n",
    "\t../../.jupyter/\n",
    "\t../../store/\n",
    "\n",
    "no changes added to commit (use \"git add\" and/or \"git commit -a\")\n",
    "```\n",
    "\n",
    "after adding the file:\n",
    "\n",
    "```console\n",
    "git status\n",
    "On branch main\n",
    "Your branch is up to date with 'main/main'.\n",
    "\n",
    "Changes to be committed:\n",
    "  (use \"git restore --staged <file>...\" to unstage)\n",
    "\tnew file:   mynewfile.txt\n",
    "\n",
    "Changes not staged for commit:\n",
    "  (use \"git add <file>...\" to update what will be committed)\n",
    "  (use \"git restore <file>...\" to discard changes in working directory)\n",
    "\tmodified:   .ipynb_checkpoints/Lecture 1-checkpoint.ipynb\n",
    "\tmodified:   Lecture 1.ipynb\n",
    "\n",
    "Untracked files:\n",
    "  (use \"git add <file>...\" to include in what will be committed)\n",
    "\t../../.DS_Store\n",
    "\t../../.idea/\n",
    "\t../../.ipynb_checkpoints/\n",
    "\t../../.jupyter/\n",
    "\t../../store/\n",
    "```"
   ]
  },
  {
   "cell_type": "markdown",
   "id": "f28b57e0-e269-42fd-951b-346d031e2859",
   "metadata": {
    "editable": true,
    "slideshow": {
     "slide_type": "slide"
    },
    "tags": []
   },
   "source": [
    "### 5. **Commit**\n",
    "A commit is like saving a snapshot of your project at a specific point in time. It’s a set of changes that you've staged (prepared for commit) and recorded in the project’s history. A good commit has a descriptive message explaining what changes were made.\n",
    "\n",
    "```bash\n",
    "git commit -m \"Adding my new file\"\n",
    "```"
   ]
  },
  {
   "cell_type": "markdown",
   "id": "7fb8afb3-a4fe-4ab3-81dd-986f1da2c29c",
   "metadata": {
    "editable": true,
    "slideshow": {
     "slide_type": "subslide"
    },
    "tags": []
   },
   "source": [
    "### 6. **Branch**\n",
    "Branches allow you to work on different versions of your project at the same time. You can create a new branch to work on a feature without affecting the main (or master) branch. Once you're done, you can merge the branch back into the main branch.\n",
    "\n",
    "```bash\n",
    "git checkout -b new-feature\n",
    "```"
   ]
  },
  {
   "cell_type": "markdown",
   "id": "ecbcee3b-e090-4ce9-96d7-a3edbe1d10ca",
   "metadata": {
    "editable": true,
    "slideshow": {
     "slide_type": "subslide"
    },
    "tags": []
   },
   "source": [
    "### 7. **Merge**\n",
    "Merging is the process of taking the changes from one branch and applying them to another branch. Usually, this happens when you're done working on a feature and you merge it back into the main branch.\n",
    "\n",
    "```bash\n",
    "git merge new-feature\n",
    "```\n"
   ]
  },
  {
   "cell_type": "markdown",
   "id": "1af9e819-d1ae-45de-9135-7a459e6107dd",
   "metadata": {
    "editable": true,
    "slideshow": {
     "slide_type": "subslide"
    },
    "tags": []
   },
   "source": [
    "### 8. **Pull**\n",
    "Pulling means fetching the latest changes from the remote repository (e.g., GitHub) and merging them into your local copy. It’s a way to keep your local codebase up-to-date with the repository on GitHub.\n",
    "\n",
    "```bash\n",
    "git pull origin main\n",
    "```\n"
   ]
  },
  {
   "cell_type": "markdown",
   "id": "1d4def67-4e99-4ab9-9996-f210782881d4",
   "metadata": {
    "editable": true,
    "slideshow": {
     "slide_type": "subslide"
    },
    "tags": []
   },
   "source": [
    "### 9. **Push**\n",
    "Pushing means sending your changes (commits) from your local machine to the remote repository on GitHub. After making changes locally, you push them so others can see or work on them.\n",
    "\n",
    "```bash\n",
    "git push origin main\n",
    "```\n"
   ]
  },
  {
   "cell_type": "markdown",
   "id": "8ab4fd5a-a711-41ff-8fbb-1ff1547731a7",
   "metadata": {
    "editable": true,
    "slideshow": {
     "slide_type": "subslide"
    },
    "tags": []
   },
   "source": [
    "### 10. **Fork**\n",
    "Forking is creating a personal copy of someone else’s repository on GitHub. You can make changes to the forked repository without affecting the original project, and if you want your changes to be included in the original repo, you can create a **pull request**."
   ]
  },
  {
   "cell_type": "markdown",
   "id": "a00ca18e-4645-4369-9d53-aedcaa9c4e68",
   "metadata": {
    "editable": true,
    "slideshow": {
     "slide_type": "subslide"
    },
    "tags": []
   },
   "source": [
    "### 11. **Pull Request (PR)**\n",
    "A pull request is a request to the original repository’s owner to review and possibly merge the changes from your branch or fork into their project. It's a common workflow in open-source projects."
   ]
  },
  {
   "cell_type": "markdown",
   "id": "4b257db9-8896-4b0f-96f4-8c481159bcea",
   "metadata": {
    "editable": true,
    "slideshow": {
     "slide_type": "subslide"
    },
    "tags": []
   },
   "source": [
    "### 12. **HEAD**\n",
    "HEAD is a pointer to the latest commit in your current branch. When you make new commits, HEAD moves forward to point to the most recent commit.\n"
   ]
  },
  {
   "cell_type": "markdown",
   "id": "de656283-0562-44c8-b9aa-09ac3500341c",
   "metadata": {
    "editable": true,
    "slideshow": {
     "slide_type": "slide"
    },
    "tags": []
   },
   "source": [
    "\n",
    "\n",
    "## Basic Git Workflow\n",
    "1. **Clone a repository**: `git clone <repo-url>`\n",
    "2. **Make changes** to your files.\n",
    "3. **Stage the changes**: `git add .`\n",
    "4. **Commit the changes**: `git commit -m \"Describe what you did\"`\n",
    "5. **Push the changes to GitHub**: `git push origin <branch-name>`\n",
    "\n",
    "That’s the core Git workflow! You clone, make changes, commit, and push. Rinse and repeat.\n"
   ]
  },
  {
   "cell_type": "markdown",
   "id": "99a59791-eb7c-4c07-87f4-3d922df5159b",
   "metadata": {
    "editable": true,
    "slideshow": {
     "slide_type": ""
    },
    "tags": []
   },
   "source": [
    "# Git Resources:\n",
    "\n",
    "Software Carpentry:\n",
    "\n",
    "https://swcarpentry.github.io/git-novice/"
   ]
  },
  {
   "cell_type": "markdown",
   "id": "dad484c3-bfaf-465b-b648-fb61969dc17f",
   "metadata": {
    "editable": true,
    "slideshow": {
     "slide_type": "slide"
    },
    "tags": []
   },
   "source": [
    "# Note:\n",
    "\n",
    "You won't be able to push to the class repository!"
   ]
  },
  {
   "cell_type": "markdown",
   "id": "78f1fb32-608b-43ab-b8b9-fc93c4b8fd64",
   "metadata": {
    "editable": true,
    "slideshow": {
     "slide_type": "slide"
    },
    "tags": []
   },
   "source": [
    "# UNIX file systems\n",
    "\n",
    "## Overview\n",
    "- Unix uses a **hierarchical file system**.\n",
    "- The root directory is represented by `/`.\n",
    "- Everything in Unix is treated as a **file** – this includes directories, devices, and processes.\n",
    "\n",
    "![filesystems](../images/filesystem.svg)\n"
   ]
  },
  {
   "cell_type": "markdown",
   "id": "58624f96-16db-44a3-946d-b840902ba87e",
   "metadata": {
    "editable": true,
    "slideshow": {
     "slide_type": "slide"
    },
    "tags": []
   },
   "source": [
    "## Structure\n",
    "- **Root (`/`)**: The base of the file system. All other files and directories stem from here.\n",
    "- **/bin**: Essential user command binaries (e.g., ls, cat).\n",
    "- **/etc**: System-wide configuration files.\n",
    "- **/home**: User home directories.\n",
    "- **/var**: Variable files such as logs and databases.\n",
    "- **/usr**: Secondary hierarchy for system-wide libraries, binaries, and documentation.\n",
    "- **/dev**: Device files, representing hardware devices.\n",
    "\n",
    "![filesystems](../images/filesystem.svg)"
   ]
  },
  {
   "cell_type": "markdown",
   "id": "57523f33-3c6a-4035-a63a-af0c1a8a3b09",
   "metadata": {
    "editable": true,
    "slideshow": {
     "slide_type": "slide"
    },
    "tags": []
   },
   "source": [
    "## File Types\n",
    "- **Regular files**: Contain data (text, binary, etc.).\n",
    "- **Directories**: Special files that contain lists of other files.\n",
    "- **Symbolic Links**: Shortcuts or references to other files.\n",
    "- **Special files**: Devices or processes, such as `/dev/null`."
   ]
  },
  {
   "cell_type": "markdown",
   "id": "9ffb366e-87df-4a3a-b630-3695cb861ad3",
   "metadata": {
    "editable": true,
    "slideshow": {
     "slide_type": "slide"
    },
    "tags": []
   },
   "source": [
    "## Key Concepts\n",
    "- **Everything is a file**: Directories, devices, and even input/output streams are treated as files.\n",
    "- **Case-sensitive**: File names are case-sensitive in Unix (`file.txt` is different from `File.txt`).\n",
    "- **Permissions**: Files and directories have read, write, and execute permissions for the owner, group, and others.\n"
   ]
  },
  {
   "cell_type": "markdown",
   "id": "97102bde-3247-405e-9303-5a3c90ed21f0",
   "metadata": {
    "editable": true,
    "slideshow": {
     "slide_type": "slide"
    },
    "tags": []
   },
   "source": [
    "## Common Commands\n",
    "- `ls` – List directory contents.\n",
    "- `cd` – Change directory.\n",
    "- `cp` – Copy files or directories.\n",
    "- `mv` – Move or rename files.\n",
    "- `rm` – Remove files or directories.\n",
    "- `chmod` – Change file permissions.\n",
    "- `df` – Show disk space usage."
   ]
  },
  {
   "cell_type": "markdown",
   "id": "838e4ae6-702f-4ef0-82ad-f888fcc3be99",
   "metadata": {
    "editable": true,
    "slideshow": {
     "slide_type": "slide"
    },
    "tags": []
   },
   "source": [
    "## Summary\n",
    "- The Unix file system is structured as a tree with the root at `/`.\n",
    "- Directories serve to organize files and other directories.\n",
    "- Understanding the hierarchy and key directories is critical for system navigation and management.\n"
   ]
  },
  {
   "cell_type": "markdown",
   "id": "1b53ba98-d34e-4b71-bf13-18a70c17c140",
   "metadata": {
    "editable": true,
    "slideshow": {
     "slide_type": "slide"
    },
    "tags": []
   },
   "source": [
    "# The Home Folder\n",
    "\n",
    "## Overview\n",
    "- The **home folder** is a directory designated for a specific user on Unix-like systems.\n",
    "- Each user has a unique home folder, typically located under `/home/` followed by their username (e.g., `/home/username`).\n",
    "- It serves as the **default working directory** when a user logs in.\n",
    "\n",
    "![home folder](../images/home-directories.svg)"
   ]
  },
  {
   "cell_type": "markdown",
   "id": "2459e016-576f-4059-9fe7-e942852e023d",
   "metadata": {
    "editable": true,
    "slideshow": {
     "slide_type": "slide"
    },
    "tags": []
   },
   "source": [
    "## Purpose\n",
    "- The home folder is where users can store their personal files, settings, and configuration files.\n",
    "- System-level files and programs are kept separate from the user's files, ensuring that users do not interfere with system operations.\n",
    "\n",
    "![home folder](../images/home-directories.svg)"
   ]
  },
  {
   "cell_type": "markdown",
   "id": "7e5d7689-b462-48e3-98de-1a31bb26fb2f",
   "metadata": {
    "editable": true,
    "slideshow": {
     "slide_type": "slide"
    },
    "tags": []
   },
   "source": [
    "## Common Directories Inside Home\n",
    "- **~/Documents**: Personal documents.\n",
    "- **~/Downloads**: Files downloaded from the internet or other sources.\n",
    "- **~/Desktop**: Files and folders shown on the desktop.\n",
    "- **~/Pictures**: Images and photos.\n",
    "- **~/Music**: Music and audio files."
   ]
  },
  {
   "cell_type": "markdown",
   "id": "eb65f1a7-bfa0-41c1-9ab7-1a8bd1ad0d33",
   "metadata": {
    "editable": true,
    "slideshow": {
     "slide_type": "slide"
    },
    "tags": []
   },
   "source": [
    "## Hidden Files\n",
    "- Many configuration files in the home folder are hidden by default and start with a dot (`.`), such as `.bashrc` and `.profile`.\n",
    "- These files store personal preferences and settings for programs and the shell environment.\n"
   ]
  },
  {
   "cell_type": "markdown",
   "id": "6ac32528-6cfa-4200-a691-b18371ffc186",
   "metadata": {
    "editable": true,
    "slideshow": {
     "slide_type": "slide"
    },
    "tags": []
   },
   "source": [
    "## Access and Permissions\n",
    "- Users have full read, write, and execute permissions within their own home folder.\n",
    "- Other users on the system typically do not have access to someone else’s home folder unless explicitly granted.\n"
   ]
  },
  {
   "cell_type": "markdown",
   "id": "18026a7f-22c5-4ebc-bb53-50ef88f5f65e",
   "metadata": {
    "editable": true,
    "slideshow": {
     "slide_type": "slide"
    },
    "tags": []
   },
   "source": [
    "## Home Folder Symbol (~)\n",
    "- The tilde (`~`) is a shorthand symbol representing the current user's home directory.\n",
    "  - Example: `cd ~` will take you to your home directory.\n",
    "\n",
    "## Summary\n",
    "- The home folder is a personal workspace where users can organize their files and configurations without impacting the broader system.\n",
    "- It keeps each user’s files separate and protected from other users on the system."
   ]
  },
  {
   "cell_type": "markdown",
   "id": "165e3d97-da9c-4105-a000-bc6672daa342",
   "metadata": {
    "editable": true,
    "slideshow": {
     "slide_type": "slide"
    },
    "tags": []
   },
   "source": [
    "# Relative vs. Absolute Paths"
   ]
  },
  {
   "cell_type": "markdown",
   "id": "4df2879e-a9e3-48e3-8f28-73abe0136e75",
   "metadata": {
    "editable": true,
    "slideshow": {
     "slide_type": "fragment"
    },
    "tags": []
   },
   "source": [
    "## Absolute Path\n",
    "\n",
    "- An **absolute path** refers to the full path to a file or directory from the root of the file system (`/`).\n",
    "- It always starts with a `/`, which represents the root directory.\n",
    "- Absolute paths give the complete location of a file or directory, no matter where you are in the system.\n",
    "\n",
    "### Example:\n",
    "```bash\n",
    "/home/username/Documents/report.txt\n",
    "```\n",
    "- This path points to the file `report.txt` in the `Documents` folder of the user `username`, starting from the root (`/`).\n"
   ]
  },
  {
   "cell_type": "markdown",
   "id": "eb8b8320-824b-4cb5-b113-9efef9deeedd",
   "metadata": {
    "editable": true,
    "slideshow": {
     "slide_type": ""
    },
    "tags": []
   },
   "source": [
    "## Relative Path\n",
    "\n",
    "- A **relative path** is a path to a file or directory relative to your current working directory.\n",
    "- It does **not** start with `/` and is dependent on your current location in the file system.\n",
    "- Relative paths are convenient when working within a specific directory and you don’t need to specify the full location.\n",
    "\n",
    "### Example:\n",
    "```bash\n",
    "Documents/report.txt\n",
    "```\n",
    "- This path points to `report.txt` inside the `Documents` folder, assuming your current directory is `/home/username`.\n"
   ]
  },
  {
   "cell_type": "markdown",
   "id": "8ab2fee3-d3d9-4b8b-8f98-435dfb044b5d",
   "metadata": {
    "editable": true,
    "slideshow": {
     "slide_type": "slide"
    },
    "tags": []
   },
   "source": [
    "## Special Symbols in Relative Paths:\n",
    "- `.` (dot): Refers to the current directory.\n",
    "  - Example: `./file.txt` refers to `file.txt` in the current directory.\n",
    "- `..` (double dot): Refers to the parent directory (one level up).\n",
    "  - Example: `../file.txt` refers to `file.txt` in the parent directory.\n"
   ]
  },
  {
   "cell_type": "markdown",
   "id": "56a8e4e5-2392-42e5-9692-891330c94ee8",
   "metadata": {
    "editable": true,
    "slideshow": {
     "slide_type": ""
    },
    "tags": []
   },
   "source": [
    "## Key Differences\n",
    "\n",
    "| **Absolute Path**                | **Relative Path**                  |\n",
    "|----------------------------------|------------------------------------|\n",
    "| Starts from the root (`/`)       | Starts from the current directory  |\n",
    "| Always provides the full path    | Changes based on current location  |\n",
    "| Can be used anywhere on the system | Depends on the working directory   |\n",
    "\n",
    "## Summary\n",
    "\n",
    "- Use **absolute paths** when you need to specify the exact location of a file or directory, regardless of your current working directory.\n",
    "- Use **relative paths** for convenience when working within a specific directory, as it can save time by omitting unnecessary details.\n"
   ]
  },
  {
   "cell_type": "markdown",
   "id": "13b5744e-6c16-421c-9fc8-e10694897a66",
   "metadata": {
    "editable": true,
    "slideshow": {
     "slide_type": "slide"
    },
    "tags": []
   },
   "source": [
    "# Tab Autocompletion in Unix-like Systems\n",
    "\n",
    "## Overview\n",
    "\n",
    "- **Tab autocompletion** is a feature in Unix-like systems (such as Linux and macOS) that allows you to quickly complete file names, directory names, and commands by pressing the `Tab` key.\n",
    "- It helps speed up navigation in the terminal by reducing the need to type long file names or paths manually."
   ]
  },
  {
   "cell_type": "markdown",
   "id": "f55bf027-4f24-4314-8cc6-efcbec61b7d1",
   "metadata": {
    "editable": true,
    "slideshow": {
     "slide_type": "subslide"
    },
    "tags": []
   },
   "source": [
    "## How It Works\n",
    "\n",
    "1. **Typing a Command**: Start typing the name of a command or file.\n",
    "2. **Press `Tab`**: If what you've typed so far is unique, the terminal will automatically complete the command or file name.\n",
    "3. **Multiple Matches**: If there are multiple possible matches, pressing `Tab` twice will show a list of possible options.\n",
    "4. **Navigate Through Directories**: You can also use tab completion to move through directories quickly. Type part of a directory name, press `Tab`, and the system will auto-complete the rest.\n",
    "\n",
    "### Example: Autocompleting Commands\n",
    "\n",
    "```bash\n",
    "ls /ho[TAB]\n",
    "```\n",
    "\n",
    "- If you press `Tab` after typing `/ho`, the terminal might complete it to `/home` if that’s the only match.\n",
    "\n",
    "### Example: Autocompleting File Paths\n",
    "\n",
    "```bash\n",
    "cd /home/user/Doc[TAB]\n",
    "```\n",
    "\n",
    "- Pressing `Tab` after typing `/home/user/Doc` might complete to `/home/user/Documents/` if that directory exists.\n",
    "\n"
   ]
  },
  {
   "cell_type": "markdown",
   "id": "622f7038-3bea-4c4f-a3a5-1be30e7b5c8e",
   "metadata": {
    "editable": true,
    "slideshow": {
     "slide_type": "slide"
    },
    "tags": []
   },
   "source": [
    "## Benefits of Tab Autocompletion\n",
    "\n",
    "- **Saves Time**: No need to type out long directory paths or file names.\n",
    "- **Reduces Errors**: Autocompletion helps avoid typos, especially for complex file names or paths.\n",
    "- **Explore Options**: If you're unsure about a command or file name, pressing `Tab` twice can show all possible matches.\n",
    "\n",
    "## Key Features\n",
    "\n",
    "- **Partial Completion**: If you've typed a unique part of a name, pressing `Tab` will complete the rest.\n",
    "- **Double Tab for Suggestions**: If there are multiple possible matches, pressing `Tab` twice lists all available options.\n",
    "- **Cross-Environment Support**: Works in most Unix-like terminal environments (e.g., Bash, Zsh).\n",
    "\n",
    "## Summary\n",
    "\n",
    "- **Tab autocompletion** is a simple yet powerful feature to speed up terminal navigation and reduce typing errors.\n",
    "- It’s especially helpful when working with deep directory structures or when you're unsure of the exact file or command name."
   ]
  },
  {
   "cell_type": "markdown",
   "id": "f3dc7ee4-3f23-4067-9598-47bc7490ff51",
   "metadata": {
    "editable": true,
    "slideshow": {
     "slide_type": "slide"
    },
    "tags": []
   },
   "source": [
    "## 1. The Root Directory (`/`)\n",
    "\n",
    "- The root directory (`/`) is the top-level directory in the Unix file system. All other directories and files are organized beneath it.\n",
    "- You can think of it as the starting point of the directory tree.\n",
    "\n",
    "```bash\n",
    "/\n",
    "|-- home/\n",
    "|   |-- username/\n",
    "|       |-- Documents/\n",
    "|       |-- Downloads/\n",
    "|-- etc/\n",
    "|-- var/\n",
    "```\n",
    "\n"
   ]
  },
  {
   "cell_type": "markdown",
   "id": "27bcd00f-579e-4acc-8f01-ec26533edb89",
   "metadata": {
    "editable": true,
    "slideshow": {
     "slide_type": "slide"
    },
    "tags": []
   },
   "source": [
    "\n",
    "\n",
    "## 2. Viewing the Current Directory (`pwd`)\n",
    "\n",
    "- To see which directory you are currently in, use the `pwd` (print working directory) command:\n",
    "\n",
    "```bash\n",
    "$ pwd\n",
    "/home/username\n",
    "```\n",
    "\n",
    "This shows you the absolute path of your current location.\n",
    "\n"
   ]
  },
  {
   "cell_type": "markdown",
   "id": "76c83474-1067-4000-bebe-874c52d138c3",
   "metadata": {
    "editable": true,
    "slideshow": {
     "slide_type": "slide"
    },
    "tags": []
   },
   "source": [
    "## 3. Listing Directory Contents (`ls`)\n",
    "\n",
    "- The `ls` command lists the contents of the current directory:\n",
    "\n",
    "```bash\n",
    "$ ls\n",
    "Documents Downloads Music Pictures\n",
    "```\n",
    "\n",
    "### Common Options for `ls`:\n",
    "- `ls -a`: Lists **all files**, including hidden ones (files starting with a dot `.`).\n",
    "- `ls -l`: Lists files in a detailed format, showing permissions, size, and modification time.\n",
    "- `ls -lh`: Adds **human-readable** file sizes (e.g., KB, MB).\n"
   ]
  },
  {
   "cell_type": "markdown",
   "id": "2513733c-29f5-41ca-978b-88101c8a1586",
   "metadata": {
    "editable": true,
    "slideshow": {
     "slide_type": "slide"
    },
    "tags": []
   },
   "source": [
    "## 4. Changing Directories (`cd`)\n",
    "\n",
    "- The `cd` (change directory) command is used to navigate between directories.\n",
    "\n",
    "### Example: Moving into a Directory\n",
    "\n",
    "```bash\n",
    "$ cd Documents\n",
    "```\n",
    "\n",
    "- This moves you into the `Documents` directory. You can confirm your location with `pwd`:\n",
    "\n",
    "```bash\n",
    "$ pwd\n",
    "/home/username/Documents\n",
    "```\n",
    "\n",
    "### Moving Up One Directory Level:\n",
    "\n",
    "```bash\n",
    "$ cd ..\n",
    "```\n",
    "\n",
    "- The `..` symbol refers to the **parent directory** (one level up). If you're in `/home/username/Documents`, `cd ..` will take you back to `/home/username`.\n",
    "\n",
    "### Moving Back to Your Home Directory:\n",
    "\n",
    "```bash\n",
    "$ cd ~\n",
    "```\n",
    "\n",
    "- The `~` (tilde) symbol represents your home directory. Use this command to return to your home directory from anywhere.\n",
    "\n",
    "### Navigating Using Absolute Paths:\n",
    "\n",
    "```bash\n",
    "$ cd /home/username/Downloads\n",
    "```\n",
    "\n",
    "- This command uses the **absolute path**, starting from the root `/`, to go directly to the `Downloads` directory.\n",
    "\n",
    "### Navigating Using Relative Paths:\n",
    "\n",
    "```bash\n",
    "$ cd Documents/Work\n",
    "```\n",
    "\n",
    "- This uses a **relative path** to move into the `Work` directory inside `Documents`, assuming you are currently in `/home/username`.\n"
   ]
  },
  {
   "cell_type": "markdown",
   "id": "00b4fc85-2324-48f8-af8a-e1392a0ad62e",
   "metadata": {
    "editable": true,
    "slideshow": {
     "slide_type": "slide"
    },
    "tags": []
   },
   "source": [
    "## 5. Viewing File Contents (`cat`, `less`)\n",
    "\n",
    "Once you've navigated to a directory containing files, you may want to view the contents of a file.\n",
    "\n",
    "- **`cat`**: Outputs the entire contents of a file:\n",
    "\n",
    "```bash\n",
    "$ cat filename.txt\n",
    "```\n",
    "\n",
    "- **`less`**: Allows you to scroll through large files one screen at a time:\n",
    "\n",
    "```bash\n",
    "$ less filename.txt\n",
    "```\n",
    "\n",
    "- Use the `Up`/`Down` arrow keys to scroll, and press `q` to quit.\n"
   ]
  },
  {
   "cell_type": "markdown",
   "id": "3e0b9aa4-7c58-4812-ad44-922651a1d30c",
   "metadata": {
    "editable": true,
    "slideshow": {
     "slide_type": "slide"
    },
    "tags": []
   },
   "source": [
    "## 6. Hidden Files and Directories\n",
    "\n",
    "- Files or directories starting with a `.` are hidden by default. Use `ls -a` to see hidden files:\n",
    "\n",
    "```bash\n",
    "$ ls -a\n",
    ".  ..  .hiddenfile  Documents  Downloads\n",
    "```\n",
    "\n",
    "- `.` refers to the **current directory**.\n",
    "- `..` refers to the **parent directory**."
   ]
  },
  {
   "cell_type": "markdown",
   "id": "15a7157e-5c89-4103-b22f-90bfa8dde2a1",
   "metadata": {
    "editable": true,
    "slideshow": {
     "slide_type": ""
    },
    "tags": []
   },
   "source": [
    "## 7. Creating Directories (`mkdir`)\n",
    "\n",
    "- You can create new directories using the `mkdir` command:\n",
    "\n",
    "```bash\n",
    "$ mkdir NewFolder\n",
    "```\n",
    "\n",
    "This creates a directory named `NewFolder` in your current location.\n"
   ]
  },
  {
   "cell_type": "markdown",
   "id": "87b657b4-c066-4010-9468-09eeab8a1792",
   "metadata": {
    "editable": true,
    "slideshow": {
     "slide_type": ""
    },
    "tags": []
   },
   "source": [
    "## 8. Summary of Key Commands\n",
    "\n",
    "| **Command**     | **Description**                                   |\n",
    "|-----------------|---------------------------------------------------|\n",
    "| `pwd`           | Print the current working directory               |\n",
    "| `ls`            | List the contents of a directory                  |\n",
    "| `ls -a`         | List all files, including hidden ones             |\n",
    "| `cd directory`  | Change to a specified directory                   |\n",
    "| `cd ..`         | Move up to the parent directory                   |\n",
    "| `cd ~`          | Go to your home directory                         |\n",
    "| `cat filename`  | Display the contents of a file                    |\n",
    "| `less filename` | View a file with scrolling                        |\n",
    "| `mkdir dir`     | Create a new directory                            |\n",
    "| `tree`          | Show directory structure (if installed)           |\n",
    "\n",
    "---\n",
    "\n",
    "With these commands, you'll be able to efficiently navigate, explore, and manage files in a Unix-like system. Practice moving between directories, viewing files, and manipulating the file system to become more comfortable working in the terminal!\n"
   ]
  },
  {
   "cell_type": "markdown",
   "id": "e358e2b4-661d-4804-86ba-c47442b37729",
   "metadata": {
    "editable": true,
    "slideshow": {
     "slide_type": "slide"
    },
    "tags": []
   },
   "source": [
    "# Demo - move to terminal!"
   ]
  },
  {
   "cell_type": "markdown",
   "id": "8342d6d5-7720-4398-add6-d66887b7d3df",
   "metadata": {
    "editable": true,
    "slideshow": {
     "slide_type": "slide"
    },
    "tags": []
   },
   "source": [
    "# Unix File System Navigation Exercise\n",
    "\n",
    "In this exercise, you'll explore a complex file system structure and use Unix commands to find specific pieces of information. Use commands like `cd`, `ls`, `cat`, `less`, and `grep` to navigate and read files.\n",
    "\n",
    "## Part 1: Exploring the Folder Structure\n",
    "\n",
    "1. **List the top-level directories**:\n",
    "   - What are the directories located directly under the `unix_exploration` folder?\n",
    "   \n",
    "   **Hint**: Use the `ls` command.\n",
    "\n",
    "2. **Navigate to the `Documents` directory**:\n",
    "   - Change into the `Documents/Work` folder. What files are present in this directory?\n",
    "\n",
    "   **Hint**: Use `cd` to navigate and `ls` to list the contents.\n",
    "\n",
    "3. **Find hidden files**:\n",
    "   - Are there any hidden files or directories in the `unix_exploration` folder?\n",
    "\n",
    "   **Hint**: Use `ls -a` to see hidden files.\n",
    "\n",
    "---\n",
    "\n",
    "## Tips:\n",
    "- Use `pwd` to check your current location in the file system.\n",
    "- Use `cd` to change directories and `ls` to list directory contents.\n",
    "- Use `cat` or `less` to view file contents, and `grep` to search for specific text inside files.\n",
    "\n",
    "Good luck exploring!"
   ]
  },
  {
   "cell_type": "markdown",
   "id": "d23544d8-219e-4ffb-90f0-7289eb102260",
   "metadata": {
    "editable": true,
    "slideshow": {
     "slide_type": "slide"
    },
    "tags": []
   },
   "source": [
    "## Part 2: Locating Specific Files\n",
    "\n",
    "4. **Find a quote by Theodosius Dobzhansky**:\n",
    "   - Navigate to the file that contains a famous quote by the biologist Theodosius Dobzhansky. What is the full quote?\n",
    "\n",
    "   **Hint**: Start exploring the `Projects` directory. Use `cat` or `less` to read the file contents.\n",
    "\n",
    "5. **Explore the `Downloads` directory**:\n",
    "   - What quote is stored in the `novel.txt` file located in the `Downloads/Books` directory?\n",
    "\n",
    "   **Hint**: Use `cd` and `cat` to navigate and view the file content.\n",
    "\n",
    "\n",
    "---\n",
    "\n",
    "## Tips:\n",
    "- Use `pwd` to check your current location in the file system.\n",
    "- Use `cd` to change directories and `ls` to list directory contents.\n",
    "- Use `cat` or `less` to view file contents, and `grep` to search for specific text inside files.\n",
    "\n",
    "Good luck exploring!"
   ]
  },
  {
   "cell_type": "markdown",
   "id": "7fce13d7-1bd5-4f86-9ad0-5fcae33cfaab",
   "metadata": {
    "editable": true,
    "slideshow": {
     "slide_type": "slide"
    },
    "tags": []
   },
   "source": [
    "## Part 3: Chromosome Exploration\n",
    "\n",
    "6. **Find information about Chromosome 7**:\n",
    "   - Navigate to the folder containing information about Chromosome 7. What disease is associated with mutations in this chromosome?\n",
    "\n",
    "   **Hint**: Look inside the `Chromosomes/Chromosome7` folder and use `cat` to read the `diseases.txt` file.\n",
    "\n",
    "7. **Explore a specific chromosome**:\n",
    "   - What diseases are caused by mutations on Chromosome 18?\n",
    "\n",
    "   **Hint**: Navigate to `Chromosomes/Chromosome18` and inspect the `diseases.txt` file.\n",
    "\n",
    "8. **Search for information across all chromosomes**:\n",
    "   - Use a command to search for the term \"Down syndrome\" in the chromosome directory. Which chromosome is it linked to?\n",
    "\n",
    "   **Hint**: Use the `grep` command to search for the term within the `Chromosomes` folder.\n",
    "\n",
    "---\n",
    "\n",
    "## Tips:\n",
    "- Use `pwd` to check your current location in the file system.\n",
    "- Use `cd` to change directories and `ls` to list directory contents.\n",
    "- Use `cat` or `less` to view file contents, and `grep` to search for specific text inside files.\n",
    "\n",
    "Good luck exploring!"
   ]
  },
  {
   "cell_type": "markdown",
   "id": "58cf5dc0-bdb8-4fe3-8e52-dc511d3dde88",
   "metadata": {
    "editable": true,
    "slideshow": {
     "slide_type": "slide"
    },
    "tags": []
   },
   "source": [
    "## Part 4: Advanced Navigation\n",
    "\n",
    "9. **Navigate using relative paths**:\n",
    "   - From the `Documents` folder, how would you navigate to the `Projects/Code/Python/Modules` directory using a relative path?\n",
    "\n",
    "   **Hint**: Remember to move up a level with `..` and explore from there.\n",
    "\n",
    "10. **Use an absolute path**:\n",
    "   - From any location, navigate directly to the `ChromosomeY` folder using an absolute path. What diseases are associated with this chromosome?\n",
    "\n",
    "   **Hint**: Use the full path starting from `/`.\n",
    "\n",
    "## Part 5: Bonus Challenge\n",
    "\n",
    "11. **Find the secret hidden file**:\n",
    "   - There is a hidden folder in the `unix_exploration` directory. Inside that folder is a file containing secret information. What is the content of that file?\n",
    "\n",
    "   **Hint**: Use `ls -a` to find hidden folders and files. Then navigate and read the file using `cat`.\n",
    "\n",
    "---\n",
    "\n",
    "## Tips:\n",
    "- Use `pwd` to check your current location in the file system.\n",
    "- Use `cd` to change directories and `ls` to list directory contents.\n",
    "- Use `cat` or `less` to view file contents, and `grep` to search for specific text inside files.\n",
    "\n",
    "Good luck exploring!"
   ]
  }
 ],
 "metadata": {
  "kernelspec": {
   "display_name": "Python 3 (ipykernel)",
   "language": "python",
   "name": "python3"
  },
  "language_info": {
   "codemirror_mode": {
    "name": "ipython",
    "version": 3
   },
   "file_extension": ".py",
   "mimetype": "text/x-python",
   "name": "python",
   "nbconvert_exporter": "python",
   "pygments_lexer": "ipython3",
   "version": "3.12.5"
  },
  "rise": {
   "enable_chalkboard": true,
   "scroll": true,
   "theme": "serif",
   "transition": "fade"
  }
 },
 "nbformat": 4,
 "nbformat_minor": 5
}
