{
 "cells": [
  {
   "cell_type": "markdown",
   "id": "e7d6dc05-53e1-4c86-9d9a-ffa901a05b83",
   "metadata": {
    "editable": true,
    "slideshow": {
     "slide_type": "slide"
    },
    "tags": []
   },
   "source": [
    "# LIFE4138\n",
    "\n",
    "## Professor Matthew Loose \n",
    "\n",
    "matt.loose@nottingham.ac.uk\n",
    "\n",
    "## Dr Laura Dean\n",
    "\n",
    "laura.dean@nottingham.ac.uk\n"
   ]
  },
  {
   "cell_type": "markdown",
   "id": "b720296f",
   "metadata": {
    "editable": true,
    "slideshow": {
     "slide_type": "subslide"
    },
    "tags": []
   },
   "source": [
    "<div style=\"text-align: center;\">\n",
    "  <img src=\"../images/training.webp\" alt=\"Class at work\" />\n",
    "</div>"
   ]
  },
  {
   "cell_type": "markdown",
   "id": "d3ca3708",
   "metadata": {
    "editable": true,
    "slideshow": {
     "slide_type": "subslide"
    },
    "tags": []
   },
   "source": [
    "<div style=\"text-align: center;\">\n",
    "  <img src=\"../images/cheerytraining.webp\" alt=\"Cheery class at work\" />\n",
    "</div>"
   ]
  },
  {
   "cell_type": "markdown",
   "id": "0e6d3454",
   "metadata": {
    "editable": true,
    "slideshow": {
     "slide_type": "slide"
    },
    "tags": []
   },
   "source": [
    "# Module Goals\n",
    "\n",
    "### Learn Unix\n",
    "\n",
    "### Learn R\n",
    "\n",
    "### Learn Python\n",
    "\n",
    "### Become a coding expert!\n",
    "\n",
    "All by week 10!\n"
   ]
  },
  {
   "cell_type": "markdown",
   "id": "c63b8eee-9185-4eee-9db0-1205359b005e",
   "metadata": {
    "editable": true,
    "slideshow": {
     "slide_type": "slide"
    },
    "tags": []
   },
   "source": [
    "# Module Goals\n",
    "\n",
    "## Just kidding!\n",
    "\n",
    "\n"
   ]
  },
  {
   "cell_type": "markdown",
   "id": "0cc1cb21-2d8b-47a8-8a85-008e6bb77db0",
   "metadata": {
    "editable": true,
    "slideshow": {
     "slide_type": "fragment"
    },
    "tags": []
   },
   "source": [
    "We aim to teach you the basics, but most importantly we aim to teach you how to learn.\n",
    "\n",
    "\n",
    "**--Give a Man a Fish, and You Feed Him for a Day. Teach a Man To Fish, and You Feed Him for a Lifetime.--**\n",
    "\n",
    "<img src=\"https://i.giphy.com/media/v1.Y2lkPTc5MGI3NjExcGtjaHoybnFxN3RyMmp3MzdrcmJ2MThsejE1ZjQxMWpvazc0N2MyZSZlcD12MV9pbnRlcm5hbF9naWZfYnlfaWQmY3Q9Zw/26tk0aLx4Aj4lxx3W/giphy.gif\" alt=\"description\" style=\"width: 100%; max-width: 1000px; height: auto;\">\n"
   ]
  },
  {
   "cell_type": "markdown",
   "id": "75e709b6-1189-41dd-a3c6-ec9b97b1d7ec",
   "metadata": {
    "editable": true,
    "slideshow": {
     "slide_type": "slide"
    },
    "tags": []
   },
   "source": [
    "# We want you to GROK!\n",
    "\n",
    "\n",
    "\n"
   ]
  },
  {
   "cell_type": "markdown",
   "id": "00eb9585-dcb7-497c-9d12-a528d033b032",
   "metadata": {
    "editable": true,
    "slideshow": {
     "slide_type": "fragment"
    },
    "tags": []
   },
   "source": [
    ":GROK To grok something means to understand it deeply and intuitively. The term suggests not just intellectual comprehension, but a thorough, almost instinctive understanding of a subject or concept. It implies that the person \"groks\" something so completely that they can fully internalize its meaning or function.\n",
    "\n",
    "The term originates from the 1961 science fiction novel Stranger in a Strange Land by Robert A. Heinlein, where it comes from the Martian language and means to \"drink\" or \"absorb\" in a metaphorical sense. In tech and hacker culture, it’s often used to describe a deep mastery or grasp of a complex subject, like coding, systems, or ideas.\n",
    "\n",
    "For example, \"I grok Bash scripting\" would mean the person has an intuitive and complete understanding of writing scripts in Bash.\n",
    "\n",
    "\n",
    "\n",
    "\n"
   ]
  },
  {
   "cell_type": "markdown",
   "id": "f66ce4b5-9c24-43fc-97ba-85339774e7ae",
   "metadata": {
    "editable": true,
    "slideshow": {
     "slide_type": "fragment"
    },
    "tags": []
   },
   "source": [
    "<img src=\"https://i.giphy.com/media/v1.Y2lkPTc5MGI3NjExZTNibDlrNW04ZXk1enZxaXJmYWV4eHJkOHFnc2tlZ3M5ODhnMHV3biZlcD12MV9pbnRlcm5hbF9naWZfYnlfaWQmY3Q9Zw/K1nPCEuN2rwG1zJg04/giphy.gif\" alt=\"description\" style=\"width: 100%; max-width: 1000px; height: auto;\">\n",
    "\n",
    "\n"
   ]
  },
  {
   "cell_type": "markdown",
   "id": "5414037c-410e-4507-ab3d-22f661fbbd83",
   "metadata": {
    "editable": true,
    "slideshow": {
     "slide_type": "slide"
    },
    "tags": []
   },
   "source": [
    "# Talking of **Grok** and Fish...\n",
    "\n",
    "https://software-carpentry.org/\n",
    "\n",
    "Software carpentry is a key resource. We will not duplicate the material in those lessons BUT they will be orthogonal to what we do here.\n",
    "\n",
    "Go to software carpentry.\n",
    "\n",
    "Go through the materials.\n",
    "\n",
    "Use the knowledge you have gained to improve your bioinformatics life!\n",
    "\n",
    "\n"
   ]
  },
  {
   "cell_type": "markdown",
   "id": "c2c8c098",
   "metadata": {
    "editable": true,
    "slideshow": {
     "slide_type": "slide"
    },
    "tags": []
   },
   "source": [
    "# Cheating\n",
    "\n",
    "Cheating is **wrong**.\n",
    "\n",
    "In the age of chatGPT/ClaudeAI/Bing/Grok/Custom LLMs (the list goes on)... it is easy to cheat. Ultimately cheating using these tools will only hurt you.\n",
    "\n",
    "We will try and demonstrate **ethical** use of tools such as these in coding.\n",
    "\n",
    "We will also refer you to \"CheatSheets\" which provide simple guides to common problems.\n",
    "\n"
   ]
  },
  {
   "cell_type": "markdown",
   "id": "d4ceffa9",
   "metadata": {
    "editable": true,
    "slideshow": {
     "slide_type": "slide"
    },
    "tags": []
   },
   "source": [
    "# ChatGPT etc\n",
    "\n",
    "\n",
    "The use of LLMs to write assignments, generate code in its entirety, solve all your problems and be awarded a degree is forbidden. \n",
    "\n",
    "However - you are encouraged to use search engines, the internet, self training courses and to appropriately use LLMs in your studies."
   ]
  },
  {
   "cell_type": "markdown",
   "id": "519342f0-b618-48b2-aea4-1a763ea0244c",
   "metadata": {
    "editable": true,
    "slideshow": {
     "slide_type": "slide"
    },
    "tags": []
   },
   "source": [
    "# Module Format\n",
    "\n",
    "\n",
    "We will meet twice a week. In each session it will be a mix of teaching, workshops and self learning.\n",
    "\n",
    "There will be **homework**.\n",
    "\n"
   ]
  },
  {
   "cell_type": "markdown",
   "id": "52bcd1e6-d5d2-4ce8-b125-29be908832cb",
   "metadata": {
    "editable": true,
    "slideshow": {
     "slide_type": "slide"
    },
    "tags": []
   },
   "source": [
    "# Assessment\n",
    "\n",
    "\n",
    "TBD\n",
    "\n"
   ]
  },
  {
   "attachments": {},
   "cell_type": "markdown",
   "id": "40ab0c7a-17ee-4744-a498-2470bd0b098e",
   "metadata": {
    "editable": true,
    "slideshow": {
     "slide_type": "slide"
    },
    "tags": []
   },
   "source": [
    "# Introduction to Unix\n",
    "\n",
    "## Professor Matthew Loose\n",
    "\n",
    "### Week 1 Workshop 1\n",
    "\n",
    "Unix Workshop - Week 1\n",
    "\n",
    "matt.loose@nottingham.ac.uk\n"
   ]
  },
  {
   "cell_type": "markdown",
   "id": "682b0c51-6ccd-40ae-83b3-22b0187e1141",
   "metadata": {
    "editable": true,
    "slideshow": {
     "slide_type": "slide"
    },
    "tags": []
   },
   "source": [
    "## Introduction\n",
    "\n",
    "Welcome to the first workshop on Unix. \n",
    "\n",
    "In this workshop, we will introduce you to some basic Unix commands and how to navigate and manipulate files in a Unix environment.\n",
    "\n",
    "<div style=\"text-align: center;\">\n",
    "  <img src=\"https://miro.medium.com/v2/resize:fit:1400/1*DGiErynhxM9XkzzBMUd1Vw.png\" alt=\"Linux\" />\n",
    "</div>\n",
    "\n",
    "\n",
    "We will also use: GIT \n",
    "\n",
    "<div style=\"text-align: center;\">\n",
    "  <img src=\"https://miro.medium.com/v2/resize:fit:720/format:webp/1*mtsk3fQ_BRemFidhkel3dA.png\" alt=\"GITHUB\" />\n",
    "</div>\n",
    "\n",
    "\n",
    "\n",
    "and Jupyter Lab\n",
    "\n",
    "<div style=\"text-align: center;\">\n",
    "  <img src=\"https://www.tng-project.org/static/data/lab_logo_tng.png\" alt=\"jupyter lab\" />\n",
    "</div>"
   ]
  },
  {
   "cell_type": "markdown",
   "id": "c9fb661f-55f0-40fc-95e8-54aa165e51a6",
   "metadata": {
    "editable": true,
    "slideshow": {
     "slide_type": "slide"
    },
    "tags": []
   },
   "source": [
    "## Learning Objectives:\n",
    "\n",
    "Understand consoles/terminals\n",
    "\n",
    "Learn basic Unix commands and understand command syntax \n",
    "\n",
    "Navigate through filesystems in Unix \n",
    "\n",
    "Modify the filesystem by creating, moving, and deleting files and directories \n",
    "\n",
    "Read, edit, and search files using Unix utilities \n",
    "\n",
    "Access and utilize the Unix manual pages for help"
   ]
  },
  {
   "cell_type": "markdown",
   "id": "187131c0-7ac8-4db3-b82b-e5dce333dfc9",
   "metadata": {
    "editable": true,
    "slideshow": {
     "slide_type": "slide"
    },
    "tags": []
   },
   "source": [
    "## How are we going to do this?\n",
    "\n",
    "We will use a mix of tools - but all the demonstrations will be in these jupyter notebook presentations. You can download the code to your own laptops and test and play.\n",
    "\n",
    "This whole lecture is a jupyter notebook (as you will see)...."
   ]
  },
  {
   "cell_type": "markdown",
   "id": "78dc12a5-3058-427e-aaa1-79b29a63bfb2",
   "metadata": {
    "editable": true,
    "slideshow": {
     "slide_type": ""
    },
    "tags": []
   },
   "source": [
    "# !ToDo\n",
    "\n",
    "Get yourselves set up to keep up with this module... but first we need to talk about a few things..."
   ]
  },
  {
   "attachments": {},
   "cell_type": "markdown",
   "id": "dd8db41d-aa12-4097-8086-217009c411ed",
   "metadata": {
    "editable": true,
    "slideshow": {
     "slide_type": "slide"
    },
    "tags": []
   },
   "source": [
    "# 1. What is Unix?\n",
    "\n",
    "**Unix** is defined as an operating system that uses a command-line interface **(CLI)** rather than a graphical user interface **(GUI)**.\n",
    "\n",
    "**Shell**: A key component that interprets user commands.\n",
    "\n",
    "    e.g. \n",
    "\n",
    "        Bourne shell\n",
    "        \n",
    "        Bash\n",
    "        \n",
    "        Z shell\n",
    "        \n",
    "        C shell\n",
    "        \n",
    "**Linux**: A Unix-like OS but with different underlying code. It behaves similarly to Unix.\n",
    "\n",
    "**OSX**: Apple operating system built on.... Linux\n",
    "\n",
    "**Windows**: Microsoft operating system now built on... Linux\n",
    "\n",
    "![operating systems](../images/cross_windows.png)"
   ]
  },
  {
   "cell_type": "markdown",
   "id": "8db8c214-d61f-4468-a529-b8a45134b143",
   "metadata": {
    "editable": true,
    "slideshow": {
     "slide_type": "slide"
    },
    "tags": []
   },
   "source": [
    "### 2. The Importance of Text Editors\n",
    "- In Unix, plain text editors (like `nano`, `vim`, `emacs`) are used for writing and editing code.\n",
    "- Word processors (e.g., Microsoft Word) should be avoided as they add formatting that can interfere with code.\n",
    "\n",
    "https://www.nano-editor.org/\n",
    "\n",
    "https://www.vim.org/\n",
    "\n",
    "https://www.gnu.org/software/emacs/"
   ]
  },
  {
   "cell_type": "markdown",
   "id": "a5417c16-8895-486c-be4e-5292105607c8",
   "metadata": {
    "editable": true,
    "raw_mimetype": "",
    "slideshow": {
     "slide_type": "slide"
    },
    "tags": []
   },
   "source": [
    "### 3. The Unix Terminal\n",
    "- **Command Prompt:** Where users enter commands. Customizable but usually includes a cursor where new commands are entered."
   ]
  },
  {
   "cell_type": "markdown",
   "id": "65ca7d1f-1f81-4455-a347-149226d4d48d",
   "metadata": {
    "editable": true,
    "raw_mimetype": "",
    "slideshow": {
     "slide_type": "subslide"
    },
    "tags": []
   },
   "source": [
    "# Terminal Equivalents for Windows, macOS, and Linux\n",
    "\n",
    "## 1. **Windows:**\n",
    "- **Command Prompt (CMD)**: The traditional command-line interface in Windows. It uses commands specific to the Windows environment, such as `dir` for listing directories or `copy` for copying files.\n",
    "- **PowerShell**: A more advanced command-line interface that includes more powerful scripting capabilities, and it can run more complex scripts and commands. PowerShell supports both Windows commands and a more robust set of utilities.\n",
    "- **Windows Subsystem for Linux (WSL)**: This allows users to run a full Linux distribution inside Windows. Using WSL, you can run a Bash terminal with most Linux commands available.\n",
    "\n",
    "## 2. **macOS:**\n",
    "- **Terminal**: The default terminal application in macOS. It provides access to a command-line interface, which is Unix-based (similar to Linux), so it supports commands like `ls`, `cd`, `chmod`, and others.\n",
    "- **iTerm2**: An alternative terminal for macOS that offers additional features such as better customization and split panes, but it works in the same way as the built-in Terminal.\n",
    "\n",
    "## 3. **Linux:**\n",
    "- **Terminal**: Linux systems typically come with a terminal emulator that allows users to interact with the system using a shell (usually Bash, but others like Zsh, Fish, and Ksh can be used). Commands like `ls`, `cd`, `chmod`, and `grep` are standard.\n",
    "- Common terminal emulators on Linux include **GNOME Terminal**, **Konsole** (KDE), **xterm**, and **Tilix**, depending on the desktop environment.\n",
    "\n",
    "\n"
   ]
  },
  {
   "cell_type": "markdown",
   "id": "88930563-3046-4859-aae2-438696210211",
   "metadata": {
    "editable": true,
    "slideshow": {
     "slide_type": "slide"
    },
    "tags": []
   },
   "source": [
    "## Summary:\n",
    "- **Windows**: Command Prompt (CMD), PowerShell, WSL\n",
    "- **macOS**: Terminal, iTerm2\n",
    "- **Linux**: Terminal (with various emulators like GNOME Terminal, Konsole, etc.)\n",
    "\n",
    "While each platform has its terminal application, the command-line behavior is most similar between macOS and Linux, as they are both Unix-based systems. Windows can also offer a similar experience through WSL."
   ]
  },
  {
   "cell_type": "markdown",
   "id": "6da69df0-339a-4826-a5d6-c40ba2436643",
   "metadata": {
    "editable": true,
    "slideshow": {
     "slide_type": "slide"
    },
    "tags": []
   },
   "source": [
    "## Open your terminal on your computer now...\n",
    "- **Windows**: Command Prompt (CMD), PowerShell, WSL\n",
    "- **macOS**: Terminal, iTerm2\n",
    "- **Linux**: Terminal (with various emulators like GNOME Terminal, Konsole, etc.)"
   ]
  },
  {
   "cell_type": "markdown",
   "id": "aae2901b-6045-4059-adf3-67c0a899ce50",
   "metadata": {
    "editable": true,
    "slideshow": {
     "slide_type": "slide"
    },
    "tags": []
   },
   "source": [
    "# Lets meet the Unix Shell\n",
    "\n",
    "The Unix shell is a command-line interface where users interact with the operating system. \n",
    "\n",
    "Some basic commands to get started are:\n",
    "\n"
   ]
  },
  {
   "cell_type": "markdown",
   "id": "b161cf1c-cd34-4e0f-8335-9126de6b008b",
   "metadata": {
    "editable": true,
    "scrolled": true,
    "slideshow": {
     "slide_type": "fragment"
    },
    "tags": []
   },
   "source": [
    "\n",
    "```bash\n",
    "    echo \"Hello world!\"\n",
    "```\n",
    "\n",
    "```bash\n",
    "    whoami\n",
    "```\n",
    "\n",
    "```bash\n",
    "    pwd\n",
    "```\n",
    "\n",
    "**Exercise:** \n",
    "\n",
    "Try these commands in your terminal. What do they do?"
   ]
  },
  {
   "cell_type": "code",
   "execution_count": 2,
   "id": "4df5fa81-8068-4fce-b84b-18a04e18ef63",
   "metadata": {
    "editable": true,
    "slideshow": {
     "slide_type": "fragment"
    },
    "tags": []
   },
   "outputs": [],
   "source": [
    "%%bash\n",
    "\n",
    "\n"
   ]
  },
  {
   "cell_type": "markdown",
   "id": "3166280d-ec70-460b-9aa4-827fde7fadd0",
   "metadata": {
    "editable": true,
    "slideshow": {
     "slide_type": "fragment"
    },
    "tags": []
   },
   "source": [
    "\n",
    "```bash\n",
    "    echo \"Hello world!\"\n",
    "```\n",
    "\n",
    "prints \"Hello world!\" to the terminal.\n",
    "\n",
    "```bash\n",
    "    whoami\n",
    "```\n",
    "\n",
    "    displays the current user’s username.\n",
    "\n",
    "```bash\n",
    "    pwd\n",
    "```\n",
    "\n",
    "    prints the working directory, or the current directory you're located in."
   ]
  },
  {
   "cell_type": "markdown",
   "id": "61e57b47-d4e7-4701-9af2-414b2a39a63a",
   "metadata": {
    "editable": true,
    "slideshow": {
     "slide_type": "subslide"
    },
    "tags": []
   },
   "source": [
    "What do we want to do if we wish to look for files in a folder?"
   ]
  },
  {
   "cell_type": "code",
   "execution_count": 3,
   "id": "b143bd37-325b-4db9-b5ef-88a1de207a6e",
   "metadata": {
    "editable": true,
    "slideshow": {
     "slide_type": ""
    },
    "tags": []
   },
   "outputs": [],
   "source": [
    "%%bash\n",
    " \n"
   ]
  },
  {
   "cell_type": "code",
   "execution_count": null,
   "id": "a7491680-448d-4b91-8586-244b28721c37",
   "metadata": {
    "editable": true,
    "slideshow": {
     "slide_type": ""
    },
    "tags": []
   },
   "outputs": [],
   "source": []
  },
  {
   "cell_type": "markdown",
   "id": "7195f14c-9baa-4a09-84a4-b568da2fe325",
   "metadata": {
    "editable": true,
    "slideshow": {
     "slide_type": "slide"
    },
    "tags": []
   },
   "source": [
    "# Lets make this interactive!\n",
    "<img src=\"https://i.giphy.com/media/v1.Y2lkPTc5MGI3NjExcTA4Z2NmNzV3NWpkcmptaDNiZnpmd29wYnJ3b2IzeGp4ODhnYmN1YiZlcD12MV9pbnRlcm5hbF9naWZfYnlfaWQmY3Q9Zw/s2qXK8wAvkHTO/giphy.gif\" alt=\"description\" style=\"width: 100%; max-width: 1000px; height: auto;\">\n"
   ]
  },
  {
   "attachments": {},
   "cell_type": "markdown",
   "id": "ecc82b0f-c01b-4087-afc8-6682f20ba5f2",
   "metadata": {
    "editable": true,
    "slideshow": {
     "slide_type": "slide"
    },
    "tags": []
   },
   "source": [
    "# Jupyter Labs\n",
    "\n",
    "This whole presentation is actually a jupyter notebook....\n",
    "\n",
    "This means you can play along... \n",
    "\n",
    "There are many ways of setting up a jupyter lab instance. Today we are going to use:\n",
    "\n",
    "https://github.com/jupyterlab/jupyterlab-desktop\n",
    "\n",
    "Please go there now - in this workshop - and install the version of jupyter lab (if you haven't already).\n",
    "\n",
    "Then we will have an explore in the notebooks.\n",
    "<img src=\"https://i.giphy.com/media/v1.Y2lkPTc5MGI3NjExNnRjeGlhdjRtZjluODV0bjltZHY5aHR2Z2owbjR1anc1YjJhemRudCZlcD12MV9pbnRlcm5hbF9naWZfYnlfaWQmY3Q9Zw/wNlks0ID1igO4/giphy.gif\" alt=\"description\" style=\"width: 100%; max-width: 1000px; height: auto;\">\n"
   ]
  },
  {
   "cell_type": "markdown",
   "id": "94d6abd7-38ce-4148-aa35-92d53ec8e336",
   "metadata": {
    "editable": true,
    "slideshow": {
     "slide_type": "slide"
    },
    "tags": []
   },
   "source": [
    "# Git & GitHub: A Beginner's Guide\n"
   ]
  },
  {
   "cell_type": "markdown",
   "id": "dadbfd34-cc94-4c17-9118-5447632617e6",
   "metadata": {
    "editable": true,
    "jp-MarkdownHeadingCollapsed": true,
    "slideshow": {
     "slide_type": "fragment"
    },
    "tags": []
   },
   "source": [
    "## What is Git?\n",
    "\n",
    "Git is a **version control system**. It's a tool that helps track changes to files (usually code) over time.\n",
    "\n",
    "With Git, you can:\n",
    "\n",
    "- **Revert** to a previous version of your project.\n",
    "- **Collaborate** with other developers without accidentally overwriting each other's work.\n",
    "- Keep a detailed **history** of your project as it evolves.\n"
   ]
  },
  {
   "cell_type": "markdown",
   "id": "afd03acb-e16b-4b3e-8ee1-5558581ebd66",
   "metadata": {
    "editable": true,
    "slideshow": {
     "slide_type": "fragment"
    },
    "tags": []
   },
   "source": [
    "## What is GitHub?\n",
    "\n",
    "GitHub is a **hosting service for Git repositories**. \n",
    "\n",
    "It provides a place to store your Git projects online, collaborate with others, and manage your project. \n",
    "\n",
    "While Git is the tool, GitHub is where your projects can live, so you and others can access and contribute to them from anywhere.\n",
    "\n",
    "These workshops (and homeworks etc) will all be living in a github repository.\n"
   ]
  },
  {
   "cell_type": "markdown",
   "id": "b917cf46-a742-446e-8356-8fe50e4cdc47",
   "metadata": {
    "editable": true,
    "slideshow": {
     "slide_type": "slide"
    },
    "tags": []
   },
   "source": [
    "## Key Git Terms"
   ]
  },
  {
   "cell_type": "markdown",
   "id": "c93893b6-319a-403c-8b16-eb8441fafde5",
   "metadata": {
    "editable": true,
    "slideshow": {
     "slide_type": "subslide"
    },
    "tags": []
   },
   "source": [
    "### 1. **Repository (Repo)**\n",
    "A repository is like a project's folder that contains all the project files and the complete history of all changes made to those files. In GitHub, this repo is hosted online.\n",
    "\n",
    "This means you can keep versioned backups of files, share data and code, and never have the dog eat your homework again!\n",
    "\n",
    "\n",
    "<img src=\"https://i.giphy.com/media/v1.Y2lkPTc5MGI3NjExeXVmbWZ6ZWJsaHJ6N28zaDZkbXE5ZjE5NGI3bXduYWRvb2p3enFzciZlcD12MV9pbnRlcm5hbF9naWZfYnlfaWQmY3Q9Zw/l2Je2xMv1NGtcr2Mg/giphy.gif\" alt=\"description\" style=\"width: 100%; max-width: 1000px; height: auto;\">\n"
   ]
  },
  {
   "cell_type": "markdown",
   "id": "90e0dcb2-3c16-4f8e-8f0c-3c91298f86ad",
   "metadata": {
    "editable": true,
    "slideshow": {
     "slide_type": "subslide"
    },
    "tags": []
   },
   "source": [
    "### 2. **Clone**\n",
    "Cloning means copying a repository from GitHub (or another location) to your local machine so you can work on it. The `git clone` command makes an exact copy of the repository.\n",
    "\n",
    "```bash\n",
    "git clone https://github.com/LooseLab/LIFE4138.git\n",
    "```\n",
    "\n",
    "<div style=\"text-align: center;\">\n",
    "  <img src=\"https://cdn.the-scientist.com/assets/articleNo/31990/iImg/5048/3ba0949b-0f5f-4abb-8436-8f953c368240-640dollyop.jpg\" alt=\"Dolly\" />\n",
    "</div>\n"
   ]
  },
  {
   "cell_type": "markdown",
   "id": "c9135c27-9886-4076-9edb-becdaca1ff2c",
   "metadata": {
    "editable": true,
    "slideshow": {
     "slide_type": "subslide"
    },
    "tags": []
   },
   "source": [
    "### 3. **Staging Area**\n",
    "The staging area is where you prepare changes before making a commit. You add changes to the staging area using `git add` and then commit them when you’re ready.\n",
    "\n",
    "```bash\n",
    "git add mynewfile.txt\n",
    "```\n",
    "<div style=\"text-align: center;\">\n",
    "  <img src=\"https://www.bbc.co.uk/music/articles/staticarchive/c8c8bf398458297f0d4442ffe33bf296c63bcba8.jpg\" alt=\"Staging\"/>\n",
    "</div>\n"
   ]
  },
  {
   "cell_type": "markdown",
   "id": "7e6025eb-ac60-4482-9e40-768b77453785",
   "metadata": {
    "editable": true,
    "slideshow": {
     "slide_type": "slide"
    },
    "tags": []
   },
   "source": [
    "### 4. **Status**\n",
    "\n",
    "Status allows you to see the state of your github repository:\n",
    "\n",
    "Before adding a file:\n",
    "\n",
    "```console\n",
    "git status\n",
    "On branch main\n",
    "Your branch is up to date with 'main/main'.\n",
    "\n",
    "Changes not staged for commit:\n",
    "  (use \"git add <file>...\" to update what will be committed)\n",
    "  (use \"git restore <file>...\" to discard changes in working directory)\n",
    "\tmodified:   .ipynb_checkpoints/Lecture 1-checkpoint.ipynb\n",
    "\tmodified:   Lecture 1.ipynb\n",
    "\n",
    "Untracked files:\n",
    "  (use \"git add <file>...\" to include in what will be committed)\n",
    "\t../../.DS_Store\n",
    "\t../../.idea/\n",
    "\t../../.ipynb_checkpoints/\n",
    "\t../../.jupyter/\n",
    "\t../../store/\n",
    "\n",
    "no changes added to commit (use \"git add\" and/or \"git commit -a\")\n",
    "```\n",
    "\n",
    "after adding the file:\n",
    "\n",
    "```console\n",
    "git status\n",
    "On branch main\n",
    "Your branch is up to date with 'main/main'.\n",
    "\n",
    "Changes to be committed:\n",
    "  (use \"git restore --staged <file>...\" to unstage)\n",
    "\tnew file:   mynewfile.txt\n",
    "\n",
    "Changes not staged for commit:\n",
    "  (use \"git add <file>...\" to update what will be committed)\n",
    "  (use \"git restore <file>...\" to discard changes in working directory)\n",
    "\tmodified:   .ipynb_checkpoints/Lecture 1-checkpoint.ipynb\n",
    "\tmodified:   Lecture 1.ipynb\n",
    "\n",
    "Untracked files:\n",
    "  (use \"git add <file>...\" to include in what will be committed)\n",
    "\t../../.DS_Store\n",
    "\t../../.idea/\n",
    "\t../../.ipynb_checkpoints/\n",
    "\t../../.jupyter/\n",
    "\t../../store/\n",
    "```"
   ]
  },
  {
   "cell_type": "markdown",
   "id": "f28b57e0-e269-42fd-951b-346d031e2859",
   "metadata": {
    "editable": true,
    "slideshow": {
     "slide_type": "slide"
    },
    "tags": []
   },
   "source": [
    "### 5. **Commit**\n",
    "A commit is like saving a snapshot of your project at a specific point in time. It’s a set of changes that you've staged (prepared for commit) and recorded in the project’s history. A good commit has a descriptive message explaining what changes were made.\n",
    "\n",
    "```bash\n",
    "git commit -m \"Adding my new file\"\n",
    "```\n",
    "\n",
    "<div style=\"text-align: center;\">\n",
    "  <img src=\"https://makingwavesfilmfestival.com/wp-content/uploads/2024/02/The-Commitments-1991.jpg\" alt=\"commit\"/>\n",
    "</div>\n",
    "\n",
    "\n"
   ]
  },
  {
   "cell_type": "markdown",
   "id": "7fb8afb3-a4fe-4ab3-81dd-986f1da2c29c",
   "metadata": {
    "editable": true,
    "slideshow": {
     "slide_type": "subslide"
    },
    "tags": []
   },
   "source": [
    "### 6. **Branch**\n",
    "Branches allow you to work on different versions of your project at the same time. You can create a new branch to work on a feature without affecting the main (or master) branch. Once you're done, you can merge the branch back into the main branch.\n",
    "\n",
    "```bash\n",
    "git checkout -b new-feature\n",
    "```\n",
    "\n",
    "<div style=\"text-align: center;\">\n",
    "  <img src=\"https://www.madeinn.co.uk/templates/yootheme/cache/f5/MajorOak_1-f5c77b7e.webp\" alt=\"branch\"/>\n",
    "</div>\n"
   ]
  },
  {
   "cell_type": "markdown",
   "id": "ecbcee3b-e090-4ce9-96d7-a3edbe1d10ca",
   "metadata": {
    "editable": true,
    "slideshow": {
     "slide_type": "subslide"
    },
    "tags": []
   },
   "source": [
    "### 7. **Merge**\n",
    "Merging is the process of taking the changes from one branch and applying them to another branch. Usually, this happens when you're done working on a feature and you merge it back into the main branch.\n",
    "\n",
    "```bash\n",
    "git merge new-feature\n",
    "```\n",
    "<div style=\"text-align: center;\">\n",
    "  <img src=\"https://i.giphy.com/media/v1.Y2lkPTc5MGI3NjExcnRhY3FzMXdxMG1lc2FobDZoZ214dTdxb3NhZmU4dTZqc2hkeGZoeCZlcD12MV9pbnRlcm5hbF9naWZfYnlfaWQmY3Q9Zw/cFkiFMDg3iFoI/giphy.gif\" alt=\"git merge\"/>\n",
    "</div>\n",
    "\n",
    "\n"
   ]
  },
  {
   "cell_type": "markdown",
   "id": "1af9e819-d1ae-45de-9135-7a459e6107dd",
   "metadata": {
    "editable": true,
    "slideshow": {
     "slide_type": "subslide"
    },
    "tags": []
   },
   "source": [
    "### 8. **Pull**\n",
    "Pulling means fetching the latest changes from the remote repository (e.g., GitHub) and merging them into your local copy. It’s a way to keep your local codebase up-to-date with the repository on GitHub.\n",
    "\n",
    "```bash\n",
    "git pull origin main\n",
    "```\n",
    "\n",
    "<div style=\"text-align: center;\">\n",
    "  <img src=\"https://i.giphy.com/media/v1.Y2lkPTc5MGI3NjExMzVxMHE4eDVtaWppaDlzdmE2Ymk5Mjd3NGZybXd0ajEyZDlxbG9qbSZlcD12MV9pbnRlcm5hbF9naWZfYnlfaWQmY3Q9Zw/lMwJagHc1tcPe/giphy.gif\n",
    "\" alt=\"git pull\"/>\n",
    "</div>\n"
   ]
  },
  {
   "cell_type": "markdown",
   "id": "1d4def67-4e99-4ab9-9996-f210782881d4",
   "metadata": {
    "editable": true,
    "slideshow": {
     "slide_type": "subslide"
    },
    "tags": []
   },
   "source": [
    "### 9. **Push**\n",
    "Pushing means sending your changes (commits) from your local machine to the remote repository on GitHub. After making changes locally, you push them so others can see or work on them.\n",
    "\n",
    "```bash\n",
    "git push origin main\n",
    "```\n",
    "<div style=\"text-align: center;\">\n",
    "  <img src=\"https://i.giphy.com/media/v1.Y2lkPTc5MGI3NjExcjBlN3Uyd243Y2sxbzZiMXF5b3lndzExMzV0cnhuemw2eDl3Mm14cCZlcD12MV9pbnRlcm5hbF9naWZfYnlfaWQmY3Q9Zw/CDZwopbecAbIc/giphy.gif\" alt=\"git pull\"/>\n",
    "</div>\n"
   ]
  },
  {
   "cell_type": "markdown",
   "id": "8ab4fd5a-a711-41ff-8fbb-1ff1547731a7",
   "metadata": {
    "editable": true,
    "slideshow": {
     "slide_type": "subslide"
    },
    "tags": []
   },
   "source": [
    "### 10. **Fork**\n",
    "Forking is creating a personal copy of someone else’s repository on GitHub. You can make changes to the forked repository without affecting the original project, and if you want your changes to be included in the original repo, you can create a **pull request**.\n",
    "\n",
    "<div style=\"text-align: center;\">\n",
    "  <img src=\"https://i.giphy.com/media/v1.Y2lkPTc5MGI3NjExNXZ5aDgyanptYmljcTc5ZmRyNDczdGZyYmM0MHY0dml0a2U2bGlndyZlcD12MV9pbnRlcm5hbF9naWZfYnlfaWQmY3Q9Zw/HOsaCFN7husiQ/giphy.gif\" alt=\"git pull\"/>\n",
    "</div>\n"
   ]
  },
  {
   "cell_type": "markdown",
   "id": "a00ca18e-4645-4369-9d53-aedcaa9c4e68",
   "metadata": {
    "editable": true,
    "slideshow": {
     "slide_type": "subslide"
    },
    "tags": []
   },
   "source": [
    "### 11. **Pull Request (PR)**\n",
    "A pull request is a request to the original repository’s owner to review and possibly merge the changes from your branch or fork into their project. It's a common workflow in open-source projects.\n",
    "\n",
    "\n",
    "<div style=\"text-align: center;\">\n",
    "  <img src=\"https://i.giphy.com/media/v1.Y2lkPTc5MGI3NjExOTY2Z2dweXBtMXpmcjR3Y3duOTNmMW5wajdneW01aXMyc3gycnM4MSZlcD12MV9pbnRlcm5hbF9naWZfYnlfaWQmY3Q9Zw/26u4nJPf0JtQPdStq/giphy.gif\" alt=\"git pull\"/>\n",
    "</div>\n",
    "\n"
   ]
  },
  {
   "cell_type": "markdown",
   "id": "4b257db9-8896-4b0f-96f4-8c481159bcea",
   "metadata": {
    "editable": true,
    "slideshow": {
     "slide_type": "subslide"
    },
    "tags": []
   },
   "source": [
    "### 12. **HEAD**\n",
    "HEAD is a pointer to the latest commit in your current branch. When you make new commits, HEAD moves forward to point to the most recent commit.\n",
    "\n",
    "<div style=\"text-align: center;\">\n",
    "  <img src=\"https://i.giphy.com/media/v1.Y2lkPTc5MGI3NjExZTRjYmU4bmJtMHE2amNjeG5reW90d3p0YXp5NmhiamU2MWptNzlxOCZlcD12MV9pbnRlcm5hbF9naWZfYnlfaWQmY3Q9Zw/11qWN4GTZwMftu/giphy.gif\" alt=\"git pull\"/>\n",
    "</div>\n",
    "\n"
   ]
  },
  {
   "cell_type": "markdown",
   "id": "de656283-0562-44c8-b9aa-09ac3500341c",
   "metadata": {
    "editable": true,
    "slideshow": {
     "slide_type": "slide"
    },
    "tags": []
   },
   "source": [
    "\n",
    "\n",
    "## Basic Git Workflow\n",
    "1. **Clone a repository**: `git clone <repo-url>`\n",
    "2. **Make changes** to your files.\n",
    "3. **Stage the changes**: `git add .`\n",
    "4. **Commit the changes**: `git commit -m \"Describe what you did\"`\n",
    "5. **Push the changes to GitHub**: `git push origin <branch-name>`\n",
    "\n",
    "That’s the core Git workflow! You clone, make changes, commit, and push. Rinse and repeat.\n"
   ]
  },
  {
   "cell_type": "markdown",
   "id": "99a59791-eb7c-4c07-87f4-3d922df5159b",
   "metadata": {
    "editable": true,
    "slideshow": {
     "slide_type": ""
    },
    "tags": []
   },
   "source": [
    "# Git Resources:\n",
    "\n",
    "Software Carpentry:\n",
    "\n",
    "https://swcarpentry.github.io/git-novice/"
   ]
  },
  {
   "cell_type": "markdown",
   "id": "dad484c3-bfaf-465b-b648-fb61969dc17f",
   "metadata": {
    "editable": true,
    "slideshow": {
     "slide_type": "slide"
    },
    "tags": []
   },
   "source": [
    "# Note:\n",
    "\n",
    "You won't be able to push to the class repository!"
   ]
  },
  {
   "cell_type": "markdown",
   "id": "78f1fb32-608b-43ab-b8b9-fc93c4b8fd64",
   "metadata": {
    "editable": true,
    "slideshow": {
     "slide_type": "slide"
    },
    "tags": []
   },
   "source": [
    "# UNIX file systems\n",
    "\n",
    "## Overview\n",
    "- Unix uses a **hierarchical file system**.\n",
    "- The root directory is represented by `/`.\n",
    "- Everything in Unix is treated as a **file** – this includes directories, devices, and processes.\n",
    "\n",
    "<img src=\"../images/filesystem.svg\" alt=\"description\" style=\"width: 100%; max-width: 1000px; height: auto;\">\n"
   ]
  },
  {
   "cell_type": "markdown",
   "id": "58624f96-16db-44a3-946d-b840902ba87e",
   "metadata": {
    "editable": true,
    "slideshow": {
     "slide_type": "slide"
    },
    "tags": []
   },
   "source": [
    "## Structure\n",
    "- **Root (`/`)**: The base of the file system. All other files and directories stem from here.\n",
    "- **/bin**: Essential user command binaries (e.g., ls, cat).\n",
    "- **/etc**: System-wide configuration files.\n",
    "- **/home**: User home directories.\n",
    "- **/var**: Variable files such as logs and databases.\n",
    "- **/usr**: Secondary hierarchy for system-wide libraries, binaries, and documentation.\n",
    "- **/dev**: Device files, representing hardware devices.\n",
    "\n",
    "\n",
    "\n",
    "<img src=\"../images/filesystem.svg\" alt=\"description\" style=\"width: 100%; max-width: 1000px; height: auto;\">\n"
   ]
  },
  {
   "cell_type": "markdown",
   "id": "57523f33-3c6a-4035-a63a-af0c1a8a3b09",
   "metadata": {
    "editable": true,
    "slideshow": {
     "slide_type": "slide"
    },
    "tags": []
   },
   "source": [
    "## File Types\n",
    "- **Regular files**: Contain data (text, binary, etc.).\n",
    "- **Directories**: Special files that contain lists of other files.\n",
    "- **Symbolic Links**: Shortcuts or references to other files.\n",
    "- **Special files**: Devices or processes, such as `/dev/null`."
   ]
  },
  {
   "cell_type": "markdown",
   "id": "9ffb366e-87df-4a3a-b630-3695cb861ad3",
   "metadata": {
    "editable": true,
    "slideshow": {
     "slide_type": "slide"
    },
    "tags": []
   },
   "source": [
    "## Key Concepts\n",
    "- **Everything is a file**: Directories, devices, and even input/output streams are treated as files.\n",
    "- **Case-sensitive**: File names are case-sensitive in Unix (`file.txt` is different from `File.txt`).\n",
    "- **Permissions**: Files and directories have read, write, and execute permissions for the owner, group, and others.\n"
   ]
  },
  {
   "cell_type": "markdown",
   "id": "97102bde-3247-405e-9303-5a3c90ed21f0",
   "metadata": {
    "editable": true,
    "slideshow": {
     "slide_type": "slide"
    },
    "tags": []
   },
   "source": [
    "## Common Commands\n",
    "- `ls` – List directory contents.\n",
    "- `cd` – Change directory.\n",
    "- `cp` – Copy files or directories.\n",
    "- `mv` – Move or rename files.\n",
    "- `rm` – Remove files or directories.\n",
    "- `chmod` – Change file permissions.\n",
    "- `df` – Show disk space usage."
   ]
  },
  {
   "cell_type": "markdown",
   "id": "838e4ae6-702f-4ef0-82ad-f888fcc3be99",
   "metadata": {
    "editable": true,
    "slideshow": {
     "slide_type": "slide"
    },
    "tags": []
   },
   "source": [
    "## Summary\n",
    "- The Unix file system is structured as a tree with the root at `/`.\n",
    "- Directories serve to organize files and other directories.\n",
    "- Understanding the hierarchy and key directories is critical for system navigation and management.\n"
   ]
  },
  {
   "cell_type": "markdown",
   "id": "1b53ba98-d34e-4b71-bf13-18a70c17c140",
   "metadata": {
    "editable": true,
    "slideshow": {
     "slide_type": "slide"
    },
    "tags": []
   },
   "source": [
    "# The Home Folder\n",
    "\n",
    "## Overview\n",
    "- The **home folder** is a directory designated for a specific user on Unix-like systems.\n",
    "- Each user has a unique home folder, typically located under `/home/` followed by their username (e.g., `/home/username`).\n",
    "- It serves as the **default working directory** when a user logs in.\n",
    "\n",
    "<img src=\"../images/home-directories.svg\" alt=\"description\" style=\"width: 100%; max-width: 1000px; height: auto;\">\n"
   ]
  },
  {
   "cell_type": "markdown",
   "id": "2459e016-576f-4059-9fe7-e942852e023d",
   "metadata": {
    "editable": true,
    "slideshow": {
     "slide_type": "slide"
    },
    "tags": []
   },
   "source": [
    "## Purpose\n",
    "- The home folder is where users can store their personal files, settings, and configuration files.\n",
    "- System-level files and programs are kept separate from the user's files, ensuring that users do not interfere with system operations.\n",
    "\n",
    "\n",
    "<img src=\"../images/home-directories.svg\" alt=\"description\" style=\"width: 100%; max-width: 1000px; height: auto;\">"
   ]
  },
  {
   "cell_type": "markdown",
   "id": "7e5d7689-b462-48e3-98de-1a31bb26fb2f",
   "metadata": {
    "editable": true,
    "slideshow": {
     "slide_type": "slide"
    },
    "tags": []
   },
   "source": [
    "## Common Directories Inside Home\n",
    "- **~/Documents**: Personal documents.\n",
    "- **~/Downloads**: Files downloaded from the internet or other sources.\n",
    "- **~/Desktop**: Files and folders shown on the desktop.\n",
    "- **~/Pictures**: Images and photos.\n",
    "- **~/Music**: Music and audio files."
   ]
  },
  {
   "cell_type": "markdown",
   "id": "eb65f1a7-bfa0-41c1-9ab7-1a8bd1ad0d33",
   "metadata": {
    "editable": true,
    "slideshow": {
     "slide_type": "slide"
    },
    "tags": []
   },
   "source": [
    "## Hidden Files\n",
    "- Many configuration files in the home folder are hidden by default and start with a dot (`.`), such as `.bashrc` and `.profile`.\n",
    "- These files store personal preferences and settings for programs and the shell environment.\n"
   ]
  },
  {
   "cell_type": "markdown",
   "id": "6ac32528-6cfa-4200-a691-b18371ffc186",
   "metadata": {
    "editable": true,
    "slideshow": {
     "slide_type": "slide"
    },
    "tags": []
   },
   "source": [
    "## Access and Permissions\n",
    "- Users have full read, write, and execute permissions within their own home folder.\n",
    "- Other users on the system typically do not have access to someone else’s home folder unless explicitly granted.\n"
   ]
  },
  {
   "cell_type": "markdown",
   "id": "18026a7f-22c5-4ebc-bb53-50ef88f5f65e",
   "metadata": {
    "editable": true,
    "slideshow": {
     "slide_type": "slide"
    },
    "tags": []
   },
   "source": [
    "## Home Folder Symbol (~)\n",
    "- The tilde (`~`) is a shorthand symbol representing the current user's home directory.\n",
    "  - Example: `cd ~` will take you to your home directory.\n",
    "\n",
    "## Summary\n",
    "- The home folder is a personal workspace where users can organize their files and configurations without impacting the broader system.\n",
    "- It keeps each user’s files separate and protected from other users on the system."
   ]
  },
  {
   "cell_type": "markdown",
   "id": "165e3d97-da9c-4105-a000-bc6672daa342",
   "metadata": {
    "editable": true,
    "slideshow": {
     "slide_type": "slide"
    },
    "tags": []
   },
   "source": [
    "# Relative vs. Absolute Paths"
   ]
  },
  {
   "cell_type": "markdown",
   "id": "4df2879e-a9e3-48e3-8f28-73abe0136e75",
   "metadata": {
    "editable": true,
    "slideshow": {
     "slide_type": "fragment"
    },
    "tags": []
   },
   "source": [
    "## Absolute Path\n",
    "\n",
    "- An **absolute path** refers to the full path to a file or directory from the root of the file system (`/`).\n",
    "- It always starts with a `/`, which represents the root directory.\n",
    "- Absolute paths give the complete location of a file or directory, no matter where you are in the system.\n",
    "\n",
    "### Example:\n",
    "```bash\n",
    "/home/username/Documents/report.txt\n",
    "```\n",
    "- This path points to the file `report.txt` in the `Documents` folder of the user `username`, starting from the root (`/`).\n"
   ]
  },
  {
   "cell_type": "markdown",
   "id": "eb8b8320-824b-4cb5-b113-9efef9deeedd",
   "metadata": {
    "editable": true,
    "slideshow": {
     "slide_type": ""
    },
    "tags": []
   },
   "source": [
    "## Relative Path\n",
    "\n",
    "- A **relative path** is a path to a file or directory relative to your current working directory.\n",
    "- It does **not** start with `/` and is dependent on your current location in the file system.\n",
    "- Relative paths are convenient when working within a specific directory and you don’t need to specify the full location.\n",
    "\n",
    "### Example:\n",
    "```bash\n",
    "Documents/report.txt\n",
    "```\n",
    "- This path points to `report.txt` inside the `Documents` folder, assuming your current directory is `/home/username`.\n"
   ]
  },
  {
   "cell_type": "markdown",
   "id": "8ab2fee3-d3d9-4b8b-8f98-435dfb044b5d",
   "metadata": {
    "editable": true,
    "slideshow": {
     "slide_type": "slide"
    },
    "tags": []
   },
   "source": [
    "## Special Symbols in Relative Paths:\n",
    "- `.` (dot): Refers to the current directory.\n",
    "  - Example: `./file.txt` refers to `file.txt` in the current directory.\n",
    "- `..` (double dot): Refers to the parent directory (one level up).\n",
    "  - Example: `../file.txt` refers to `file.txt` in the parent directory.\n"
   ]
  },
  {
   "cell_type": "markdown",
   "id": "56a8e4e5-2392-42e5-9692-891330c94ee8",
   "metadata": {
    "editable": true,
    "slideshow": {
     "slide_type": "slide"
    },
    "tags": []
   },
   "source": [
    "## Key Differences\n",
    "\n",
    "<table  style=\"font-size: 30px;\">\n",
    "  <tr>\n",
    "    <th>Absolute Path</th>\n",
    "    <th>Relative Path</th>\n",
    "  </tr>\n",
    "  <tr>\n",
    "    <td>Starts from the root (/)</td>\n",
    "    <td>Starts from the current directory</td>\n",
    "  </tr>\n",
    "  <tr>\n",
    "    <td>Always provides the full path</td>\n",
    "    <td>Changes based on current location</td>\n",
    "  </tr>\n",
    "  <tr>\n",
    "    <td>Can be used anywhere on the system</td>\n",
    "    <td>Depends on the working directory</td>\n",
    "  </tr>\n",
    "</table>\n",
    "\n",
    "## Summary\n",
    "\n",
    "- Use **absolute paths** when you need to specify the exact location of a file or directory, regardless of your current working directory.\n",
    "- Use **relative paths** for convenience when working within a specific directory, as it can save time by omitting unnecessary details.\n"
   ]
  },
  {
   "cell_type": "markdown",
   "id": "13b5744e-6c16-421c-9fc8-e10694897a66",
   "metadata": {
    "editable": true,
    "slideshow": {
     "slide_type": "slide"
    },
    "tags": []
   },
   "source": [
    "# Tab Autocompletion in Unix-like Systems\n",
    "\n",
    "## Overview\n",
    "\n",
    "- **Tab autocompletion** is a feature in Unix-like systems (such as Linux and macOS) that allows you to quickly complete file names, directory names, and commands by pressing the `Tab` key.\n",
    "- It helps speed up navigation in the terminal by reducing the need to type long file names or paths manually."
   ]
  },
  {
   "cell_type": "markdown",
   "id": "f55bf027-4f24-4314-8cc6-efcbec61b7d1",
   "metadata": {
    "editable": true,
    "slideshow": {
     "slide_type": "subslide"
    },
    "tags": []
   },
   "source": [
    "## How It Works\n",
    "\n",
    "1. **Typing a Command**: Start typing the name of a command or file.\n",
    "2. **Press `Tab`**: If what you've typed so far is unique, the terminal will automatically complete the command or file name.\n",
    "3. **Multiple Matches**: If there are multiple possible matches, pressing `Tab` twice will show a list of possible options.\n",
    "4. **Navigate Through Directories**: You can also use tab completion to move through directories quickly. Type part of a directory name, press `Tab`, and the system will auto-complete the rest.\n",
    "\n",
    "### Example: Autocompleting Commands\n",
    "\n",
    "```bash\n",
    "ls /ho[TAB]\n",
    "```\n",
    "\n",
    "- If you press `Tab` after typing `/ho`, the terminal might complete it to `/home` if that’s the only match.\n",
    "\n",
    "### Example: Autocompleting File Paths\n",
    "\n",
    "```bash\n",
    "cd /home/user/Doc[TAB]\n",
    "```\n",
    "\n",
    "- Pressing `Tab` after typing `/home/user/Doc` might complete to `/home/user/Documents/` if that directory exists.\n",
    "\n"
   ]
  },
  {
   "cell_type": "markdown",
   "id": "622f7038-3bea-4c4f-a3a5-1be30e7b5c8e",
   "metadata": {
    "editable": true,
    "slideshow": {
     "slide_type": "slide"
    },
    "tags": []
   },
   "source": [
    "## Benefits of Tab Autocompletion\n",
    "\n",
    "- **Saves Time**: No need to type out long directory paths or file names.\n",
    "- **Reduces Errors**: Autocompletion helps avoid typos, especially for complex file names or paths.\n",
    "- **Explore Options**: If you're unsure about a command or file name, pressing `Tab` twice can show all possible matches.\n",
    "\n",
    "## Key Features\n",
    "\n",
    "- **Partial Completion**: If you've typed a unique part of a name, pressing `Tab` will complete the rest.\n",
    "- **Double Tab for Suggestions**: If there are multiple possible matches, pressing `Tab` twice lists all available options.\n",
    "- **Cross-Environment Support**: Works in most Unix-like terminal environments (e.g., Bash, Zsh).\n",
    "\n",
    "## Summary\n",
    "\n",
    "- **Tab autocompletion** is a simple yet powerful feature to speed up terminal navigation and reduce typing errors.\n",
    "- It’s especially helpful when working with deep directory structures or when you're unsure of the exact file or command name."
   ]
  },
  {
   "cell_type": "markdown",
   "id": "f3dc7ee4-3f23-4067-9598-47bc7490ff51",
   "metadata": {
    "editable": true,
    "slideshow": {
     "slide_type": "slide"
    },
    "tags": []
   },
   "source": [
    "## 1. The Root Directory (`/`)\n",
    "\n",
    "- The root directory (`/`) is the top-level directory in the Unix file system. All other directories and files are organized beneath it.\n",
    "- You can think of it as the starting point of the directory tree.\n",
    "\n",
    "```bash\n",
    "/\n",
    "|-- home/\n",
    "|   |-- username/\n",
    "|       |-- Documents/\n",
    "|       |-- Downloads/\n",
    "|-- etc/\n",
    "|-- var/\n",
    "```\n",
    "\n"
   ]
  },
  {
   "cell_type": "markdown",
   "id": "27bcd00f-579e-4acc-8f01-ec26533edb89",
   "metadata": {
    "editable": true,
    "slideshow": {
     "slide_type": "slide"
    },
    "tags": []
   },
   "source": [
    "\n",
    "\n",
    "## 2. Viewing the Current Directory (`pwd`)\n",
    "\n",
    "- To see which directory you are currently in, use the `pwd` (print working directory) command:\n",
    "\n",
    "```bash\n",
    "$ pwd\n",
    "/home/username\n",
    "```\n",
    "\n",
    "This shows you the absolute path of your current location.\n",
    "\n"
   ]
  },
  {
   "cell_type": "markdown",
   "id": "76c83474-1067-4000-bebe-874c52d138c3",
   "metadata": {
    "editable": true,
    "slideshow": {
     "slide_type": "slide"
    },
    "tags": []
   },
   "source": [
    "## 3. Listing Directory Contents (`ls`)\n",
    "\n",
    "- The `ls` command lists the contents of the current directory:\n",
    "\n",
    "```bash\n",
    "$ ls\n",
    "Documents Downloads Music Pictures\n",
    "```\n",
    "\n",
    "### Common Options for `ls`:\n",
    "- `ls -a`: Lists **all files**, including hidden ones (files starting with a dot `.`).\n",
    "- `ls -l`: Lists files in a detailed format, showing permissions, size, and modification time.\n",
    "- `ls -lh`: Adds **human-readable** file sizes (e.g., KB, MB).\n"
   ]
  },
  {
   "cell_type": "markdown",
   "id": "2513733c-29f5-41ca-978b-88101c8a1586",
   "metadata": {
    "editable": true,
    "slideshow": {
     "slide_type": "slide"
    },
    "tags": []
   },
   "source": [
    "## 4. Changing Directories (`cd`)\n",
    "\n",
    "- The `cd` (change directory) command is used to navigate between directories.\n",
    "\n",
    "### Example: Moving into a Directory\n",
    "\n",
    "```bash\n",
    "$ cd Documents\n",
    "```\n",
    "\n",
    "- This moves you into the `Documents` directory. You can confirm your location with `pwd`:\n",
    "\n",
    "```bash\n",
    "$ pwd\n",
    "/home/username/Documents\n",
    "```\n",
    "\n",
    "### Moving Up One Directory Level:\n",
    "\n",
    "```bash\n",
    "$ cd ..\n",
    "```\n",
    "\n",
    "- The `..` symbol refers to the **parent directory** (one level up). If you're in `/home/username/Documents`, `cd ..` will take you back to `/home/username`.\n",
    "\n",
    "### Moving Back to Your Home Directory:\n",
    "\n",
    "```bash\n",
    "$ cd ~\n",
    "```\n",
    "\n",
    "- The `~` (tilde) symbol represents your home directory. Use this command to return to your home directory from anywhere.\n",
    "\n",
    "### Navigating Using Absolute Paths:\n",
    "\n",
    "```bash\n",
    "$ cd /home/username/Downloads\n",
    "```\n",
    "\n",
    "- This command uses the **absolute path**, starting from the root `/`, to go directly to the `Downloads` directory.\n",
    "\n",
    "### Navigating Using Relative Paths:\n",
    "\n",
    "```bash\n",
    "$ cd Documents/Work\n",
    "```\n",
    "\n",
    "- This uses a **relative path** to move into the `Work` directory inside `Documents`, assuming you are currently in `/home/username`.\n"
   ]
  },
  {
   "cell_type": "markdown",
   "id": "00b4fc85-2324-48f8-af8a-e1392a0ad62e",
   "metadata": {
    "editable": true,
    "slideshow": {
     "slide_type": "slide"
    },
    "tags": []
   },
   "source": [
    "## 5. Viewing File Contents (`cat`, `less`)\n",
    "\n",
    "Once you've navigated to a directory containing files, you may want to view the contents of a file.\n",
    "\n",
    "- **`cat`**: Outputs the entire contents of a file:\n",
    "\n",
    "```bash\n",
    "$ cat filename.txt\n",
    "```\n",
    "\n",
    "- **`less`**: Allows you to scroll through large files one screen at a time:\n",
    "\n",
    "```bash\n",
    "$ less filename.txt\n",
    "```\n",
    "\n",
    "- Use the `Up`/`Down` arrow keys to scroll, and press `q` to quit.\n"
   ]
  },
  {
   "cell_type": "markdown",
   "id": "3e0b9aa4-7c58-4812-ad44-922651a1d30c",
   "metadata": {
    "editable": true,
    "slideshow": {
     "slide_type": "slide"
    },
    "tags": []
   },
   "source": [
    "## 6. Hidden Files and Directories\n",
    "\n",
    "- Files or directories starting with a `.` are hidden by default. Use `ls -a` to see hidden files:\n",
    "\n",
    "```bash\n",
    "$ ls -a\n",
    ".  ..  .hiddenfile  Documents  Downloads\n",
    "```\n",
    "\n",
    "- `.` refers to the **current directory**.\n",
    "- `..` refers to the **parent directory**."
   ]
  },
  {
   "cell_type": "markdown",
   "id": "15a7157e-5c89-4103-b22f-90bfa8dde2a1",
   "metadata": {
    "editable": true,
    "slideshow": {
     "slide_type": "slide"
    },
    "tags": []
   },
   "source": [
    "## 7. Creating Directories (`mkdir`)\n",
    "\n",
    "- You can create new directories using the `mkdir` command:\n",
    "\n",
    "```bash\n",
    "$ mkdir NewFolder\n",
    "```\n",
    "\n",
    "This creates a directory named `NewFolder` in your current location.\n"
   ]
  },
  {
   "cell_type": "markdown",
   "id": "87b657b4-c066-4010-9468-09eeab8a1792",
   "metadata": {
    "editable": true,
    "slideshow": {
     "slide_type": "slide"
    },
    "tags": []
   },
   "source": [
    "## 8. Summary of Key Commands\n",
    "\n",
    "\n",
    "<table style=\"font-size: 28px;\">\n",
    "  <tr>\n",
    "    <th>Command</th>\n",
    "    <th>Description</th>\n",
    "  </tr>\n",
    "  <tr>\n",
    "    <td><code>pwd</code></td>\n",
    "    <td>Print the current working directory</td>\n",
    "  </tr>\n",
    "  <tr>\n",
    "    <td><code>ls</code></td>\n",
    "    <td>List the contents of a directory</td>\n",
    "  </tr>\n",
    "  <tr>\n",
    "    <td><code>ls -a</code></td>\n",
    "    <td>List all files, including hidden ones</td>\n",
    "  </tr>\n",
    "  <tr>\n",
    "    <td><code>cd directory</code></td>\n",
    "    <td>Change to a specified directory</td>\n",
    "  </tr>\n",
    "  <tr>\n",
    "    <td><code>cd ..</code></td>\n",
    "    <td>Move up to the parent directory</td>\n",
    "  </tr>\n",
    "  <tr>\n",
    "    <td><code>cd ~</code></td>\n",
    "    <td>Go to your home directory</td>\n",
    "  </tr>\n",
    "  <tr>\n",
    "    <td><code>cat filename</code></td>\n",
    "    <td>Display the contents of a file</td>\n",
    "  </tr>\n",
    "  <tr>\n",
    "    <td><code>less filename</code></td>\n",
    "    <td>View a file with scrolling</td>\n",
    "  </tr>\n",
    "  <tr>\n",
    "    <td><code>mkdir dir</code></td>\n",
    "    <td>Create a new directory</td>\n",
    "  </tr>\n",
    "</table>\n",
    "\n",
    "\n",
    "\n",
    "---\n",
    "\n",
    "With these commands, you'll be able to efficiently navigate, explore, and manage files in a Unix-like system. Practice moving between directories, viewing files, and manipulating the file system to become more comfortable working in the terminal!\n"
   ]
  },
  {
   "cell_type": "markdown",
   "id": "e358e2b4-661d-4804-86ba-c47442b37729",
   "metadata": {
    "editable": true,
    "slideshow": {
     "slide_type": "slide"
    },
    "tags": []
   },
   "source": [
    "# Demo - move to terminal!"
   ]
  },
  {
   "cell_type": "markdown",
   "id": "8342d6d5-7720-4398-add6-d66887b7d3df",
   "metadata": {
    "editable": true,
    "slideshow": {
     "slide_type": "slide"
    },
    "tags": []
   },
   "source": [
    "# Unix File System Navigation Exercise\n",
    "\n",
    "In this exercise, you'll explore a complex file system structure and use Unix commands to find specific pieces of information. Use commands like `cd`, `ls`, `cat`, `less`, and `grep` to navigate and read files.\n",
    "\n",
    "## Part 1: Exploring the Folder Structure\n",
    "\n",
    "1. **List the top-level directories**:\n",
    "   - What are the directories located directly under the `unix_exploration` folder?\n",
    "   \n",
    "   **Hint**: Use the `ls` command.\n",
    "\n",
    "2. **Navigate to the `Documents` directory**:\n",
    "   - Change into the `Documents/Work` folder. What files are present in this directory?\n",
    "\n",
    "   **Hint**: Use `cd` to navigate and `ls` to list the contents.\n",
    "\n",
    "3. **Find hidden files**:\n",
    "   - Are there any hidden files or directories in the `unix_exploration` folder?\n",
    "\n",
    "   **Hint**: Use `ls -a` to see hidden files.\n",
    "\n",
    "---\n",
    "\n",
    "## Tips:\n",
    "- Use `pwd` to check your current location in the file system.\n",
    "- Use `cd` to change directories and `ls` to list directory contents.\n",
    "- Use `cat` or `less` to view file contents, and `grep` to search for specific text inside files.\n",
    "\n",
    "Good luck exploring!"
   ]
  },
  {
   "cell_type": "markdown",
   "id": "d23544d8-219e-4ffb-90f0-7289eb102260",
   "metadata": {
    "editable": true,
    "slideshow": {
     "slide_type": "slide"
    },
    "tags": []
   },
   "source": [
    "## Part 2: Locating Specific Files\n",
    "\n",
    "4. **Find a quote by Theodosius Dobzhansky**:\n",
    "   - Navigate to the file that contains a famous quote by the biologist Theodosius Dobzhansky. What is the full quote?\n",
    "\n",
    "   **Hint**: Start exploring the `Projects` directory. Use `cat` or `less` to read the file contents.\n",
    "\n",
    "5. **Explore the `Downloads` directory**:\n",
    "   - What quote is stored in the `novel.txt` file located in the `Downloads/Books` directory?\n",
    "\n",
    "   **Hint**: Use `cd` and `cat` to navigate and view the file content.\n",
    "\n",
    "\n",
    "---\n",
    "\n",
    "## Tips:\n",
    "- Use `pwd` to check your current location in the file system.\n",
    "- Use `cd` to change directories and `ls` to list directory contents.\n",
    "- Use `cat` or `less` to view file contents, and `grep` to search for specific text inside files.\n",
    "\n",
    "Good luck exploring!"
   ]
  },
  {
   "cell_type": "markdown",
   "id": "7fce13d7-1bd5-4f86-9ad0-5fcae33cfaab",
   "metadata": {
    "editable": true,
    "slideshow": {
     "slide_type": "slide"
    },
    "tags": []
   },
   "source": [
    "## Part 3: Chromosome Exploration\n",
    "\n",
    "6. **Find information about Chromosome 7**:\n",
    "   - Navigate to the folder containing information about Chromosome 7. What disease is associated with mutations in this chromosome?\n",
    "\n",
    "   **Hint**: Look inside the `Chromosomes/Chromosome7` folder and use `cat` to read the `diseases.txt` file.\n",
    "\n",
    "7. **Explore a specific chromosome**:\n",
    "   - What diseases are caused by mutations on Chromosome 18?\n",
    "\n",
    "   **Hint**: Navigate to `Chromosomes/Chromosome18` and inspect the `diseases.txt` file.\n",
    "\n",
    "8. **Search for information across all chromosomes**:\n",
    "   - Use a command to search for the term \"Down syndrome\" in the chromosome directory. Which chromosome is it linked to?\n",
    "\n",
    "   **Hint**: Use the `grep` command to search for the term within the `Chromosomes` folder.\n",
    "\n",
    "---\n",
    "\n",
    "## Tips:\n",
    "- Use `pwd` to check your current location in the file system.\n",
    "- Use `cd` to change directories and `ls` to list directory contents.\n",
    "- Use `cat` or `less` to view file contents, and `grep` to search for specific text inside files.\n",
    "\n",
    "Good luck exploring!"
   ]
  },
  {
   "cell_type": "markdown",
   "id": "58cf5dc0-bdb8-4fe3-8e52-dc511d3dde88",
   "metadata": {
    "editable": true,
    "slideshow": {
     "slide_type": "slide"
    },
    "tags": []
   },
   "source": [
    "## Part 4: Advanced Navigation\n",
    "\n",
    "9. **Navigate using relative paths**:\n",
    "   - From the `Documents` folder, how would you navigate to the `Projects/Code/Python/Modules` directory using a relative path?\n",
    "\n",
    "   **Hint**: Remember to move up a level with `..` and explore from there.\n",
    "\n",
    "10. **Use an absolute path**:\n",
    "   - From any location, navigate directly to the `ChromosomeY` folder using an absolute path. What diseases are associated with this chromosome?\n",
    "\n",
    "   **Hint**: Use the full path starting from `/`.\n",
    "\n",
    "## Part 5: Bonus Challenge\n",
    "\n",
    "11. **Find the secret hidden file**:\n",
    "   - There is a hidden folder in the `unix_exploration` directory. Inside that folder is a file containing secret information. What is the content of that file?\n",
    "\n",
    "   **Hint**: Use `ls -a` to find hidden folders and files. Then navigate and read the file using `cat`.\n",
    "\n",
    "---\n",
    "\n",
    "## Tips:\n",
    "- Use `pwd` to check your current location in the file system.\n",
    "- Use `cd` to change directories and `ls` to list directory contents.\n",
    "- Use `cat` or `less` to view file contents, and `grep` to search for specific text inside files.\n",
    "\n",
    "Good luck exploring!"
   ]
  },
  {
   "cell_type": "markdown",
   "id": "6e15b869-3d7c-45ce-bb11-fbc03b2bd36a",
   "metadata": {
    "editable": true,
    "slideshow": {
     "slide_type": "slide"
    },
    "tags": []
   },
   "source": [
    "# Understanding Commands Using `man` in Unix\n",
    "\n",
    "In Unix-like systems, every command comes with detailed documentation known as the **manual** or **man pages**. These manuals contain information about how the command works, what options and arguments it accepts, and how to use it effectively.\n",
    "\n",
    "The `man` command allows you to access these manuals from the terminal.\n",
    "\n",
    "## Syntax of `man`\n",
    "\n",
    "```bash\n",
    "man [command]\n",
    "```\n",
    "\n",
    "- **command**: The name of the command for which you want to see the manual page.\n",
    "\n",
    "\n"
   ]
  },
  {
   "cell_type": "markdown",
   "id": "01187f92-07a7-4125-9b1d-f81314975a39",
   "metadata": {
    "editable": true,
    "slideshow": {
     "slide_type": "slide"
    },
    "tags": []
   },
   "source": [
    "### Example: Using `man` with the `ls` Command\n",
    "\n",
    "Let's say you want to learn more about the `ls` command, which lists directory contents. To read the manual for `ls`, run the following command:\n",
    "\n",
    "```bash\n",
    "$ man ls\n",
    "```\n",
    "\n",
    "This will display the manual page for `ls`, providing information such as:\n",
    "\n",
    "- **NAME**: A brief description of what the command does.\n",
    "- **SYNOPSIS**: Shows how to use the command, listing available options and arguments.\n",
    "- **DESCRIPTION**: Gives a detailed explanation of what the command does and how it works.\n",
    "- **OPTIONS**: Lists all available options you can use with `ls` (e.g., `-a`, `-l`, `-h`, etc.), with descriptions for each.\n",
    "\n"
   ]
  },
  {
   "cell_type": "markdown",
   "id": "3152a76c-fea8-4629-826d-e5c6aa3bf27e",
   "metadata": {
    "editable": true,
    "slideshow": {
     "slide_type": "slide"
    },
    "tags": []
   },
   "source": [
    "### Navigating the Manual\n",
    "\n",
    "Once you open the manual for `ls` using `man`, you can navigate through it using the following keys:\n",
    "\n",
    "- **Spacebar**: Scroll down one page at a time.\n",
    "- **Enter**: Scroll down one line at a time.\n",
    "- **b**: Scroll up one page at a time.\n",
    "- **q**: Quit and exit the manual page.\n",
    "\n",
    "### Example Sections from the `ls` Manual:\n",
    "\n",
    "1. **NAME**:\n",
    "    ```text\n",
    "    ls - list directory contents\n",
    "    ```\n",
    "\n",
    "2. **SYNOPSIS**:\n",
    "    ```text\n",
    "    ls [OPTION]... [FILE]...\n",
    "    ```\n",
    "\n",
    "3. **DESCRIPTION**:\n",
    "    ```text\n",
    "    List information about the FILEs (the current directory by default).\n",
    "    ```\n",
    "\n",
    "4. **OPTIONS**:\n",
    "    ```text\n",
    "    -a, --all\n",
    "       do not ignore entries starting with .\n",
    "    \n",
    "    -l\n",
    "       use a long listing format\n",
    "    \n",
    "    -h, --human-readable\n",
    "       with -l, print sizes in human readable format (e.g., 1K 234M 2G)\n",
    "    ```\n",
    "\n"
   ]
  },
  {
   "cell_type": "markdown",
   "id": "611519ca-1c37-42e9-9631-98698f0cc5a4",
   "metadata": {
    "editable": true,
    "slideshow": {
     "slide_type": "slide"
    },
    "tags": []
   },
   "source": [
    "### Searching the Manual\n",
    "\n",
    "If you are looking for specific information within a man page, you can search using the `/` key followed by your search term. For example, to search for \"size\" in the `ls` manual:\n",
    "\n",
    "1. Press `/`.\n",
    "2. Type `size` and press Enter.\n",
    "3. The terminal will highlight the occurrences of \"size\". Use `n` to jump to the next occurrence and `N` to go to the previous one.\n",
    "\n",
    "### Exiting the Manual\n",
    "\n",
    "To exit the `man` page, simply press `q`.\n",
    "\n",
    "---\n",
    "\n"
   ]
  },
  {
   "cell_type": "markdown",
   "id": "44a2db20-2e35-4b54-a985-787a4a088fdf",
   "metadata": {
    "editable": true,
    "slideshow": {
     "slide_type": "slide"
    },
    "tags": []
   },
   "source": [
    "## Summary\n",
    "\n",
    "- The `man` command is used to access the manual (help) pages for any Unix command.\n",
    "- Use `man ls` to explore detailed information on the `ls` command and its options.\n",
    "- Learn how to navigate and search within a man page using keyboard shortcuts.\n",
    "\n",
    "By using the `man` command, you can become more proficient in understanding and using Unix commands effectively.\n",
    "\n",
    "---\n",
    "\n",
    "### Practice Exercise\n",
    "\n",
    "- Run the command `man ls` on your Unix system and explore the different options available for the `ls` command.\n",
    "- Use the `/` search function to find the explanation for the `-l` option."
   ]
  },
  {
   "cell_type": "code",
   "execution_count": 3,
   "id": "20697aa5-70ef-4604-9a7c-ea5f83649cdd",
   "metadata": {
    "editable": true,
    "slideshow": {
     "slide_type": "slide"
    },
    "tags": []
   },
   "outputs": [
    {
     "name": "stderr",
     "output_type": "stream",
     "text": [
      "Unknown locale, assuming C\n"
     ]
    },
    {
     "name": "stdout",
     "output_type": "stream",
     "text": [
      "BUILTIN(1)                  General Commands Manual                 BUILTIN(1)\n",
      "\n",
      "NAME\n",
      "     builtin, !, %, ., :, @, [, {, }, alias, alloc, bg, bind, bindkey, break,\n",
      "     breaksw, builtins, case, cd, chdir, command, complete, continue, default,\n",
      "     dirs, do, done, echo, echotc, elif, else, end, endif, endsw, esac, eval,\n",
      "     exec, exit, export, false, fc, fg, filetest, fi, for, foreach, getopts,\n",
      "     glob, goto, hash, hashstat, history, hup, if, jobid, jobs, kill, limit,\n",
      "     local, log, login, logout, ls-F, nice, nohup, notify, onintr, popd,\n",
      "     printenv, printf, pushd, pwd, read, readonly, rehash, repeat, return,\n",
      "     sched, set, setenv, settc, setty, setvar, shift, source, stop, suspend,\n",
      "     switch, telltc, test, then, time, times, trap, true, type, ulimit, umask,\n",
      "     unalias, uncomplete, unhash, unlimit, unset, unsetenv, until, wait,\n",
      "     where, which, while – shell built-in commands\n",
      "\n",
      "SYNOPSIS\n",
      "     See the built-in command description in the appropriate shell manual\n",
      "     page.\n",
      "\n",
      "DESCRIPTION\n",
      "     Shell builtin commands are commands that can be executed within the\n",
      "     running shell's process.  Note that, in the case of csh(1) builtin\n",
      "     commands, the command is executed in a subshell if it occurs as any\n",
      "     component of a pipeline except the last.\n",
      "\n",
      "     If a command specified to the shell contains a slash ‘/’, the shell will\n",
      "     not execute a builtin command, even if the last component of the\n",
      "     specified command matches the name of a builtin command.  Thus, while\n",
      "     specifying “echo” causes a builtin command to be executed under shells\n",
      "     that support the echo builtin command, specifying “/bin/echo” or “./echo”\n",
      "     does not.\n",
      "\n",
      "     While some builtin commands may exist in more than one shell, their\n",
      "     operation may be different under each shell which supports them.  Below\n",
      "     is a table which lists shell builtin commands, the standard shells that\n",
      "     support them and whether they exist as standalone utilities.\n",
      "\n",
      "     Only builtin commands for the csh(1) and sh(1) shells are listed here.\n",
      "     Consult a shell's manual page for details on the operation of its builtin\n",
      "     commands.  Beware that the sh(1) manual page, at least, calls some of\n",
      "     these commands “built-in commands” and some of them “reserved words”.\n",
      "     Users of other shells may need to consult an info(1) page or other\n",
      "     sources of documentation.\n",
      "\n",
      "     Commands marked “No**” under External do exist externally, but are\n",
      "     implemented as scripts using a builtin command of the same name.\n",
      "\n",
      "           Command           External        csh(1)       sh(1)\n",
      "           !                 No              No           Yes\n",
      "           %                 No              Yes          No\n",
      "           .                 No              No           Yes\n",
      "           :                 No              Yes          Yes\n",
      "           @                 No              Yes          Yes\n",
      "           [                 Yes             No           Yes\n",
      "           {                 No              No           Yes\n",
      "           }                 No              No           Yes\n",
      "           alias             No**            Yes          Yes\n",
      "           alloc             No              Yes          No\n",
      "           bg                No**            Yes          Yes\n",
      "           bind              No              No           Yes\n",
      "           bindkey           No              Yes          No\n",
      "           break             No              Yes          Yes\n",
      "           breaksw           No              Yes          No\n",
      "           builtin           No              No           Yes\n",
      "           builtins          No              Yes          No\n",
      "           case              No              Yes          Yes\n",
      "           cd                No**            Yes          Yes\n",
      "           chdir             No              Yes          Yes\n",
      "           command           No**            No           Yes\n",
      "           complete          No              Yes          No\n",
      "           continue          No              Yes          Yes\n",
      "           default           No              Yes          No\n",
      "           dirs              No              Yes          No\n",
      "           do                No              No           Yes\n",
      "           done              No              No           Yes\n",
      "           echo              Yes             Yes          Yes\n",
      "           echotc            No              Yes          No\n",
      "           elif              No              No           Yes\n",
      "           else              No              Yes          Yes\n",
      "           end               No              Yes          No\n",
      "           endif             No              Yes          No\n",
      "           endsw             No              Yes          No\n",
      "           esac              No              No           Yes\n",
      "           eval              No              Yes          Yes\n",
      "           exec              No              Yes          Yes\n",
      "           exit              No              Yes          Yes\n",
      "           export            No              No           Yes\n",
      "           false             Yes             No           Yes\n",
      "           fc                No**            No           Yes\n",
      "           fg                No**            Yes          Yes\n",
      "           filetest          No              Yes          No\n",
      "           fi                No              No           Yes\n",
      "           for               No              No           Yes\n",
      "           foreach           No              Yes          No\n",
      "           getopts           No**            No           Yes\n",
      "           glob              No              Yes          No\n",
      "           goto              No              Yes          No\n",
      "           hash              No**            No           Yes\n",
      "           hashstat          No              Yes          No\n",
      "           history           No              Yes          No\n",
      "           hup               No              Yes          No\n",
      "           if                No              Yes          Yes\n",
      "           jobid             No              No           Yes\n",
      "           jobs              No**            Yes          Yes\n",
      "           kill              Yes             Yes          Yes\n",
      "           limit             No              Yes          No\n",
      "           local             No              No           Yes\n",
      "           log               No              Yes          No\n",
      "           login             Yes             Yes          No\n",
      "           logout            No              Yes          No\n",
      "           ls-F              No              Yes          No\n",
      "           nice              Yes             Yes          No\n",
      "           nohup             Yes             Yes          No\n",
      "           notify            No              Yes          No\n",
      "           onintr            No              Yes          No\n",
      "           popd              No              Yes          No\n",
      "           printenv          Yes             Yes          No\n",
      "           printf            Yes             No           Yes\n",
      "           pushd             No              Yes          No\n",
      "           pwd               Yes             No           Yes\n",
      "           read              No**            No           Yes\n",
      "           readonly          No              No           Yes\n",
      "           rehash            No              Yes          No\n",
      "           repeat            No              Yes          No\n",
      "           return            No              No           Yes\n",
      "           sched             No              Yes          No\n",
      "           set               No              Yes          Yes\n",
      "           setenv            No              Yes          No\n",
      "           settc             No              Yes          No\n",
      "           setty             No              Yes          No\n",
      "           setvar            No              No           Yes\n",
      "           shift             No              Yes          Yes\n",
      "           source            No              Yes          No\n",
      "           stop              No              Yes          No\n",
      "           suspend           No              Yes          No\n",
      "           switch            No              Yes          No\n",
      "           telltc            No              Yes          No\n",
      "           test              Yes             No           Yes\n",
      "           then              No              No           Yes\n",
      "           time              Yes             Yes          No\n",
      "           times             No              No           Yes\n",
      "           trap              No              No           Yes\n",
      "           true              Yes             No           Yes\n",
      "           type              No**            No           Yes\n",
      "           ulimit            No**            No           Yes\n",
      "           umask             No**            Yes          Yes\n",
      "           unalias           No**            Yes          Yes\n",
      "           uncomplete        No              Yes          No\n",
      "           unhash            No              Yes          No\n",
      "           unlimit           No              Yes          No\n",
      "           unset             No              Yes          Yes\n",
      "           unsetenv          No              Yes          No\n",
      "           until             No              No           Yes\n",
      "           wait              No**            Yes          Yes\n",
      "           where             No              Yes          No\n",
      "           which             Yes             Yes          No\n",
      "           while             No              Yes          Yes\n",
      "\n",
      "SEE ALSO\n",
      "     csh(1), dash(1), echo(1), false(1), info(1), kill(1), login(1), nice(1),\n",
      "     nohup(1), printenv(1), printf(1), pwd(1), sh(1), test(1), time(1),\n",
      "     true(1), which(1), zsh(1)\n",
      "\n",
      "HISTORY\n",
      "     The builtin manual page first appeared in FreeBSD 3.4.\n",
      "\n",
      "AUTHORS\n",
      "     This manual page was written by Sheldon Hearn <sheldonh@FreeBSD.org>.\n",
      "\n",
      "macOS 14.6                     December 21, 2010                    macOS 14.6\n"
     ]
    }
   ],
   "source": [
    "%%bash\n",
    "\n",
    "man cd"
   ]
  },
  {
   "attachments": {},
   "cell_type": "markdown",
   "id": "3fca482f-f9ed-4079-9bd3-84b3ce8ed0ee",
   "metadata": {
    "editable": true,
    "slideshow": {
     "slide_type": "slide"
    },
    "tags": []
   },
   "source": [
    "# RTM\n",
    "\n",
    "(polite form...)\n",
    "\n",
    "Always always read the manual.\n",
    "\n",
    "Or \n",
    "- use google (https://www.google.com)\n",
    "- or stackoverflow (https://stackoverflow.com/)\n",
    "- or https://www.unix.com/\n",
    "- or https://www.biostars.org/\n",
    "...\n",
    "\n",
    "  or you could - **very carefully** - ask chatGPT"
   ]
  },
  {
   "cell_type": "markdown",
   "id": "d018c891-6fd1-4b75-a2d0-a1127a843e2c",
   "metadata": {
    "editable": true,
    "slideshow": {
     "slide_type": "slide"
    },
    "tags": []
   },
   "source": [
    "# File and Folder Permissions in Unix\n",
    "\n",
    "In Unix-like operating systems, every file and folder has associated permissions that define who can read, write, or execute the file. Understanding these permissions is crucial for maintaining the security and integrity of your system.\n",
    "\n",
    "\n",
    "\n",
    "\n",
    "\n"
   ]
  },
  {
   "cell_type": "markdown",
   "id": "d656bb41-db03-417c-be45-532c306c4f34",
   "metadata": {
    "editable": true,
    "slideshow": {
     "slide_type": "fragment"
    },
    "tags": []
   },
   "source": [
    "## Understanding Permissions\n",
    "\n",
    "Unix permissions are split into three categories:\n",
    "\n",
    "1. **Owner**: The user who owns the file.\n",
    "2. **Group**: A group of users who have access to the file.\n",
    "3. **Others**: Any other user on the system.\n",
    "\n",
    "Each category has three types of permissions:\n",
    "\n",
    "- **r**: Read – permission to read the contents of the file.\n",
    "- **w**: Write – permission to modify the file or directory.\n",
    "- **x**: Execute – permission to run the file as a program (for files) or access the directory (for directories)."
   ]
  },
  {
   "cell_type": "markdown",
   "id": "439d50b8-e5aa-42e5-afbe-aee997ba5482",
   "metadata": {
    "editable": true,
    "slideshow": {
     "slide_type": "slide"
    },
    "tags": []
   },
   "source": [
    "### File Permission Representation\n",
    "\n",
    "Permissions are displayed in a 10-character string when using the `ls -l` command. The format is:\n",
    "\n",
    "```\n",
    "-rwxr-xr--\n",
    "```\n",
    "\n",
    "The first character indicates the file type (`-` for a file, `d` for a directory). The remaining characters represent permissions in groups of three:\n",
    "\n",
    "- **rwx**: Owner permissions (read, write, execute).\n",
    "- **r-x**: Group permissions (read, execute).\n",
    "- **r--**: Others' permissions (read only).\n",
    "\n",
    "### Example of `ls -l` Output:\n",
    "\n",
    "```bash\n",
    "$ ls -l\n",
    "-rw-r--r-- 1 user group 1048 Sep  5 10:15 example.txt\n",
    "drwxr-xr-x 2 user group 4096 Sep  5 10:16 myfolder\n",
    "```\n",
    "\n",
    "In this example:\n",
    "\n",
    "- `example.txt` is a file with read and write permissions for the owner, and read-only permissions for the group and others.\n",
    "- `myfolder` is a directory with read, write, and execute permissions for the owner, and read and execute permissions for the group and others.\n",
    "\n"
   ]
  },
  {
   "cell_type": "markdown",
   "id": "d7ea8ef9-e964-4d3c-8302-eb0760f50713",
   "metadata": {
    "editable": true,
    "slideshow": {
     "slide_type": "slide"
    },
    "tags": []
   },
   "source": [
    "## Changing Permissions with `chmod`\n",
    "\n",
    "The `chmod` command allows you to change the permissions of a file or directory. You can modify permissions using either **symbolic mode** or **numeric mode**.\n",
    "\n",
    "### Symbolic Mode\n",
    "\n",
    "In symbolic mode, you can specify permissions for the owner (`u`), group (`g`), or others (`o`).\n",
    "\n",
    "#### Syntax:\n",
    "\n",
    "```bash\n",
    "chmod [who][operation][permission] filename\n",
    "```\n",
    "\n",
    "- **who**: `u` (owner), `g` (group), `o` (others), `a` (all).\n",
    "- **operation**: `+` (add), `-` (remove), `=` (set).\n",
    "- **permission**: `r` (read), `w` (write), `x` (execute).\n",
    "\n"
   ]
  },
  {
   "cell_type": "markdown",
   "id": "bda46bae-4fc9-433a-80d4-5d77826b3a96",
   "metadata": {
    "editable": true,
    "slideshow": {
     "slide_type": "slide"
    },
    "tags": []
   },
   "source": [
    "#### Example 1: Add execute permission for the owner\n",
    "\n",
    "```bash\n",
    "chmod u+x script.sh\n",
    "```\n",
    "\n",
    "#### Example 2: Remove write permission for the group\n",
    "\n",
    "```bash\n",
    "chmod g-w example.txt\n",
    "```\n",
    "\n",
    "#### Example 3: Give read and write permissions to everyone\n",
    "\n",
    "```bash\n",
    "chmod a+rw document.txt\n",
    "```\n",
    "\n"
   ]
  },
  {
   "cell_type": "markdown",
   "id": "b0d59cb9-747f-4a55-bc04-060e637cc037",
   "metadata": {
    "editable": true,
    "slideshow": {
     "slide_type": "slide"
    },
    "tags": []
   },
   "source": [
    "### Numeric Mode\n",
    "\n",
    "Permissions can also be set using numbers (octal notation). Each permission type is represented by a number:\n",
    "\n",
    "- **Read (r)**: 4\n",
    "- **Write (w)**: 2\n",
    "- **Execute (x)**: 1\n",
    "\n",
    "You can calculate the permission by adding the numbers for the desired permissions. For example:\n",
    "\n",
    "- **rwx** (read, write, execute) = 4 + 2 + 1 = 7\n",
    "- **r--** (read only) = 4\n",
    "\n",
    "#### Example:\n",
    "\n",
    "```bash\n",
    "chmod 755 myfolder\n",
    "```\n",
    "\n",
    "This sets the permissions to:\n",
    "\n",
    "- Owner: **rwx** (7)\n",
    "- Group: **r-x** (5)\n",
    "- Others: **r-x** (5)\n",
    "\n"
   ]
  },
  {
   "cell_type": "markdown",
   "id": "3c4e2ae6-9e61-4c3a-9fb6-c8149b417a8f",
   "metadata": {
    "editable": true,
    "slideshow": {
     "slide_type": "slide"
    },
    "tags": []
   },
   "source": [
    "## File Ownership\n",
    "\n",
    "In Unix, every file and directory has an owner and a group. You can see the owner and group by running `ls -l`. The owner has special privileges over the file or directory, and the group can have shared access.\n",
    "\n",
    "To change the ownership of a file, use the `chown` command:\n",
    "\n",
    "```bash\n",
    "chown newowner:newgroup filename\n",
    "```\n",
    "\n",
    "#### Example:\n",
    "\n",
    "```bash\n",
    "sudo chown john:developers project_folder\n",
    "```\n",
    "\n",
    "This command changes the owner to `john` and the group to `developers`.\n",
    "\n",
    "## `sudo` and Root Privileges\n",
    "\n",
    "The `sudo` (superuser do) command allows a permitted user to execute commands with the security privileges of another user, typically the superuser (root). The `root` user has unrestricted access to all files and commands on the system.\n",
    "\n"
   ]
  },
  {
   "cell_type": "markdown",
   "id": "21d99554-121b-4b73-a93c-7cf8ec6c130d",
   "metadata": {
    "editable": true,
    "slideshow": {
     "slide_type": "slide"
    },
    "tags": []
   },
   "source": [
    "<img src=\"https://i.giphy.com/media/v1.Y2lkPTc5MGI3NjExd2Fia29kM3RlNHVkdTgxNDYzZm4zZG9vam1neGlqdm4wNHdnbXA1NiZlcD12MV9pbnRlcm5hbF9naWZfYnlfaWQmY3Q9Zw/MCZ39lz83o5lC/giphy.gif\" alt=\"description\" style=\"width: 100%; max-width: 1000px; height: auto;\">"
   ]
  },
  {
   "cell_type": "markdown",
   "id": "6c158929-1785-4ad9-a567-ad45a2f750f3",
   "metadata": {
    "editable": true,
    "slideshow": {
     "slide_type": "slide"
    },
    "tags": []
   },
   "source": [
    "### Why Root Privileges Are Special\n",
    "\n",
    "The `root` user can:\n",
    "\n",
    "- Modify or delete any file on the system, even critical system files.\n",
    "- Install or remove software, configure system settings, and change other users' files.\n",
    "\n",
    "Because `root` has such immense power, **it comes with great responsibility**. Improper use of `sudo` can cause system failures, data loss, or security vulnerabilities.\n",
    "\n",
    "### Example of Using `sudo`:\n",
    "\n",
    "```bash\n",
    "sudo chmod 777 importantfile.txt\n",
    "```\n",
    "\n",
    "This command allows everyone to read, write, and execute the `importantfile.txt` file. However, be careful with permissions like `777`, as they grant full access to anyone, potentially compromising the security of the file.\n",
    "\n",
    "### Key Caution:\n",
    "\n",
    "- **Avoid using `sudo` unless necessary**: Always think twice before using `sudo` to change file permissions, install software, or delete files. With great power comes great responsibility. Any mistake can have system-wide consequences.\n",
    "\n"
   ]
  },
  {
   "cell_type": "markdown",
   "id": "c99afaed-867b-444f-bc40-d4c3269f42b2",
   "metadata": {
    "editable": true,
    "slideshow": {
     "slide_type": "slide"
    },
    "tags": []
   },
   "source": [
    "## Summary\n",
    "\n",
    "- Files and directories in Unix have three levels of permissions: owner, group, and others.\n",
    "- Use `chmod` to change permissions using symbolic or numeric modes.\n",
    "- File ownership can be changed with `chown`, and `sudo` grants elevated privileges to perform sensitive actions.\n",
    "- Use `sudo` with caution to avoid damaging your system or creating security vulnerabilities."
   ]
  },
  {
   "cell_type": "markdown",
   "id": "224d5cae-36fa-4f65-9f83-f9ab6cdd9a50",
   "metadata": {
    "editable": true,
    "slideshow": {
     "slide_type": "slide"
    },
    "tags": []
   },
   "source": [
    "# The `rm` Command: Handle with Care\n",
    "\n",
    "The `rm` command in Unix and Linux is used to **remove files and directories**. While it's an essential tool, it is also one of the most **dangerous commands** in the Unix world due to its ability to permanently delete files and directories. In most cases, files removed by `rm` cannot be recovered, so it’s crucial to use this command carefully.\n",
    "\n",
    "## Syntax of `rm`\n",
    "\n",
    "```bash\n",
    "rm [options] file_or_directory\n",
    "```\n",
    "\n",
    "Common options:\n",
    "\n",
    "- `-r`: Recursively remove directories and their contents.\n",
    "- `-f`: Force removal without prompting for confirmation.\n"
   ]
  },
  {
   "cell_type": "markdown",
   "id": "bd88aa3e-d5d8-44dc-930f-39d73fd691b3",
   "metadata": {
    "editable": true,
    "slideshow": {
     "slide_type": "slide"
    },
    "tags": []
   },
   "source": [
    "## Why Is `rm` So Dangerous?\n",
    "\n",
    "The `rm` command does **not** move files to a recycle bin or trash. Once a file is removed using `rm`, it is **immediately and permanently** deleted from the file system, with no easy way to recover it. This means if you accidentally delete important files, they may be lost forever.\n",
    "\n",
    "### Example of Basic `rm` Usage\n",
    "\n",
    "```bash\n",
    "rm file.txt\n",
    "```\n",
    "\n",
    "This removes `file.txt` permanently.\n",
    "\n",
    "### Example of Recursive Removal\n",
    "\n",
    "```bash\n",
    "rm -r myfolder\n",
    "```\n",
    "\n",
    "The `-r` option tells `rm` to recursively delete all files and subdirectories within `myfolder`, effectively wiping out the entire directory tree.\n",
    "\n",
    "### Example of Forced Removal\n",
    "\n",
    "```bash\n",
    "rm -rf myfolder\n",
    "```\n",
    "\n",
    "The `-rf` options combined force `rm` to remove the `myfolder` directory **without prompting** for confirmation, even if the files are write-protected. This is a very powerful and dangerous command."
   ]
  },
  {
   "cell_type": "markdown",
   "id": "ce0d73af-3209-4cfc-a118-c37b84315d76",
   "metadata": {
    "editable": true,
    "slideshow": {
     "slide_type": "slide"
    },
    "tags": []
   },
   "source": [
    "## Real Dangers of `rm`\n",
    "\n",
    "1. **Accidental Deletion**:\n",
    "   It’s easy to make a typo or mistake when running `rm`, especially when combined with wildcards (`*`). For example:\n",
    "\n",
    "   ```bash\n",
    "   rm *.txt\n",
    "   ```\n",
    "\n",
    "   This command removes all `.txt` files in the current directory. If you meant to delete only one `.txt` file, this mistake could delete all text files.\n",
    "\n",
    "2. **Recursive Destruction (`rm -rf`)**:\n",
    "   Using `rm -rf` on the wrong directory can lead to catastrophic data loss. Imagine running this command:\n",
    "\n",
    "   ```bash\n",
    "   sudo rm -rf /\n",
    "   ```\n",
    "\n",
    "   This command tells the system to delete everything from the root directory (`/`) downward, essentially wiping out your entire operating system.\n",
    "\n",
    "3. **No Undo**:\n",
    "   Unlike the graphical user interface (GUI) where deleted files go to a trash bin, there’s no equivalent in Unix for the `rm` command. Once files are deleted, they are **gone for good** unless you have backups.\n"
   ]
  },
  {
   "cell_type": "markdown",
   "id": "a90f5086-ebcd-4d0a-bce9-09cae4c47ab9",
   "metadata": {
    "editable": true,
    "slideshow": {
     "slide_type": "slide"
    },
    "tags": []
   },
   "source": [
    "# How to Use `rm` Safely\n",
    "\n",
    "### 1. Avoid Using `rm -rf` Without Thinking\n",
    "\n",
    "The `rm -rf` command can be a ticking time bomb. Before running it, always double-check which directory or files you are targeting.\n",
    "\n",
    "### 2. Use Interactive Mode (`-i`)\n",
    "\n",
    "To add a layer of safety, you can use the `-i` option with `rm`, which prompts you for confirmation before each removal.\n",
    "\n",
    "#### Example:\n",
    "\n",
    "```bash\n",
    "rm -i file.txt\n",
    "```\n",
    "\n",
    "This will ask for confirmation before deleting the file:\n",
    "\n",
    "```\n",
    "rm: remove regular empty file ‘file.txt’? y/n\n",
    "```\n",
    "\n",
    "For recursive deletions, you can combine `-r` and `-i`:\n",
    "\n",
    "```bash\n",
    "rm -ri myfolder\n",
    "```\n",
    "\n",
    "This will ask for confirmation before removing each file within `myfolder`.\n"
   ]
  },
  {
   "cell_type": "markdown",
   "id": "1a27ba4d-ca72-42d8-82df-2d40fe7a41d1",
   "metadata": {
    "editable": true,
    "slideshow": {
     "slide_type": "slide"
    },
    "tags": []
   },
   "source": [
    "### 3. Use Wildcards with Caution\n",
    "\n",
    "Be especially cautious when using wildcards (`*`) in your `rm` commands. For example:\n",
    "\n",
    "```bash\n",
    "rm *.log\n",
    "```\n",
    "\n",
    "This removes all files with the `.log` extension. Always make sure you understand the scope of files you're targeting with wildcards.\n",
    "\n",
    "### 4. Make Use of Backups\n",
    "\n",
    "Before running `rm`, especially with dangerous options like `-rf`, make sure you have **backups** of important data. Having regular backups can save you from accidental data loss.\n",
    "\n",
    "### 5. Dry Run with `ls`\n",
    "\n",
    "When using wildcards or deleting multiple files, consider running `ls` first to verify the files to be removed. This can prevent accidental deletions.\n",
    "\n",
    "#### Example:\n",
    "\n",
    "```bash\n",
    "ls *.log\n",
    "```\n",
    "\n",
    "This lists all `.log` files, so you can review which files will be deleted before running `rm`."
   ]
  },
  {
   "cell_type": "markdown",
   "id": "f61d8c91-2045-4c48-b8a0-07e076257035",
   "metadata": {
    "editable": true,
    "slideshow": {
     "slide_type": "slide"
    },
    "tags": []
   },
   "source": [
    "### 6. Do Not Use `sudo rm` Lightly\n",
    "\n",
    "The `sudo` command allows you to execute commands with elevated privileges. Combining `sudo` with `rm` can be even more dangerous because it bypasses permissions, allowing you to delete files and directories that are otherwise protected.\n",
    "\n",
    "#### Example:\n",
    "\n",
    "```bash\n",
    "sudo rm -rf /important_folder\n",
    "```\n",
    "\n",
    "This command will delete `/important_folder` regardless of its permissions, potentially causing irreversible damage.\n"
   ]
  },
  {
   "cell_type": "markdown",
   "id": "e0c3aab6-b60d-44ab-8520-8e62dc7a9dda",
   "metadata": {
    "editable": true,
    "slideshow": {
     "slide_type": "slide"
    },
    "tags": []
   },
   "source": [
    "## Summary: With Great Power Comes Great Responsibility\n",
    "\n",
    "The `rm` command is a powerful and essential tool, but it must be used with care. When deleting files:\n",
    "\n",
    "- Double-check your commands.\n",
    "- Use interactive mode (`-i`) for safety.\n",
    "- Avoid `sudo rm -rf` unless absolutely necessary.\n",
    "- Always have backups of important files.\n",
    "\n",
    "Remember, **once a file is deleted with `rm`, it is gone forever**. Be cautious, and don't rush into using this command without verifying what you’re about to delete.\n",
    "\n",
    "<img src=\"https://i.giphy.com/media/v1.Y2lkPTc5MGI3NjExd2Fia29kM3RlNHVkdTgxNDYzZm4zZG9vam1neGlqdm4wNHdnbXA1NiZlcD12MV9pbnRlcm5hbF9naWZfYnlfaWQmY3Q9Zw/MCZ39lz83o5lC/giphy.gif\" alt=\"description\" style=\"width: 100%; max-width: 1000px; height: auto;\">\n"
   ]
  },
  {
   "cell_type": "markdown",
   "id": "5a96d462-832a-4899-88cb-4c607a593855",
   "metadata": {
    "editable": true,
    "slideshow": {
     "slide_type": "slide"
    },
    "tags": []
   },
   "source": [
    "# Introduction to Wildcards in Bash\n",
    "\n",
    "- **Wildcards** are symbols used in Bash to represent one or more characters when performing file name expansion.\n",
    "- They allow for **flexibility** and **efficiency** in command-line operations like searching, listing, and moving files.\n",
    "\n",
    "---"
   ]
  },
  {
   "cell_type": "markdown",
   "id": "42e862c3-c15a-4b19-a379-67c0e953f867",
   "metadata": {
    "editable": true,
    "slideshow": {
     "slide_type": "slide"
    },
    "tags": []
   },
   "source": [
    "# Common Wildcards\n",
    "\n",
    "1. **Asterisk (*)**\n",
    "    - Matches **zero or more characters**.\n",
    "    - Example:\n",
    "      ```bash\n",
    "      ls *.txt\n",
    "      ```\n",
    "      This lists all files in the current directory with the `.txt` extension.\n",
    "    \n",
    "2. **Question Mark (?)**\n",
    "    - Matches **exactly one character**.\n",
    "    - Example:\n",
    "      ```bash\n",
    "      ls file?.txt\n",
    "      ```\n",
    "      This will match files like `file1.txt` or `fileA.txt` but **not** `file10.txt`.\n",
    "\n",
    "---"
   ]
  },
  {
   "cell_type": "markdown",
   "id": "0b30758c-a561-42d6-8286-ed9320728c8f",
   "metadata": {
    "editable": true,
    "slideshow": {
     "slide_type": "slide"
    },
    "tags": []
   },
   "source": [
    "# Using Square Brackets ([]) for Character Sets\n",
    "\n",
    "- **Square brackets** allow you to match a **range** or **specific set of characters**.\n",
    "- Examples:\n",
    "  - `[abc]`: Matches **one occurrence** of `a`, `b`, or `c`.\n",
    "    ```bash\n",
    "    ls file[abc].txt\n",
    "    ```\n",
    "    This will match `filea.txt`, `fileb.txt`, or `filec.txt`.\n",
    "  \n",
    "  - `[0-9]`: Matches **any single digit**.\n",
    "    ```bash\n",
    "    ls file[0-9].txt\n",
    "    ```\n",
    "    This matches `file1.txt`, `file2.txt`, etc.\n",
    "\n",
    "---\n"
   ]
  },
  {
   "cell_type": "markdown",
   "id": "d7e74a83-13d4-4bc2-9cc2-bb040aac6004",
   "metadata": {
    "editable": true,
    "slideshow": {
     "slide_type": "slide"
    },
    "tags": []
   },
   "source": [
    "# Recursive Matching with Wildcards\n",
    "\n",
    "- Use the `**` wildcard (if supported by your Bash version) to match files in **subdirectories** recursively.\n",
    "- Example:\n",
    "  ```bash\n",
    "  ls **/*.txt\n",
    "  ```\n",
    "  This lists all `.txt` files in the current directory and all subdirectories.\n",
    "\n",
    "---\n",
    "\n"
   ]
  },
  {
   "cell_type": "markdown",
   "id": "a0290423-48b7-4496-adb0-ab08bcc390c7",
   "metadata": {
    "editable": true,
    "slideshow": {
     "slide_type": "slide"
    },
    "tags": []
   },
   "source": [
    "# Combining Wildcards\n",
    "\n",
    "- You can combine multiple wildcards to create more powerful patterns.\n",
    "- Example:\n",
    "  ```bash\n",
    "  ls file*.?x[0-9]\n",
    "  ```\n",
    "  This matches files that start with `file`, followed by any characters, and ending with `.x` followed by a digit, like `file1.ax5` or `file22.x9`.\n",
    "\n",
    "---\n"
   ]
  },
  {
   "cell_type": "markdown",
   "id": "61189ce8-e0f9-48d3-8177-6980ff58b597",
   "metadata": {
    "editable": true,
    "slideshow": {
     "slide_type": "slide"
    },
    "tags": []
   },
   "source": [
    "# Practical Examples\n",
    "\n",
    "1. **Copying Multiple Files:**\n",
    "   ```bash\n",
    "   cp *.jpg /destination/folder/\n",
    "   ```\n",
    "   Copies all `.jpg` files to the destination folder.\n",
    "\n",
    "2. **Finding Specific Files:**\n",
    "   ```bash\n",
    "   find . -name \"file?.txt\"\n",
    "   ```\n",
    "   Finds files in the current directory with names like `file1.txt` or `fileA.txt`.\n",
    "\n",
    "---\n"
   ]
  },
  {
   "cell_type": "markdown",
   "id": "fd804e3d-2446-4bac-b75c-70d2bf8099ba",
   "metadata": {
    "editable": true,
    "slideshow": {
     "slide_type": "slide"
    },
    "tags": []
   },
   "source": [
    "# Wildcard Best Practices\n",
    "\n",
    "- **Escape characters** (e.g., `\\*`, `\\?`) to avoid unintended matches.\n",
    "- Always **test** your wildcard patterns with `ls` or `echo` before applying changes to avoid accidental file manipulation.\n"
   ]
  },
  {
   "cell_type": "code",
   "execution_count": null,
   "id": "a00651f5-0f22-4c1e-830f-f06b0e0bb586",
   "metadata": {
    "editable": true,
    "slideshow": {
     "slide_type": ""
    },
    "tags": []
   },
   "outputs": [],
   "source": []
  }
 ],
 "metadata": {
  "kernelspec": {
   "display_name": "Python 3 (ipykernel)",
   "language": "python",
   "name": "python3"
  },
  "language_info": {
   "codemirror_mode": {
    "name": "ipython",
    "version": 3
   },
   "file_extension": ".py",
   "mimetype": "text/x-python",
   "name": "python",
   "nbconvert_exporter": "python",
   "pygments_lexer": "ipython3",
   "version": "3.12.5"
  },
  "rise": {
   "enable_chalkboard": true,
   "scroll": true,
   "theme": "serif",
   "transition": "fade"
  }
 },
 "nbformat": 4,
 "nbformat_minor": 5
}
