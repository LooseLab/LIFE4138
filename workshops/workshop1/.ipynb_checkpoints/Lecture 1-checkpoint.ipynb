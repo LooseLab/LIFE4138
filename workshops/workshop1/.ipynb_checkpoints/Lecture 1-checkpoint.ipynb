{
 "cells": [
  {
   "cell_type": "markdown",
   "id": "e7d6dc05-53e1-4c86-9d9a-ffa901a05b83",
   "metadata": {
    "editable": true,
    "slideshow": {
     "slide_type": "slide"
    },
    "tags": []
   },
   "source": [
    "# LIFE4138\n",
    "\n",
    "## Professor Matthew Loose \n",
    "\n",
    "matt.loose@nottingham.ac.uk\n",
    "\n",
    "## Dr Laura Dean\n",
    "\n",
    "laura.dean@nottingham.ac.uk\n"
   ]
  },
  {
   "cell_type": "markdown",
   "id": "b720296f",
   "metadata": {
    "editable": true,
    "slideshow": {
     "slide_type": "subslide"
    },
    "tags": []
   },
   "source": [
    "![Class at work](../images/training.webp)"
   ]
  },
  {
   "cell_type": "markdown",
   "id": "d3ca3708",
   "metadata": {
    "editable": true,
    "slideshow": {
     "slide_type": "subslide"
    },
    "tags": []
   },
   "source": [
    "![Cheery class at work](../images/cheerytraining.webp)"
   ]
  },
  {
   "cell_type": "markdown",
   "id": "0e6d3454",
   "metadata": {
    "editable": true,
    "slideshow": {
     "slide_type": "slide"
    },
    "tags": []
   },
   "source": [
    "# Module Goals\n",
    "\n",
    "### Learn Unix\n",
    "\n",
    "### Learn R\n",
    "\n",
    "### Learn Python\n",
    "\n",
    "### Become a coding expert!\n",
    "\n",
    "All by week 10!\n"
   ]
  },
  {
   "cell_type": "markdown",
   "id": "c63b8eee-9185-4eee-9db0-1205359b005e",
   "metadata": {
    "editable": true,
    "slideshow": {
     "slide_type": "slide"
    },
    "tags": []
   },
   "source": [
    "# Module Goals\n",
    "\n",
    "## Just kidding!\n",
    "\n",
    "\n"
   ]
  },
  {
   "cell_type": "markdown",
   "id": "0cc1cb21-2d8b-47a8-8a85-008e6bb77db0",
   "metadata": {
    "editable": true,
    "slideshow": {
     "slide_type": "fragment"
    },
    "tags": []
   },
   "source": [
    "We aim to teach you the basics, but most importantly we aim to teach you how to learn.\n",
    "\n",
    "\n",
    "**--Give a Man a Fish, and You Feed Him for a Day. Teach a Man To Fish, and You Feed Him for a Lifetime.--**\n",
    "\n",
    "![Fish](https://i.giphy.com/media/v1.Y2lkPTc5MGI3NjExcGtjaHoybnFxN3RyMmp3MzdrcmJ2MThsejE1ZjQxMWpvazc0N2MyZSZlcD12MV9pbnRlcm5hbF9naWZfYnlfaWQmY3Q9Zw/26tk0aLx4Aj4lxx3W/giphy.gif)\n"
   ]
  },
  {
   "cell_type": "markdown",
   "id": "75e709b6-1189-41dd-a3c6-ec9b97b1d7ec",
   "metadata": {
    "editable": true,
    "slideshow": {
     "slide_type": "slide"
    },
    "tags": []
   },
   "source": [
    "# We want you to GROK!\n",
    "\n",
    ":GROK To grok something means to understand it deeply and intuitively. The term suggests not just intellectual comprehension, but a thorough, almost instinctive understanding of a subject or concept. It implies that the person \"groks\" something so completely that they can fully internalize its meaning or function.\n",
    "\n",
    "The term originates from the 1961 science fiction novel Stranger in a Strange Land by Robert A. Heinlein, where it comes from the Martian language and means to \"drink\" or \"absorb\" in a metaphorical sense. In tech and hacker culture, it’s often used to describe a deep mastery or grasp of a complex subject, like coding, systems, or ideas.\n",
    "\n",
    "For example, \"I grok Bash scripting\" would mean the person has an intuitive and complete understanding of writing scripts in Bash.\n",
    "\n",
    "![Grok](https://i.giphy.com/media/v1.Y2lkPTc5MGI3NjExZTNibDlrNW04ZXk1enZxaXJmYWV4eHJkOHFnc2tlZ3M5ODhnMHV3biZlcD12MV9pbnRlcm5hbF9naWZfYnlfaWQmY3Q9Zw/K1nPCEuN2rwG1zJg04/giphy.gif)\n",
    "\n"
   ]
  },
  {
   "cell_type": "markdown",
   "id": "5414037c-410e-4507-ab3d-22f661fbbd83",
   "metadata": {
    "editable": true,
    "slideshow": {
     "slide_type": "slide"
    },
    "tags": []
   },
   "source": [
    "# Talking of **Grok** and Fish...\n",
    "\n",
    "https://software-carpentry.org/\n",
    "\n",
    "Software carpentry is a key resource. We will not duplicate the material in those lessons BUT they will be orthogonal to what we do here.\n",
    "\n",
    "Go to software carpentry.\n",
    "\n",
    "Go through the materials.\n",
    "\n",
    "Use the knowledge you have gained to improve your bioinformatics life!\n",
    "\n",
    "\n"
   ]
  },
  {
   "cell_type": "markdown",
   "id": "c2c8c098",
   "metadata": {
    "editable": true,
    "slideshow": {
     "slide_type": "slide"
    },
    "tags": []
   },
   "source": [
    "# Cheating\n",
    "\n",
    "Cheating is **wrong**.\n",
    "\n",
    "In the age of chatGPT/ClaudeAI/Bing/Grok/Custom LLMs (the list goes on)... it is easy to cheat. Ultimately cheating using these tools will only hurt you.\n",
    "\n",
    "We will try and demonstrate **ethical** use of tools such as these in coding.\n",
    "\n",
    "We will also refer you to \"CheatSheets\" which provide simple guides to common problems.\n",
    "\n"
   ]
  },
  {
   "cell_type": "markdown",
   "id": "d4ceffa9",
   "metadata": {
    "editable": true,
    "slideshow": {
     "slide_type": "slide"
    },
    "tags": []
   },
   "source": [
    "# ChatGPT etc\n",
    "\n",
    "\n",
    "The use of LLMs to write assignments, generate code in its entirety, solve all your problems and be awarded a degree is forbidden. \n",
    "\n",
    "However - you are encouraged to use search engines, the internet, self training courses and to appropriately use LLMs in your studies."
   ]
  },
  {
   "cell_type": "markdown",
   "id": "519342f0-b618-48b2-aea4-1a763ea0244c",
   "metadata": {
    "editable": true,
    "slideshow": {
     "slide_type": "slide"
    },
    "tags": []
   },
   "source": [
    "# Module Format\n",
    "\n",
    "\n",
    "We will meet twice a week. In each session it will be a mix of teaching, workshops and self learning.\n",
    "\n",
    "There will be **homework**.\n",
    "\n"
   ]
  },
  {
   "cell_type": "markdown",
   "id": "52bcd1e6-d5d2-4ce8-b125-29be908832cb",
   "metadata": {
    "editable": true,
    "slideshow": {
     "slide_type": "slide"
    },
    "tags": []
   },
   "source": [
    "# Assessment\n",
    "\n",
    "\n",
    "TBD\n",
    "\n"
   ]
  },
  {
   "attachments": {},
   "cell_type": "markdown",
   "id": "40ab0c7a-17ee-4744-a498-2470bd0b098e",
   "metadata": {
    "editable": true,
    "slideshow": {
     "slide_type": "slide"
    },
    "tags": []
   },
   "source": [
    "# Introduction to Unix\n",
    "\n",
    "## Professor Matthew Loose\n",
    "\n",
    "### Week 1 Workshop 1\n",
    "\n",
    "Unix Workshop - Week 1\n",
    "\n",
    "matt.loose@nottingham.ac.uk\n"
   ]
  },
  {
   "cell_type": "markdown",
   "id": "682b0c51-6ccd-40ae-83b3-22b0187e1141",
   "metadata": {
    "editable": true,
    "slideshow": {
     "slide_type": "slide"
    },
    "tags": []
   },
   "source": [
    "## Introduction\n",
    "\n",
    "Welcome to the first workshop on Unix. \n",
    "\n",
    "In this workshop, we will introduce you to some basic Unix commands and how to navigate and manipulate files in a Unix environment.\n",
    "\n",
    "We will also use: GIT and Jupyter Lab"
   ]
  },
  {
   "cell_type": "markdown",
   "id": "c9fb661f-55f0-40fc-95e8-54aa165e51a6",
   "metadata": {
    "editable": true,
    "slideshow": {
     "slide_type": "slide"
    },
    "tags": []
   },
   "source": [
    "## Learning Objectives:\n",
    "\n",
    "Understand consoles/terminals\n",
    "\n",
    "Learn basic Unix commands and understand command syntax \n",
    "\n",
    "Navigate through filesystems in Unix \n",
    "\n",
    "Modify the filesystem by creating, moving, and deleting files and directories \n",
    "\n",
    "Read, edit, and search files using Unix utilities \n",
    "\n",
    "Access and utilize the Unix manual pages for help"
   ]
  },
  {
   "cell_type": "markdown",
   "id": "187131c0-7ac8-4db3-b82b-e5dce333dfc9",
   "metadata": {
    "editable": true,
    "slideshow": {
     "slide_type": "slide"
    },
    "tags": []
   },
   "source": [
    "## How are we going to do this?\n",
    "\n",
    "We will use a mix of tools - but all the demonstrations will be in these jupyter notebook presentations. You can download the code to your own laptops and test and play.\n",
    "\n",
    "This whole lecture is a jupyter notebook (as you will see)...."
   ]
  },
  {
   "cell_type": "markdown",
   "id": "78dc12a5-3058-427e-aaa1-79b29a63bfb2",
   "metadata": {
    "editable": true,
    "slideshow": {
     "slide_type": ""
    },
    "tags": []
   },
   "source": [
    "# !ToDo\n",
    "\n",
    "Write setup instructions for the module!"
   ]
  },
  {
   "attachments": {},
   "cell_type": "markdown",
   "id": "dd8db41d-aa12-4097-8086-217009c411ed",
   "metadata": {
    "editable": true,
    "slideshow": {
     "slide_type": "slide"
    },
    "tags": []
   },
   "source": [
    "# 1. What is Unix?\n",
    "\n",
    "**Unix** is defined as an operating system that uses a command-line interface **(CLI)** rather than a graphical user interface **(GUI)**.\n",
    "\n",
    "**Shell**: A key component that interprets user commands.\n",
    "\n",
    "    e.g. \n",
    "\n",
    "        Bourne shell\n",
    "        \n",
    "        Bash\n",
    "        \n",
    "        Z shell\n",
    "        \n",
    "        C shell\n",
    "        \n",
    "**Linux**: A Unix-like OS but with different underlying code. It behaves similarly to Unix.\n",
    "\n",
    "**OSX**: Apple operating system built on.... Linux\n",
    "\n",
    "**Windows**: Microsoft operating system now built on... Linux\n",
    "\n",
    "![operating systems](../images/cross_windows.png)"
   ]
  },
  {
   "cell_type": "markdown",
   "id": "8db8c214-d61f-4468-a529-b8a45134b143",
   "metadata": {
    "editable": true,
    "slideshow": {
     "slide_type": "slide"
    },
    "tags": []
   },
   "source": [
    "### 2. The Importance of Text Editors\n",
    "- In Unix, plain text editors (like `nano`, `vim`, `emacs`) are used for writing and editing code.\n",
    "- Word processors (e.g., Microsoft Word) should be avoided as they add formatting that can interfere with code.\n",
    "\n",
    "https://www.nano-editor.org/\n",
    "\n",
    "https://www.vim.org/\n",
    "\n",
    "https://www.gnu.org/software/emacs/"
   ]
  },
  {
   "cell_type": "markdown",
   "id": "a5417c16-8895-486c-be4e-5292105607c8",
   "metadata": {
    "editable": true,
    "raw_mimetype": "",
    "slideshow": {
     "slide_type": "slide"
    },
    "tags": []
   },
   "source": [
    "### 3. The Unix Terminal\n",
    "- **Command Prompt:** Where users enter commands. Customizable but usually includes a cursor where new commands are entered."
   ]
  },
  {
   "cell_type": "markdown",
   "id": "65ca7d1f-1f81-4455-a347-149226d4d48d",
   "metadata": {
    "editable": true,
    "raw_mimetype": "",
    "slideshow": {
     "slide_type": "subslide"
    },
    "tags": []
   },
   "source": [
    "# Terminal Equivalents for Windows, macOS, and Linux\n",
    "\n",
    "## 1. **Windows:**\n",
    "- **Command Prompt (CMD)**: The traditional command-line interface in Windows. It uses commands specific to the Windows environment, such as `dir` for listing directories or `copy` for copying files.\n",
    "- **PowerShell**: A more advanced command-line interface that includes more powerful scripting capabilities, and it can run more complex scripts and commands. PowerShell supports both Windows commands and a more robust set of utilities.\n",
    "- **Windows Subsystem for Linux (WSL)**: This allows users to run a full Linux distribution inside Windows. Using WSL, you can run a Bash terminal with most Linux commands available.\n",
    "\n",
    "## 2. **macOS:**\n",
    "- **Terminal**: The default terminal application in macOS. It provides access to a command-line interface, which is Unix-based (similar to Linux), so it supports commands like `ls`, `cd`, `chmod`, and others.\n",
    "- **iTerm2**: An alternative terminal for macOS that offers additional features such as better customization and split panes, but it works in the same way as the built-in Terminal.\n",
    "\n",
    "## 3. **Linux:**\n",
    "- **Terminal**: Linux systems typically come with a terminal emulator that allows users to interact with the system using a shell (usually Bash, but others like Zsh, Fish, and Ksh can be used). Commands like `ls`, `cd`, `chmod`, and `grep` are standard.\n",
    "- Common terminal emulators on Linux include **GNOME Terminal**, **Konsole** (KDE), **xterm**, and **Tilix**, depending on the desktop environment.\n",
    "\n",
    "## Summary:\n",
    "- **Windows**: Command Prompt (CMD), PowerShell, WSL\n",
    "- **macOS**: Terminal, iTerm2\n",
    "- **Linux**: Terminal (with various emulators like GNOME Terminal, Konsole, etc.)\n",
    "\n",
    "While each platform has its terminal application, the command-line behavior is most similar between macOS and Linux, as they are both Unix-based systems. Windows can also offer a similar experience through WSL.\n"
   ]
  },
  {
   "cell_type": "markdown",
   "id": "aae2901b-6045-4059-adf3-67c0a899ce50",
   "metadata": {
    "editable": true,
    "slideshow": {
     "slide_type": "slide"
    },
    "tags": []
   },
   "source": [
    "# Lets meet the Unix Shell\n",
    "\n",
    "The Unix shell is a command-line interface where users interact with the operating system. \n",
    "\n",
    "Some basic commands to get started are:\n",
    "\n"
   ]
  },
  {
   "cell_type": "markdown",
   "id": "b161cf1c-cd34-4e0f-8335-9126de6b008b",
   "metadata": {
    "editable": true,
    "scrolled": true,
    "slideshow": {
     "slide_type": "fragment"
    },
    "tags": []
   },
   "source": [
    "\n",
    "```bash\n",
    "    echo \"Hello world!\"\n",
    "```\n",
    "\n",
    "```bash\n",
    "    whoami\n",
    "```\n",
    "\n",
    "```bash\n",
    "    pwd\n",
    "```\n",
    "\n",
    "**Exercise:** \n",
    "\n",
    "Try these commands in your terminal. What do they do?"
   ]
  },
  {
   "cell_type": "code",
   "execution_count": 1,
   "id": "4df5fa81-8068-4fce-b84b-18a04e18ef63",
   "metadata": {
    "editable": true,
    "slideshow": {
     "slide_type": "fragment"
    },
    "tags": []
   },
   "outputs": [],
   "source": [
    "%%bash\n",
    "\n",
    "\n"
   ]
  },
  {
   "cell_type": "markdown",
   "id": "3166280d-ec70-460b-9aa4-827fde7fadd0",
   "metadata": {
    "editable": true,
    "slideshow": {
     "slide_type": "fragment"
    },
    "tags": []
   },
   "source": [
    "\n",
    "```bash\n",
    "    echo \"Hello world!\"\n",
    "```\n",
    "\n",
    "prints \"Hello world!\" to the terminal.\n",
    "\n",
    "```bash\n",
    "    whoami\n",
    "```\n",
    "\n",
    "    displays the current user’s username.\n",
    "\n",
    "```bash\n",
    "    pwd\n",
    "```\n",
    "\n",
    "    prints the working directory, or the current directory you're located in."
   ]
  },
  {
   "cell_type": "markdown",
   "id": "61e57b47-d4e7-4701-9af2-414b2a39a63a",
   "metadata": {
    "editable": true,
    "slideshow": {
     "slide_type": "subslide"
    },
    "tags": []
   },
   "source": [
    "What do we want to do if we wish to look for files in a folder?"
   ]
  },
  {
   "cell_type": "code",
   "execution_count": 3,
   "id": "b143bd37-325b-4db9-b5ef-88a1de207a6e",
   "metadata": {
    "editable": true,
    "slideshow": {
     "slide_type": ""
    },
    "tags": []
   },
   "outputs": [],
   "source": [
    "%%bash\n",
    " \n"
   ]
  },
  {
   "cell_type": "code",
   "execution_count": null,
   "id": "a7491680-448d-4b91-8586-244b28721c37",
   "metadata": {
    "editable": true,
    "slideshow": {
     "slide_type": ""
    },
    "tags": []
   },
   "outputs": [],
   "source": []
  },
  {
   "cell_type": "markdown",
   "id": "7195f14c-9baa-4a09-84a4-b568da2fe325",
   "metadata": {
    "editable": true,
    "slideshow": {
     "slide_type": "slide"
    },
    "tags": []
   },
   "source": [
    "# Lets make this interactive!\n",
    "\n",
    "![Celebrate](https://i.giphy.com/media/v1.Y2lkPTc5MGI3NjExcTA4Z2NmNzV3NWpkcmptaDNiZnpmd29wYnJ3b2IzeGp4ODhnYmN1YiZlcD12MV9pbnRlcm5hbF9naWZfYnlfaWQmY3Q9Zw/s2qXK8wAvkHTO/giphy.gif)"
   ]
  },
  {
   "cell_type": "markdown",
   "id": "ecc82b0f-c01b-4087-afc8-6682f20ba5f2",
   "metadata": {
    "editable": true,
    "slideshow": {
     "slide_type": "slide"
    },
    "tags": []
   },
   "source": [
    "# Jupyter Labs\n",
    "\n",
    "This whole presentation is actually a jupyter notebook....\n",
    "\n",
    "This means you can play along... "
   ]
  },
  {
   "cell_type": "markdown",
   "id": "94d6abd7-38ce-4148-aa35-92d53ec8e336",
   "metadata": {
    "editable": true,
    "slideshow": {
     "slide_type": "slide"
    },
    "tags": []
   },
   "source": [
    "# Git & GitHub: A Beginner's Guide\n"
   ]
  },
  {
   "cell_type": "markdown",
   "id": "dadbfd34-cc94-4c17-9118-5447632617e6",
   "metadata": {
    "editable": true,
    "slideshow": {
     "slide_type": "fragment"
    },
    "tags": []
   },
   "source": [
    "## What is Git?\n",
    "\n",
    "Git is a **version control system**. It's a tool that helps track changes to files (usually code) over time.\n",
    "\n",
    "With Git, you can:\n",
    "\n",
    "- **Revert** to a previous version of your project.\n",
    "- **Collaborate** with other developers without accidentally overwriting each other's work.\n",
    "- Keep a detailed **history** of your project as it evolves.\n"
   ]
  },
  {
   "cell_type": "markdown",
   "id": "afd03acb-e16b-4b3e-8ee1-5558581ebd66",
   "metadata": {
    "editable": true,
    "slideshow": {
     "slide_type": "fragment"
    },
    "tags": []
   },
   "source": [
    "## What is GitHub?\n",
    "\n",
    "GitHub is a **hosting service for Git repositories**. \n",
    "\n",
    "It provides a place to store your Git projects online, collaborate with others, and manage your project. \n",
    "\n",
    "While Git is the tool, GitHub is where your projects can live, so you and others can access and contribute to them from anywhere.\n"
   ]
  },
  {
   "cell_type": "markdown",
   "id": "b917cf46-a742-446e-8356-8fe50e4cdc47",
   "metadata": {
    "editable": true,
    "slideshow": {
     "slide_type": "slide"
    },
    "tags": []
   },
   "source": [
    "## Key Git Terms"
   ]
  },
  {
   "cell_type": "markdown",
   "id": "c93893b6-319a-403c-8b16-eb8441fafde5",
   "metadata": {
    "editable": true,
    "slideshow": {
     "slide_type": "subslide"
    },
    "tags": []
   },
   "source": [
    "### 1. **Repository (Repo)**\n",
    "A repository is like a project's folder that contains all the project files and the complete history of all changes made to those files. In GitHub, this repo is hosted online."
   ]
  },
  {
   "cell_type": "markdown",
   "id": "90e0dcb2-3c16-4f8e-8f0c-3c91298f86ad",
   "metadata": {
    "editable": true,
    "slideshow": {
     "slide_type": "subslide"
    },
    "tags": []
   },
   "source": [
    "### 2. **Clone**\n",
    "Cloning means copying a repository from GitHub (or another location) to your local machine so you can work on it. The `git clone` command makes an exact copy of the repository.\n",
    "\n",
    "```bash\n",
    "git clone https://github.com/user/repo.git\n",
    "```"
   ]
  },
  {
   "cell_type": "markdown",
   "id": "7e6025eb-ac60-4482-9e40-768b77453785",
   "metadata": {
    "editable": true,
    "slideshow": {
     "slide_type": "subslide"
    },
    "tags": []
   },
   "source": [
    "### 3. **Commit**\n",
    "A commit is like saving a snapshot of your project at a specific point in time. It’s a set of changes that you've staged (prepared for commit) and recorded in the project’s history. A good commit has a descriptive message explaining what changes were made.\n",
    "\n",
    "```bash\n",
    "git commit -m \"Add login feature\"\n",
    "```"
   ]
  },
  {
   "cell_type": "markdown",
   "id": "7fb8afb3-a4fe-4ab3-81dd-986f1da2c29c",
   "metadata": {
    "editable": true,
    "slideshow": {
     "slide_type": "subslide"
    },
    "tags": []
   },
   "source": [
    "### 4. **Branch**\n",
    "Branches allow you to work on different versions of your project at the same time. You can create a new branch to work on a feature without affecting the main (or master) branch. Once you're done, you can merge the branch back into the main branch.\n",
    "\n",
    "```bash\n",
    "git checkout -b new-feature\n",
    "```"
   ]
  },
  {
   "cell_type": "markdown",
   "id": "ecbcee3b-e090-4ce9-96d7-a3edbe1d10ca",
   "metadata": {
    "editable": true,
    "slideshow": {
     "slide_type": "subslide"
    },
    "tags": []
   },
   "source": [
    "### 5. **Merge**\n",
    "Merging is the process of taking the changes from one branch and applying them to another branch. Usually, this happens when you're done working on a feature and you merge it back into the main branch.\n",
    "\n",
    "```bash\n",
    "git merge new-feature\n",
    "```\n"
   ]
  },
  {
   "cell_type": "markdown",
   "id": "1af9e819-d1ae-45de-9135-7a459e6107dd",
   "metadata": {
    "editable": true,
    "slideshow": {
     "slide_type": "subslide"
    },
    "tags": []
   },
   "source": [
    "### 6. **Pull**\n",
    "Pulling means fetching the latest changes from the remote repository (e.g., GitHub) and merging them into your local copy. It’s a way to keep your local codebase up-to-date with the repository on GitHub.\n",
    "\n",
    "```bash\n",
    "git pull origin main\n",
    "```\n"
   ]
  },
  {
   "cell_type": "markdown",
   "id": "1d4def67-4e99-4ab9-9996-f210782881d4",
   "metadata": {
    "editable": true,
    "slideshow": {
     "slide_type": "subslide"
    },
    "tags": []
   },
   "source": [
    "### 7. **Push**\n",
    "Pushing means sending your changes (commits) from your local machine to the remote repository on GitHub. After making changes locally, you push them so others can see or work on them.\n",
    "\n",
    "```bash\n",
    "git push origin main\n",
    "```\n"
   ]
  },
  {
   "cell_type": "markdown",
   "id": "8ab4fd5a-a711-41ff-8fbb-1ff1547731a7",
   "metadata": {
    "editable": true,
    "slideshow": {
     "slide_type": "subslide"
    },
    "tags": []
   },
   "source": [
    "### 8. **Fork**\n",
    "Forking is creating a personal copy of someone else’s repository on GitHub. You can make changes to the forked repository without affecting the original project, and if you want your changes to be included in the original repo, you can create a **pull request**."
   ]
  },
  {
   "cell_type": "markdown",
   "id": "a00ca18e-4645-4369-9d53-aedcaa9c4e68",
   "metadata": {
    "editable": true,
    "slideshow": {
     "slide_type": "subslide"
    },
    "tags": []
   },
   "source": [
    "### 9. **Pull Request (PR)**\n",
    "A pull request is a request to the original repository’s owner to review and possibly merge the changes from your branch or fork into their project. It's a common workflow in open-source projects."
   ]
  },
  {
   "cell_type": "markdown",
   "id": "c9135c27-9886-4076-9edb-becdaca1ff2c",
   "metadata": {
    "editable": true,
    "slideshow": {
     "slide_type": "subslide"
    },
    "tags": []
   },
   "source": [
    "### 10. **Staging Area**\n",
    "The staging area is where you prepare changes before making a commit. You add changes to the staging area using `git add` and then commit them when you’re ready.\n",
    "\n",
    "```bash\n",
    "git add .\n",
    "```"
   ]
  },
  {
   "cell_type": "markdown",
   "id": "4b257db9-8896-4b0f-96f4-8c481159bcea",
   "metadata": {
    "editable": true,
    "slideshow": {
     "slide_type": "subslide"
    },
    "tags": []
   },
   "source": [
    "### 11. **HEAD**\n",
    "HEAD is a pointer to the latest commit in your current branch. When you make new commits, HEAD moves forward to point to the most recent commit.\n"
   ]
  },
  {
   "cell_type": "markdown",
   "id": "de656283-0562-44c8-b9aa-09ac3500341c",
   "metadata": {
    "editable": true,
    "slideshow": {
     "slide_type": "slide"
    },
    "tags": []
   },
   "source": [
    "\n",
    "\n",
    "## Basic Git Workflow\n",
    "1. **Clone a repository**: `git clone <repo-url>`\n",
    "2. **Make changes** to your files.\n",
    "3. **Stage the changes**: `git add .`\n",
    "4. **Commit the changes**: `git commit -m \"Describe what you did\"`\n",
    "5. **Push the changes to GitHub**: `git push origin <branch-name>`\n",
    "\n",
    "That’s the core Git workflow! You clone, make changes, commit, and push. Rinse and repeat.\n"
   ]
  },
  {
   "cell_type": "code",
   "execution_count": null,
   "id": "9c7856a2-816d-436d-9344-d1814e472a01",
   "metadata": {
    "editable": true,
    "slideshow": {
     "slide_type": ""
    },
    "tags": []
   },
   "outputs": [],
   "source": []
  }
 ],
 "metadata": {
  "kernelspec": {
   "display_name": "Python 3 (ipykernel)",
   "language": "python",
   "name": "python3"
  },
  "language_info": {
   "codemirror_mode": {
    "name": "ipython",
    "version": 3
   },
   "file_extension": ".py",
   "mimetype": "text/x-python",
   "name": "python",
   "nbconvert_exporter": "python",
   "pygments_lexer": "ipython3",
   "version": "3.12.5"
  },
  "rise": {
   "enable_chalkboard": true,
   "scroll": true,
   "theme": "serif",
   "transition": "fade"
  }
 },
 "nbformat": 4,
 "nbformat_minor": 5
}
