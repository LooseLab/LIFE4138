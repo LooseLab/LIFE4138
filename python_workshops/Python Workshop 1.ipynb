{
 "cells": [
  {
   "cell_type": "markdown",
   "id": "a4967277-13e1-42e2-a6fa-f1d5f8cc3725",
   "metadata": {
    "editable": true,
    "slideshow": {
     "slide_type": "slide"
    },
    "tags": []
   },
   "source": [
    "----\n",
    "# Introduction to Python\n",
    "\n",
    "## Workshop 1\n",
    "\n",
    "Prof Matt Loose\n",
    "matt.loose@nottingham.ac.uk\n",
    "\n",
    "----"
   ]
  },
  {
   "cell_type": "markdown",
   "id": "4de46a24-d79d-4631-92d2-922a21fefdbe",
   "metadata": {
    "editable": true,
    "slideshow": {
     "slide_type": "slide"
    },
    "tags": []
   },
   "source": [
    "## What is Python?\n",
    "\n",
    "----"
   ]
  },
  {
   "cell_type": "markdown",
   "id": "bfcd8079-28b0-4e93-a40a-d2da22f52c75",
   "metadata": {
    "editable": true,
    "slideshow": {
     "slide_type": ""
    },
    "tags": []
   },
   "source": [
    "- Python is a high-level, interpreted programming language.\n"
   ]
  },
  {
   "cell_type": "markdown",
   "id": "d8cc4f87-668f-494b-8329-359176c8837a",
   "metadata": {
    "editable": true,
    "slideshow": {
     "slide_type": ""
    },
    "tags": []
   },
   "source": [
    "- Known for its simplicity, readability, and versatility.\n"
   ]
  },
  {
   "cell_type": "markdown",
   "id": "e474140e-945f-4587-8970-f019851b0389",
   "metadata": {
    "editable": true,
    "slideshow": {
     "slide_type": ""
    },
    "tags": []
   },
   "source": [
    "- Used widely across web development, data science, AI, automation, and more.\n"
   ]
  },
  {
   "cell_type": "markdown",
   "id": "25703c70-34ab-4771-a107-7e65b3a18cf1",
   "metadata": {
    "editable": true,
    "slideshow": {
     "slide_type": "slide"
    },
    "tags": []
   },
   "source": [
    "## A Brief History of Python\n",
    "\n",
    "----"
   ]
  },
  {
   "cell_type": "markdown",
   "id": "62535a0a-e9ae-42b5-a9b7-bd0fddad56af",
   "metadata": {
    "editable": true,
    "slideshow": {
     "slide_type": ""
    },
    "tags": []
   },
   "source": [
    "- Created by Guido van Rossum and first released in 1991.\n",
    "\n"
   ]
  },
  {
   "cell_type": "markdown",
   "id": "363576de-64ed-4bfe-b006-ab1160a7d18b",
   "metadata": {
    "editable": true,
    "slideshow": {
     "slide_type": ""
    },
    "tags": []
   },
   "source": [
    "- **Late 1980s**: Python was conceived as a successor to the ABC language.\n"
   ]
  },
  {
   "cell_type": "markdown",
   "id": "e739bcb3-26de-4954-a0c9-ca3ef7881ea0",
   "metadata": {
    "editable": true,
    "slideshow": {
     "slide_type": ""
    },
    "tags": []
   },
   "source": [
    "- **1991**: Python 0.9.0 was released, introducing core features like exception handling and functions.\n"
   ]
  },
  {
   "cell_type": "markdown",
   "id": "456451b8-5dda-4a95-916e-1e355b3a8322",
   "metadata": {},
   "source": [
    "- **2000**: Python 2.0 introduced list comprehensions, garbage collection, and Unicode support.\n"
   ]
  },
  {
   "cell_type": "markdown",
   "id": "d5e265e7-a844-463e-969f-b42a24133423",
   "metadata": {},
   "source": [
    "- **2008**: Python 3.0 was released to improve language consistency and remove redundant syntax.\n",
    "\n"
   ]
  },
  {
   "cell_type": "markdown",
   "id": "ae1794e2-9dd8-45be-ae32-6bd3138ca2f8",
   "metadata": {
    "editable": true,
    "slideshow": {
     "slide_type": "slide"
    },
    "tags": []
   },
   "source": [
    "## Key Features of Python\n",
    "\n",
    "----"
   ]
  },
  {
   "cell_type": "markdown",
   "id": "823a3a8a-8796-4de9-8ce9-64ad76013ecd",
   "metadata": {
    "editable": true,
    "slideshow": {
     "slide_type": ""
    },
    "tags": []
   },
   "source": [
    "- **Easy to Read and Write**: Simple syntax makes it accessible to beginners.\n"
   ]
  },
  {
   "cell_type": "markdown",
   "id": "e5f7aed8-c91a-42b0-bd17-d81becf7a3f9",
   "metadata": {},
   "source": [
    "- **Cross-Platform Compatibility**: Runs on Windows, macOS, and Linux.\n"
   ]
  },
  {
   "cell_type": "markdown",
   "id": "fcf82ab9-a746-4638-a083-c820ba30f4a0",
   "metadata": {},
   "source": [
    "- **Vast Standard Library**: Extensive library for various tasks, from web scraping to data processing.\n"
   ]
  },
  {
   "cell_type": "markdown",
   "id": "e32cadcb-f46c-45f7-bb0b-aad588062ae7",
   "metadata": {},
   "source": [
    "- **Large Community**: Supportive community and a vast ecosystem of libraries (e.g., NumPy, Pandas).\n",
    "\n"
   ]
  },
  {
   "cell_type": "markdown",
   "id": "999ed4c4-635f-4b5b-a252-7279472af6ca",
   "metadata": {
    "editable": true,
    "slideshow": {
     "slide_type": "slide"
    },
    "tags": []
   },
   "source": [
    "## Benefits of Using Python\n",
    "\n",
    "----"
   ]
  },
  {
   "cell_type": "markdown",
   "id": "c0d112af-098e-4338-b755-dc35df6ec457",
   "metadata": {
    "editable": true,
    "slideshow": {
     "slide_type": ""
    },
    "tags": []
   },
   "source": [
    "- **Productivity**: Quick to write, test, and iterate on code.\n"
   ]
  },
  {
   "cell_type": "markdown",
   "id": "959bd396-be8c-4897-b933-0f7a6735137a",
   "metadata": {},
   "source": [
    "- **Versatility**: Suitable for web development, machine learning, automation, and more.\n"
   ]
  },
  {
   "cell_type": "markdown",
   "id": "c3b1056d-458b-4950-a635-e29d6e35cd80",
   "metadata": {},
   "source": [
    "- **High-Level Language**: Abstracts complex tasks, making programming more efficient.\n"
   ]
  },
  {
   "cell_type": "markdown",
   "id": "b8c36655-2a79-489c-bc1e-788ccc6b921f",
   "metadata": {},
   "source": [
    "- **Extensive Libraries**: Libraries like TensorFlow and Django extend Python’s capabilities.\n",
    "\n"
   ]
  },
  {
   "cell_type": "markdown",
   "id": "60e1c97d-b0ce-4a44-bfcd-611d4bceeaf5",
   "metadata": {
    "editable": true,
    "slideshow": {
     "slide_type": "slide"
    },
    "tags": []
   },
   "source": [
    "## Pitfalls of Python\n",
    "\n",
    "----"
   ]
  },
  {
   "cell_type": "markdown",
   "id": "ed5ec199-cb54-4395-b7cc-fcbe35908a68",
   "metadata": {
    "editable": true,
    "slideshow": {
     "slide_type": ""
    },
    "tags": []
   },
   "source": [
    "- **Slower Execution**: Python’s interpreted nature makes it slower than compiled languages like C++.\n"
   ]
  },
  {
   "cell_type": "markdown",
   "id": "c3f6fbb2-3b84-4609-b13a-23281ca64a2a",
   "metadata": {},
   "source": [
    "- **Memory Usage**: Higher memory usage compared to languages like C due to its dynamic typing.\n"
   ]
  },
  {
   "cell_type": "markdown",
   "id": "9825c8f1-615a-4bde-af1c-a51a38b530e9",
   "metadata": {},
   "source": [
    "- **Not Ideal for Mobile Development**: Less commonly used for mobile apps due to performance limitations.\n"
   ]
  },
  {
   "cell_type": "markdown",
   "id": "68d3b2d8-7f18-4e1b-a570-cf391a23177c",
   "metadata": {},
   "source": [
    "- **Global Interpreter Lock (GIL)**: Restricts multi-threading in CPU-bound tasks, impacting concurrency.\n"
   ]
  },
  {
   "cell_type": "markdown",
   "id": "2b70f9cc-0383-4a21-837e-c2a7450e8711",
   "metadata": {
    "editable": true,
    "slideshow": {
     "slide_type": "slide"
    },
    "tags": []
   },
   "source": [
    "## What Makes Python Unique?\n",
    "\n",
    "----"
   ]
  },
  {
   "cell_type": "markdown",
   "id": "bb0c4d21-ac3a-44a8-a516-b322e0013e68",
   "metadata": {
    "editable": true,
    "slideshow": {
     "slide_type": ""
    },
    "tags": []
   },
   "source": [
    "- **Interpreted Language**: Python executes code line-by-line, making it dynamic and suitable for quick testing.\n"
   ]
  },
  {
   "cell_type": "markdown",
   "id": "0412d708-f985-4f87-8e20-3a5e8f7bc2b3",
   "metadata": {},
   "source": [
    "- **Dynamically Typed**: Variable types are determined at runtime, allowing flexible programming without type declarations.\n"
   ]
  },
  {
   "cell_type": "markdown",
   "id": "16db9d6a-6bbc-4a15-a920-6872472be787",
   "metadata": {},
   "source": [
    "- **High-Level Language**: Python abstracts many complex tasks, making programming simpler and quicker.\n"
   ]
  },
  {
   "cell_type": "markdown",
   "id": "e6b8a275-abcf-4aa5-98fb-80d71136801c",
   "metadata": {},
   "source": [
    "- **Readable Syntax**: Python’s design prioritizes readability, often resembling natural language.\n"
   ]
  },
  {
   "cell_type": "markdown",
   "id": "788bc036-d55a-490c-9a0b-d87913cc035c",
   "metadata": {},
   "source": [
    "- **Similarities**: Like other high-level languages (Java, Ruby), Python is easy to learn and has a broad standard library.\n",
    "\n"
   ]
  },
  {
   "cell_type": "markdown",
   "id": "e1ab4e7c-a96b-430a-b165-cca5fa7ad3a9",
   "metadata": {
    "editable": true,
    "slideshow": {
     "slide_type": "slide"
    },
    "tags": []
   },
   "source": [
    "## Interpreted vs. Compiled Languages\n",
    "\n",
    "----"
   ]
  },
  {
   "cell_type": "markdown",
   "id": "c4cb67f3-2db0-4369-b457-fbe4325cb922",
   "metadata": {
    "editable": true,
    "slideshow": {
     "slide_type": ""
    },
    "tags": []
   },
   "source": [
    "- **Interpreted**:\n"
   ]
  },
  {
   "cell_type": "markdown",
   "id": "05b827c6-2369-44e1-81f5-d734691818c9",
   "metadata": {
    "editable": true,
    "slideshow": {
     "slide_type": ""
    },
    "tags": []
   },
   "source": [
    "      - Python is interpreted, meaning code is translated to machine instructions at runtime.\n"
   ]
  },
  {
   "cell_type": "markdown",
   "id": "26617fac-45d3-4b3d-ba99-25a2b6b50305",
   "metadata": {
    "editable": true,
    "slideshow": {
     "slide_type": ""
    },
    "tags": []
   },
   "source": [
    "      - Suited for flexibility and ease of testing.\n"
   ]
  },
  {
   "cell_type": "markdown",
   "id": "3d8c304d-a930-457c-b17b-179d7d87da2b",
   "metadata": {
    "editable": true,
    "slideshow": {
     "slide_type": ""
    },
    "tags": []
   },
   "source": [
    "- **Compiled**:\n"
   ]
  },
  {
   "cell_type": "markdown",
   "id": "748ff83a-4a36-4365-a33b-b9f139e5a545",
   "metadata": {
    "editable": true,
    "slideshow": {
     "slide_type": ""
    },
    "tags": []
   },
   "source": [
    "      - Compiled languages (e.g., C++) translate code to machine code before execution, resulting in faster performance.\n"
   ]
  },
  {
   "cell_type": "markdown",
   "id": "cdc4e189-fb32-4d48-9754-315d9869a8dd",
   "metadata": {
    "editable": true,
    "slideshow": {
     "slide_type": "slide"
    },
    "tags": []
   },
   "source": [
    "## Python vs. R\n"
   ]
  },
  {
   "cell_type": "markdown",
   "id": "a020d24e-0039-4a7f-918f-dd7dd3100cc6",
   "metadata": {
    "editable": true,
    "slideshow": {
     "slide_type": ""
    },
    "tags": []
   },
   "source": [
    "- **Similarities**:\n"
   ]
  },
  {
   "cell_type": "markdown",
   "id": "15fbfee3-2a6d-442a-9ea4-ae2272e04d9c",
   "metadata": {
    "editable": true,
    "slideshow": {
     "slide_type": ""
    },
    "tags": []
   },
   "source": [
    "  - Both are popular in data science and have extensive libraries for statistical analysis.\n"
   ]
  },
  {
   "cell_type": "markdown",
   "id": "75733e66-f12a-43d4-be66-ce4ffe6450f5",
   "metadata": {
    "editable": true,
    "slideshow": {
     "slide_type": ""
    },
    "tags": []
   },
   "source": [
    "  - Both languages have active communities and resources for data analysis and visualization.\n"
   ]
  },
  {
   "cell_type": "markdown",
   "id": "83ee5035-7f36-47dd-902e-a40e472a437b",
   "metadata": {},
   "source": [
    "- **Differences**:\n"
   ]
  },
  {
   "cell_type": "markdown",
   "id": "45a52964-1d61-4589-bf49-05830a5481d5",
   "metadata": {},
   "source": [
    "  - **Syntax**: Python’s syntax is more general-purpose, while R is optimized for statistical tasks.\n"
   ]
  },
  {
   "cell_type": "markdown",
   "id": "92eca0e9-db5a-4fdd-9541-f22f8952801f",
   "metadata": {
    "editable": true,
    "slideshow": {
     "slide_type": ""
    },
    "tags": []
   },
   "source": [
    "  - **Ecosystem**: R has packages designed specifically for biostatistics and data science.\n"
   ]
  },
  {
   "cell_type": "markdown",
   "id": "fc0c4a2c-445d-4f93-9783-1aafcb8a0c7f",
   "metadata": {
    "editable": true,
    "slideshow": {
     "slide_type": ""
    },
    "tags": []
   },
   "source": [
    "  - **Performance**: R may perform better in statistical computing, while Python excels in general applications and scalability.\n"
   ]
  },
  {
   "cell_type": "markdown",
   "id": "03b14c57-4c64-4455-b05f-6eb70ab516f0",
   "metadata": {
    "editable": true,
    "slideshow": {
     "slide_type": "slide"
    },
    "tags": []
   },
   "source": [
    "# Playing with Python"
   ]
  },
  {
   "cell_type": "markdown",
   "id": "4c77f820-50f0-40de-af48-a5014dd2cd49",
   "metadata": {
    "editable": true,
    "slideshow": {
     "slide_type": "slide"
    },
    "tags": []
   },
   "source": [
    "<a id='python_interpreter'></a>\n",
    "## 1. Using the Python Interpreter\n",
    "\n",
    "### Starting the Interpreter\n",
    "\n",
    "- Open your terminal or command prompt.\n",
    "- Type `python` or `python3` and press Enter.\n",
    "- You should see the Python prompt `>>>`."
   ]
  },
  {
   "cell_type": "markdown",
   "id": "0548da87-b35b-402c-a083-6c12a36f6e2d",
   "metadata": {
    "editable": true,
    "slideshow": {
     "slide_type": "subslide"
    },
    "tags": []
   },
   "source": [
    "### Example Session\n",
    "\n",
    "```python\n",
    ">>> 2 + 2\n",
    "4\n",
    ">>> print(\"Hello, World!\")\n",
    "Hello, World!\n",
    "```\n",
    "\n",
    "- You can execute Python commands interactively.\n",
    "- Use `exit()` or press `Ctrl+D` (Unix) or `Ctrl+Z` followed by `Enter` (Windows) to exit."
   ]
  },
  {
   "cell_type": "code",
   "execution_count": null,
   "id": "b4d3ebc4-fbb8-4676-8124-5d889ed980ee",
   "metadata": {
    "editable": true,
    "slideshow": {
     "slide_type": ""
    },
    "tags": []
   },
   "outputs": [],
   "source": []
  },
  {
   "cell_type": "markdown",
   "id": "03d1137c-552f-4f74-aa9f-6fb2aed67289",
   "metadata": {
    "slideshow": {
     "slide_type": "fragment"
    }
   },
   "source": [
    "### Features\n",
    "\n",
    "- Immediate feedback on code execution.\n",
    "- Useful for quick calculations and testing small code snippets."
   ]
  },
  {
   "cell_type": "markdown",
   "id": "921659fb-6c98-484f-98d5-c60a810e27b0",
   "metadata": {
    "slideshow": {
     "slide_type": "fragment"
    }
   },
   "source": [
    "### Limitations\n",
    "\n",
    "- Limited editing capabilities.\n",
    "- No syntax highlighting or code completion."
   ]
  },
  {
   "cell_type": "markdown",
   "id": "04bd1708-86a6-4493-80d7-a2a68ef17551",
   "metadata": {
    "slideshow": {
     "slide_type": "slide"
    }
   },
   "source": [
    "<a id='ptpython'></a>\n",
    "## 2. Enhancing the REPL with ptpython\n",
    "\n",
    "### What is ptpython?\n",
    "\n",
    "- An advanced Python REPL built on top of prompt_toolkit.\n",
    "- Provides features like syntax highlighting, auto-completion, and multi-line editing."
   ]
  },
  {
   "cell_type": "markdown",
   "id": "05f8bd43-077f-42fd-b963-b96d570df5ae",
   "metadata": {
    "slideshow": {
     "slide_type": "subslide"
    }
   },
   "source": [
    "### Installing ptpython\n",
    "\n",
    "```bash\n",
    "pip install ptpython\n",
    "```\n",
    "\n",
    "- Install using `pip`.\n",
    "- Ensure you have Python and pip installed."
   ]
  },
  {
   "cell_type": "markdown",
   "id": "306889ee-f423-424e-835e-04482a96da12",
   "metadata": {
    "slideshow": {
     "slide_type": "fragment"
    }
   },
   "source": [
    "### Starting ptpython\n",
    "\n",
    "- Type `ptpython` in your terminal and press Enter.\n",
    "- You'll see a prompt similar to the regular Python interpreter but with enhancements."
   ]
  },
  {
   "cell_type": "markdown",
   "id": "003839a9-6647-4932-87b1-b6fdab4fc9c1",
   "metadata": {
    "slideshow": {
     "slide_type": "subslide"
    }
   },
   "source": [
    "### Features of ptpython\n",
    "\n",
    "- **Syntax Highlighting**: Improves code readability.\n",
    "- **Auto-completion**: Suggests variables and functions as you type.\n",
    "- **Multi-line Editing**: Easily write and edit multi-line code blocks.\n",
    "- **Bracket Matching**: Helps ensure code correctness.\n",
    "- **Vi and Emacs Keybindings**: Customize your editing experience."
   ]
  },
  {
   "cell_type": "markdown",
   "id": "554f8bf7-8d3b-4f20-91d4-90d83f1301fc",
   "metadata": {
    "slideshow": {
     "slide_type": "fragment"
    }
   },
   "source": [
    "### Example Session\n",
    "\n",
    "```python\n",
    "In [1]: def greet(name):\n",
    "   ...:     return f\"Hello, {name}!\"\n",
    "   ...: \n",
    "In [2]: greet(\"Alice\")\n",
    "Out[2]: 'Hello, Alice!'\n",
    "```\n",
    "\n",
    "- Note the multi-line function definition.\n",
    "- Syntax highlighting and indentation are automatic."
   ]
  },
  {
   "cell_type": "markdown",
   "id": "1abb1171-9bdb-41b1-892b-faa89c558491",
   "metadata": {
    "slideshow": {
     "slide_type": "slide"
    }
   },
   "source": [
    "<a id='jupyter_notebooks'></a>\n",
    "## 3. Exploring Python with Jupyter Notebooks\n",
    "\n",
    "### What is a Jupyter Notebook?\n",
    "\n",
    "- An interactive web-based environment for creating and sharing documents containing live code, equations, visualizations, and narrative text.\n",
    "- Supports over 40 programming languages, including Python."
   ]
  },
  {
   "cell_type": "markdown",
   "id": "c279492e-d587-4edb-a7d6-34f2866d698a",
   "metadata": {
    "slideshow": {
     "slide_type": "subslide"
    }
   },
   "source": [
    "### Installing Jupyter Notebook\n",
    "\n",
    "```bash\n",
    "pip install notebook\n",
    "```\n",
    "\n",
    "- Install using `pip`.\n",
    "- Alternatively, install Anaconda, which includes Jupyter Notebook."
   ]
  },
  {
   "cell_type": "markdown",
   "id": "ef4e528a-b30b-4b88-947d-534f4355ef47",
   "metadata": {
    "slideshow": {
     "slide_type": "fragment"
    }
   },
   "source": [
    "### Starting Jupyter Notebook\n",
    "\n",
    "```bash\n",
    "jupyter notebook\n",
    "```\n",
    "\n",
    "- Runs a local web server and opens the interface in your default web browser."
   ]
  },
  {
   "cell_type": "markdown",
   "id": "1d952ce4-55a4-456e-958c-6db9b871ce34",
   "metadata": {
    "editable": true,
    "slideshow": {
     "slide_type": "fragment"
    },
    "tags": []
   },
   "source": [
    "### Notebook Interface\n",
    "\n",
    "- **Cells**: The building blocks of notebooks. Can contain code or Markdown.\n",
    "- **Kernel**: The computational engine that executes the code.\n",
    "- **Toolbar**: Provides tools for running code, inserting cells, and more."
   ]
  },
  {
   "cell_type": "markdown",
   "id": "4d5242a9-2960-47ac-8816-b9efb6362ddd",
   "metadata": {
    "editable": true,
    "slideshow": {
     "slide_type": "subslide"
    },
    "tags": []
   },
   "source": [
    "### Features of Jupyter Notebooks\n",
    "\n",
    "- **Interactive Coding**: Run code and see results immediately.\n",
    "- **Rich Media Support**: Embed images, videos, and interactive widgets.\n",
    "- **Visualization**: Display plots and graphs inline.\n",
    "- **Documentation**: Use Markdown to document your code."
   ]
  },
  {
   "cell_type": "code",
   "execution_count": null,
   "id": "72b688ee-63ee-4108-82c8-c7d48470a66f",
   "metadata": {
    "editable": true,
    "slideshow": {
     "slide_type": ""
    },
    "tags": []
   },
   "outputs": [],
   "source": [
    "# Example: Simple Plot\n",
    "import numpy as np\n",
    "import matplotlib.pyplot as plt\n",
    "%matplotlib inline\n",
    "\n",
    "x = np.linspace(0, 10, 100)\n",
    "y = np.sin(x)\n",
    "\n",
    "plt.plot(x, y)\n",
    "plt.title('Sine Wave')\n",
    "plt.xlabel('x')\n",
    "plt.ylabel('sin(x)')\n",
    "plt.show()"
   ]
  },
  {
   "cell_type": "code",
   "execution_count": null,
   "id": "541a79dc-3718-40ba-9022-a5b8f5087134",
   "metadata": {
    "editable": true,
    "slideshow": {
     "slide_type": ""
    },
    "tags": []
   },
   "outputs": [],
   "source": []
  },
  {
   "cell_type": "markdown",
   "id": "bc9aeed3-8c20-4c7a-8f8e-a85cfc607fe7",
   "metadata": {
    "editable": true,
    "slideshow": {
     "slide_type": "subslide"
    },
    "tags": []
   },
   "source": [
    "### Markdown Cells\n",
    "\n",
    "- Use Markdown to add explanations, equations, and notes.\n",
    "- Supports **bold**, *italic*, lists, headers, and more.\n",
    "- Include LaTeX equations: $E = mc^2$\n",
    "\n",
    "(note - all this? it's markdown....)"
   ]
  },
  {
   "cell_type": "markdown",
   "id": "749d43d1-3d0c-4289-ad1f-d8545f8a8286",
   "metadata": {
    "editable": true,
    "slideshow": {
     "slide_type": "subslide"
    },
    "tags": []
   },
   "source": [
    "### Extending Jupyter Notebooks\n",
    "\n",
    "- **JupyterLab**: Next-generation interface for Project Jupyter.\n",
    "- **Extensions**: Add functionality like variable inspectors, code formatters, etc.\n",
    "- **Widgets**: Interactive controls for exploring code and data.\n",
    "\n",
    "note - all these slides - you guessed it... jupyter lab"
   ]
  },
  {
   "cell_type": "markdown",
   "id": "d303a88e-1718-460d-aad2-f4bbc825c95f",
   "metadata": {
    "editable": true,
    "slideshow": {
     "slide_type": "fragment"
    },
    "tags": []
   },
   "source": [
    "### Why Use Jupyter Notebooks?\n",
    "\n",
    "- Ideal for data analysis, visualization, and exploratory programming.\n",
    "- Great for teaching, presentations, and sharing code with others.\n",
    "- Supports reproducible research."
   ]
  },
  {
   "cell_type": "markdown",
   "id": "6548bed0-dab6-485c-8e66-810784b8f700",
   "metadata": {
    "editable": true,
    "slideshow": {
     "slide_type": "slide"
    },
    "tags": []
   },
   "source": [
    "<a id='conclusion'></a>\n",
    "## 4. Conclusion\n",
    "\n",
    "In this workshop, we've:\n",
    "\n",
    "- Explored using the Python interpreter from the command line.\n",
    "- Enhanced our interactive coding experience with **ptpython**.\n",
    "- Learned about **Jupyter Notebooks** for interactive, document-based coding.\n",
    "\n",
    "**Next Steps:**\n",
    "\n",
    "- Practice using each tool to see which fits your workflow best.\n",
    "- Explore advanced features of ptpython and Jupyter Notebooks.\n",
    "- Share your notebooks and code with others.\n",
    "\n",
    "---\n"
   ]
  },
  {
   "cell_type": "markdown",
   "id": "f18a8e43-667c-475b-bc84-5553dba3933d",
   "metadata": {
    "editable": true,
    "slideshow": {
     "slide_type": "slide"
    },
    "tags": []
   },
   "source": [
    "# Python Basics\n",
    "\n",
    "Next, we'll explore the basics of Python programming using built-in functions and features of Python 3.10 and above.\n",
    "\n",
    "This notebook is designed to be interactive. You'll find explanations, examples, and exercises throughout. \n",
    "\n",
    "Feel free to experiment with the code cells and ask questions!\n",
    "\n",
    "---"
   ]
  },
  {
   "cell_type": "markdown",
   "id": "152c308e-3f1e-4c77-9f1d-03e18d5a1288",
   "metadata": {
    "editable": true,
    "slideshow": {
     "slide_type": "slide"
    },
    "tags": []
   },
   "source": [
    "## Basics For Today!\n",
    "\n",
    "1. [Getting Started](#getting_started)\n",
    "2. [Variables and Data Types](#variables)\n",
    "3. [Basic Input and Output](#input_output)\n",
    "4. [Control Flow](#control_flow)\n",
    "5. [Loops](#loops)\n",
    "6. [Functions](#functions)\n",
    "7. [Data Structures](#data_structures)\n",
    "8. [Built-in Functions](#built_in_functions)\n",
    "9. [Exercises](#exercises)\n",
    "10. [Conclusion](#conclusion)\n",
    "\n",
    "---"
   ]
  },
  {
   "cell_type": "markdown",
   "id": "8899133a-ddec-44fd-bca9-5861ecc51e47",
   "metadata": {
    "editable": true,
    "slideshow": {
     "slide_type": "slide"
    },
    "tags": []
   },
   "source": [
    "<a id='getting_started'></a>\n",
    "## 1. Getting Started\n",
    "\n",
    "Python is a high-level, interpreted programming language known for its readability and simplicity. Let's start by printing a simple message.\n",
    "\n",
    "### Printing a Message"
   ]
  },
  {
   "cell_type": "code",
   "execution_count": 1,
   "id": "eb5580c7-83c5-43ec-b20b-aff5a5939ee6",
   "metadata": {
    "editable": true,
    "slideshow": {
     "slide_type": "fragment"
    },
    "tags": []
   },
   "outputs": [
    {
     "name": "stdout",
     "output_type": "stream",
     "text": [
      "Hello, World!\n"
     ]
    }
   ],
   "source": [
    "print(\"Hello, World!\")"
   ]
  },
  {
   "cell_type": "markdown",
   "id": "0cca1c68-1885-4f37-ab6a-ce395d4b2681",
   "metadata": {
    "editable": true,
    "slideshow": {
     "slide_type": "fragment"
    },
    "tags": []
   },
   "source": [
    "This is a simple way to output text to the console.\n",
    "\n",
    "**Try it yourself:** Modify the code above to print your name.\n",
    "\n",
    "---\n",
    "\n",
    "### Explanation:\n",
    "\n",
    "- `print()` is a built-in function that outputs the specified message to the screen.\n",
    "- The text inside the quotation marks is called a **string**.\n",
    "\n",
    "---"
   ]
  },
  {
   "cell_type": "markdown",
   "id": "04f6e78e-4f03-4af0-b648-b1a847491518",
   "metadata": {
    "editable": true,
    "slideshow": {
     "slide_type": "slide"
    },
    "tags": []
   },
   "source": [
    "<a id='variables'></a>\n",
    "## 2. Variables and Data Types\n",
    "\n",
    "Variables are used to store information that can be referenced and manipulated in a program.\n",
    "\n",
    "### Assigning Variables"
   ]
  },
  {
   "cell_type": "code",
   "execution_count": 2,
   "id": "5036df36-8970-4660-bfe0-682f75c89c35",
   "metadata": {
    "editable": true,
    "slideshow": {
     "slide_type": "fragment"
    },
    "tags": []
   },
   "outputs": [],
   "source": [
    "# Assigning values to variables\n",
    "x = 10\n",
    "y = 3.14\n",
    "name = \"Alice\"\n",
    "is_student = True"
   ]
  },
  {
   "cell_type": "code",
   "execution_count": 9,
   "id": "6751e8f6-82d8-4a2c-b0a7-27e3157e85e1",
   "metadata": {
    "editable": true,
    "slideshow": {
     "slide_type": "fragment"
    },
    "tags": []
   },
   "outputs": [],
   "source": [
    "## how can we print these variables?\n",
    "\n"
   ]
  },
  {
   "cell_type": "code",
   "execution_count": null,
   "id": "0b17fd6a-c6b6-43a3-ba58-26f48014f801",
   "metadata": {
    "editable": true,
    "slideshow": {
     "slide_type": ""
    },
    "tags": []
   },
   "outputs": [],
   "source": []
  },
  {
   "cell_type": "markdown",
   "id": "9fb7b0cc-f940-4a38-a533-1218a7665dcb",
   "metadata": {
    "editable": true,
    "slideshow": {
     "slide_type": "fragment"
    },
    "tags": []
   },
   "source": [
    "Try and print the variable content in the cell above!\n",
    "\n"
   ]
  },
  {
   "cell_type": "markdown",
   "id": "e751e186-ca9a-4a92-bee7-470befc4d867",
   "metadata": {
    "editable": true,
    "slideshow": {
     "slide_type": "slide"
    },
    "tags": []
   },
   "source": [
    "### Data Types\n",
    "\n",
    "Python has several built-in data types:\n",
    "\n",
    "- **Integer (`int`)**: Whole numbers, e.g., `10`\n",
    "- **Floating Point (`float`)**: Decimal numbers, e.g., `3.14`\n",
    "- **String (`str`)**: Text, e.g., `\"Hello\"`\n",
    "- **Boolean (`bool`)**: True or False values, e.g., `True`, `False`\n",
    "\n",
    "**Let's check the types of our variables:**"
   ]
  },
  {
   "cell_type": "code",
   "execution_count": null,
   "id": "78611283-edf8-41c5-93ce-c888b2f5981e",
   "metadata": {
    "editable": true,
    "slideshow": {
     "slide_type": ""
    },
    "tags": []
   },
   "outputs": [],
   "source": [
    "print(type(x), x)          # Output: <class 'int'>\n",
    "print(type(y), y)          # Output: <class 'float'>\n",
    "print(type(name), name)       # Output: <class 'str'>\n",
    "print(type(is_student), is_student) # Output: <class 'bool'>"
   ]
  },
  {
   "cell_type": "markdown",
   "id": "d3870dba-c2ee-481c-96b7-237e9f2547f6",
   "metadata": {
    "editable": true,
    "slideshow": {
     "slide_type": "slide"
    },
    "tags": []
   },
   "source": [
    "---\n",
    "\n",
    "### Explanation:\n",
    "\n",
    "- `type()` is a built-in function that returns the data type of the variable.\n",
    "\n",
    "---\n",
    "\n",
    "**Task:** Assign values to variables `a`, `b`, and `c` with an integer, a float, and a string, respectively. Then, print their types."
   ]
  },
  {
   "cell_type": "code",
   "execution_count": 5,
   "id": "6b7e810b-2f52-49d5-b752-17f5870b68a5",
   "metadata": {
    "editable": true,
    "slideshow": {
     "slide_type": ""
    },
    "tags": []
   },
   "outputs": [],
   "source": [
    "# Your code here"
   ]
  },
  {
   "cell_type": "code",
   "execution_count": null,
   "id": "58d6c949-57e4-4f2d-aae0-a6d56b962fec",
   "metadata": {
    "editable": true,
    "slideshow": {
     "slide_type": ""
    },
    "tags": []
   },
   "outputs": [],
   "source": []
  },
  {
   "cell_type": "markdown",
   "id": "ac521e9e-6f4b-47b2-ab94-2f95299e28c1",
   "metadata": {
    "editable": true,
    "slideshow": {
     "slide_type": "slide"
    },
    "tags": []
   },
   "source": [
    "---\n",
    "\n",
    "<a id='input_output'></a>\n",
    "## 3. Basic Input and Output\n",
    "\n",
    "### Getting User Input\n",
    "\n",
    "We can use the `input()` function to get input from the user."
   ]
  },
  {
   "cell_type": "code",
   "execution_count": 6,
   "id": "b50473d3-8643-40ea-b578-5c30357abe5e",
   "metadata": {
    "editable": true,
    "slideshow": {
     "slide_type": ""
    },
    "tags": []
   },
   "outputs": [
    {
     "name": "stdin",
     "output_type": "stream",
     "text": [
      "Enter your name:  Matt\n"
     ]
    },
    {
     "name": "stdout",
     "output_type": "stream",
     "text": [
      "Hello, Matt!\n"
     ]
    }
   ],
   "source": [
    "user_name = input(\"Enter your name: \")\n",
    "print(\"Hello, \" + user_name + \"!\")"
   ]
  },
  {
   "cell_type": "markdown",
   "id": "ccbb5af4-3c20-45f8-b009-6ba47b1a72d8",
   "metadata": {
    "editable": true,
    "slideshow": {
     "slide_type": ""
    },
    "tags": []
   },
   "source": [
    "---\n",
    "\n",
    "### Explanation:\n",
    "\n",
    "- `input()` prompts the user for input and returns it as a string.\n",
    "- We can concatenate strings using the `+` operator.\n",
    "\n",
    "---\n",
    "\n",
    "**Task:** Write a script that asks the user for two numbers and prints their sum."
   ]
  },
  {
   "cell_type": "code",
   "execution_count": null,
   "id": "b9e7b5a0-3e59-442a-8afb-705adf8c8340",
   "metadata": {},
   "outputs": [],
   "source": [
    "# Your code here"
   ]
  },
  {
   "cell_type": "markdown",
   "id": "0a399c4b-2d33-4a50-9d31-fdedb2e3afe1",
   "metadata": {
    "editable": true,
    "slideshow": {
     "slide_type": "slide"
    },
    "tags": []
   },
   "source": [
    "---\n",
    "\n",
    "<a id='control_flow'></a>\n",
    "## 4. Control Flow\n",
    "\n",
    "Control flow statements allow us to direct the flow of execution in our programs.\n",
    "\n",
    "### If Statements"
   ]
  },
  {
   "cell_type": "code",
   "execution_count": 11,
   "id": "881a6ba7-c647-4405-918d-9cfface46b49",
   "metadata": {},
   "outputs": [
    {
     "name": "stdin",
     "output_type": "stream",
     "text": [
      "Enter your age:  21\n"
     ]
    },
    {
     "name": "stdout",
     "output_type": "stream",
     "text": [
      "You are an adult.\n"
     ]
    }
   ],
   "source": [
    "age = int(input(\"Enter your age: \"))\n",
    "\n",
    "if age > 18:\n",
    "    print(\"You are an adult.\")\n",
    "else:\n",
    "    print(\"You are a minor.\")"
   ]
  },
  {
   "cell_type": "markdown",
   "id": "1a7b3478-560c-4172-8f52-b0dc1d3129ee",
   "metadata": {},
   "source": [
    "---\n",
    "\n",
    "### Explanation:\n",
    "\n",
    "- The `if` statement checks a condition.\n",
    "- `elif` is short for \"else if\" and checks another condition if the previous ones are False.\n",
    "- `else` runs if none of the previous conditions are met.\n",
    "- Indentation is important in Python; it defines the scope of the control structures.\n",
    "\n",
    "---\n",
    "\n",
    "**Task:** Modify the above code to check if the age is exactly 18 and print a special message."
   ]
  },
  {
   "cell_type": "code",
   "execution_count": null,
   "id": "d0ee7e15-66fc-4ba2-81eb-dc4fbedd80d7",
   "metadata": {},
   "outputs": [],
   "source": [
    "# Your code here"
   ]
  },
  {
   "cell_type": "markdown",
   "id": "556d1368-31ac-40d1-b97d-0b2673ebb149",
   "metadata": {
    "editable": true,
    "slideshow": {
     "slide_type": "slide"
    },
    "tags": []
   },
   "source": [
    "---\n",
    "\n",
    "<a id='loops'></a>\n",
    "## 5. Loops\n",
    "\n",
    "Loops allow us to execute a block of code multiple times.\n",
    "\n",
    "### For Loops"
   ]
  },
  {
   "cell_type": "code",
   "execution_count": null,
   "id": "2369b6dd-832e-4241-b1fc-59d53f9ecd83",
   "metadata": {
    "editable": true,
    "slideshow": {
     "slide_type": ""
    },
    "tags": []
   },
   "outputs": [],
   "source": [
    "# Loop through a list of numbers\n",
    "numbers = [1, 2, 3, 4, 5]\n",
    "\n",
    "for num in numbers:\n",
    "    print(num)"
   ]
  },
  {
   "cell_type": "markdown",
   "id": "78ea5359-2132-4fac-bf0d-bf342d92a4f5",
   "metadata": {
    "editable": true,
    "slideshow": {
     "slide_type": "slide"
    },
    "tags": []
   },
   "source": [
    "### While Loops"
   ]
  },
  {
   "cell_type": "code",
   "execution_count": null,
   "id": "ed592c43-76b0-47c3-89c6-534af2a445b6",
   "metadata": {
    "editable": true,
    "slideshow": {
     "slide_type": ""
    },
    "tags": []
   },
   "outputs": [],
   "source": [
    "# Print numbers from 1 to 5\n",
    "i = 1\n",
    "while i <= 5:\n",
    "    print(i)\n",
    "    i += 1  # Increment i by 1"
   ]
  },
  {
   "cell_type": "markdown",
   "id": "3fe38ea9-85ee-4959-95d8-18b8d78dafac",
   "metadata": {
    "editable": true,
    "slideshow": {
     "slide_type": "slide"
    },
    "tags": []
   },
   "source": [
    "---\n",
    "\n",
    "### Explanation:\n",
    "\n",
    "- `for` loops iterate over a sequence (like a list, string, or range).\n",
    "- `while` loops continue as long as a condition is True.\n",
    "- `i += 1` is a shorthand for `i = i + 1`.\n",
    "\n",
    "---\n",
    "\n",
    "**Task:** Write a `for` loop that prints the squares of numbers from 1 to 5."
   ]
  },
  {
   "cell_type": "code",
   "execution_count": null,
   "id": "aa38ff43-a980-4183-ac76-b87148a31e0a",
   "metadata": {},
   "outputs": [],
   "source": [
    "# Your code here"
   ]
  },
  {
   "cell_type": "markdown",
   "id": "1486d27e-b5eb-49a2-b5a9-4c51f8bb9845",
   "metadata": {
    "editable": true,
    "slideshow": {
     "slide_type": "slide"
    },
    "tags": []
   },
   "source": [
    "---\n",
    "\n",
    "<a id='functions'></a>\n",
    "## 6. Functions\n",
    "\n",
    "Functions are reusable blocks of code that perform a specific task.\n",
    "\n",
    "### Defining and Calling Functions"
   ]
  },
  {
   "cell_type": "code",
   "execution_count": null,
   "id": "5724d451-e467-4498-b21e-8c2ea27742cc",
   "metadata": {},
   "outputs": [],
   "source": [
    "def greet(name):\n",
    "    print(\"Hello, \" + name + \"!\")\n",
    "\n",
    "greet(\"Alice\")"
   ]
  },
  {
   "cell_type": "markdown",
   "id": "69d9aeb8-eaaa-4edb-83ca-da6a5e1ffe47",
   "metadata": {
    "editable": true,
    "slideshow": {
     "slide_type": "slide"
    },
    "tags": []
   },
   "source": [
    "---\n",
    "\n",
    "### Explanation:\n",
    "\n",
    "- `def` keyword is used to define a function.\n",
    "- Functions can accept parameters and return values.\n",
    "\n",
    "---\n",
    "\n",
    "**Task:** Write a function `add_numbers(a, b)` that returns the sum of two numbers. Call the function with sample inputs and print the result."
   ]
  },
  {
   "cell_type": "code",
   "execution_count": null,
   "id": "ee0538bc-0689-416b-8f91-4716eafc5f2c",
   "metadata": {},
   "outputs": [],
   "source": [
    "# Your code here"
   ]
  },
  {
   "cell_type": "markdown",
   "id": "a633ba25-07ad-4216-9e48-13fbe22439ee",
   "metadata": {
    "editable": true,
    "slideshow": {
     "slide_type": "slide"
    },
    "tags": []
   },
   "source": [
    "---\n",
    "\n",
    "<a id='data_structures'></a>\n",
    "## 7. Data Structures\n",
    "\n",
    "Python has several built-in data structures.\n",
    "\n",
    "### Lists\n",
    "\n",
    "Ordered, mutable collections."
   ]
  },
  {
   "cell_type": "code",
   "execution_count": null,
   "id": "01bd10b8-67c4-42be-91a8-4e055196e00c",
   "metadata": {},
   "outputs": [],
   "source": [
    "fruits = [\"apple\", \"banana\", \"cherry\"]\n",
    "print(fruits[0])  # Output: apple"
   ]
  },
  {
   "cell_type": "markdown",
   "id": "1d33d71b-b3f7-42e4-bad3-f4d76d0e3004",
   "metadata": {
    "editable": true,
    "slideshow": {
     "slide_type": "slide"
    },
    "tags": []
   },
   "source": [
    "### Tuples\n",
    "\n",
    "Ordered, immutable collections."
   ]
  },
  {
   "cell_type": "code",
   "execution_count": null,
   "id": "6930212e-9586-42e4-9e87-7a6d96296b0b",
   "metadata": {},
   "outputs": [],
   "source": [
    "coordinates = (10, 20)\n",
    "print(coordinates[1])  # Output: 20"
   ]
  },
  {
   "cell_type": "markdown",
   "id": "80bb165e-942e-4972-8499-dff6c6979948",
   "metadata": {
    "editable": true,
    "slideshow": {
     "slide_type": "slide"
    },
    "tags": []
   },
   "source": [
    "### Dictionaries\n",
    "\n",
    "Unordered collections of key-value pairs."
   ]
  },
  {
   "cell_type": "code",
   "execution_count": null,
   "id": "4cf229e8-9ccc-4b9c-910a-3934bc1a88f1",
   "metadata": {},
   "outputs": [],
   "source": [
    "student = {\n",
    "    \"name\": \"Alice\",\n",
    "    \"age\": 21,\n",
    "    \"is_student\": True\n",
    "}\n",
    "print(student[\"name\"])  # Output: Alice"
   ]
  },
  {
   "cell_type": "markdown",
   "id": "125b8d81-0c61-48a9-af54-373f53ebbfb1",
   "metadata": {
    "editable": true,
    "slideshow": {
     "slide_type": "slide"
    },
    "tags": []
   },
   "source": [
    "### Sets\n",
    "\n",
    "Unordered collections of unique elements."
   ]
  },
  {
   "cell_type": "code",
   "execution_count": null,
   "id": "f89e1e49-c6eb-4db9-8219-8de7c0cb72b0",
   "metadata": {},
   "outputs": [],
   "source": [
    "unique_numbers = {1, 2, 3, 2, 1}\n",
    "print(unique_numbers)  # Output: {1, 2, 3}"
   ]
  },
  {
   "cell_type": "markdown",
   "id": "0e13d6d0-1992-4e29-8e53-cd6f1bff99ab",
   "metadata": {
    "editable": true,
    "slideshow": {
     "slide_type": "slide"
    },
    "tags": []
   },
   "source": [
    "---\n",
    "\n",
    "### Explanation:\n",
    "\n",
    "- **Lists** are like arrays and can be modified.\n",
    "- **Tuples** are similar to lists but cannot be changed after creation.\n",
    "- **Dictionaries** store data in key-value pairs.\n",
    "- **Sets** store unique elements and are useful for eliminating duplicates.\n",
    "\n",
    "---\n",
    "\n",
    "**Task:** Create a dictionary with keys `name`, `age`, and `city`, and assign appropriate values. Then, print each value."
   ]
  },
  {
   "cell_type": "code",
   "execution_count": null,
   "id": "46259b90-7d61-481a-9e46-ad186244a356",
   "metadata": {},
   "outputs": [],
   "source": [
    "# Your code here"
   ]
  },
  {
   "cell_type": "markdown",
   "id": "94380481-a76d-411b-8876-25c26e9f0d31",
   "metadata": {
    "editable": true,
    "slideshow": {
     "slide_type": "slide"
    },
    "tags": []
   },
   "source": [
    "---\n",
    "\n",
    "<a id='built_in_functions'></a>\n",
    "## 8. Built-in Functions\n",
    "\n",
    "Python provides many built-in functions.\n",
    "\n",
    "### Common Built-in Functions\n",
    "\n",
    "- `len()` - Returns the length of a collection.\n",
    "- `max()` - Returns the largest item.\n",
    "- `min()` - Returns the smallest item.\n",
    "- `sum()` - Returns the sum of items in an iterable.\n",
    "- `sorted()` - Returns a sorted list.\n",
    "\n",
    "**Examples:**"
   ]
  },
  {
   "cell_type": "code",
   "execution_count": null,
   "id": "5a851eaf-92f9-4d3c-b857-3939dcde5bb6",
   "metadata": {},
   "outputs": [],
   "source": [
    "numbers = [5, 3, 8, 6]\n",
    "\n",
    "print(len(numbers))    # Output: 4\n",
    "print(max(numbers))    # Output: 8\n",
    "print(min(numbers))    # Output: 3\n",
    "print(sum(numbers))    # Output: 22\n",
    "print(sorted(numbers)) # Output: [3, 5, 6, 8]"
   ]
  },
  {
   "cell_type": "markdown",
   "id": "417298be-1b28-4e7b-b14d-80f265d0241e",
   "metadata": {
    "editable": true,
    "slideshow": {
     "slide_type": "slide"
    },
    "tags": []
   },
   "source": [
    "---\n",
    "\n",
    "### Explanation:\n",
    "\n",
    "- These functions simplify common operations.\n",
    "\n",
    "---\n",
    "\n",
    "**Task:** Given a list of numbers, use built-in functions to find the average."
   ]
  },
  {
   "cell_type": "code",
   "execution_count": null,
   "id": "3175355d-1ff3-45e1-9e66-ae9a6da558fe",
   "metadata": {},
   "outputs": [],
   "source": [
    "# Your code here"
   ]
  },
  {
   "cell_type": "markdown",
   "id": "75ffaff4-ab62-4c4b-bf92-c6b57a38eae7",
   "metadata": {
    "editable": true,
    "slideshow": {
     "slide_type": "slide"
    },
    "tags": []
   },
   "source": [
    "---\n",
    "\n",
    "<a id='exercises'></a>\n",
    "## 9. Exercises\n",
    "\n",
    "Now it's time to apply what we've learned.\n",
    "\n",
    "### Exercise 1: Simple Calculator\n",
    "\n",
    "Write a program that:\n",
    "\n",
    "- Asks the user to input two numbers.\n",
    "- Asks the user to choose an operation: addition, subtraction, multiplication, or division.\n",
    "- Performs the operation and prints the result.\n",
    "\n",
    "**Hints:**\n",
    "\n",
    "- Use `input()` for user input.\n",
    "- Use `if` statements to determine the operation."
   ]
  },
  {
   "cell_type": "code",
   "execution_count": null,
   "id": "41970013-dd90-4231-a97b-595499377e4a",
   "metadata": {},
   "outputs": [],
   "source": [
    "# Your code here"
   ]
  },
  {
   "cell_type": "markdown",
   "id": "d9ae045a-4abd-40f8-9356-883cff5f75a0",
   "metadata": {
    "editable": true,
    "slideshow": {
     "slide_type": "slide"
    },
    "tags": []
   },
   "source": [
    "---\n",
    "\n",
    "### Exercise 2: Even or Odd\n",
    "\n",
    "Write a function `is_even(number)` that returns `True` if the number is even and `False` if it is odd. Test the function with different inputs."
   ]
  },
  {
   "cell_type": "code",
   "execution_count": null,
   "id": "650a211a-a67e-4bc4-a95a-98081c633227",
   "metadata": {},
   "outputs": [],
   "source": [
    "# Your code here"
   ]
  },
  {
   "cell_type": "markdown",
   "id": "84f4e161-cfcb-434b-aa6d-d649f7fbada8",
   "metadata": {
    "editable": true,
    "slideshow": {
     "slide_type": "slide"
    },
    "tags": []
   },
   "source": [
    "---\n",
    "\n",
    "### Exercise 3: Factorial Calculator\n",
    "\n",
    "Write a program that calculates the factorial of a given number using a `for` loop.\n",
    "\n",
    "**Example:**\n",
    "\n",
    "- Input: `5`\n",
    "- Output: `120` (since 5! = 5 x 4 x 3 x 2 x 1)"
   ]
  },
  {
   "cell_type": "code",
   "execution_count": null,
   "id": "d4e56aa7-6267-4777-97bc-50099987d153",
   "metadata": {},
   "outputs": [],
   "source": [
    "# Your code here"
   ]
  },
  {
   "cell_type": "markdown",
   "id": "b16c3063-2baa-4862-a06b-02edc6f0206b",
   "metadata": {
    "editable": true,
    "slideshow": {
     "slide_type": "slide"
    },
    "tags": []
   },
   "source": [
    "---\n",
    "\n",
    "<a id='conclusion'></a>\n",
    "## 10. Conclusion\n",
    "\n",
    "Congratulations! You've completed the first workshop on Python programming. We've covered:\n",
    "\n",
    "- Basic syntax and data types\n",
    "- Variables and assignment\n",
    "- Input/output\n",
    "- Control flow statements\n",
    "- Loops\n",
    "- Functions\n",
    "- Data structures\n",
    "- Built-in functions\n",
    "\n",
    "**Next Steps:**\n",
    "\n",
    "- Practice writing more programs.\n",
    "- Experiment with what you've learned.\n",
    "- Prepare for the next workshop, where we'll explore more advanced topics.\n",
    "\n",
    "---\n",
    "\n"
   ]
  },
  {
   "cell_type": "code",
   "execution_count": null,
   "id": "9f460f9d-8fd4-4f4b-97c2-613ca0f9d0c5",
   "metadata": {
    "editable": true,
    "slideshow": {
     "slide_type": ""
    },
    "tags": []
   },
   "outputs": [],
   "source": []
  },
  {
   "cell_type": "markdown",
   "id": "f9f7972a-acb9-4297-b5a2-e413ce622b5e",
   "metadata": {
    "editable": true,
    "slideshow": {
     "slide_type": "slide"
    },
    "tags": []
   },
   "source": [
    "# Introduction to Python Classes (Bioinformatics Edition)\n",
    "\n",
    "Python classes tailored for bioinformatics! \n",
    "\n",
    "In this session, we'll delve into object-oriented programming (OOP) concepts using Python's class system, focusing on examples relevant to bioinformatics. This workshop is interactive, so feel free to run the code cells, modify them, and work on the exercises provided.\n",
    "\n",
    "## Table of Contents\n",
    "\n",
    "1. [Introduction to Object-Oriented Programming](#oop_intro)\n",
    "2. [Defining a Class](#defining_class)\n",
    "3. [Creating Objects](#creating_objects)\n",
    "4. [Instance Attributes and Methods](#instance_attributes_methods)\n",
    "5. [Class Attributes](#class_attributes)\n",
    "6. [Special Methods (`__init__`, `__str__`, etc.)](#special_methods)\n",
    "7. [Inheritance](#inheritance)\n",
    "8. [Encapsulation and Access Modifiers](#encapsulation)\n",
    "9. [Exercises](#exercises)\n",
    "10. [Conclusion](#conclusion)\n",
    "\n",
    "---"
   ]
  },
  {
   "cell_type": "markdown",
   "id": "b8e329d4-cf1d-49df-868a-28c0f36dc191",
   "metadata": {
    "editable": true,
    "slideshow": {
     "slide_type": "slide"
    },
    "tags": []
   },
   "source": [
    "<a id='oop_intro'></a>\n",
    "## 1. Introduction to Object-Oriented Programming\n",
    "\n",
    "**Object-Oriented Programming (OOP)** is a programming paradigm based on the concept of \"objects\", which can contain data and code:\n",
    "\n",
    "- **Data** in the form of fields (also known as attributes or properties).\n",
    "- **Code** in the form of procedures (also known as methods).\n",
    "\n",
    "OOP allows for modeling real-world entities and their interactions, making code more modular, reusable, and easier to maintain."
   ]
  },
  {
   "cell_type": "markdown",
   "id": "c1abf466-3bf0-44fd-a392-d133ae4a503f",
   "metadata": {
    "slideshow": {
     "slide_type": "subslide"
    }
   },
   "source": [
    "### Why Use Classes in Bioinformatics?\n",
    "\n",
    "- **Model Biological Entities**: Represent genes, proteins, sequences, etc.\n",
    "- **Encapsulation**: Group related data and functions for data analysis.\n",
    "- **Reusability**: Build libraries and tools that can be reused across projects."
   ]
  },
  {
   "cell_type": "markdown",
   "id": "d04fd048-70b8-43f0-a9a2-375252cae0e0",
   "metadata": {
    "slideshow": {
     "slide_type": "slide"
    }
   },
   "source": [
    "<a id='defining_class'></a>\n",
    "## 2. Defining a Class\n",
    "\n",
    "In Python, we define a class using the `class` keyword."
   ]
  },
  {
   "cell_type": "markdown",
   "id": "a90443ff-15d2-4e42-9951-e237badd4c05",
   "metadata": {
    "slideshow": {
     "slide_type": "fragment"
    }
   },
   "source": [
    "### Syntax:\n",
    "\n",
    "```python\n",
    "class ClassName:\n",
    "    # Class body\n",
    "    pass\n",
    "```"
   ]
  },
  {
   "cell_type": "markdown",
   "id": "976b5d85-e771-47a4-b96d-9b6f31f8ae03",
   "metadata": {
    "slideshow": {
     "slide_type": "fragment"
    }
   },
   "source": [
    "**Example:**\n",
    "\n",
    "```python\n",
    "class DNASequence:\n",
    "    pass\n",
    "```"
   ]
  },
  {
   "cell_type": "markdown",
   "id": "591048f9-6b50-48fa-84d7-04fdbc619d03",
   "metadata": {
    "slideshow": {
     "slide_type": "subslide"
    }
   },
   "source": [
    "### Explanation:\n",
    "\n",
    "- `class DNASequence:` defines a new class named `DNASequence`.\n",
    "- The `pass` statement is a placeholder indicating an empty block."
   ]
  },
  {
   "cell_type": "markdown",
   "id": "6311a520-6d75-4ec8-9753-88588dac3666",
   "metadata": {
    "slideshow": {
     "slide_type": "fragment"
    }
   },
   "source": [
    "**Task:** Define an empty class called `Protein`.\n",
    "\n",
    "```python\n",
    "# Your code here\n",
    "```"
   ]
  },
  {
   "cell_type": "code",
   "execution_count": null,
   "id": "37aae25f-7ea3-47ba-a507-d975a766fdb3",
   "metadata": {
    "slideshow": {
     "slide_type": "-"
    }
   },
   "outputs": [],
   "source": [
    "# Your code here"
   ]
  },
  {
   "cell_type": "markdown",
   "id": "b38e78f2-5667-45ff-8869-633177232cde",
   "metadata": {
    "slideshow": {
     "slide_type": "slide"
    }
   },
   "source": [
    "<a id='creating_objects'></a>\n",
    "## 3. Creating Objects\n",
    "\n",
    "An **object** (or **instance**) is an instantiation of a class."
   ]
  },
  {
   "cell_type": "markdown",
   "id": "f2939fed-e972-4f99-a064-30c9ac2f910c",
   "metadata": {
    "slideshow": {
     "slide_type": "fragment"
    }
   },
   "source": [
    "### Creating an Instance:\n",
    "\n",
    "```python\n",
    "sequence = DNASequence()\n",
    "print(sequence)\n",
    "```"
   ]
  },
  {
   "cell_type": "markdown",
   "id": "6c92b1ca-f8a5-458e-b04d-2818d9b5230e",
   "metadata": {
    "slideshow": {
     "slide_type": "subslide"
    }
   },
   "source": [
    "### Explanation:\n",
    "\n",
    "- `sequence = DNASequence()` creates a new instance of the `DNASequence` class.\n",
    "- Each instance can have its own attributes."
   ]
  },
  {
   "cell_type": "markdown",
   "id": "ebda90e6-852e-4bcc-97b5-47d1c9c8c5f6",
   "metadata": {
    "slideshow": {
     "slide_type": "fragment"
    }
   },
   "source": [
    "**Task:** Create an instance of the `Protein` class you defined earlier.\n",
    "\n",
    "```python\n",
    "# Your code here\n",
    "```"
   ]
  },
  {
   "cell_type": "code",
   "execution_count": null,
   "id": "a50a3252-4b60-417b-aa5d-31ca1a22cd36",
   "metadata": {
    "slideshow": {
     "slide_type": "-"
    }
   },
   "outputs": [],
   "source": [
    "# Your code here"
   ]
  },
  {
   "cell_type": "markdown",
   "id": "a08413c9-9831-40ca-a82a-00fae54f2707",
   "metadata": {
    "slideshow": {
     "slide_type": "slide"
    }
   },
   "source": [
    "<a id='instance_attributes_methods'></a>\n",
    "## 4. Instance Attributes and Methods\n",
    "\n",
    "### Instance Attributes\n",
    "\n",
    "Instance attributes are variables that are unique to each instance."
   ]
  },
  {
   "cell_type": "markdown",
   "id": "fee45429-0a1a-4ff5-b9bb-bf5bc87bdd52",
   "metadata": {
    "slideshow": {
     "slide_type": "fragment"
    }
   },
   "source": [
    "#### The `__init__` Method\n",
    "\n",
    "```python\n",
    "class DNASequence:\n",
    "    def __init__(self, sequence):\n",
    "        self.sequence = sequence  # Instance attribute\n",
    "```\n",
    "\n",
    "- `__init__` is a special method called a **constructor**.\n",
    "- `self` refers to the instance being created."
   ]
  },
  {
   "cell_type": "markdown",
   "id": "c416b8cd-0799-4aeb-b826-a6a84728de01",
   "metadata": {
    "slideshow": {
     "slide_type": "subslide"
    }
   },
   "source": [
    "### Creating an Instance with Attributes\n",
    "\n",
    "```python\n",
    "seq = DNASequence(\"ATCGGCTA\")\n",
    "print(seq.sequence)  # Output: ATCGGCTA\n",
    "```"
   ]
  },
  {
   "cell_type": "markdown",
   "id": "2b811860-0e68-4da0-af2b-8f3c923f3c4e",
   "metadata": {
    "slideshow": {
     "slide_type": "fragment"
    }
   },
   "source": [
    "### Instance Methods\n",
    "\n",
    "Methods are functions defined within a class that operate on instances of that class.\n",
    "\n",
    "```python\n",
    "class DNASequence:\n",
    "    def __init__(self, sequence):\n",
    "        self.sequence = sequence\n",
    "    \n",
    "    def get_length(self):\n",
    "        return len(self.sequence)\n",
    "\n",
    "seq = DNASequence(\"ATCGGCTA\")\n",
    "print(seq.get_length())  # Output: 8\n",
    "```"
   ]
  },
  {
   "cell_type": "markdown",
   "id": "efe727bc-910a-4f0f-bfbf-9a8d40f69263",
   "metadata": {
    "slideshow": {
     "slide_type": "subslide"
    }
   },
   "source": [
    "**Task:** Modify the `Protein` class to include an attribute `amino_acid_sequence`. Then, create an instance and print this attribute.\n",
    "\n",
    "```python\n",
    "# Your code here\n",
    "```"
   ]
  },
  {
   "cell_type": "code",
   "execution_count": null,
   "id": "ca03729c-32c3-4de9-85ca-461efac21981",
   "metadata": {
    "slideshow": {
     "slide_type": "-"
    }
   },
   "outputs": [],
   "source": [
    "# Your code here"
   ]
  },
  {
   "cell_type": "markdown",
   "id": "70fb97ee-82b2-40dc-9e60-cc80d456e4d2",
   "metadata": {
    "slideshow": {
     "slide_type": "slide"
    }
   },
   "source": [
    "<a id='class_attributes'></a>\n",
    "## 5. Class Attributes\n",
    "\n",
    "Class attributes are variables that are shared among all instances of a class."
   ]
  },
  {
   "cell_type": "markdown",
   "id": "35c78c7f-287e-4841-9b08-cb7e442220a8",
   "metadata": {
    "slideshow": {
     "slide_type": "fragment"
    }
   },
   "source": [
    "```python\n",
    "class DNASequence:\n",
    "    nucleotide_bases = ['A', 'T', 'C', 'G']  # Class attribute\n",
    "    \n",
    "    def __init__(self, sequence):\n",
    "        self.sequence = sequence\n",
    "\n",
    "seq1 = DNASequence(\"ATCG\")\n",
    "seq2 = DNASequence(\"GGCTA\")\n",
    "\n",
    "print(seq1.nucleotide_bases)  # Output: ['A', 'T', 'C', 'G']\n",
    "print(seq2.nucleotide_bases)  # Output: ['A', 'T', 'C', 'G']\n",
    "```"
   ]
  },
  {
   "cell_type": "markdown",
   "id": "585af26a-fe93-4e26-865b-4105f036b65b",
   "metadata": {
    "slideshow": {
     "slide_type": "subslide"
    }
   },
   "source": [
    "### Explanation:\n",
    "\n",
    "- Class attributes are defined outside of any instance methods.\n",
    "- All instances share the same class attributes."
   ]
  },
  {
   "cell_type": "markdown",
   "id": "695b89e4-b707-45c9-af83-d391a4dd349b",
   "metadata": {
    "editable": true,
    "slideshow": {
     "slide_type": "fragment"
    },
    "tags": []
   },
   "source": [
    "**Task:** Add a class attribute `amino_acids` containing the list of standard amino acids to the `Protein` class. Access this attribute from an instance.\n",
    "\n",
    "```python\n",
    "# Your code here\n",
    "```"
   ]
  },
  {
   "cell_type": "code",
   "execution_count": null,
   "id": "ffa22b70-b7a8-4fe3-a855-97e641225d5e",
   "metadata": {
    "slideshow": {
     "slide_type": "-"
    }
   },
   "outputs": [],
   "source": [
    "# Your code here"
   ]
  },
  {
   "cell_type": "markdown",
   "id": "3962d5fc-4757-4702-afa0-5a28b1006a0f",
   "metadata": {
    "slideshow": {
     "slide_type": "slide"
    }
   },
   "source": [
    "<a id='special_methods'></a>\n",
    "## 6. Special Methods (`__init__`, `__str__`, etc.)\n",
    "\n",
    "Special methods (also known as **magic methods**) are predefined methods in Python classes that have double underscores (`__`) at the beginning and end."
   ]
  },
  {
   "cell_type": "markdown",
   "id": "eeaa6d16-a2bc-4cd0-8dee-3eb01b98a22e",
   "metadata": {
    "slideshow": {
     "slide_type": "fragment"
    }
   },
   "source": [
    "### `__init__` and `__str__` Methods\n",
    "\n",
    "- `__init__`: Initializes a new instance of a class.\n",
    "- `__str__`: Returns a human-readable string representation of the object."
   ]
  },
  {
   "cell_type": "markdown",
   "id": "beb3083d-5ef5-4731-b40f-93ea860e4d0b",
   "metadata": {
    "slideshow": {
     "slide_type": "subslide"
    }
   },
   "source": [
    "**Example:**\n",
    "\n",
    "```python\n",
    "class DNASequence:\n",
    "    def __init__(self, sequence):\n",
    "        self.sequence = sequence\n",
    "    \n",
    "    def __str__(self):\n",
    "        return f\"DNA Sequence: {self.sequence}\"\n",
    "\n",
    "seq = DNASequence(\"ATCGGCTA\")\n",
    "print(seq)  # Output: DNA Sequence: ATCGGCTA\n",
    "```"
   ]
  },
  {
   "cell_type": "markdown",
   "id": "ec7ba016-db18-4e3a-bc74-8376291a11cf",
   "metadata": {
    "slideshow": {
     "slide_type": "fragment"
    }
   },
   "source": [
    "**Task:** Add a `__str__` method to the `Protein` class that returns a string like `\"Protein Sequence: MVLSPADKTNVKAA\"`.\n",
    "\n",
    "```python\n",
    "# Your code here\n",
    "```"
   ]
  },
  {
   "cell_type": "code",
   "execution_count": null,
   "id": "6fd8f90c-e699-4ad4-ba67-53974245b7f4",
   "metadata": {
    "slideshow": {
     "slide_type": "-"
    }
   },
   "outputs": [],
   "source": [
    "# Your code here"
   ]
  },
  {
   "cell_type": "markdown",
   "id": "577ad315-0bb3-4637-aa4d-d608d266ceb5",
   "metadata": {
    "slideshow": {
     "slide_type": "slide"
    }
   },
   "source": [
    "<a id='inheritance'></a>\n",
    "## 7. Inheritance\n",
    "\n",
    "Inheritance allows a class (child class) to inherit attributes and methods from another class (parent class)."
   ]
  },
  {
   "cell_type": "markdown",
   "id": "167bbbdb-064c-4fd2-ae2f-281cfac84af1",
   "metadata": {
    "slideshow": {
     "slide_type": "fragment"
    }
   },
   "source": [
    "### Syntax:\n",
    "\n",
    "```python\n",
    "class ChildClass(ParentClass):\n",
    "    # Class body\n",
    "    pass\n",
    "```"
   ]
  },
  {
   "cell_type": "markdown",
   "id": "017288fe-e4ba-47e1-87d5-d9792b6b0855",
   "metadata": {
    "slideshow": {
     "slide_type": "subslide"
    }
   },
   "source": [
    "**Example:**\n",
    "\n",
    "```python\n",
    "class RNASequence(DNASequence):\n",
    "    def transcribe(self):\n",
    "        return self.sequence.replace('T', 'U')\n",
    "\n",
    "rna_seq = RNASequence(\"ATCGGCTA\")\n",
    "print(rna_seq.transcribe())  # Output: AUCGGCUA\n",
    "```"
   ]
  },
  {
   "cell_type": "markdown",
   "id": "9244f231-eaec-4a6a-a662-55e7087e6412",
   "metadata": {
    "slideshow": {
     "slide_type": "fragment"
    }
   },
   "source": [
    "### Explanation:\n",
    "\n",
    "- `RNASequence` class inherits from `DNASequence`.\n",
    "- Inherits the `sequence` attribute and can add new methods like `transcribe()`."
   ]
  },
  {
   "cell_type": "markdown",
   "id": "7c027b4d-a818-4a7b-ba3b-7e7c2cd580a8",
   "metadata": {
    "slideshow": {
     "slide_type": "subslide"
    }
   },
   "source": [
    "**Task:** Create a subclass `Gene` that inherits from `DNASequence` and adds attributes `gene_name` and `organism`. Instantiate it and print all attributes.\n",
    "\n",
    "```python\n",
    "# Your code here\n",
    "```"
   ]
  },
  {
   "cell_type": "code",
   "execution_count": null,
   "id": "2f79bbe8-6210-49d8-b515-206002a134d8",
   "metadata": {
    "slideshow": {
     "slide_type": "-"
    }
   },
   "outputs": [],
   "source": [
    "# Your code here"
   ]
  },
  {
   "cell_type": "markdown",
   "id": "aeacbbe0-d670-4ecd-a3ad-54ccd8939f03",
   "metadata": {
    "slideshow": {
     "slide_type": "slide"
    }
   },
   "source": [
    "<a id='encapsulation'></a>\n",
    "## 8. Encapsulation and Access Modifiers\n",
    "\n",
    "Encapsulation is the bundling of data and methods that operate on that data within one unit."
   ]
  },
  {
   "cell_type": "markdown",
   "id": "378b89de-0a24-45e0-bc05-bb70b1e9f6f8",
   "metadata": {
    "slideshow": {
     "slide_type": "fragment"
    }
   },
   "source": [
    "### Access Modifiers\n",
    "\n",
    "- **Public Attributes/Methods**: Accessible from anywhere.\n",
    "- **Protected Attributes/Methods**: Prefix with a single underscore `_attribute`. Indicates intended for internal use.\n",
    "- **Private Attributes/Methods**: Prefix with double underscores `__attribute`. Name mangling is used to prevent access from outside the class."
   ]
  },
  {
   "cell_type": "markdown",
   "id": "7c44a2e7-af84-4fab-adf8-0c8b209e5e72",
   "metadata": {
    "editable": true,
    "slideshow": {
     "slide_type": "subslide"
    },
    "tags": []
   },
   "source": [
    "**Example:**\n",
    "\n",
    "```python\n",
    "class DNASequence:\n",
    "    def __init__(self, sequence):\n",
    "        self.sequence = sequence        # Public\n",
    "        self._quality_score = None      # Protected\n",
    "        self.__accession_number = \"ABC123\"  # Private\n",
    "\n",
    "seq = DNASequence(\"ATCG\")\n",
    "print(seq.sequence)          # Accessible\n",
    "print(seq._quality_score)    # Accessible but discouraged\n",
    "# print(seq.__accession_number)  # Raises AttributeError\n",
    "```"
   ]
  },
  {
   "cell_type": "markdown",
   "id": "37da32b6-f15a-40ad-abe5-1c5fe343829c",
   "metadata": {
    "slideshow": {
     "slide_type": "fragment"
    }
   },
   "source": [
    "**Note:** In Python, access modifiers are a convention and not enforced by the language."
   ]
  },
  {
   "cell_type": "markdown",
   "id": "043912c5-e435-4821-b009-45865b490d6b",
   "metadata": {
    "slideshow": {
     "slide_type": "subslide"
    }
   },
   "source": [
    "**Task:** In the `Protein` class, add a private attribute `__structure` (e.g., \"Alpha-helix\"). Try accessing it from outside the class.\n",
    "\n",
    "```python\n",
    "# Your code here\n",
    "```"
   ]
  },
  {
   "cell_type": "code",
   "execution_count": null,
   "id": "6f848a8e-1520-4910-a5e6-41fb2ab99679",
   "metadata": {
    "slideshow": {
     "slide_type": "-"
    }
   },
   "outputs": [],
   "source": [
    "# Your code here"
   ]
  },
  {
   "cell_type": "markdown",
   "id": "129f08be-92b7-49ff-a4c9-97934aae011c",
   "metadata": {
    "slideshow": {
     "slide_type": "slide"
    }
   },
   "source": [
    "<a id='exercises'></a>\n",
    "## 9. Exercises\n",
    "\n",
    "Now it's time to practice what we've learned."
   ]
  },
  {
   "cell_type": "markdown",
   "id": "12b29ee1-3e83-40b6-8c72-c1814833759e",
   "metadata": {
    "slideshow": {
     "slide_type": "subslide"
    }
   },
   "source": [
    "### Exercise 1: Nucleotide Count\n",
    "\n",
    "Create a `DNASequence` class with the following:\n",
    "\n",
    "- **Attributes:**\n",
    "  - `sequence` (public)\n",
    "- **Methods:**\n",
    "  - `count_nucleotides()` - Returns a dictionary with counts of each nucleotide.\n",
    "  - `calculate_gc_content()` - Returns the GC content percentage.\n",
    "\n",
    "**Example Usage:**\n",
    "\n",
    "```python\n",
    "seq = DNASequence(\"ATCGGCTA\")\n",
    "print(seq.count_nucleotides())  # Output: {'A': 2, 'T': 2, 'C': 2, 'G': 2}\n",
    "print(seq.calculate_gc_content())  # Output: 50.0\n",
    "```\n",
    "\n",
    "**Task:** Implement the `DNASequence` class with the specified methods.\n",
    "\n",
    "```python\n",
    "# Your code here\n",
    "```"
   ]
  },
  {
   "cell_type": "code",
   "execution_count": null,
   "id": "ad3fa8ed-a554-49fd-bffb-a8eda878e2ed",
   "metadata": {
    "slideshow": {
     "slide_type": "-"
    }
   },
   "outputs": [],
   "source": [
    "# Your code here"
   ]
  },
  {
   "cell_type": "markdown",
   "id": "14fb9d6a-bc0d-4741-a119-8c4582ed0695",
   "metadata": {
    "slideshow": {
     "slide_type": "subslide"
    }
   },
   "source": [
    "### Exercise 2: DNA to Protein Translation\n",
    "\n",
    "Create a class `DNASequence` with a method `translate()` that returns the amino acid sequence translated from the DNA sequence.\n",
    "\n",
    "**Hints:**\n",
    "\n",
    "- Use a codon table dictionary.\n",
    "- Remember to handle sequences whose length is not a multiple of 3.\n",
    "\n",
    "**Example Usage:**\n",
    "\n",
    "```python\n",
    "seq = DNASequence(\"ATGGCC\")\n",
    "print(seq.translate())  # Output: MA\n",
    "```\n",
    "\n",
    "**Task:** Implement the `translate()` method.\n",
    "\n",
    "```python\n",
    "# Your code here\n",
    "```"
   ]
  },
  {
   "cell_type": "code",
   "execution_count": null,
   "id": "2ae81408-7569-45e5-a536-40abd85de63d",
   "metadata": {
    "slideshow": {
     "slide_type": "-"
    }
   },
   "outputs": [],
   "source": [
    "# Your code here"
   ]
  },
  {
   "cell_type": "markdown",
   "id": "d4d78bf0-f42d-41a3-800c-49e29b2d1659",
   "metadata": {
    "slideshow": {
     "slide_type": "subslide"
    }
   },
   "source": [
    "### Exercise 3: Gene Expression Data\n",
    "\n",
    "Create classes to represent gene expression data:\n",
    "\n",
    "- **Base Class:** `Gene`\n",
    "  - **Attributes:** `gene_id`, `sequence`\n",
    "  - **Methods:** `get_length()`\n",
    "- **Subclass:** `ExpressionGene`\n",
    "  - **Attributes:** `expression_level`\n",
    "  - **Methods:** Override `__str__()` to include expression level.\n",
    "\n",
    "**Example Usage:**\n",
    "\n",
    "```python\n",
    "gene = ExpressionGene(\"BRCA1\", \"ATGC...\", 12.5)\n",
    "print(gene)  # Output: Gene BRCA1 with expression level 12.5\n",
    "```\n",
    "\n",
    "**Task:** Implement the `Gene` and `ExpressionGene` classes.\n",
    "\n",
    "```python\n",
    "# Your code here\n",
    "```"
   ]
  },
  {
   "cell_type": "code",
   "execution_count": null,
   "id": "9fd8ac1e-9673-4fd3-80c9-6e61db9fc8d5",
   "metadata": {
    "slideshow": {
     "slide_type": "-"
    }
   },
   "outputs": [],
   "source": [
    "# Your code here"
   ]
  },
  {
   "cell_type": "markdown",
   "id": "2474037b-a198-4a83-b82a-b210c02d8653",
   "metadata": {
    "editable": true,
    "jp-MarkdownHeadingCollapsed": true,
    "slideshow": {
     "slide_type": "slide"
    },
    "tags": []
   },
   "source": [
    "<a id='conclusion'></a>\n",
    "## 10. Conclusion\n",
    "\n",
    "Congratulations! You've completed the bioinformatics-focused workshop on Python classes. We've covered:\n",
    "\n",
    "- Defining classes and creating objects\n",
    "- Instance attributes and methods\n",
    "- Class attributes\n",
    "- Special methods like `__init__` and `__str__`\n",
    "- Inheritance\n",
    "- Encapsulation and access modifiers\n",
    "\n",
    "**Next Steps:**\n",
    "\n",
    "- Practice by creating more classes relevant to bioinformatics.\n",
    "- Explore libraries like Biopython for advanced bioinformatics tasks.\n",
    "- Prepare for the next workshop where we'll dive deeper into Python's OOP capabilities in biological data analysis.\n",
    "\n",
    "---\n",
    "\n",
    "Feel free to ask any questions or share your solutions to the exercises!"
   ]
  },
  {
   "cell_type": "markdown",
   "id": "3a13765b-5d63-44e0-8acb-a42f05475ab3",
   "metadata": {
    "editable": true,
    "slideshow": {
     "slide_type": "slide"
    },
    "tags": []
   },
   "source": [
    "# Introduction to Python Modules and Biopython\n",
    "\n",
    "Next, we'll explore how to use modules to organize code and how to leverage Biopython to perform common bioinformatics tasks efficiently.\n",
    "\n",
    "## Table of Contents\n",
    "\n",
    "1. [Introduction to Modules and Imports](#modules_intro)\n",
    "2. [Using Standard Python Modules](#standard_modules)\n",
    "3. [Introduction to Biopython](#biopython_intro)\n",
    "4. [Installing Biopython](#installing_biopython)\n",
    "5. [Working with Sequences](#working_with_sequences)\n",
    "6. [Transcription and Translation](#transcription_translation)\n",
    "7. [Sequence Analysis](#sequence_analysis)\n",
    "8. [Revisiting Exercises with Biopython](#revisiting_exercises)\n",
    "9. [Conclusion](#conclusion)\n",
    "\n",
    "---"
   ]
  },
  {
   "cell_type": "markdown",
   "id": "e379b539-1f72-41cf-bc48-a0da43d8322c",
   "metadata": {
    "editable": true,
    "slideshow": {
     "slide_type": "slide"
    },
    "tags": []
   },
   "source": [
    "<a id='modules_intro'></a>\n",
    "## 1. Introduction to Modules and Imports\n",
    "\n",
    "### What is a Module?\n",
    "\n",
    "- A **module** is a file containing Python definitions and statements.\n",
    "- Modules allow you to organize your code logically.\n",
    "- They promote code reusability and maintainability."
   ]
  },
  {
   "cell_type": "markdown",
   "id": "d2bcec15-418f-4488-a011-7e4f02fa641f",
   "metadata": {
    "editable": true,
    "slideshow": {
     "slide_type": "fragment"
    },
    "tags": []
   },
   "source": [
    "### Importing Modules\n",
    "\n",
    "```python\n",
    "import module_name\n",
    "```\n",
    "\n",
    "- Use the `import` statement to include a module in your script.\n",
    "- Access functions and variables using `module_name.function_name`."
   ]
  },
  {
   "cell_type": "markdown",
   "id": "00868bb2-1d34-4586-9799-170db67ea264",
   "metadata": {
    "editable": true,
    "slideshow": {
     "slide_type": "subslide"
    },
    "tags": []
   },
   "source": [
    "### Example: Importing the `math` Module\n",
    "\n",
    "```python\n",
    "import math\n",
    "print(math.sqrt(16))  # Output: 4.0\n",
    "```"
   ]
  },
  {
   "cell_type": "markdown",
   "id": "12a3e12d-f0dd-4714-8f27-5878206a0b7a",
   "metadata": {
    "editable": true,
    "slideshow": {
     "slide_type": "slide"
    },
    "tags": []
   },
   "source": [
    "<a id='standard_modules'></a>\n",
    "## 2. Using Standard Python Modules\n",
    "\n",
    "Python comes with a rich set of built-in modules.\n",
    "\n",
    "### Commonly Used Modules\n",
    "\n",
    "- `os` for operating system interfaces.\n",
    "- `sys` for system-specific parameters and functions.\n",
    "- `math` for mathematical functions.\n",
    "- `random` for generating random numbers."
   ]
  },
  {
   "cell_type": "markdown",
   "id": "232df031-23cc-4fb8-88be-64fae04dc7c9",
   "metadata": {
    "slideshow": {
     "slide_type": "fragment"
    }
   },
   "source": [
    "### Example: Using the `os` Module\n",
    "\n",
    "```python\n",
    "import os\n",
    "print(os.getcwd())  # Prints the current working directory\n",
    "```"
   ]
  },
  {
   "cell_type": "markdown",
   "id": "cd6c5819-a3a4-4e27-9794-163eb5d7d152",
   "metadata": {
    "slideshow": {
     "slide_type": "slide"
    }
   },
   "source": [
    "<a id='biopython_intro'></a>\n",
    "## 3. Introduction to Biopython\n",
    "\n",
    "### What is Biopython?\n",
    "\n",
    "- **Biopython** is a set of freely available tools for biological computation.\n",
    "- It provides modules for reading and writing different sequence file formats, accessing online databases, and performing sequence analysis."
   ]
  },
  {
   "cell_type": "markdown",
   "id": "8723b806-fe7e-4c3e-b3c9-31da14764b3d",
   "metadata": {
    "slideshow": {
     "slide_type": "fragment"
    }
   },
   "source": [
    "### Key Features\n",
    "\n",
    "- Sequence objects and manipulation.\n",
    "- Input/output of popular bioinformatics file formats.\n",
    "- Interfaces to common bioinformatics programs and databases.\n",
    "- Tools for sequence alignment, clustering, and more."
   ]
  },
  {
   "cell_type": "markdown",
   "id": "2aadcad2-4986-4eb1-a4f4-7f1b7f7c0502",
   "metadata": {
    "slideshow": {
     "slide_type": "slide"
    }
   },
   "source": [
    "<a id='installing_biopython'></a>\n",
    "## 4. Installing Biopython\n",
    "\n",
    "### Using pip\n",
    "\n",
    "```bash\n",
    "pip install biopython\n",
    "```\n",
    "\n",
    "- Ensure you have `pip` installed.\n",
    "- Run the command in your terminal or command prompt."
   ]
  },
  {
   "cell_type": "markdown",
   "id": "c9e340bb-98ba-41a9-ae02-b9f7c0b72499",
   "metadata": {
    "slideshow": {
     "slide_type": "fragment"
    }
   },
   "source": [
    "### Verify Installation\n",
    "\n",
    "```python\n",
    "import Bio\n",
    "print(Bio.__version__)\n",
    "```\n",
    "\n",
    "- If no errors occur, Biopython is installed successfully."
   ]
  },
  {
   "cell_type": "code",
   "execution_count": 1,
   "id": "87d658d7-e408-4fd3-a75b-7b6edf6bc102",
   "metadata": {},
   "outputs": [
    {
     "name": "stdout",
     "output_type": "stream",
     "text": [
      "1.84\n"
     ]
    }
   ],
   "source": [
    "# Verify Biopython installation\n",
    "import Bio\n",
    "print(Bio.__version__)"
   ]
  },
  {
   "cell_type": "markdown",
   "id": "eebae014-c5c6-4e8b-a528-cb3a27650ec9",
   "metadata": {
    "slideshow": {
     "slide_type": "slide"
    }
   },
   "source": [
    "<a id='working_with_sequences'></a>\n",
    "## 5. Working with Sequences\n",
    "\n",
    "Biopython provides the `Seq` and `SeqRecord` objects for handling sequences."
   ]
  },
  {
   "cell_type": "markdown",
   "id": "59c03fba-67f5-4255-a1cc-f94ec7826bd7",
   "metadata": {
    "slideshow": {
     "slide_type": "fragment"
    }
   },
   "source": [
    "### The `Seq` Object\n",
    "\n",
    "```python\n",
    "from Bio.Seq import Seq\n",
    "my_seq = Seq(\"AGTACACTGGT\")\n",
    "print(my_seq)\n",
    "print(my_seq.complement())\n",
    "print(my_seq.reverse_complement())\n",
    "```\n",
    "\n",
    "- Provides sequence manipulation methods."
   ]
  },
  {
   "cell_type": "code",
   "execution_count": 2,
   "id": "20d9b5b4-9ffb-489e-8b1b-b7747d8229c7",
   "metadata": {},
   "outputs": [
    {
     "name": "stdout",
     "output_type": "stream",
     "text": [
      "Sequence: AGTACACTGGT\n",
      "Complement: TCATGTGACCA\n",
      "Reverse Complement: ACCAGTGTACT\n"
     ]
    }
   ],
   "source": [
    "# Working with Seq object\n",
    "from Bio.Seq import Seq\n",
    "my_seq = Seq(\"AGTACACTGGT\")\n",
    "print(\"Sequence:\", my_seq)\n",
    "print(\"Complement:\", my_seq.complement())\n",
    "print(\"Reverse Complement:\", my_seq.reverse_complement())"
   ]
  },
  {
   "cell_type": "markdown",
   "id": "f05b1868-0926-4c67-865a-3a8456bd1203",
   "metadata": {
    "slideshow": {
     "slide_type": "subslide"
    }
   },
   "source": [
    "### The `SeqRecord` Object\n",
    "\n",
    "```python\n",
    "from Bio.Seq import Seq\n",
    "from Bio.SeqRecord import SeqRecord\n",
    "\n",
    "seq = Seq(\"ATGGCCATTGTAATGGGCCGCTGAAAGGGTGCCCGATAG\")\n",
    "seq_record = SeqRecord(seq, id=\"NM_000000\", description=\"Example gene\")\n",
    "print(seq_record)\n",
    "```\n",
    "\n",
    "- Holds additional metadata like ID and description."
   ]
  },
  {
   "cell_type": "code",
   "execution_count": 3,
   "id": "bc6945a9-a38a-4683-adb1-5cac63118347",
   "metadata": {},
   "outputs": [
    {
     "name": "stdout",
     "output_type": "stream",
     "text": [
      "ID: NM_000000\n",
      "Name: <unknown name>\n",
      "Description: Example gene\n",
      "Number of features: 0\n",
      "Seq('ATGGCCATTGTAATGGGCCGCTGAAAGGGTGCCCGATAG')\n"
     ]
    }
   ],
   "source": [
    "# Working with SeqRecord object\n",
    "from Bio.Seq import Seq\n",
    "from Bio.SeqRecord import SeqRecord\n",
    "\n",
    "seq = Seq(\"ATGGCCATTGTAATGGGCCGCTGAAAGGGTGCCCGATAG\")\n",
    "seq_record = SeqRecord(seq, id=\"NM_000000\", description=\"Example gene\")\n",
    "print(seq_record)"
   ]
  },
  {
   "cell_type": "markdown",
   "id": "61ab8173-03bd-4cc3-9620-40d45b91aa6b",
   "metadata": {
    "slideshow": {
     "slide_type": "slide"
    }
   },
   "source": [
    "<a id='transcription_translation'></a>\n",
    "## 6. Transcription and Translation\n",
    "\n",
    "Biopython simplifies transcription and translation processes."
   ]
  },
  {
   "cell_type": "markdown",
   "id": "01c2fef1-d27e-4ed2-87ac-9756e0ffc251",
   "metadata": {
    "slideshow": {
     "slide_type": "fragment"
    }
   },
   "source": [
    "### Transcription\n",
    "\n",
    "```python\n",
    "coding_dna = Seq(\"ATGGCCATTGTAATGGGCCGCTGAAAGGGTGCCCGATAG\")\n",
    "messenger_rna = coding_dna.transcribe()\n",
    "print(messenger_rna)\n",
    "```\n",
    "\n",
    "- Converts DNA sequence to RNA sequence."
   ]
  },
  {
   "cell_type": "code",
   "execution_count": 4,
   "id": "1e4a612f-9125-476f-a97f-d66aa505051a",
   "metadata": {},
   "outputs": [
    {
     "name": "stdout",
     "output_type": "stream",
     "text": [
      "mRNA: AUGGCCAUUGUAAUGGGCCGCUGAAAGGGUGCCCGAUAG\n"
     ]
    }
   ],
   "source": [
    "# Transcription example\n",
    "from Bio.Seq import Seq\n",
    "coding_dna = Seq(\"ATGGCCATTGTAATGGGCCGCTGAAAGGGTGCCCGATAG\")\n",
    "messenger_rna = coding_dna.transcribe()\n",
    "print(\"mRNA:\", messenger_rna)"
   ]
  },
  {
   "cell_type": "markdown",
   "id": "28b61992-0136-4fdf-bd4e-ba39da701ba4",
   "metadata": {
    "slideshow": {
     "slide_type": "fragment"
    }
   },
   "source": [
    "### Translation\n",
    "\n",
    "```python\n",
    "protein = coding_dna.translate()\n",
    "print(protein)\n",
    "```\n",
    "\n",
    "- Translates DNA or RNA sequence to protein sequence.\n",
    "- Handles start codons, stop codons, and frames."
   ]
  },
  {
   "cell_type": "code",
   "execution_count": 5,
   "id": "9eb8ed5b-0b7a-47e6-85e0-206e4bc7dce3",
   "metadata": {},
   "outputs": [
    {
     "name": "stdout",
     "output_type": "stream",
     "text": [
      "Protein: MAIVMGR*KGAR*\n"
     ]
    }
   ],
   "source": [
    "# Translation example\n",
    "protein = coding_dna.translate()\n",
    "print(\"Protein:\", protein)"
   ]
  },
  {
   "cell_type": "markdown",
   "id": "d36d9623-fffe-432a-b5ec-f61a75ff67a4",
   "metadata": {
    "slideshow": {
     "slide_type": "slide"
    }
   },
   "source": [
    "<a id='sequence_analysis'></a>\n",
    "## 7. Sequence Analysis\n",
    "\n",
    "Biopython provides tools for analyzing sequences."
   ]
  },
  {
   "cell_type": "markdown",
   "id": "17c8e5ce-ff69-4e92-ae4d-2acd5a3b5715",
   "metadata": {
    "slideshow": {
     "slide_type": "fragment"
    }
   },
   "source": [
    "### Calculating GC Content\n",
    "\n",
    "```python\n",
    "from Bio.SeqUtils import gc_fraction\n",
    "gc_content = gc_fraction(coding_dna)\n",
    "print(gc_content)\n",
    "```\n",
    "\n",
    "- Provides utility functions like `GC()`."
   ]
  },
  {
   "cell_type": "code",
   "execution_count": 10,
   "id": "7d89519b-94c4-41bf-8a9e-c6bd1f8d224a",
   "metadata": {},
   "outputs": [
    {
     "name": "stdout",
     "output_type": "stream",
     "text": [
      "GC Content: 0.5641025641025641\n"
     ]
    }
   ],
   "source": [
    "# Calculating GC Content\n",
    "from Bio.SeqUtils import gc_fraction\n",
    "gc_content = gc_fraction(coding_dna)\n",
    "print(\"GC Content:\", gc_content)"
   ]
  },
  {
   "cell_type": "markdown",
   "id": "0e6e8c5d-6c0d-4a97-b48b-e9acfb8b028c",
   "metadata": {
    "slideshow": {
     "slide_type": "subslide"
    }
   },
   "source": [
    "### Counting Nucleotides\n",
    "\n",
    "```python\n",
    "from collections import Counter\n",
    "counts = Counter(coding_dna)\n",
    "print(counts)\n",
    "```\n",
    "\n",
    "- Use Python's `Counter` for quick nucleotide counts."
   ]
  },
  {
   "cell_type": "code",
   "execution_count": 11,
   "id": "5f4a67ce-e065-4a70-ba05-c212e6e9981b",
   "metadata": {},
   "outputs": [
    {
     "name": "stdout",
     "output_type": "stream",
     "text": [
      "Nucleotide Counts: Counter({'G': 14, 'A': 9, 'T': 8, 'C': 8})\n"
     ]
    }
   ],
   "source": [
    "# Counting Nucleotides\n",
    "from collections import Counter\n",
    "counts = Counter(coding_dna)\n",
    "print(\"Nucleotide Counts:\", counts)"
   ]
  },
  {
   "cell_type": "markdown",
   "id": "2ff139bb-3baf-4292-98f8-3217e28ef69f",
   "metadata": {
    "slideshow": {
     "slide_type": "slide"
    }
   },
   "source": [
    "<a id='revisiting_exercises'></a>\n",
    "## 8. Revisiting Exercises with Biopython\n",
    "\n",
    "We'll now solve the previous exercises using Biopython."
   ]
  },
  {
   "cell_type": "markdown",
   "id": "3feed064-5751-415f-ba27-a5f64ec894a8",
   "metadata": {
    "slideshow": {
     "slide_type": "subslide"
    }
   },
   "source": [
    "### Exercise 1: Nucleotide Count and GC Content\n",
    "\n",
    "**Original Task:**\n",
    "- Create a `DNASequence` class with methods to count nucleotides and calculate GC content.\n",
    "\n",
    "**Biopython Solution:**\n",
    "- Use `Seq` object and `Counter` for counts.\n",
    "- Use `GC()` function for GC content."
   ]
  },
  {
   "cell_type": "code",
   "execution_count": 13,
   "id": "5e4af024-1ee6-4b18-9dd9-e741c6f9dda5",
   "metadata": {},
   "outputs": [
    {
     "name": "stdout",
     "output_type": "stream",
     "text": [
      "Nucleotide Counts: Counter({'A': 2, 'T': 2, 'C': 2, 'G': 2})\n",
      "GC Content: 0.5\n"
     ]
    }
   ],
   "source": [
    "# Exercise 1 Solution with Biopython\n",
    "from Bio.Seq import Seq\n",
    "from Bio.SeqUtils import gc_fraction\n",
    "from collections import Counter\n",
    "\n",
    "sequence = Seq(\"ATCGGCTA\")\n",
    "counts = Counter(sequence)\n",
    "gc_content = gc_fraction(sequence)\n",
    "\n",
    "print(\"Nucleotide Counts:\", counts)\n",
    "print(\"GC Content:\", gc_content)"
   ]
  },
  {
   "cell_type": "markdown",
   "id": "e97ca433-2818-42f5-854a-4bc89e29e37b",
   "metadata": {},
   "source": [
    "#### Explanation\n",
    "\n",
    "- **Counts:**\n",
    "  - `Counter` returns a dictionary with nucleotide counts.\n",
    "- **GC Content:**\n",
    "  - `GC()` calculates the GC percentage of the sequence."
   ]
  },
  {
   "cell_type": "markdown",
   "id": "0be22df6-9af6-4e1e-8f5e-fc9871242942",
   "metadata": {
    "slideshow": {
     "slide_type": "subslide"
    }
   },
   "source": [
    "### Exercise 2: DNA to Protein Translation\n",
    "\n",
    "**Original Task:**\n",
    "- Create a method to translate DNA sequence to protein.\n",
    "\n",
    "**Biopython Solution:**\n",
    "- Use the `translate()` method of the `Seq` object."
   ]
  },
  {
   "cell_type": "code",
   "execution_count": 4,
   "id": "61d8d1a0-c7cd-4d00-b855-4fc420e01108",
   "metadata": {},
   "outputs": [
    {
     "name": "stdout",
     "output_type": "stream",
     "text": [
      "Protein Sequence: MAVADRLDC*\n"
     ]
    }
   ],
   "source": [
    "# Exercise 2 Solution with Biopython\n",
    "from Bio.Seq import Seq\n",
    "\n",
    "sequence = Seq(\"ATGGCCGTAGCTGATCGGCTCGATTGCTAG\")\n",
    "protein = sequence.translate()\n",
    "print(\"Protein Sequence:\", protein)"
   ]
  },
  {
   "cell_type": "code",
   "execution_count": null,
   "id": "f929ad1a-0b50-4520-9c91-1a454d7c9496",
   "metadata": {},
   "outputs": [],
   "source": []
  },
  {
   "cell_type": "markdown",
   "id": "f7039d71-86e0-4927-b89e-024837e4f213",
   "metadata": {},
   "source": [
    "#### Explanation\n",
    "\n",
    "- The `translate()` method handles the translation process.\n",
    "- Automatically stops at stop codons if specified."
   ]
  },
  {
   "cell_type": "markdown",
   "id": "84d6a7f4-565b-42d4-bdc2-f1e8a1b80c4b",
   "metadata": {
    "slideshow": {
     "slide_type": "subslide"
    }
   },
   "source": [
    "### Exercise 3: Gene Expression Data\n",
    "\n",
    "**Original Task:**\n",
    "- Create classes to represent gene expression data.\n",
    "\n",
    "**Biopython Solution:**\n",
    "- Use `SeqRecord` to store sequence data along with annotations."
   ]
  },
  {
   "cell_type": "code",
   "execution_count": 15,
   "id": "6c454823-4de5-4c66-98b8-c6ee2cf85245",
   "metadata": {},
   "outputs": [
    {
     "name": "stdout",
     "output_type": "stream",
     "text": [
      "BRCA1\n",
      "Gene BRCA1 with expression level 12.5\n",
      "Sequence Length: 16\n"
     ]
    }
   ],
   "source": [
    "# Exercise 3 Solution with Biopython\n",
    "from Bio.Seq import Seq\n",
    "from Bio.SeqRecord import SeqRecord\n",
    "\n",
    "sequence = Seq(\"ATGCGTACGTAGCTAG\")\n",
    "gene = SeqRecord(sequence, id=\"BRCA1\", description=\"Gene BRCA1 with expression level 12.5\")\n",
    "\n",
    "print(gene.id)\n",
    "print(gene.description)\n",
    "print(\"Sequence Length:\", len(gene.seq))"
   ]
  },
  {
   "cell_type": "markdown",
   "id": "47c4be5c-1a04-4704-ab14-506ee4aa41d7",
   "metadata": {},
   "source": [
    "#### Explanation\n",
    "\n",
    "- **SeqRecord:**\n",
    "  - Stores sequence along with identifiers and annotations.\n",
    "- **Accessing Data:**\n",
    "  - Use attributes like `id`, `description`, and `seq`."
   ]
  },
  {
   "cell_type": "markdown",
   "id": "8f594d42-4f73-493b-aa39-b6bd39d06313",
   "metadata": {
    "slideshow": {
     "slide_type": "slide"
    }
   },
   "source": [
    "<a id='conclusion'></a>\n",
    "## 9. Conclusion\n",
    "\n",
    "In this workshop, we've:\n",
    "\n",
    "- Learned about Python modules and how to import them.\n",
    "- Explored the Biopython library and its capabilities.\n",
    "- Used Biopython to simplify bioinformatics tasks.\n",
    "- Revisited previous exercises and solved them using Biopython.\n",
    "\n",
    "**Next Steps:**\n",
    "\n",
    "- Dive deeper into Biopython's advanced features.\n",
    "- Explore other bioinformatics libraries and tools.\n",
    "- Practice by applying these concepts to your own data.\n",
    "\n",
    "---\n",
    "\n",
    "Feel free to ask any questions or share your experiences using Biopython!"
   ]
  },
  {
   "cell_type": "code",
   "execution_count": null,
   "id": "3ca94fb1-d45f-4b18-9b86-18a684179773",
   "metadata": {},
   "outputs": [],
   "source": []
  },
  {
   "cell_type": "code",
   "execution_count": null,
   "id": "fce3eb6f-6a64-49c3-843f-70dbcaa8a4ea",
   "metadata": {
    "editable": true,
    "slideshow": {
     "slide_type": ""
    },
    "tags": []
   },
   "outputs": [],
   "source": []
  }
 ],
 "metadata": {
  "kernelspec": {
   "display_name": "Python 3 (ipykernel)",
   "language": "python",
   "name": "python3"
  },
  "language_info": {
   "codemirror_mode": {
    "name": "ipython",
    "version": 3
   },
   "file_extension": ".py",
   "mimetype": "text/x-python",
   "name": "python",
   "nbconvert_exporter": "python",
   "pygments_lexer": "ipython3",
   "version": "3.12.5"
  }
 },
 "nbformat": 4,
 "nbformat_minor": 5
}
