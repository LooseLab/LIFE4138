{
 "cells": [
  {
   "cell_type": "markdown",
   "id": "a1c15cb9",
   "metadata": {},
   "source": [
    "\n",
    "# Python Workshop Exercises\n",
    "\n",
    "This notebook provides self-guided exercises to practice and reinforce the concepts from the workshop. Each exercise includes the necessary class or function illustrations so that no reference to the original workshop is needed.\n"
   ]
  },
  {
   "cell_type": "markdown",
   "id": "d6f1fa71",
   "metadata": {},
   "source": [
    "### 1. Class Creation and Attributes\n",
    "\n",
    "Understand class attributes and methods.\n",
    "\n",
    "- **Exercise:** Create a `RNASequence` class inheriting from `DNASequence`. Add methods specific to RNA, such as `reverse_transcribe()` to get a DNA sequence from RNA.\n",
    "- **Challenge:** Implement an error-handling mechanism to ensure only RNA-compatible nucleotides are allowed.\n",
    "\n",
    "**Provided Class Illustration:**\n",
    "\n",
    "```python\n",
    "class DNASequence:\n",
    "    def __init__(self, sequence):\n",
    "        self.sequence = sequence\n",
    "\n",
    "    def transcribe(self):\n",
    "        # Converts DNA to RNA sequence\n",
    "        return self.sequence.replace('T', 'U')\n",
    "```\n"
   ]
  },
  {
   "cell_type": "code",
   "execution_count": null,
   "id": "a640d014",
   "metadata": {},
   "outputs": [],
   "source": [
    "# Your code here\n"
   ]
  },
  {
   "cell_type": "markdown",
   "id": "6611c66d",
   "metadata": {},
   "source": [
    "### 2. Inheritance and Overriding Methods\n",
    "\n",
    "Practice subclassing and method overriding.\n",
    "\n",
    "- **Exercise:** Create a subclass `ProteinGene` that inherits from `ExpressionGene`. Add an attribute `protein_length` and override `__str__()` to include protein length in the output.\n",
    "- **Challenge:** Write a `calculate_molecular_weight()` method using average amino acid weights.\n",
    "\n",
    "**Provided Class Illustration:**\n",
    "\n",
    "```python\n",
    "class ExpressionGene:\n",
    "    def __init__(self, gene_id, sequence, expression_level):\n",
    "        self.gene_id = gene_id\n",
    "        self.sequence = sequence\n",
    "        self.expression_level = expression_level\n",
    "\n",
    "    def __str__(self):\n",
    "        return f\"Gene {self.gene_id} with expression level {self.expression_level}\"\n",
    "```\n"
   ]
  },
  {
   "cell_type": "code",
   "execution_count": null,
   "id": "4a3db305",
   "metadata": {},
   "outputs": [],
   "source": [
    "# Your code here\n"
   ]
  },
  {
   "cell_type": "markdown",
   "id": "663a3010",
   "metadata": {},
   "source": [
    "### 3. Working with Encapsulation\n",
    "\n",
    "Learn about public, protected, and private attributes.\n",
    "\n",
    "- **Exercise:** In the `DNASequence` class, add a protected attribute `_sequence_quality` and a private attribute `__accession_number`. Write getter and setter methods for both attributes.\n",
    "- **Challenge:** Try to access the private attribute directly from outside the class to observe the error, then modify the code to use the getter method instead.\n",
    "\n",
    "**Provided Class Illustration:**\n",
    "\n",
    "```python\n",
    "class DNASequence:\n",
    "    def __init__(self, sequence):\n",
    "        self.sequence = sequence\n",
    "        self._sequence_quality = None  # Protected attribute\n",
    "        self.__accession_number = \"ABC123\"  # Private attribute\n",
    "```\n"
   ]
  },
  {
   "cell_type": "code",
   "execution_count": null,
   "id": "6e83f456",
   "metadata": {},
   "outputs": [],
   "source": [
    "# Your code here\n"
   ]
  },
  {
   "cell_type": "markdown",
   "id": "a063b746",
   "metadata": {},
   "source": [
    "### 4. Sequence Manipulation Using Biopython\n",
    "\n",
    "Utilize Biopython for DNA sequence analysis.\n",
    "\n",
    "- **Exercise:** Write a function using Biopython's `Seq` object that accepts a DNA sequence, transcribes it to mRNA, and then translates it to a protein.\n",
    "- **Challenge:** Write a function that reads a FASTA file, extracts sequences, and calculates GC content for each.\n",
    "\n",
    "**Provided Biopython Example:**\n",
    "\n",
    "```python\n",
    "from Bio.Seq import Seq\n",
    "\n",
    "# Example of creating and manipulating a Seq object\n",
    "seq = Seq(\"ATGGCC\")\n",
    "print(\"Transcription:\", seq.transcribe())\n",
    "print(\"Translation:\", seq.translate())\n",
    "```\n"
   ]
  },
  {
   "cell_type": "code",
   "execution_count": null,
   "id": "77ecfbf8",
   "metadata": {},
   "outputs": [],
   "source": [
    "# Your code here\n"
   ]
  },
  {
   "cell_type": "markdown",
   "id": "f5ac52e0",
   "metadata": {},
   "source": [
    "### 5. Modular Code and Imports\n",
    "\n",
    "Organize code using modules.\n",
    "\n",
    "- **Exercise:** Split the class definitions and methods for DNA, RNA, and protein sequences into separate Python modules. Import these into a main script to create objects and test functionalities.\n",
    "- **Challenge:** Add unit tests for each module.\n",
    "\n",
    "**Illustration of Module Structure:**\n",
    "\n",
    "1. **dna_sequence.py**\n",
    "```python\n",
    "class DNASequence:\n",
    "    def __init__(self, sequence):\n",
    "        self.sequence = sequence\n",
    "```\n",
    "2. **main.py**\n",
    "```python\n",
    "from dna_sequence import DNASequence\n",
    "\n",
    "dna = DNASequence(\"ATCG\")\n",
    "print(dna.sequence)\n",
    "```\n"
   ]
  },
  {
   "cell_type": "code",
   "execution_count": null,
   "id": "4fbdafdc",
   "metadata": {},
   "outputs": [],
   "source": [
    "# Your code here\n"
   ]
  },
  {
   "cell_type": "markdown",
   "id": "cfdc2089",
   "metadata": {},
   "source": [
    "### 6. Nucleotide Count and GC Content\n",
    "\n",
    "Reinforce counting and analyzing sequences.\n",
    "\n",
    "- **Exercise:** Create a `count_nucleotides()` function in `DNASequence` using Python’s `Counter` to tally nucleotide occurrences. Then, add `calculate_gc_content()` using `SeqUtils`.\n",
    "- **Challenge:** Modify the GC content function to handle cases where sequences contain ambiguous nucleotides (e.g., 'N').\n",
    "\n",
    "**Provided Example for Counting Nucleotides:**\n",
    "\n",
    "```python\n",
    "from collections import Counter\n",
    "\n",
    "# Example of counting nucleotides in a sequence\n",
    "sequence = \"ATCGGCTA\"\n",
    "counts = Counter(sequence)\n",
    "print(counts)\n",
    "```\n"
   ]
  },
  {
   "cell_type": "code",
   "execution_count": null,
   "id": "3c0e9870",
   "metadata": {},
   "outputs": [],
   "source": [
    "# Your code here\n"
   ]
  },
  {
   "cell_type": "markdown",
   "id": "7d2a3b0d",
   "metadata": {},
   "source": [
    "### 7. Advanced Sequence Translation\n",
    "\n",
    "Understand translation and stop codon handling.\n",
    "\n",
    "- **Exercise:** Implement a method that takes a nucleotide sequence and outputs the translated protein sequence, stopping at the first stop codon.\n",
    "- **Challenge:** Modify the method to handle non-standard start codons and alternative translation tables.\n",
    "\n",
    "**Biopython Translation Example:**\n",
    "\n",
    "```python\n",
    "from Bio.Seq import Seq\n",
    "\n",
    "# Translating a DNA sequence into a protein\n",
    "seq = Seq(\"ATGGCC\")\n",
    "protein = seq.translate()\n",
    "print(protein)\n",
    "```\n"
   ]
  },
  {
   "cell_type": "code",
   "execution_count": null,
   "id": "975a8046",
   "metadata": {},
   "outputs": [],
   "source": [
    "# Your code here\n"
   ]
  },
  {
   "cell_type": "markdown",
   "id": "7d2c08dd",
   "metadata": {},
   "source": [
    "### 8. Creating and Manipulating `SeqRecord` Objects\n",
    "\n",
    "Work with metadata in sequences.\n",
    "\n",
    "- **Exercise:** Create a `SeqRecord` for a gene with attributes for gene ID, sequence, and organism. Print out a well-formatted report of the record.\n",
    "- **Challenge:** Write a function that reads multiple `SeqRecord` objects from a GenBank file and prints a summary.\n",
    "\n",
    "**Provided Example with `SeqRecord`:**\n",
    "\n",
    "```python\n",
    "from Bio.Seq import Seq\n",
    "from Bio.SeqRecord import SeqRecord\n",
    "\n",
    "# Creating a SeqRecord object\n",
    "record = SeqRecord(Seq(\"ATGGCC\"), id=\"GeneID\", description=\"Example Gene\")\n",
    "print(record)\n",
    "```\n"
   ]
  },
  {
   "cell_type": "code",
   "execution_count": null,
   "id": "69f9e841",
   "metadata": {},
   "outputs": [],
   "source": [
    "# Your code here\n"
   ]
  },
  {
   "cell_type": "markdown",
   "id": "e6c0b630",
   "metadata": {},
   "source": [
    "### 9. GC Content and Codon Usage Analysis\n",
    "\n",
    "Apply sequence analysis skills.\n",
    "\n",
    "- **Exercise:** Write a `GeneAnalysis` class with methods to calculate GC content, nucleotide frequencies, and codon usage from a `DNASequence`.\n",
    "- **Challenge:** Compare codon usage between two different gene sequences.\n",
    "\n",
    "**Provided GC Content Example with Biopython:**\n",
    "\n",
    "```python\n",
    "from Bio.SeqUtils import gc_fraction\n",
    "\n",
    "# Calculate GC content\n",
    "sequence = \"ATGGCC\"\n",
    "gc_content = gc_fraction(sequence)\n",
    "print(\"GC Content:\", gc_content)\n",
    "```\n"
   ]
  },
  {
   "cell_type": "code",
   "execution_count": null,
   "id": "7276fc06",
   "metadata": {},
   "outputs": [],
   "source": [
    "# Your code here\n"
   ]
  },
  {
   "cell_type": "markdown",
   "id": "fa0f783d",
   "metadata": {},
   "source": [
    "### 10. Data Input/Output with Biopython\n",
    "\n",
    "Practice sequence file handling.\n",
    "\n",
    "- **Exercise:** Write a script to read a FASTA file, calculate nucleotide counts for each sequence, and output results to a CSV file.\n",
    "- **Challenge:** Implement the script to work with multiple file formats (e.g., GenBank) using Biopython’s input/output functionalities.\n",
    "\n",
    "**Provided Example for Reading FASTA with Biopython:**\n",
    "\n",
    "```python\n",
    "from Bio import SeqIO\n",
    "\n",
    "# Reading a FASTA file\n",
    "for record in SeqIO.parse(\"example.fasta\", \"fasta\"):\n",
    "    print(record.id, record.seq)\n",
    "```\n"
   ]
  },
  {
   "cell_type": "code",
   "execution_count": null,
   "id": "aa89f157",
   "metadata": {},
   "outputs": [],
   "source": [
    "# Your code here\n"
   ]
  }
 ],
 "metadata": {},
 "nbformat": 4,
 "nbformat_minor": 5
}
