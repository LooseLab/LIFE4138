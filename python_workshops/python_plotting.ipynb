{
 "cells": [
  {
   "cell_type": "markdown",
   "id": "introduction",
   "metadata": {
    "editable": true,
    "slideshow": {
     "slide_type": "slide"
    },
    "tags": []
   },
   "source": [
    "# Data Visualization with Pandas, Matplotlib, and Seaborn in Biology\n",
    "\n",
    "Welcome to this workshop! In this session, we'll explore how to use **Pandas** for data manipulation and **Matplotlib**/**Seaborn** for plotting biological data. We'll cover:\n",
    "\n",
    "- Loading and exploring biological datasets\n",
    "- Data manipulation with Pandas\n",
    "- Creating visualizations with Matplotlib\n",
    "- Enhancing plots with Seaborn\n",
    "\n"
   ]
  },
  {
   "cell_type": "markdown",
   "id": "49306ad6-ac4c-4a2c-8a40-603f4b14d24c",
   "metadata": {
    "editable": true,
    "slideshow": {
     "slide_type": "slide"
    },
    "tags": []
   },
   "source": [
    "## Table of Contents\n",
    "\n",
    "1. [Introduction](#introduction)\n",
    "2. [Loading Biological Data](#loading_data)\n",
    "3. [Data Exploration with Pandas](#data_exploration)\n",
    "4. [Visualizations with Matplotlib](#matplotlib_visualizations)\n",
    "5. [Advanced Visualizations with Seaborn](#seaborn_visualizations)\n",
    "6. [Case Study: Gene Expression Data](#case_study)\n",
    "7. [Conclusion](#conclusion)\n",
    "\n",
    "---"
   ]
  },
  {
   "cell_type": "markdown",
   "id": "loading_data",
   "metadata": {
    "editable": true,
    "slideshow": {
     "slide_type": "slide"
    },
    "tags": []
   },
   "source": [
    "<a id='loading_data'></a>\n",
    "## 1. Loading Biological Data\n",
    "\n",
    "We'll begin by loading some example biological data into Pandas DataFrames."
   ]
  },
  {
   "cell_type": "markdown",
   "id": "dataset_description",
   "metadata": {
    "editable": true,
    "slideshow": {
     "slide_type": "fragment"
    },
    "tags": []
   },
   "source": [
    "### Dataset: Iris Flower Dataset\n",
    "\n",
    "- Famous dataset in biology for classification.\n",
    "- Contains measurements of sepal length, sepal width, petal length, petal width for three species of Iris."
   ]
  },
  {
   "cell_type": "code",
   "execution_count": null,
   "id": "load_data_code",
   "metadata": {
    "editable": true,
    "slideshow": {
     "slide_type": ""
    },
    "tags": []
   },
   "outputs": [],
   "source": [
    "# Import necessary libraries\n",
    "import pandas as pd\n",
    "\n",
    "# Load the Iris dataset from a URL\n",
    "url = \"https://raw.githubusercontent.com/mwaskom/seaborn-data/master/iris.csv\"\n",
    "iris = pd.read_csv(url)\n",
    "\n",
    "# Display the first few rows\n",
    "iris.head()"
   ]
  },
  {
   "cell_type": "code",
   "execution_count": null,
   "id": "b0136354-e8d4-406b-adfd-638c2c35159f",
   "metadata": {
    "editable": true,
    "slideshow": {
     "slide_type": ""
    },
    "tags": []
   },
   "outputs": [],
   "source": []
  },
  {
   "cell_type": "markdown",
   "id": "data_exploration",
   "metadata": {
    "editable": true,
    "slideshow": {
     "slide_type": "slide"
    },
    "tags": []
   },
   "source": [
    "<a id='data_exploration'></a>\n",
    "## 2. Data Exploration with Pandas\n",
    "\n",
    "Let's explore the dataset using Pandas."
   ]
  },
  {
   "cell_type": "code",
   "execution_count": null,
   "id": "data_info_code",
   "metadata": {
    "editable": true,
    "slideshow": {
     "slide_type": ""
    },
    "tags": []
   },
   "outputs": [],
   "source": [
    "# Get basic information about the dataset\n",
    "iris.info()"
   ]
  },
  {
   "cell_type": "code",
   "execution_count": null,
   "id": "data_statistics_code",
   "metadata": {
    "editable": true,
    "slideshow": {
     "slide_type": ""
    },
    "tags": []
   },
   "outputs": [],
   "source": [
    "# Get statistical summary\n",
    "iris.describe()"
   ]
  },
  {
   "cell_type": "code",
   "execution_count": null,
   "id": "430d5467-171b-4e88-8103-cef5c36ea0a0",
   "metadata": {
    "editable": true,
    "slideshow": {
     "slide_type": ""
    },
    "tags": []
   },
   "outputs": [],
   "source": []
  },
  {
   "cell_type": "markdown",
   "id": "species_counts",
   "metadata": {
    "editable": true,
    "slideshow": {
     "slide_type": "slide"
    },
    "tags": []
   },
   "source": [
    "### Distribution of Species\n",
    "\n",
    "```python\n",
    "iris['species'].value_counts()\n",
    "```"
   ]
  },
  {
   "cell_type": "code",
   "execution_count": null,
   "id": "species_counts_code",
   "metadata": {
    "editable": true,
    "slideshow": {
     "slide_type": ""
    },
    "tags": []
   },
   "outputs": [],
   "source": [
    "# Get counts of each species\n",
    "iris['species'].value_counts()"
   ]
  },
  {
   "cell_type": "code",
   "execution_count": null,
   "id": "7921dea5-78b3-4944-b1ef-e0a97a837ded",
   "metadata": {
    "editable": true,
    "slideshow": {
     "slide_type": ""
    },
    "tags": []
   },
   "outputs": [],
   "source": []
  },
  {
   "cell_type": "markdown",
   "id": "matplotlib_visualizations",
   "metadata": {
    "editable": true,
    "slideshow": {
     "slide_type": "slide"
    },
    "tags": []
   },
   "source": [
    "<a id='matplotlib_visualizations'></a>\n",
    "## 3. Visualizations with Matplotlib\n",
    "\n",
    "We'll create basic plots using Matplotlib."
   ]
  },
  {
   "cell_type": "code",
   "execution_count": null,
   "id": "matplotlib_import",
   "metadata": {
    "editable": true,
    "slideshow": {
     "slide_type": ""
    },
    "tags": []
   },
   "outputs": [],
   "source": [
    "# Import Matplotlib\n",
    "import matplotlib.pyplot as plt\n",
    "%matplotlib inline  "
   ]
  },
  {
   "cell_type": "markdown",
   "id": "histogram_plot",
   "metadata": {
    "editable": true,
    "slideshow": {
     "slide_type": "subslide"
    },
    "tags": []
   },
   "source": [
    "### Histogram of Sepal Length\n",
    "\n",
    "```python\n",
    "plt.hist(iris['sepal_length'], bins=15, color='green')\n",
    "plt.xlabel('Sepal Length (cm)')\n",
    "plt.ylabel('Frequency')\n",
    "plt.title('Histogram of Sepal Length')\n",
    "plt.show()\n",
    "```"
   ]
  },
  {
   "cell_type": "code",
   "execution_count": null,
   "id": "histogram_code",
   "metadata": {
    "editable": true,
    "slideshow": {
     "slide_type": ""
    },
    "tags": []
   },
   "outputs": [],
   "source": [
    "# Histogram of Sepal Length\n",
    "plt.hist(iris['sepal_length'], bins=15, color='green')\n",
    "plt.xlabel('Sepal Length (cm)')\n",
    "plt.ylabel('Frequency')\n",
    "plt.title('Histogram of Sepal Length')\n",
    "plt.show()"
   ]
  },
  {
   "cell_type": "code",
   "execution_count": null,
   "id": "81eada8c-dae0-43db-971d-00ee339d9d05",
   "metadata": {
    "editable": true,
    "slideshow": {
     "slide_type": ""
    },
    "tags": []
   },
   "outputs": [],
   "source": []
  },
  {
   "cell_type": "markdown",
   "id": "scatter_plot",
   "metadata": {
    "editable": true,
    "slideshow": {
     "slide_type": "subslide"
    },
    "tags": []
   },
   "source": [
    "### Scatter Plot of Sepal Length vs. Petal Length\n",
    "\n",
    "```python\n",
    "plt.scatter(iris['sepal_length'], iris['petal_length'], color='blue')\n",
    "plt.xlabel('Sepal Length (cm)')\n",
    "plt.ylabel('Petal Length (cm)')\n",
    "plt.title('Sepal Length vs. Petal Length')\n",
    "plt.show()\n",
    "```"
   ]
  },
  {
   "cell_type": "code",
   "execution_count": null,
   "id": "scatter_code",
   "metadata": {
    "editable": true,
    "slideshow": {
     "slide_type": ""
    },
    "tags": []
   },
   "outputs": [],
   "source": [
    "# Scatter Plot of Sepal Length vs. Petal Length\n",
    "plt.scatter(iris['sepal_length'], iris['petal_length'], color='blue')\n",
    "plt.xlabel('Sepal Length (cm)')\n",
    "plt.ylabel('Petal Length (cm)')\n",
    "plt.title('Sepal Length vs. Petal Length')\n",
    "plt.show()"
   ]
  },
  {
   "cell_type": "code",
   "execution_count": null,
   "id": "504b7f7c-caac-4b1a-89bb-52224af21bf8",
   "metadata": {
    "editable": true,
    "slideshow": {
     "slide_type": ""
    },
    "tags": []
   },
   "outputs": [],
   "source": []
  },
  {
   "cell_type": "markdown",
   "id": "seaborn_visualizations",
   "metadata": {
    "editable": true,
    "slideshow": {
     "slide_type": "slide"
    },
    "tags": []
   },
   "source": [
    "<a id='seaborn_visualizations'></a>\n",
    "## 4. Advanced Visualizations with Seaborn\n",
    "\n",
    "Seaborn builds on Matplotlib and provides a high-level interface for statistical graphics."
   ]
  },
  {
   "cell_type": "code",
   "execution_count": null,
   "id": "seaborn_import",
   "metadata": {},
   "outputs": [],
   "source": [
    "# Import Seaborn\n",
    "import seaborn as sns\n",
    "sns.set(style='whitegrid')"
   ]
  },
  {
   "cell_type": "markdown",
   "id": "boxplot",
   "metadata": {
    "editable": true,
    "slideshow": {
     "slide_type": "subslide"
    },
    "tags": []
   },
   "source": [
    "### Boxplot of Sepal Length by Species\n",
    "\n",
    "```python\n",
    "sns.boxplot(x='species', y='sepal_length', data=iris)\n",
    "plt.title('Sepal Length by Species')\n",
    "plt.show()\n",
    "```"
   ]
  },
  {
   "cell_type": "code",
   "execution_count": null,
   "id": "boxplot_code",
   "metadata": {
    "editable": true,
    "slideshow": {
     "slide_type": ""
    },
    "tags": []
   },
   "outputs": [],
   "source": [
    "# Boxplot of Sepal Length by Species\n",
    "sns.boxplot(x='species', y='sepal_length', data=iris)\n",
    "plt.title('Sepal Length by Species')\n",
    "plt.show()"
   ]
  },
  {
   "cell_type": "code",
   "execution_count": null,
   "id": "7c1098d2-aa69-4a22-b63b-af412647ef03",
   "metadata": {
    "editable": true,
    "slideshow": {
     "slide_type": ""
    },
    "tags": []
   },
   "outputs": [],
   "source": []
  },
  {
   "cell_type": "markdown",
   "id": "pairplot",
   "metadata": {
    "editable": true,
    "slideshow": {
     "slide_type": "subslide"
    },
    "tags": []
   },
   "source": [
    "### Pairplot of All Variables\n",
    "\n",
    "```python\n",
    "sns.pairplot(iris, hue='species')\n",
    "plt.show()\n",
    "```"
   ]
  },
  {
   "cell_type": "code",
   "execution_count": null,
   "id": "pairplot_code",
   "metadata": {
    "editable": true,
    "slideshow": {
     "slide_type": ""
    },
    "tags": []
   },
   "outputs": [],
   "source": [
    "# Pairplot of All Variables\n",
    "sns.pairplot(iris, hue='species')\n",
    "plt.show()"
   ]
  },
  {
   "cell_type": "code",
   "execution_count": null,
   "id": "d9e86038-88f6-4147-a19e-18cfbe239ad7",
   "metadata": {
    "editable": true,
    "slideshow": {
     "slide_type": ""
    },
    "tags": []
   },
   "outputs": [],
   "source": []
  },
  {
   "cell_type": "markdown",
   "id": "violinplot",
   "metadata": {
    "editable": true,
    "slideshow": {
     "slide_type": "subslide"
    },
    "tags": []
   },
   "source": [
    "### Violin Plot of Petal Length by Species\n",
    "\n",
    "```python\n",
    "sns.violinplot(x='species', y='petal_length', data=iris, inner='quartile')\n",
    "plt.title('Petal Length Distribution by Species')\n",
    "plt.show()\n",
    "```"
   ]
  },
  {
   "cell_type": "code",
   "execution_count": null,
   "id": "violinplot_code",
   "metadata": {
    "editable": true,
    "slideshow": {
     "slide_type": ""
    },
    "tags": []
   },
   "outputs": [],
   "source": [
    "# Violin Plot of Petal Length by Species\n",
    "sns.violinplot(x='species', y='petal_length', data=iris, inner='quartile')\n",
    "plt.title('Petal Length Distribution by Species')\n",
    "plt.show()"
   ]
  },
  {
   "cell_type": "code",
   "execution_count": null,
   "id": "a4f48a56-3ba8-47f4-8f6b-0c319e4b585f",
   "metadata": {
    "editable": true,
    "slideshow": {
     "slide_type": ""
    },
    "tags": []
   },
   "outputs": [],
   "source": []
  },
  {
   "cell_type": "markdown",
   "id": "case_study",
   "metadata": {
    "editable": true,
    "slideshow": {
     "slide_type": "slide"
    },
    "tags": []
   },
   "source": [
    "<a id='case_study'></a>\n",
    "## 5. Case Study: Gene Expression Data\n",
    "\n",
    "We'll apply these techniques to a gene expression dataset."
   ]
  },
  {
   "cell_type": "markdown",
   "id": "gene_expression_data",
   "metadata": {
    "editable": true,
    "slideshow": {
     "slide_type": "fragment"
    },
    "tags": []
   },
   "source": [
    "### Dataset: Differential Gene Expression\n",
    "\n",
    "- Contains expression levels of genes under different conditions.\n",
    "- Example data is generated for demonstration."
   ]
  },
  {
   "cell_type": "code",
   "execution_count": null,
   "id": "load_gene_expression",
   "metadata": {
    "editable": true,
    "slideshow": {
     "slide_type": ""
    },
    "tags": []
   },
   "outputs": [],
   "source": [
    "# Generate sample gene expression data\n",
    "import numpy as np\n",
    "\n",
    "np.random.seed(0)\n",
    "genes = [f'Gene_{i}' for i in range(1, 101)]\n",
    "conditions = ['Control', 'Treatment']\n",
    "\n",
    "data = {\n",
    "    'gene': np.repeat(genes, len(conditions)),\n",
    "    'condition': conditions * len(genes),\n",
    "    'expression': np.random.randn(len(genes) * len(conditions)) + 5\n",
    "}\n",
    "\n",
    "gene_expression = pd.DataFrame(data)\n",
    "\n",
    "# Display the first few rows\n",
    "gene_expression.head()"
   ]
  },
  {
   "cell_type": "code",
   "execution_count": null,
   "id": "597bb9ad-f18e-44de-b14a-149d71b54cd3",
   "metadata": {
    "editable": true,
    "slideshow": {
     "slide_type": ""
    },
    "tags": []
   },
   "outputs": [],
   "source": []
  },
  {
   "cell_type": "markdown",
   "id": "gene_expression_visualization",
   "metadata": {
    "editable": true,
    "slideshow": {
     "slide_type": "slide"
    },
    "tags": []
   },
   "source": [
    "### Visualize Expression Levels\n",
    "\n",
    "```python\n",
    "# Boxplot of Expression Levels\n",
    "sns.boxplot(x='condition', y='expression', data=gene_expression)\n",
    "plt.title('Gene Expression Levels')\n",
    "plt.show()\n",
    "```\n",
    "\n",
    "```python\n",
    "# Violin Plot\n",
    "sns.violinplot(x='condition', y='expression', data=gene_expression, inner='quartile')\n",
    "plt.title('Gene Expression Distribution')\n",
    "plt.show()\n",
    "```\n",
    "\n",
    "```python\n",
    "# Swarm Plot for a Subset of Genes\n",
    "subset = gene_expression[gene_expression['gene'].isin(['Gene_1', 'Gene_2', 'Gene_3'])]\n",
    "sns.swarmplot(x='gene', y='expression', hue='condition', data=subset)\n",
    "plt.title('Expression Levels of Selected Genes')\n",
    "plt.show()\n",
    "```"
   ]
  },
  {
   "cell_type": "code",
   "execution_count": null,
   "id": "boxplot_gene_expression",
   "metadata": {
    "editable": true,
    "slideshow": {
     "slide_type": "subslide"
    },
    "tags": []
   },
   "outputs": [],
   "source": [
    "# Boxplot of Expression Levels\n",
    "sns.boxplot(x='condition', y='expression', data=gene_expression)\n",
    "plt.title('Gene Expression Levels')\n",
    "plt.show()"
   ]
  },
  {
   "cell_type": "code",
   "execution_count": null,
   "id": "bbf1e15a-bbd1-4903-a0da-81eb907ffa45",
   "metadata": {
    "editable": true,
    "slideshow": {
     "slide_type": ""
    },
    "tags": []
   },
   "outputs": [],
   "source": []
  },
  {
   "cell_type": "code",
   "execution_count": null,
   "id": "violinplot_gene_expression",
   "metadata": {
    "editable": true,
    "slideshow": {
     "slide_type": "subslide"
    },
    "tags": []
   },
   "outputs": [],
   "source": [
    "# Violin Plot\n",
    "sns.violinplot(x='condition', y='expression', data=gene_expression, inner='quartile')\n",
    "plt.title('Gene Expression Distribution')\n",
    "plt.show()"
   ]
  },
  {
   "cell_type": "code",
   "execution_count": null,
   "id": "c5c93d79-6bb5-4a23-a3e4-00e1a5905261",
   "metadata": {
    "editable": true,
    "slideshow": {
     "slide_type": ""
    },
    "tags": []
   },
   "outputs": [],
   "source": []
  },
  {
   "cell_type": "code",
   "execution_count": null,
   "id": "swarmplot_gene_expression",
   "metadata": {
    "editable": true,
    "slideshow": {
     "slide_type": "subslide"
    },
    "tags": []
   },
   "outputs": [],
   "source": [
    "# Swarm Plot for a Subset of Genes\n",
    "subset = gene_expression[gene_expression['gene'].isin(['Gene_1', 'Gene_2', 'Gene_3'])]\n",
    "sns.swarmplot(x='gene', y='expression', hue='condition', data=subset)\n",
    "plt.title('Expression Levels of Selected Genes')\n",
    "plt.show()"
   ]
  },
  {
   "cell_type": "code",
   "execution_count": null,
   "id": "3a9d3f76-f308-4176-81e8-ce527e1f9489",
   "metadata": {
    "editable": true,
    "slideshow": {
     "slide_type": ""
    },
    "tags": []
   },
   "outputs": [],
   "source": []
  },
  {
   "cell_type": "markdown",
   "id": "conclusion",
   "metadata": {
    "editable": true,
    "slideshow": {
     "slide_type": "slide"
    },
    "tags": []
   },
   "source": [
    "<a id='conclusion'></a>\n",
    "## 6. Conclusion\n",
    "\n",
    "We've:\n",
    "\n",
    "- Learned how to load and explore biological datasets using Pandas.\n",
    "- Created basic visualizations using Matplotlib.\n",
    "- Enhanced our plots with Seaborn for statistical graphics.\n",
    "- Applied these techniques to a gene expression dataset.\n",
    "\n",
    "**Next Steps:**\n",
    "\n",
    "- Practice with your own biological datasets.\n",
    "- Explore more advanced plotting techniques in Seaborn and Matplotlib.\n",
    "- Combine multiple plots to create comprehensive figures for publications.\n",
    "\n",
    "---"
   ]
  },
  {
   "cell_type": "code",
   "execution_count": null,
   "id": "60e3a416-cc59-4fda-a83a-f31cdef58ff3",
   "metadata": {
    "editable": true,
    "slideshow": {
     "slide_type": ""
    },
    "tags": []
   },
   "outputs": [],
   "source": []
  },
  {
   "cell_type": "markdown",
   "id": "c4e28998-3ec7-494c-982b-3fcee6194f97",
   "metadata": {
    "editable": true,
    "slideshow": {
     "slide_type": "slide"
    },
    "tags": []
   },
   "source": [
    "# File Handling in Bioinformatics\n",
    "\n"
   ]
  },
  {
   "cell_type": "markdown",
   "id": "e4fce5fe-8e51-4322-8503-8df641fc9224",
   "metadata": {},
   "source": [
    "## Introduction to File Handling\n"
   ]
  },
  {
   "cell_type": "markdown",
   "id": "0e1751f7-33a1-4fa7-b18b-281989b43b66",
   "metadata": {},
   "source": [
    "- Bioinformatics data is often stored in text formats (FASTA, CSV, TSV).\n"
   ]
  },
  {
   "cell_type": "markdown",
   "id": "2eced0d5-0753-4a77-963e-e6cb5a3ed600",
   "metadata": {},
   "source": [
    "- Reading and writing files to process genomic and protein sequences.\n",
    "\n"
   ]
  },
  {
   "cell_type": "markdown",
   "id": "6b9d6113-37b6-4d2f-bc0b-a530be19b250",
   "metadata": {
    "editable": true,
    "slideshow": {
     "slide_type": "slide"
    },
    "tags": []
   },
   "source": [
    "## Reading FASTA Files\n"
   ]
  },
  {
   "cell_type": "markdown",
   "id": "5b7bdac5-fb49-4ad8-a66f-f25e9cbf9728",
   "metadata": {},
   "source": [
    "- Example of reading a FASTA file format for DNA sequences (but don't forget biopython!).\n"
   ]
  },
  {
   "cell_type": "markdown",
   "id": "92524ce9-371e-472c-9283-75928592f798",
   "metadata": {},
   "source": [
    "```python\n",
    "def read_fasta(filename):\n",
    "    with open(filename, 'r') as file:\n",
    "        sequences = {}\n",
    "        current_seq = ''\n",
    "        for line in file:\n",
    "            if line.startswith('>'):\n",
    "                if current_seq:\n",
    "                    sequences[header] = current_seq\n",
    "                    current_seq = ''\n",
    "                header = line[1:].strip()\n",
    "            else:\n",
    "                current_seq += line.strip()\n",
    "        if current_seq:\n",
    "            sequences[header] = current_seq\n",
    "    return sequences\n",
    "print(read_fasta('example.fasta'))\n",
    "\n",
    "```\n",
    "\n",
    "\n"
   ]
  },
  {
   "cell_type": "markdown",
   "id": "e80e9959-3a6a-4a5c-b680-6219b7240f35",
   "metadata": {
    "editable": true,
    "slideshow": {
     "slide_type": "slide"
    },
    "tags": []
   },
   "source": [
    "## Writing Processed Data to CSV\n"
   ]
  },
  {
   "cell_type": "markdown",
   "id": "40666e3d-f7d8-4d03-ae95-0a2e9ccf36b8",
   "metadata": {},
   "source": [
    "- Saving processed gene expression data to CSV for analysis.\n"
   ]
  },
  {
   "cell_type": "markdown",
   "id": "4af17cac-c6f6-466e-9e86-8159f861c6e5",
   "metadata": {},
   "source": [
    "```python\n",
    "import csv\n",
    "\n",
    "# Sample data\n",
    "genes = [{'gene': 'BRCA1', 'expression': 2.5}, {'gene': 'TP53', 'expression': 3.1}]\n",
    "\n",
    "# Writing to CSV\n",
    "with open('gene_expression.csv', 'w', newline='') as csvfile:\n",
    "    fieldnames = ['gene', 'expression']\n",
    "    writer = csv.DictWriter(csvfile, fieldnames=fieldnames)\n",
    "    writer.writeheader()\n",
    "    for gene in genes:\n",
    "        writer.writerow(gene)\n",
    "```\n"
   ]
  },
  {
   "cell_type": "code",
   "execution_count": null,
   "id": "6d2bb48f-73d4-400a-885b-7cfe520ec0ad",
   "metadata": {},
   "outputs": [],
   "source": []
  },
  {
   "cell_type": "code",
   "execution_count": null,
   "id": "ef9b6e6d-0627-416c-ba0f-3f7157638da6",
   "metadata": {},
   "outputs": [],
   "source": []
  },
  {
   "cell_type": "markdown",
   "id": "d273b16f-895f-4294-b466-f55ec1b3b5da",
   "metadata": {
    "editable": true,
    "slideshow": {
     "slide_type": "slide"
    },
    "tags": []
   },
   "source": [
    "# Exception Handling in Bioinformatics\n",
    "\n"
   ]
  },
  {
   "cell_type": "markdown",
   "id": "304f5caa-3c53-4920-8887-d2ad2444c16f",
   "metadata": {},
   "source": [
    "## Importance of Exception Handling in Bioinformatics\n"
   ]
  },
  {
   "cell_type": "markdown",
   "id": "49c92ca7-1b32-46e7-94c7-7f75d30f5e32",
   "metadata": {},
   "source": [
    "- Bioinformatics data can contain errors or missing values.\n"
   ]
  },
  {
   "cell_type": "markdown",
   "id": "80916e56-f93b-4bb4-bcf1-65043a3d1c87",
   "metadata": {},
   "source": [
    "- Handling these cases gracefully is essential.\n",
    "\n"
   ]
  },
  {
   "cell_type": "markdown",
   "id": "ef6c5bd1-e076-4875-a72e-d97b1d1bfe11",
   "metadata": {
    "editable": true,
    "slideshow": {
     "slide_type": "slide"
    },
    "tags": []
   },
   "source": [
    "## Handling File Not Found and Format Errors\n"
   ]
  },
  {
   "cell_type": "markdown",
   "id": "5dbb9f1b-df2c-4917-8f58-1fd4741a75c5",
   "metadata": {},
   "source": [
    "- Using `try`, `except` to handle file-related errors in data loading.\n"
   ]
  },
  {
   "cell_type": "markdown",
   "id": "a8419b9e-0767-41c4-844a-3be2c0620202",
   "metadata": {},
   "source": [
    "### Example:\n"
   ]
  },
  {
   "cell_type": "markdown",
   "id": "3af4daf7-5d75-44d0-9ad4-43283401cc96",
   "metadata": {},
   "source": [
    "```python\n",
    "try:\n",
    "    with open('missing_file.fasta', 'r') as file:\n",
    "        data = file.read()\n",
    "except FileNotFoundError:\n",
    "    print('File not found. Please check the file path.')\n",
    "```\n"
   ]
  },
  {
   "cell_type": "markdown",
   "id": "8d8eb1ee-bcb8-4269-83a9-e56db1005190",
   "metadata": {
    "editable": true,
    "slideshow": {
     "slide_type": "slide"
    },
    "tags": []
   },
   "source": [
    "## Handling Data Type and Missing Value Errors\n"
   ]
  },
  {
   "cell_type": "markdown",
   "id": "052a41f8-5528-4067-a9df-64fa8d81d4ac",
   "metadata": {},
   "source": [
    "- Catching errors in numeric data conversion for gene expression data.\n"
   ]
  },
  {
   "cell_type": "markdown",
   "id": "9fd9a580-8529-43ea-8706-db4232adf3ad",
   "metadata": {},
   "source": [
    "```python\n",
    "data = ['3.1', '4.5', 'nan', '5.2']  # Example dataset\n",
    "expression_values = []\n",
    "\n",
    "for val in data:\n",
    "    try:\n",
    "        expression_values.append(float(val))\n",
    "    except ValueError:\n",
    "        print(f'Skipping invalid data point: {val}')\n",
    "\n",
    "print('Processed values:', expression_values)\n",
    "```\n"
   ]
  },
  {
   "cell_type": "code",
   "execution_count": null,
   "id": "90e4f94f-87bb-4a27-b628-93c76788ba42",
   "metadata": {},
   "outputs": [],
   "source": []
  },
  {
   "cell_type": "markdown",
   "id": "37585c4f-a9b1-428d-aa19-dbe2370119c7",
   "metadata": {
    "editable": true,
    "slideshow": {
     "slide_type": "slide"
    },
    "tags": []
   },
   "source": [
    "# Writing Stand-Alone Python Scripts: Best Practices\n",
    "\n",
    "In this session, we'll cover:\n",
    "\n",
    "- Writing stand-alone Python scripts\n",
    "- Importance of code comments and documentation\n",
    "- Significance of whitespace in Python coding\n",
    "\n",
    "## Table of Contents\n",
    "\n",
    "1. [Introduction](#introduction)\n",
    "2. [Writing Stand-Alone Scripts](#writing_scripts)\n",
    "3. [Importance of Comments](#importance_comments)\n",
    "4. [Best Practices for Commenting Code](#commenting_best_practices)\n",
    "5. [Whitespace in Python](#whitespace_python)\n",
    "6. [Examples and Exercises](#examples_exercises)\n",
    "7. [Conclusion](#conclusion)\n",
    "\n",
    "---"
   ]
  },
  {
   "cell_type": "markdown",
   "id": "fb771a08-9cff-446f-ab22-679029a09174",
   "metadata": {
    "editable": true,
    "slideshow": {
     "slide_type": "slide"
    },
    "tags": []
   },
   "source": [
    "<a id='writing_scripts'></a>\n",
    "## 1. Writing Stand-Alone Scripts\n",
    "\n",
    "### What is a Stand-Alone Script?\n",
    "\n",
    "- A Python script that can be executed directly from the command line.\n",
    "- Contains code that runs when the script is executed.\n",
    "- Often includes a `main()` function and the `if __name__ == \"__main__\":` idiom."
   ]
  },
  {
   "cell_type": "markdown",
   "id": "7322231c-f626-454e-b707-a0b4fa2e6b01",
   "metadata": {
    "slideshow": {
     "slide_type": "subslide"
    }
   },
   "source": [
    "### Basic Structure of a Stand-Alone Script\n",
    "\n",
    "```python\n",
    "#!/usr/bin/env python3\n",
    "\n",
    "def main():\n",
    "    # Your code here\n",
    "    pass\n",
    "\n",
    "if __name__ == \"__main__\":\n",
    "    main()\n",
    "```\n",
    "\n",
    "- The shebang (`#!/usr/bin/env python3`) allows the script to be executed as a program.\n",
    "- The `main()` function contains the code to be executed.\n",
    "- The `if __name__ == \"__main__\":` block ensures `main()` runs when the script is executed directly."
   ]
  },
  {
   "cell_type": "markdown",
   "id": "31266343-6a49-4204-b3cd-5671aee6fd99",
   "metadata": {
    "slideshow": {
     "slide_type": "fragment"
    }
   },
   "source": [
    "### Example: Hello World Script\n",
    "\n",
    "```python\n",
    "#!/usr/bin/env python3\n",
    "\n",
    "def main():\n",
    "    print(\"Hello, World!\")\n",
    "\n",
    "if __name__ == \"__main__\":\n",
    "    main()\n",
    "```\n",
    "\n",
    "- Save this code in a file named `hello_world.py`.\n",
    "- Make it executable: `chmod +x hello_world.py`\n",
    "- Run it from the command line: `./hello_world.py`"
   ]
  },
  {
   "cell_type": "markdown",
   "id": "f6c12bf4-ab9c-4f10-acf5-5b458e2e57d0",
   "metadata": {
    "slideshow": {
     "slide_type": "slide"
    }
   },
   "source": [
    "<a id='importance_comments'></a>\n",
    "## 2. Importance of Comments\n",
    "\n",
    "### Why Comment Your Code?\n",
    "\n",
    "- **Readability**: Helps others (and yourself) understand the code.\n",
    "- **Maintainability**: Easier to update and modify code in the future.\n",
    "- **Collaboration**: Facilitates teamwork by explaining code logic.\n",
    "- **Documentation**: Provides context and usage information."
   ]
  },
  {
   "cell_type": "markdown",
   "id": "9714e9b8-3ba3-4d75-aa2b-33bf02732632",
   "metadata": {
    "slideshow": {
     "slide_type": "subslide"
    }
   },
   "source": [
    "### Types of Comments in Python\n",
    "\n",
    "- **Inline Comments**: Explain specific lines or blocks of code.\n",
    "  ```python\n",
    "  x = x + 1  # Increment x by 1\n",
    "  ```\n",
    "- **Block Comments**: Provide detailed explanations for code sections.\n",
    "  ```python\n",
    "  # This function calculates the factorial of a number\n",
    "  # using a recursive approach.\n",
    "  def factorial(n):\n",
    "      if n == 0:\n",
    "          return 1\n",
    "      else:\n",
    "          return n * factorial(n - 1)\n",
    "  ```\n",
    "- **Docstrings**: Describe modules, classes, and functions.\n",
    "  ```python\n",
    "  def greet(name):\n",
    "      \"\"\"Return a greeting message for the given name.\"\"\"\n",
    "      return f\"Hello, {name}!\"\n",
    "  ```"
   ]
  },
  {
   "cell_type": "markdown",
   "id": "161176b5-429b-448b-93a1-fced22d72d3b",
   "metadata": {
    "slideshow": {
     "slide_type": "slide"
    }
   },
   "source": [
    "<a id='commenting_best_practices'></a>\n",
    "## 3. Best Practices for Commenting Code\n",
    "\n",
    "### Keep Comments Clear and Concise\n",
    "\n",
    "- Use simple language.\n",
    "- Be precise and to the point."
   ]
  },
  {
   "cell_type": "markdown",
   "id": "dbb955ad-8b03-4024-a792-881519dd6534",
   "metadata": {
    "slideshow": {
     "slide_type": "fragment"
    }
   },
   "source": [
    "### Keep Comments Up-to-Date\n",
    "\n",
    "- Update comments when code changes.\n",
    "- Outdated comments can be misleading."
   ]
  },
  {
   "cell_type": "markdown",
   "id": "6493d253-e506-4c13-9f94-2774921f2cc0",
   "metadata": {
    "slideshow": {
     "slide_type": "fragment"
    }
   },
   "source": [
    "### Avoid Redundant Comments\n",
    "\n",
    "- Don't comment on self-explanatory code.\n",
    "- Example:\n",
    "  ```python\n",
    "  i = 0  # Set i to zero  # Redundant comment\n",
    "  ```"
   ]
  },
  {
   "cell_type": "markdown",
   "id": "fde5acbc-207d-4f4a-b541-4338efb6a559",
   "metadata": {
    "slideshow": {
     "slide_type": "fragment"
    }
   },
   "source": [
    "### Use Docstrings for Documentation\n",
    "\n",
    "- Describe the purpose, arguments, return values, and exceptions.\n",
    "- Follows conventions like reStructuredText or Google style."
   ]
  },
  {
   "cell_type": "markdown",
   "id": "01a69d8d-6008-4b5a-af07-8568da940d0c",
   "metadata": {
    "slideshow": {
     "slide_type": "subslide"
    }
   },
   "source": [
    "### Example: Well-Commented Function\n",
    "\n",
    "```python\n",
    "def fibonacci(n):\n",
    "    \"\"\"\n",
    "    Calculate the nth Fibonacci number.\n",
    "\n",
    "    Parameters:\n",
    "    n (int): The position in the Fibonacci sequence.\n",
    "\n",
    "    Returns:\n",
    "    int: The nth Fibonacci number.\n",
    "    \"\"\"\n",
    "    if n <= 0:\n",
    "        raise ValueError(\"n must be a positive integer\")\n",
    "    elif n == 1:\n",
    "        return 0  # First Fibonacci number is 0\n",
    "    elif n == 2:\n",
    "        return 1  # Second Fibonacci number is 1\n",
    "    else:\n",
    "        # Initialize first two numbers\n",
    "        a, b = 0, 1\n",
    "        # Compute subsequent numbers\n",
    "        for _ in range(2, n):\n",
    "            a, b = b, a + b\n",
    "        return b\n",
    "```"
   ]
  },
  {
   "cell_type": "markdown",
   "id": "7263619b-0803-4f7c-8a10-e53c4e46f9ef",
   "metadata": {
    "slideshow": {
     "slide_type": "slide"
    }
   },
   "source": [
    "<a id='whitespace_python'></a>\n",
    "## 4. Whitespace in Python\n",
    "\n",
    "### Significance of Whitespace\n",
    "\n",
    "- **Indentation**: Python uses indentation to define code blocks.\n",
    "- **Readability**: Proper whitespace improves code readability.\n",
    "- **Syntax Errors**: Incorrect whitespace can lead to errors."
   ]
  },
  {
   "cell_type": "markdown",
   "id": "6a343961-019a-478a-83e6-c25c24036617",
   "metadata": {
    "slideshow": {
     "slide_type": "subslide"
    }
   },
   "source": [
    "### Indentation Rules\n",
    "\n",
    "- Use consistent indentation (spaces or tabs).\n",
    "- PEP 8 recommends 4 spaces per indentation level.\n",
    "\n",
    "#### Correct Indentation:\n",
    "```python\n",
    "if x > 0:\n",
    "    print(\"Positive number\")\n",
    "else:\n",
    "    print(\"Non-positive number\")\n",
    "```\n",
    "\n",
    "#### Incorrect Indentation:\n",
    "```python\n",
    "if x > 0:\n",
    "print(\"Positive number\")  # IndentationError\n",
    "else:\n",
    "    print(\"Non-positive number\")\n",
    "```"
   ]
  },
  {
   "cell_type": "markdown",
   "id": "1ca67ef3-da85-4bb3-a249-7c2dd2cab501",
   "metadata": {
    "slideshow": {
     "slide_type": "fragment"
    }
   },
   "source": [
    "### Use of Blank Lines\n",
    "\n",
    "- Separate functions and classes with two blank lines.\n",
    "- Separate code within functions with blank lines to enhance readability."
   ]
  },
  {
   "cell_type": "markdown",
   "id": "c08d5651-5a0d-440a-bd3d-9f829cef2bac",
   "metadata": {
    "slideshow": {
     "slide_type": "fragment"
    }
   },
   "source": [
    "### Whitespace Around Operators\n",
    "\n",
    "- Use spaces around operators and after commas.\n",
    "\n",
    "#### Good Practice:\n",
    "```python\n",
    "result = a + b\n",
    "list = [1, 2, 3]\n",
    "```\n",
    "\n",
    "#### Bad Practice:\n",
    "```python\n",
    "result=a+b\n",
    "list = [1,2,3]\n",
    "```"
   ]
  },
  {
   "cell_type": "markdown",
   "id": "8aec8e43-feb1-4469-8a7a-8268a977fd9c",
   "metadata": {
    "slideshow": {
     "slide_type": "slide"
    }
   },
   "source": [
    "<a id='examples_exercises'></a>\n",
    "## 5. Examples and Exercises\n",
    "\n",
    "### Example: Stand-Alone Script with Comments and Proper Whitespace\n",
    "\n",
    "```python\n",
    "#!/usr/bin/env python3\n",
    "\n",
    "def is_prime(n):\n",
    "    \"\"\"\n",
    "    Check if a number is a prime number.\n",
    "\n",
    "    Parameters:\n",
    "    n (int): The number to check.\n",
    "\n",
    "    Returns:\n",
    "    bool: True if n is prime, False otherwise.\n",
    "    \"\"\"\n",
    "    if n <= 1:\n",
    "        return False\n",
    "    for i in range(2, int(n ** 0.5) + 1):\n",
    "        if n % i == 0:\n",
    "            return False\n",
    "    return True\n",
    "\n",
    "def main():\n",
    "    \"\"\"Main function to test prime checking.\"\"\"\n",
    "    number = 29  # Change this number to test other values\n",
    "    if is_prime(number):\n",
    "        print(f\"{number} is a prime number.\")\n",
    "    else:\n",
    "        print(f\"{number} is not a prime number.\")\n",
    "\n",
    "if __name__ == \"__main__\":\n",
    "    main()\n",
    "```"
   ]
  },
  {
   "cell_type": "markdown",
   "id": "25d72227-588c-4a90-9b40-c05c5edc1513",
   "metadata": {
    "slideshow": {
     "slide_type": "subslide"
    }
   },
   "source": [
    "### Exercise: Fix the Indentation and Add Comments\n",
    "\n",
    "#### Code to Fix:\n",
    "```python\n",
    "def factorial(n):\n",
    "if n == 0:\n",
    "return 1\n",
    "else:\n",
    "return n * factorial(n -1)\n",
    "```\n",
    "\n",
    "#### Tasks:\n",
    "- Correct the indentation errors.\n",
    "- Add appropriate comments and a docstring."
   ]
  },
  {
   "cell_type": "markdown",
   "id": "60e3e76d-6c26-403d-85e7-2f4b1705c33d",
   "metadata": {
    "slideshow": {
     "slide_type": "fragment"
    }
   },
   "source": [
    "#### Solution:\n",
    "```python\n",
    "def factorial(n):\n",
    "    \"\"\"\n",
    "    Calculate the factorial of a number recursively.\n",
    "\n",
    "    Parameters:\n",
    "    n (int): The number to calculate the factorial of.\n",
    "\n",
    "    Returns:\n",
    "    int: The factorial of n.\n",
    "    \"\"\"\n",
    "    if n == 0:\n",
    "        return 1  # Base case\n",
    "    else:\n",
    "        return n * factorial(n - 1)  # Recursive call\n",
    "```"
   ]
  },
  {
   "cell_type": "markdown",
   "id": "405339ef-3227-41c9-8562-546ee8ce4420",
   "metadata": {
    "slideshow": {
     "slide_type": "slide"
    }
   },
   "source": [
    "<a id='conclusion'></a>\n",
    "## 6. Conclusion\n",
    "\n",
    "We've:\n",
    "\n",
    "- Learned how to write stand-alone Python scripts.\n",
    "- Understood the importance of commenting code and best practices.\n",
    "- Explored the significance of whitespace in Python coding.\n",
    "\n",
    "**Next Steps:**\n",
    "\n",
    "- Practice writing your own stand-alone scripts.\n",
    "- Review and refactor existing code to improve comments and whitespace usage.\n",
    "- Explore more advanced scripting techniques and tools.\n",
    "\n",
    "---\n"
   ]
  }
 ],
 "metadata": {
  "celltoolbar": "Slideshow",
  "kernelspec": {
   "display_name": "Python 3 (ipykernel)",
   "language": "python",
   "name": "python3"
  },
  "language_info": {
   "codemirror_mode": {
    "name": "ipython",
    "version": 3
   },
   "file_extension": ".py",
   "mimetype": "text/x-python",
   "name": "python",
   "nbconvert_exporter": "python",
   "pygments_lexer": "ipython3",
   "version": "3.12.0"
  },
  "rise": {
   "autolaunch": false,
   "slideNumber": true,
   "start_slideshow_at": "selected",
   "transition": "slide"
  }
 },
 "nbformat": 4,
 "nbformat_minor": 5
}
