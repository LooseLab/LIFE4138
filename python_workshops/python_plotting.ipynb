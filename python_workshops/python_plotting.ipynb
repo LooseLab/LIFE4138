{
 "cells": [
  {
   "cell_type": "markdown",
   "id": "introduction",
   "metadata": {
    "editable": true,
    "slideshow": {
     "slide_type": "slide"
    },
    "tags": []
   },
   "source": [
    "# Data Visualization with Pandas, Matplotlib, and Seaborn in Biology\n",
    "\n",
    "Welcome to this workshop! In this session, we'll explore how to use **Pandas** for data manipulation and **Matplotlib**/**Seaborn** for plotting biological data. We'll cover:\n",
    "\n",
    "- Loading and exploring biological datasets\n",
    "- Data manipulation with Pandas\n",
    "- Creating visualizations with Matplotlib\n",
    "- Enhancing plots with Seaborn\n",
    "\n"
   ]
  },
  {
   "cell_type": "markdown",
   "id": "49306ad6-ac4c-4a2c-8a40-603f4b14d24c",
   "metadata": {
    "editable": true,
    "slideshow": {
     "slide_type": "slide"
    },
    "tags": []
   },
   "source": [
    "## Table of Contents\n",
    "\n",
    "1. [Introduction](#introduction)\n",
    "2. [Loading Biological Data](#loading_data)\n",
    "3. [Data Exploration with Pandas](#data_exploration)\n",
    "4. [Visualizations with Matplotlib](#matplotlib_visualizations)\n",
    "5. [Advanced Visualizations with Seaborn](#seaborn_visualizations)\n",
    "6. [Case Study: Gene Expression Data](#case_study)\n",
    "7. [Conclusion](#conclusion)\n",
    "\n",
    "---"
   ]
  },
  {
   "cell_type": "markdown",
   "id": "loading_data",
   "metadata": {
    "editable": true,
    "slideshow": {
     "slide_type": "slide"
    },
    "tags": []
   },
   "source": [
    "<a id='loading_data'></a>\n",
    "## 1. Loading Biological Data\n",
    "\n",
    "We'll begin by loading some example biological data into Pandas DataFrames."
   ]
  },
  {
   "cell_type": "markdown",
   "id": "dataset_description",
   "metadata": {
    "editable": true,
    "slideshow": {
     "slide_type": "fragment"
    },
    "tags": []
   },
   "source": [
    "### Dataset: Iris Flower Dataset\n",
    "\n",
    "- Famous dataset in biology for classification.\n",
    "- Contains measurements of sepal length, sepal width, petal length, petal width for three species of Iris."
   ]
  },
  {
   "cell_type": "code",
   "execution_count": null,
   "id": "load_data_code",
   "metadata": {
    "editable": true,
    "slideshow": {
     "slide_type": ""
    },
    "tags": []
   },
   "outputs": [],
   "source": [
    "# Import necessary libraries\n",
    "import pandas as pd\n",
    "\n",
    "# Load the Iris dataset from a URL\n",
    "url = \"https://raw.githubusercontent.com/mwaskom/seaborn-data/master/iris.csv\"\n",
    "iris = pd.read_csv(url)\n",
    "\n",
    "# Display the first few rows\n",
    "iris.head()"
   ]
  },
  {
   "cell_type": "code",
   "execution_count": null,
   "id": "b0136354-e8d4-406b-adfd-638c2c35159f",
   "metadata": {
    "editable": true,
    "slideshow": {
     "slide_type": ""
    },
    "tags": []
   },
   "outputs": [],
   "source": []
  },
  {
   "cell_type": "markdown",
   "id": "data_exploration",
   "metadata": {
    "editable": true,
    "slideshow": {
     "slide_type": "slide"
    },
    "tags": []
   },
   "source": [
    "<a id='data_exploration'></a>\n",
    "## 2. Data Exploration with Pandas\n",
    "\n",
    "Let's explore the dataset using Pandas."
   ]
  },
  {
   "cell_type": "code",
   "execution_count": null,
   "id": "data_info_code",
   "metadata": {
    "editable": true,
    "slideshow": {
     "slide_type": ""
    },
    "tags": []
   },
   "outputs": [],
   "source": [
    "# Get basic information about the dataset\n",
    "iris.info()"
   ]
  },
  {
   "cell_type": "code",
   "execution_count": null,
   "id": "data_statistics_code",
   "metadata": {
    "editable": true,
    "slideshow": {
     "slide_type": ""
    },
    "tags": []
   },
   "outputs": [],
   "source": [
    "# Get statistical summary\n",
    "iris.describe()"
   ]
  },
  {
   "cell_type": "code",
   "execution_count": null,
   "id": "430d5467-171b-4e88-8103-cef5c36ea0a0",
   "metadata": {
    "editable": true,
    "slideshow": {
     "slide_type": ""
    },
    "tags": []
   },
   "outputs": [],
   "source": []
  },
  {
   "cell_type": "markdown",
   "id": "species_counts",
   "metadata": {
    "editable": true,
    "slideshow": {
     "slide_type": "slide"
    },
    "tags": []
   },
   "source": [
    "### Distribution of Species\n",
    "\n",
    "```python\n",
    "iris['species'].value_counts()\n",
    "```"
   ]
  },
  {
   "cell_type": "code",
   "execution_count": null,
   "id": "species_counts_code",
   "metadata": {
    "editable": true,
    "slideshow": {
     "slide_type": ""
    },
    "tags": []
   },
   "outputs": [],
   "source": [
    "# Get counts of each species\n",
    "iris['species'].value_counts()"
   ]
  },
  {
   "cell_type": "code",
   "execution_count": null,
   "id": "7921dea5-78b3-4944-b1ef-e0a97a837ded",
   "metadata": {
    "editable": true,
    "slideshow": {
     "slide_type": ""
    },
    "tags": []
   },
   "outputs": [],
   "source": []
  },
  {
   "cell_type": "markdown",
   "id": "matplotlib_visualizations",
   "metadata": {
    "editable": true,
    "slideshow": {
     "slide_type": "slide"
    },
    "tags": []
   },
   "source": [
    "<a id='matplotlib_visualizations'></a>\n",
    "## 3. Visualizations with Matplotlib\n",
    "\n",
    "We'll create basic plots using Matplotlib."
   ]
  },
  {
   "cell_type": "code",
   "execution_count": null,
   "id": "matplotlib_import",
   "metadata": {
    "editable": true,
    "slideshow": {
     "slide_type": ""
    },
    "tags": []
   },
   "outputs": [],
   "source": [
    "# Import Matplotlib\n",
    "import matplotlib.pyplot as plt\n",
    "%matplotlib inline  "
   ]
  },
  {
   "cell_type": "markdown",
   "id": "histogram_plot",
   "metadata": {
    "editable": true,
    "slideshow": {
     "slide_type": "subslide"
    },
    "tags": []
   },
   "source": [
    "### Histogram of Sepal Length\n",
    "\n",
    "```python\n",
    "plt.hist(iris['sepal_length'], bins=15, color='green')\n",
    "plt.xlabel('Sepal Length (cm)')\n",
    "plt.ylabel('Frequency')\n",
    "plt.title('Histogram of Sepal Length')\n",
    "plt.show()\n",
    "```"
   ]
  },
  {
   "cell_type": "code",
   "execution_count": null,
   "id": "histogram_code",
   "metadata": {
    "editable": true,
    "slideshow": {
     "slide_type": ""
    },
    "tags": []
   },
   "outputs": [],
   "source": [
    "# Histogram of Sepal Length\n",
    "plt.hist(iris['sepal_length'], bins=15, color='green')\n",
    "plt.xlabel('Sepal Length (cm)')\n",
    "plt.ylabel('Frequency')\n",
    "plt.title('Histogram of Sepal Length')\n",
    "plt.show()"
   ]
  },
  {
   "cell_type": "code",
   "execution_count": null,
   "id": "81eada8c-dae0-43db-971d-00ee339d9d05",
   "metadata": {
    "editable": true,
    "slideshow": {
     "slide_type": ""
    },
    "tags": []
   },
   "outputs": [],
   "source": []
  },
  {
   "cell_type": "markdown",
   "id": "scatter_plot",
   "metadata": {
    "editable": true,
    "slideshow": {
     "slide_type": "subslide"
    },
    "tags": []
   },
   "source": [
    "### Scatter Plot of Sepal Length vs. Petal Length\n",
    "\n",
    "```python\n",
    "plt.scatter(iris['sepal_length'], iris['petal_length'], color='blue')\n",
    "plt.xlabel('Sepal Length (cm)')\n",
    "plt.ylabel('Petal Length (cm)')\n",
    "plt.title('Sepal Length vs. Petal Length')\n",
    "plt.show()\n",
    "```"
   ]
  },
  {
   "cell_type": "code",
   "execution_count": null,
   "id": "scatter_code",
   "metadata": {
    "editable": true,
    "slideshow": {
     "slide_type": ""
    },
    "tags": []
   },
   "outputs": [],
   "source": [
    "# Scatter Plot of Sepal Length vs. Petal Length\n",
    "plt.scatter(iris['sepal_length'], iris['petal_length'], color='blue')\n",
    "plt.xlabel('Sepal Length (cm)')\n",
    "plt.ylabel('Petal Length (cm)')\n",
    "plt.title('Sepal Length vs. Petal Length')\n",
    "plt.show()"
   ]
  },
  {
   "cell_type": "code",
   "execution_count": null,
   "id": "504b7f7c-caac-4b1a-89bb-52224af21bf8",
   "metadata": {
    "editable": true,
    "slideshow": {
     "slide_type": ""
    },
    "tags": []
   },
   "outputs": [],
   "source": []
  },
  {
   "cell_type": "markdown",
   "id": "seaborn_visualizations",
   "metadata": {
    "editable": true,
    "slideshow": {
     "slide_type": "slide"
    },
    "tags": []
   },
   "source": [
    "<a id='seaborn_visualizations'></a>\n",
    "## 4. Advanced Visualizations with Seaborn\n",
    "\n",
    "Seaborn builds on Matplotlib and provides a high-level interface for statistical graphics."
   ]
  },
  {
   "cell_type": "code",
   "execution_count": null,
   "id": "seaborn_import",
   "metadata": {},
   "outputs": [],
   "source": [
    "# Import Seaborn\n",
    "import seaborn as sns\n",
    "sns.set(style='whitegrid')"
   ]
  },
  {
   "cell_type": "markdown",
   "id": "boxplot",
   "metadata": {
    "editable": true,
    "slideshow": {
     "slide_type": "subslide"
    },
    "tags": []
   },
   "source": [
    "### Boxplot of Sepal Length by Species\n",
    "\n",
    "```python\n",
    "sns.boxplot(x='species', y='sepal_length', data=iris)\n",
    "plt.title('Sepal Length by Species')\n",
    "plt.show()\n",
    "```"
   ]
  },
  {
   "cell_type": "code",
   "execution_count": null,
   "id": "boxplot_code",
   "metadata": {
    "editable": true,
    "slideshow": {
     "slide_type": ""
    },
    "tags": []
   },
   "outputs": [],
   "source": [
    "# Boxplot of Sepal Length by Species\n",
    "sns.boxplot(x='species', y='sepal_length', data=iris)\n",
    "plt.title('Sepal Length by Species')\n",
    "plt.show()"
   ]
  },
  {
   "cell_type": "code",
   "execution_count": null,
   "id": "7c1098d2-aa69-4a22-b63b-af412647ef03",
   "metadata": {
    "editable": true,
    "slideshow": {
     "slide_type": ""
    },
    "tags": []
   },
   "outputs": [],
   "source": []
  },
  {
   "cell_type": "markdown",
   "id": "pairplot",
   "metadata": {
    "editable": true,
    "slideshow": {
     "slide_type": "subslide"
    },
    "tags": []
   },
   "source": [
    "### Pairplot of All Variables\n",
    "\n",
    "```python\n",
    "sns.pairplot(iris, hue='species')\n",
    "plt.show()\n",
    "```"
   ]
  },
  {
   "cell_type": "code",
   "execution_count": null,
   "id": "pairplot_code",
   "metadata": {
    "editable": true,
    "slideshow": {
     "slide_type": ""
    },
    "tags": []
   },
   "outputs": [],
   "source": [
    "# Pairplot of All Variables\n",
    "sns.pairplot(iris, hue='species')\n",
    "plt.show()"
   ]
  },
  {
   "cell_type": "code",
   "execution_count": null,
   "id": "d9e86038-88f6-4147-a19e-18cfbe239ad7",
   "metadata": {
    "editable": true,
    "slideshow": {
     "slide_type": ""
    },
    "tags": []
   },
   "outputs": [],
   "source": []
  },
  {
   "cell_type": "markdown",
   "id": "violinplot",
   "metadata": {
    "editable": true,
    "slideshow": {
     "slide_type": "subslide"
    },
    "tags": []
   },
   "source": [
    "### Violin Plot of Petal Length by Species\n",
    "\n",
    "```python\n",
    "sns.violinplot(x='species', y='petal_length', data=iris, inner='quartile')\n",
    "plt.title('Petal Length Distribution by Species')\n",
    "plt.show()\n",
    "```"
   ]
  },
  {
   "cell_type": "code",
   "execution_count": null,
   "id": "violinplot_code",
   "metadata": {
    "editable": true,
    "slideshow": {
     "slide_type": ""
    },
    "tags": []
   },
   "outputs": [],
   "source": [
    "# Violin Plot of Petal Length by Species\n",
    "sns.violinplot(x='species', y='petal_length', data=iris, inner='quartile')\n",
    "plt.title('Petal Length Distribution by Species')\n",
    "plt.show()"
   ]
  },
  {
   "cell_type": "code",
   "execution_count": null,
   "id": "a4f48a56-3ba8-47f4-8f6b-0c319e4b585f",
   "metadata": {
    "editable": true,
    "slideshow": {
     "slide_type": ""
    },
    "tags": []
   },
   "outputs": [],
   "source": []
  },
  {
   "cell_type": "markdown",
   "id": "case_study",
   "metadata": {
    "editable": true,
    "slideshow": {
     "slide_type": "slide"
    },
    "tags": []
   },
   "source": [
    "<a id='case_study'></a>\n",
    "## 5. Case Study: Gene Expression Data\n",
    "\n",
    "We'll apply these techniques to a gene expression dataset."
   ]
  },
  {
   "cell_type": "markdown",
   "id": "gene_expression_data",
   "metadata": {
    "editable": true,
    "slideshow": {
     "slide_type": "fragment"
    },
    "tags": []
   },
   "source": [
    "### Dataset: Differential Gene Expression\n",
    "\n",
    "- Contains expression levels of genes under different conditions.\n",
    "- Example data is generated for demonstration."
   ]
  },
  {
   "cell_type": "code",
   "execution_count": null,
   "id": "load_gene_expression",
   "metadata": {
    "editable": true,
    "slideshow": {
     "slide_type": ""
    },
    "tags": []
   },
   "outputs": [],
   "source": [
    "# Generate sample gene expression data\n",
    "import numpy as np\n",
    "\n",
    "np.random.seed(0)\n",
    "genes = [f'Gene_{i}' for i in range(1, 101)]\n",
    "conditions = ['Control', 'Treatment']\n",
    "\n",
    "data = {\n",
    "    'gene': np.repeat(genes, len(conditions)),\n",
    "    'condition': conditions * len(genes),\n",
    "    'expression': np.random.randn(len(genes) * len(conditions)) + 5\n",
    "}\n",
    "\n",
    "gene_expression = pd.DataFrame(data)\n",
    "\n",
    "# Display the first few rows\n",
    "gene_expression.head()"
   ]
  },
  {
   "cell_type": "code",
   "execution_count": null,
   "id": "597bb9ad-f18e-44de-b14a-149d71b54cd3",
   "metadata": {
    "editable": true,
    "slideshow": {
     "slide_type": ""
    },
    "tags": []
   },
   "outputs": [],
   "source": []
  },
  {
   "cell_type": "markdown",
   "id": "gene_expression_visualization",
   "metadata": {
    "editable": true,
    "slideshow": {
     "slide_type": "slide"
    },
    "tags": []
   },
   "source": [
    "### Visualize Expression Levels\n",
    "\n",
    "```python\n",
    "# Boxplot of Expression Levels\n",
    "sns.boxplot(x='condition', y='expression', data=gene_expression)\n",
    "plt.title('Gene Expression Levels')\n",
    "plt.show()\n",
    "```\n",
    "\n",
    "```python\n",
    "# Violin Plot\n",
    "sns.violinplot(x='condition', y='expression', data=gene_expression, inner='quartile')\n",
    "plt.title('Gene Expression Distribution')\n",
    "plt.show()\n",
    "```\n",
    "\n",
    "```python\n",
    "# Swarm Plot for a Subset of Genes\n",
    "subset = gene_expression[gene_expression['gene'].isin(['Gene_1', 'Gene_2', 'Gene_3'])]\n",
    "sns.swarmplot(x='gene', y='expression', hue='condition', data=subset)\n",
    "plt.title('Expression Levels of Selected Genes')\n",
    "plt.show()\n",
    "```"
   ]
  },
  {
   "cell_type": "code",
   "execution_count": null,
   "id": "boxplot_gene_expression",
   "metadata": {
    "editable": true,
    "slideshow": {
     "slide_type": "subslide"
    },
    "tags": []
   },
   "outputs": [],
   "source": [
    "# Boxplot of Expression Levels\n",
    "sns.boxplot(x='condition', y='expression', data=gene_expression)\n",
    "plt.title('Gene Expression Levels')\n",
    "plt.show()"
   ]
  },
  {
   "cell_type": "code",
   "execution_count": null,
   "id": "bbf1e15a-bbd1-4903-a0da-81eb907ffa45",
   "metadata": {
    "editable": true,
    "slideshow": {
     "slide_type": ""
    },
    "tags": []
   },
   "outputs": [],
   "source": []
  },
  {
   "cell_type": "code",
   "execution_count": null,
   "id": "violinplot_gene_expression",
   "metadata": {
    "editable": true,
    "slideshow": {
     "slide_type": "subslide"
    },
    "tags": []
   },
   "outputs": [],
   "source": [
    "# Violin Plot\n",
    "sns.violinplot(x='condition', y='expression', data=gene_expression, inner='quartile')\n",
    "plt.title('Gene Expression Distribution')\n",
    "plt.show()"
   ]
  },
  {
   "cell_type": "code",
   "execution_count": null,
   "id": "c5c93d79-6bb5-4a23-a3e4-00e1a5905261",
   "metadata": {
    "editable": true,
    "slideshow": {
     "slide_type": ""
    },
    "tags": []
   },
   "outputs": [],
   "source": []
  },
  {
   "cell_type": "code",
   "execution_count": null,
   "id": "swarmplot_gene_expression",
   "metadata": {
    "editable": true,
    "slideshow": {
     "slide_type": "subslide"
    },
    "tags": []
   },
   "outputs": [],
   "source": [
    "# Swarm Plot for a Subset of Genes\n",
    "subset = gene_expression[gene_expression['gene'].isin(['Gene_1', 'Gene_2', 'Gene_3'])]\n",
    "sns.swarmplot(x='gene', y='expression', hue='condition', data=subset)\n",
    "plt.title('Expression Levels of Selected Genes')\n",
    "plt.show()"
   ]
  },
  {
   "cell_type": "code",
   "execution_count": null,
   "id": "3a9d3f76-f308-4176-81e8-ce527e1f9489",
   "metadata": {
    "editable": true,
    "slideshow": {
     "slide_type": ""
    },
    "tags": []
   },
   "outputs": [],
   "source": []
  },
  {
   "cell_type": "markdown",
   "id": "conclusion",
   "metadata": {
    "editable": true,
    "slideshow": {
     "slide_type": "slide"
    },
    "tags": []
   },
   "source": [
    "<a id='conclusion'></a>\n",
    "## 6. Conclusion\n",
    "\n",
    "We've:\n",
    "\n",
    "- Learned how to load and explore biological datasets using Pandas.\n",
    "- Created basic visualizations using Matplotlib.\n",
    "- Enhanced our plots with Seaborn for statistical graphics.\n",
    "- Applied these techniques to a gene expression dataset.\n",
    "\n",
    "**Next Steps:**\n",
    "\n",
    "- Practice with your own biological datasets.\n",
    "- Explore more advanced plotting techniques in Seaborn and Matplotlib.\n",
    "- Combine multiple plots to create comprehensive figures for publications.\n",
    "\n",
    "---\n",
    "\n",
    "Feel free to ask any questions or share your experiences with data visualization in biology!"
   ]
  },
  {
   "cell_type": "code",
   "execution_count": null,
   "id": "60e3a416-cc59-4fda-a83a-f31cdef58ff3",
   "metadata": {
    "editable": true,
    "slideshow": {
     "slide_type": ""
    },
    "tags": []
   },
   "outputs": [],
   "source": []
  },
  {
   "cell_type": "code",
   "execution_count": null,
   "id": "6d2bb48f-73d4-400a-885b-7cfe520ec0ad",
   "metadata": {},
   "outputs": [],
   "source": []
  }
 ],
 "metadata": {
  "celltoolbar": "Slideshow",
  "kernelspec": {
   "display_name": "Python 3 (ipykernel)",
   "language": "python",
   "name": "python3"
  },
  "language_info": {
   "codemirror_mode": {
    "name": "ipython",
    "version": 3
   },
   "file_extension": ".py",
   "mimetype": "text/x-python",
   "name": "python",
   "nbconvert_exporter": "python",
   "pygments_lexer": "ipython3",
   "version": "3.12.5"
  },
  "rise": {
   "autolaunch": false,
   "slideNumber": true,
   "start_slideshow_at": "selected",
   "transition": "slide"
  }
 },
 "nbformat": 4,
 "nbformat_minor": 5
}
