{
 "cells": [
  {
   "cell_type": "markdown",
   "id": "introduction",
   "metadata": {
    "editable": true,
    "slideshow": {
     "slide_type": "slide"
    },
    "tags": []
   },
   "source": [
    "# Data Processing and Manipulation with Pandas and NumPy\n",
    "\n",
    "Welcome to this workshop! In this session, we'll cover:\n",
    "\n",
    "- Data processing and manipulation using **Pandas**\n",
    "- Performing equivalent operations using **NumPy**\n",
    "- Utilizing Pandas' native plotting features for quick data exploration\n",
    "\n",
    "## Table of Contents\n",
    "\n",
    "1. [Introduction](#introduction)\n",
    "2. [Data Loading and Exploration](#data_loading)\n",
    "3. [Data Manipulation with Pandas](#data_manipulation_pandas)\n",
    "4. [Equivalent Operations with NumPy](#equivalent_numpy)\n",
    "5. [Pandas Native Plotting](#pandas_plotting)\n",
    "6. [Conclusion](#conclusion)\n",
    "\n",
    "---"
   ]
  },
  {
   "cell_type": "markdown",
   "id": "data_loading",
   "metadata": {
    "slideshow": {
     "slide_type": "slide"
    }
   },
   "source": [
    "<a id='data_loading'></a>\n",
    "## 1. Data Loading and Exploration\n",
    "\n",
    "We'll start by loading a sample dataset and exploring its contents."
   ]
  },
  {
   "cell_type": "code",
   "execution_count": null,
   "id": "import_libraries",
   "metadata": {
    "editable": true,
    "slideshow": {
     "slide_type": ""
    },
    "tags": []
   },
   "outputs": [],
   "source": [
    "# Import necessary libraries\n",
    "import pandas as pd\n",
    "import numpy as np\n",
    "import matplotlib.pyplot as plt\n",
    "%matplotlib inline "
   ]
  },
  {
   "cell_type": "code",
   "execution_count": null,
   "id": "43ea9140-a1ae-49d6-b6cb-bd634d0ae53b",
   "metadata": {
    "editable": true,
    "slideshow": {
     "slide_type": ""
    },
    "tags": []
   },
   "outputs": [],
   "source": []
  },
  {
   "cell_type": "markdown",
   "id": "load_dataset",
   "metadata": {
    "slideshow": {
     "slide_type": "fragment"
    }
   },
   "source": [
    "### Loading the Dataset\n",
    "\n",
    "- We'll use the **Titanic** dataset for demonstration.\n",
    "- This dataset contains information about the passengers on the Titanic."
   ]
  },
  {
   "cell_type": "code",
   "execution_count": null,
   "id": "load_data_code",
   "metadata": {
    "editable": true,
    "slideshow": {
     "slide_type": ""
    },
    "tags": []
   },
   "outputs": [],
   "source": [
    "# Load the Titanic dataset from a URL\n",
    "url = \"https://raw.githubusercontent.com/datasciencedojo/datasets/master/titanic.csv\"\n",
    "df = pd.read_csv(url)\n",
    "\n",
    "# Display the first few rows\n",
    "df.head()"
   ]
  },
  {
   "cell_type": "code",
   "execution_count": null,
   "id": "638ab564-f01d-4795-9018-ae51f41059b7",
   "metadata": {
    "editable": true,
    "slideshow": {
     "slide_type": ""
    },
    "tags": []
   },
   "outputs": [],
   "source": []
  },
  {
   "cell_type": "markdown",
   "id": "data_overview",
   "metadata": {
    "editable": true,
    "slideshow": {
     "slide_type": "subslide"
    },
    "tags": []
   },
   "source": [
    "### Data Overview\n",
    "\n",
    "- **Columns**:\n",
    "  - `PassengerId`, `Survived`, `Pclass`, `Name`, `Sex`, `Age`, `SibSp`, `Parch`, `Ticket`, `Fare`, `Cabin`, `Embarked`.\n",
    "- Use `df.info()` and `df.describe()` to get more details."
   ]
  },
  {
   "cell_type": "code",
   "execution_count": null,
   "id": "data_info",
   "metadata": {
    "editable": true,
    "slideshow": {
     "slide_type": ""
    },
    "tags": []
   },
   "outputs": [],
   "source": [
    "# Get information about the dataset\n",
    "df.info()"
   ]
  },
  {
   "cell_type": "code",
   "execution_count": null,
   "id": "f6550292-6675-458b-862a-3e34caf7f3df",
   "metadata": {
    "editable": true,
    "slideshow": {
     "slide_type": ""
    },
    "tags": []
   },
   "outputs": [],
   "source": []
  },
  {
   "cell_type": "code",
   "execution_count": null,
   "id": "data_describe",
   "metadata": {
    "editable": true,
    "slideshow": {
     "slide_type": "subslide"
    },
    "tags": []
   },
   "outputs": [],
   "source": [
    "# Get statistical summary\n",
    "df.describe()"
   ]
  },
  {
   "cell_type": "code",
   "execution_count": null,
   "id": "eba345f8-c08f-41c1-8795-338fa16ac0be",
   "metadata": {
    "editable": true,
    "slideshow": {
     "slide_type": ""
    },
    "tags": []
   },
   "outputs": [],
   "source": []
  },
  {
   "cell_type": "markdown",
   "id": "data_manipulation_pandas",
   "metadata": {
    "editable": true,
    "slideshow": {
     "slide_type": "slide"
    },
    "tags": []
   },
   "source": [
    "<a id='data_manipulation_pandas'></a>\n",
    "## 2. Data Manipulation with Pandas\n",
    "\n",
    "We'll perform common data manipulation tasks using Pandas."
   ]
  },
  {
   "cell_type": "markdown",
   "id": "select_columns",
   "metadata": {
    "editable": true,
    "slideshow": {
     "slide_type": "subslide"
    },
    "tags": []
   },
   "source": [
    "### Selecting Columns\n",
    "\n",
    "- Select a single column: `df['Age']`\n",
    "- Select multiple columns: `df[['Age', 'Fare']]`"
   ]
  },
  {
   "cell_type": "code",
   "execution_count": null,
   "id": "select_columns_code",
   "metadata": {
    "editable": true,
    "slideshow": {
     "slide_type": ""
    },
    "tags": []
   },
   "outputs": [],
   "source": [
    "# Select 'Age' and 'Fare' columns\n",
    "df_subset = df[['Age', 'Fare']]\n",
    "df_subset.head()"
   ]
  },
  {
   "cell_type": "code",
   "execution_count": null,
   "id": "1a523175-ca67-4796-8bc5-2aeccd7f1bce",
   "metadata": {
    "editable": true,
    "slideshow": {
     "slide_type": ""
    },
    "tags": []
   },
   "outputs": [],
   "source": []
  },
  {
   "cell_type": "markdown",
   "id": "filter_rows",
   "metadata": {
    "editable": true,
    "slideshow": {
     "slide_type": "subslide"
    },
    "tags": []
   },
   "source": [
    "### Filtering Rows\n",
    "\n",
    "- Filter rows where `Age` > 30: `df[df['Age'] > 30]`\n",
    "- Filter rows where `Sex` is `female`: `df[df['Sex'] == 'female']`"
   ]
  },
  {
   "cell_type": "code",
   "execution_count": null,
   "id": "filter_rows_code",
   "metadata": {
    "editable": true,
    "slideshow": {
     "slide_type": ""
    },
    "tags": []
   },
   "outputs": [],
   "source": [
    "# Filter passengers older than 30\n",
    "df_over_30 = df[df['Age'] > 30]\n",
    "df_over_30.head()"
   ]
  },
  {
   "cell_type": "code",
   "execution_count": null,
   "id": "5562643e-bae9-4b67-847e-13da726548b1",
   "metadata": {
    "editable": true,
    "slideshow": {
     "slide_type": ""
    },
    "tags": []
   },
   "outputs": [],
   "source": []
  },
  {
   "cell_type": "markdown",
   "id": "groupby_operations",
   "metadata": {
    "editable": true,
    "slideshow": {
     "slide_type": "subslide"
    },
    "tags": []
   },
   "source": [
    "### GroupBy Operations\n",
    "\n",
    "- Calculate mean age by sex: `df.groupby('Sex')['Age'].mean()`\n",
    "- Count survivors by passenger class: `df.groupby('Pclass')['Survived'].sum()`"
   ]
  },
  {
   "cell_type": "code",
   "execution_count": null,
   "id": "groupby_code",
   "metadata": {
    "editable": true,
    "slideshow": {
     "slide_type": ""
    },
    "tags": []
   },
   "outputs": [],
   "source": [
    "# Mean age by sex\n",
    "mean_age_by_sex = df.groupby('Sex')['Age'].mean()\n",
    "mean_age_by_sex"
   ]
  },
  {
   "cell_type": "code",
   "execution_count": null,
   "id": "a4f884f0-24e2-4249-9789-a7e7360c1ac8",
   "metadata": {
    "editable": true,
    "slideshow": {
     "slide_type": ""
    },
    "tags": []
   },
   "outputs": [],
   "source": []
  },
  {
   "cell_type": "code",
   "execution_count": null,
   "id": "cb58a97b-8eb7-4e1a-b78f-67d283c1d64d",
   "metadata": {
    "editable": true,
    "slideshow": {
     "slide_type": ""
    },
    "tags": []
   },
   "outputs": [],
   "source": [
    "df.groupby('Pclass')['Survived'].sum()\n"
   ]
  },
  {
   "cell_type": "code",
   "execution_count": null,
   "id": "c63abf72-36e5-4a58-8f09-00120bb5d1ce",
   "metadata": {
    "editable": true,
    "slideshow": {
     "slide_type": ""
    },
    "tags": []
   },
   "outputs": [],
   "source": []
  },
  {
   "cell_type": "markdown",
   "id": "adding_new_columns",
   "metadata": {
    "editable": true,
    "slideshow": {
     "slide_type": "subslide"
    },
    "tags": []
   },
   "source": [
    "### Adding New Columns\n",
    "\n",
    "- Create a new column `FamilySize` as the sum of `SibSp` and `Parch`."
   ]
  },
  {
   "cell_type": "code",
   "execution_count": null,
   "id": "adding_columns_code",
   "metadata": {
    "editable": true,
    "slideshow": {
     "slide_type": ""
    },
    "tags": []
   },
   "outputs": [],
   "source": [
    "# Add a new column 'FamilySize'\n",
    "df['FamilySize'] = df['SibSp'] + df['Parch']\n",
    "df[['SibSp', 'Parch', 'FamilySize']].head()"
   ]
  },
  {
   "cell_type": "code",
   "execution_count": null,
   "id": "92a0218c-d3a1-4a8b-a254-f376395bd282",
   "metadata": {
    "editable": true,
    "slideshow": {
     "slide_type": ""
    },
    "tags": []
   },
   "outputs": [],
   "source": []
  },
  {
   "cell_type": "markdown",
   "id": "handling_missing_values",
   "metadata": {
    "editable": true,
    "slideshow": {
     "slide_type": "subslide"
    },
    "tags": []
   },
   "source": [
    "### Handling Missing Values\n",
    "\n",
    "- Check for missing values: `df.isnull().sum()`\n",
    "- Fill missing `Age` values with the mean age: `df['Age'].fillna(df['Age'].mean(), inplace=True)`\n",
    "- Drop rows with missing `Embarked`: `df.dropna(subset=['Embarked'], inplace=True)`"
   ]
  },
  {
   "cell_type": "code",
   "execution_count": null,
   "id": "missing_values_code",
   "metadata": {
    "editable": true,
    "slideshow": {
     "slide_type": ""
    },
    "tags": []
   },
   "outputs": [],
   "source": [
    "# Check for missing values\n",
    "df.isnull().sum()"
   ]
  },
  {
   "cell_type": "code",
   "execution_count": null,
   "id": "beb8a1d6-0591-45a7-a7b1-406557c5bea5",
   "metadata": {
    "editable": true,
    "slideshow": {
     "slide_type": ""
    },
    "tags": []
   },
   "outputs": [],
   "source": []
  },
  {
   "cell_type": "code",
   "execution_count": null,
   "id": "fillna_code",
   "metadata": {
    "editable": true,
    "slideshow": {
     "slide_type": "subslide"
    },
    "tags": []
   },
   "outputs": [],
   "source": [
    "# Fill missing 'Age' values with mean age\n",
    "df['Age'].fillna(df['Age'].mean(), inplace=True)\n",
    "\n",
    "# Drop rows with missing 'Embarked'\n",
    "df.dropna(subset=['Embarked'], inplace=True)\n",
    "\n",
    "# Verify missing values again\n",
    "df.isnull().sum()"
   ]
  },
  {
   "cell_type": "code",
   "execution_count": null,
   "id": "0b9b0993-7c0e-44c3-835a-c23ba30b23f8",
   "metadata": {
    "editable": true,
    "slideshow": {
     "slide_type": ""
    },
    "tags": []
   },
   "outputs": [],
   "source": []
  },
  {
   "cell_type": "markdown",
   "id": "equivalent_numpy",
   "metadata": {
    "editable": true,
    "slideshow": {
     "slide_type": "slide"
    },
    "tags": []
   },
   "source": [
    "<a id='equivalent_numpy'></a>\n",
    "## 3. Equivalent Operations with NumPy\n",
    "\n",
    "We'll demonstrate how to perform similar data manipulation tasks using NumPy arrays."
   ]
  },
  {
   "cell_type": "markdown",
   "id": "convert_to_numpy",
   "metadata": {
    "editable": true,
    "slideshow": {
     "slide_type": "subslide"
    },
    "tags": []
   },
   "source": [
    "### Converting DataFrame to NumPy Array\n",
    "\n",
    "- Use `.values` attribute: `df.values`\n",
    "- Select specific columns: `df[['Age', 'Fare']].values`"
   ]
  },
  {
   "cell_type": "code",
   "execution_count": null,
   "id": "convert_numpy_code",
   "metadata": {
    "editable": true,
    "slideshow": {
     "slide_type": ""
    },
    "tags": []
   },
   "outputs": [],
   "source": [
    "# Load the Titanic dataset from a URL\n",
    "url = \"https://raw.githubusercontent.com/datasciencedojo/datasets/master/titanic.csv\"\n",
    "df = pd.read_csv(url)\n",
    "\n",
    "# Display the first few rows\n",
    "df.head()\n",
    "\n",
    "# Convert 'Age' and 'Fare' columns to NumPy array\n",
    "data_array = df[['Age', 'Fare']].values\n",
    "print(data_array[:5])"
   ]
  },
  {
   "cell_type": "code",
   "execution_count": null,
   "id": "983ec20b-84cd-43a4-b69f-5897876ccd24",
   "metadata": {
    "editable": true,
    "slideshow": {
     "slide_type": ""
    },
    "tags": []
   },
   "outputs": [],
   "source": []
  },
  {
   "cell_type": "markdown",
   "id": "filtering_numpy",
   "metadata": {
    "editable": true,
    "slideshow": {
     "slide_type": "subslide"
    },
    "tags": []
   },
   "source": [
    "### Filtering Data\n",
    "\n",
    "- Filter rows where `Age` > 30: `data_array[data_array[:, 0] > 30]`"
   ]
  },
  {
   "cell_type": "code",
   "execution_count": null,
   "id": "filter_numpy_code",
   "metadata": {
    "editable": true,
    "slideshow": {
     "slide_type": ""
    },
    "tags": []
   },
   "outputs": [],
   "source": [
    "# Filter rows where 'Age' > 30\n",
    "filtered_array = data_array[data_array[:, 0] > 30]\n",
    "print(filtered_array[:5])"
   ]
  },
  {
   "cell_type": "code",
   "execution_count": null,
   "id": "138e4b8f-9d36-43a6-97c7-5a8f8eac500c",
   "metadata": {
    "editable": true,
    "slideshow": {
     "slide_type": ""
    },
    "tags": []
   },
   "outputs": [],
   "source": []
  },
  {
   "cell_type": "markdown",
   "id": "calculations_numpy",
   "metadata": {
    "editable": true,
    "slideshow": {
     "slide_type": "subslide"
    },
    "tags": []
   },
   "source": [
    "### Calculations\n",
    "\n",
    "- Calculate mean age: `np.mean(data_array[:, 0])`\n",
    "- Sum of fares: `np.sum(data_array[:, 1])`"
   ]
  },
  {
   "cell_type": "code",
   "execution_count": null,
   "id": "calculations_numpy_code",
   "metadata": {
    "editable": true,
    "slideshow": {
     "slide_type": ""
    },
    "tags": []
   },
   "outputs": [],
   "source": [
    "# Calculate mean age and sum of fares\n",
    "mean_age = np.mean(data_array[:, 0])\n",
    "total_fare = np.sum(data_array[:, 1])\n",
    "print(f\"Mean Age: {mean_age}\")\n",
    "print(f\"Total Fare: {total_fare}\")"
   ]
  },
  {
   "cell_type": "code",
   "execution_count": null,
   "id": "6db10c39-fcc4-4f91-8097-4b0e822483c0",
   "metadata": {
    "editable": true,
    "slideshow": {
     "slide_type": ""
    },
    "tags": []
   },
   "outputs": [],
   "source": []
  },
  {
   "cell_type": "markdown",
   "id": "handling_nan_numpy",
   "metadata": {
    "editable": true,
    "slideshow": {
     "slide_type": "subslide"
    },
    "tags": []
   },
   "source": [
    "### Handling Missing Values in NumPy\n",
    "\n",
    "- Use `np.isnan()` to identify `NaN` values.\n",
    "- Replace `NaN` with mean value: `data_array[np.isnan(data_array)] = mean_value`"
   ]
  },
  {
   "cell_type": "code",
   "execution_count": null,
   "id": "handling_nan_code",
   "metadata": {
    "editable": true,
    "slideshow": {
     "slide_type": ""
    },
    "tags": []
   },
   "outputs": [],
   "source": [
    "# Identify NaN values\n",
    "nan_indices = np.isnan(data_array)\n",
    "print(f\"Number of NaNs: {np.sum(nan_indices)}\")\n",
    "\n",
    "# Replace NaNs with mean age for 'Age' column\n",
    "mean_age = np.nanmean(data_array[:, 0])\n",
    "data_array[np.isnan(data_array[:, 0]), 0] = mean_age\n",
    "\n",
    "# Verify NaN replacement\n",
    "print(f\"Number of NaNs after replacement: {np.sum(np.isnan(data_array))}\")"
   ]
  },
  {
   "cell_type": "code",
   "execution_count": null,
   "id": "83f72f02-7d52-40a0-9aba-24b1b0ff5c70",
   "metadata": {
    "editable": true,
    "slideshow": {
     "slide_type": ""
    },
    "tags": []
   },
   "outputs": [],
   "source": [
    "mean_age = np.mean(data_array[:, 0])\n",
    "total_fare = np.sum(data_array[:, 1])\n",
    "print(f\"Mean Age: {mean_age}\")\n",
    "print(f\"Total Fare: {total_fare}\")"
   ]
  },
  {
   "cell_type": "code",
   "execution_count": null,
   "id": "46bce854-8fd1-4689-8294-203d77de19da",
   "metadata": {
    "editable": true,
    "slideshow": {
     "slide_type": ""
    },
    "tags": []
   },
   "outputs": [],
   "source": []
  },
  {
   "cell_type": "markdown",
   "id": "pandas_plotting",
   "metadata": {
    "editable": true,
    "slideshow": {
     "slide_type": "slide"
    },
    "tags": []
   },
   "source": [
    "<a id='pandas_plotting'></a>\n",
    "## 4. Pandas Native Plotting\n",
    "\n",
    "Pandas provides built-in plotting functions for quick data visualization."
   ]
  },
  {
   "cell_type": "markdown",
   "id": "histogram_pandas",
   "metadata": {
    "editable": true,
    "slideshow": {
     "slide_type": "subslide"
    },
    "tags": []
   },
   "source": [
    "### Histogram\n",
    "\n",
    "- Plot a histogram of the `Age` column: `df['Age'].plot.hist()`"
   ]
  },
  {
   "cell_type": "code",
   "execution_count": null,
   "id": "histogram_pandas_code",
   "metadata": {
    "editable": true,
    "slideshow": {
     "slide_type": ""
    },
    "tags": []
   },
   "outputs": [],
   "source": [
    "# Plot histogram of 'Age'\n",
    "df['Age'].plot.hist(bins=20, color='skyblue', edgecolor='black')\n",
    "plt.title('Distribution of Passenger Ages')\n",
    "plt.xlabel('Age')\n",
    "plt.ylabel('Frequency')\n",
    "plt.show()"
   ]
  },
  {
   "cell_type": "code",
   "execution_count": null,
   "id": "372b6e3d-1662-4146-9763-7a4367eef775",
   "metadata": {
    "editable": true,
    "slideshow": {
     "slide_type": ""
    },
    "tags": []
   },
   "outputs": [],
   "source": []
  },
  {
   "cell_type": "markdown",
   "id": "bar_plot_pandas",
   "metadata": {
    "editable": true,
    "slideshow": {
     "slide_type": "subslide"
    },
    "tags": []
   },
   "source": [
    "### Bar Plot\n",
    "\n",
    "- Plot the number of passengers by `Pclass`: `df['Pclass'].value_counts().plot.bar()`"
   ]
  },
  {
   "cell_type": "code",
   "execution_count": null,
   "id": "bar_plot_pandas_code",
   "metadata": {
    "editable": true,
    "slideshow": {
     "slide_type": ""
    },
    "tags": []
   },
   "outputs": [],
   "source": [
    "# Bar plot of passenger class counts\n",
    "df['Pclass'].value_counts().sort_index().plot.bar(color='orange', edgecolor='black')\n",
    "plt.title('Number of Passengers by Class')\n",
    "plt.xlabel('Passenger Class')\n",
    "plt.ylabel('Number of Passengers')\n",
    "plt.show()"
   ]
  },
  {
   "cell_type": "code",
   "execution_count": null,
   "id": "7b268bd0-0630-45c2-9b44-bbffeda2a268",
   "metadata": {
    "editable": true,
    "slideshow": {
     "slide_type": ""
    },
    "tags": []
   },
   "outputs": [],
   "source": []
  },
  {
   "cell_type": "markdown",
   "id": "scatter_plot_pandas",
   "metadata": {
    "editable": true,
    "slideshow": {
     "slide_type": "subslide"
    },
    "tags": []
   },
   "source": [
    "### Scatter Plot\n",
    "\n",
    "- Create a scatter plot of `Age` vs. `Fare`: `df.plot.scatter(x='Age', y='Fare')`"
   ]
  },
  {
   "cell_type": "code",
   "execution_count": null,
   "id": "scatter_plot_pandas_code",
   "metadata": {
    "editable": true,
    "slideshow": {
     "slide_type": ""
    },
    "tags": []
   },
   "outputs": [],
   "source": [
    "# Scatter plot of 'Age' vs. 'Fare'\n",
    "df.plot.scatter(x='Age', y='Fare', alpha=0.5, color='green')\n",
    "plt.title('Age vs. Fare')\n",
    "plt.xlabel('Age')\n",
    "plt.ylabel('Fare')\n",
    "plt.show()"
   ]
  },
  {
   "cell_type": "code",
   "execution_count": null,
   "id": "a8cb3e2a-1062-479b-84d3-cec61c400c6e",
   "metadata": {
    "editable": true,
    "slideshow": {
     "slide_type": ""
    },
    "tags": []
   },
   "outputs": [],
   "source": []
  },
  {
   "cell_type": "markdown",
   "id": "box_plot_pandas",
   "metadata": {
    "editable": true,
    "slideshow": {
     "slide_type": "subslide"
    },
    "tags": []
   },
   "source": [
    "### Box Plot\n",
    "\n",
    "- Create a box plot of `Age` grouped by `Pclass`: `df.boxplot(column='Age', by='Pclass')`"
   ]
  },
  {
   "cell_type": "code",
   "execution_count": null,
   "id": "box_plot_pandas_code",
   "metadata": {
    "editable": true,
    "slideshow": {
     "slide_type": ""
    },
    "tags": []
   },
   "outputs": [],
   "source": [
    "# Box plot of 'Age' by 'Pclass'\n",
    "df.boxplot(column='Age', by='Pclass', grid=False)\n",
    "plt.title('Age Distribution by Passenger Class')\n",
    "plt.suptitle('')  # Remove the automatic 'Boxplot grouped by ...' title\n",
    "plt.xlabel('Passenger Class')\n",
    "plt.ylabel('Age')\n",
    "plt.show()"
   ]
  },
  {
   "cell_type": "code",
   "execution_count": null,
   "id": "1705959e-1630-48f1-8147-fc346885e761",
   "metadata": {
    "editable": true,
    "slideshow": {
     "slide_type": ""
    },
    "tags": []
   },
   "outputs": [],
   "source": []
  },
  {
   "cell_type": "markdown",
   "id": "conclusion",
   "metadata": {
    "editable": true,
    "slideshow": {
     "slide_type": "slide"
    },
    "tags": []
   },
   "source": [
    "<a id='conclusion'></a>\n",
    "## 5. Conclusion\n",
    "\n",
    "In this workshop, we've:\n",
    "\n",
    "- Explored data loading and initial exploration with Pandas.\n",
    "- Performed data manipulation tasks using Pandas DataFrames.\n",
    "- Demonstrated how to perform equivalent operations using NumPy arrays.\n",
    "- Utilized Pandas' native plotting functions for quick data visualization.\n",
    "\n",
    "**Next Steps:**\n",
    "\n",
    "- Practice with your own datasets to reinforce these concepts.\n",
    "- Explore more advanced data manipulation techniques in Pandas and NumPy.\n",
    "- Learn about data visualization libraries like Seaborn and Plotly for enhanced plots.\n",
    "\n",
    "---"
   ]
  },
  {
   "cell_type": "code",
   "execution_count": null,
   "id": "f68b6cd3-dbcd-4952-943a-9af0e7448f8a",
   "metadata": {
    "editable": true,
    "slideshow": {
     "slide_type": ""
    },
    "tags": []
   },
   "outputs": [],
   "source": []
  },
  {
   "cell_type": "code",
   "execution_count": null,
   "id": "53fddf5b-ab77-4894-9768-c382b0b383c5",
   "metadata": {},
   "outputs": [],
   "source": []
  },
  {
   "cell_type": "code",
   "execution_count": null,
   "id": "3c8479f7-e6c3-4f7e-8b66-cc73372e571f",
   "metadata": {},
   "outputs": [],
   "source": []
  }
 ],
 "metadata": {
  "celltoolbar": "Slideshow",
  "kernelspec": {
   "display_name": "Python 3 (ipykernel)",
   "language": "python",
   "name": "python3"
  },
  "language_info": {
   "codemirror_mode": {
    "name": "ipython",
    "version": 3
   },
   "file_extension": ".py",
   "mimetype": "text/x-python",
   "name": "python",
   "nbconvert_exporter": "python",
   "pygments_lexer": "ipython3",
   "version": "3.12.5"
  },
  "rise": {
   "autolaunch": false,
   "slideNumber": true,
   "start_slideshow_at": "selected",
   "transition": "slide"
  }
 },
 "nbformat": 4,
 "nbformat_minor": 5
}
